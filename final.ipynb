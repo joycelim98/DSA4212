{
 "cells": [
  {
   "cell_type": "markdown",
   "metadata": {},
   "source": [
    "<h1><center>DSA 4212: Year 2019-2020</center></h1>\n",
    "<h3><center> Assignment 1 (Deadline: 27 March 2020 at 23:59) </center></h3>\n",
    "<h2><center> Group Number: 1 </center></h2>\n",
    "<h2><center> Group Member 1: Joyce Lim Li Jie, A0173289R </center></h2>\n",
    "<h2><center> Group Member 2: Ryan Teo Jin Chuan, A0164337A </center></h2>\n",
    "<h2><center> Group Member 3: Wong Jia Hwee, A0166708W </center></h2>"
   ]
  },
  {
   "cell_type": "code",
   "execution_count": 1,
   "metadata": {},
   "outputs": [],
   "source": [
    "%matplotlib inline\n",
    "from jax.config import config\n",
    "config.update(\"jax_enable_x64\", True) \n",
    "\n",
    "import jax; import jax.numpy as np\n",
    "\n",
    "import pylab as plt\n",
    "import imageio; import os\n",
    "import numpy as onp\n",
    "from skimage.transform import rescale, resize, downscale_local_mean\n",
    "from sklearn import metrics\n",
    "import pandas as pd; import time; import scipy"
   ]
  },
  {
   "cell_type": "markdown",
   "metadata": {},
   "source": [
    "# 1. Data Pre-Processing"
   ]
  },
  {
   "cell_type": "code",
   "execution_count": 2,
   "metadata": {},
   "outputs": [],
   "source": [
    "#load attributes csv file\n",
    "attribute = pd.read_csv(\"celeba.csv\")\n",
    "\n",
    "#\"attribute\" is a dictionary containing several attributes for each image\n",
    "#attribute.keys()\n",
    "\n",
    "#let us list all the files in the image directory\n",
    "path = \"img_celeba_small\"\n",
    "all_img = [f for f in os.listdir(path) \n",
    "                 if os.path.isfile(os.path.join(path, f)) \n",
    "                 and f.endswith(\".jpg\")]\n",
    "nb_img = len(all_img)\n",
    "\n",
    "#let us keep only the relevant rows in attributes\n",
    "attribute = attribute[:20000]"
   ]
  },
  {
   "cell_type": "markdown",
   "metadata": {},
   "source": [
    "## 1.1 Creating training and validation datasets"
   ]
  },
  {
   "cell_type": "markdown",
   "metadata": {},
   "source": [
    "We take the 15,000 training dataset and split it into a smaller training and validation dataset to improve the training outcome."
   ]
  },
  {
   "cell_type": "code",
   "execution_count": 73,
   "metadata": {
    "scrolled": true
   },
   "outputs": [
    {
     "name": "stdout",
     "output_type": "stream",
     "text": [
      "Proportion of old in dataset: 0.222\n"
     ]
    }
   ],
   "source": [
    "train = attribute[:15000]['Young']\n",
    "test = attribute[15000:20000]['Young']\n",
    "\n",
    "# subset training set by young/old\n",
    "train_y = train[train==1] \n",
    "train_o = train[train==-1]\n",
    "\n",
    "print(\"Proportion of old in dataset: {0:.3f}\".format(len(train_o)/len(train)))"
   ]
  },
  {
   "cell_type": "markdown",
   "metadata": {},
   "source": [
    "Of the 15,000 images in the training data, 3331 (22.2%) are old. We create the following subsets:\n",
    "\n",
    "1. a balanced training set containing 80% (n=2665) of the old images and the same number of young images\n",
    "2. a validation set that reflects the true proportion of old and young images. This contains 20% (n=666) of the old images and 2361 young images"
   ]
  },
  {
   "cell_type": "code",
   "execution_count": 4,
   "metadata": {},
   "outputs": [],
   "source": [
    "n_train_o, n_val_o = 2665, 666\n",
    "n_train_y, n_val_y = 2665, 2361\n",
    "\n",
    "# select indices for prelim training set\n",
    "onp.random.seed(0)\n",
    "y_pindex = onp.random.choice(len(train_y), n_train_y + n_val_y, replace=False)\n",
    "o_pindex = onp.asarray(list(range(3331)))\n",
    "\n",
    "# randomly assign sample to training or validation\n",
    "ptrain_y = train_y.iloc[y_pindex[:n_train_y]]\n",
    "pval_y = train_y.iloc[y_pindex[n_train_y:]]\n",
    "\n",
    "ptrain_o = train_o.iloc[o_pindex[:n_train_o]]\n",
    "pval_o = train_o.iloc[o_pindex[n_train_o:]]\n",
    "\n",
    "# compile training data (5330 obs, 50% each class)\n",
    "ptrain = ptrain_y.append(ptrain_o)\n",
    "ptrain = ptrain.sample(frac=1) # shuffle training set\n",
    "\n",
    "# compile validation data \n",
    "pval = pval_y.append(pval_o)\n",
    "pval = pval.sample(frac=1) # shuffle validation set"
   ]
  },
  {
   "cell_type": "markdown",
   "metadata": {},
   "source": [
    "`ptrain` is a 1 x 5330 array with the indicator values $\\{-1, 1\\}$ for old and young. \n",
    "\n",
    "`pval` is a 1 x 3027 array with the indicator values $\\{-1, 1\\}$ for old and young. "
   ]
  },
  {
   "cell_type": "markdown",
   "metadata": {},
   "source": [
    "## 1.2 Image Pre-Processing"
   ]
  },
  {
   "cell_type": "markdown",
   "metadata": {},
   "source": [
    "The images were initially loaded in grayscale with their original size of 218 by 178 pixels. The pixel intensity was then rescaled to [0,1]. To remove parts of the image irrelevant to a person's age (outside of the face), the images were cropped to only include the range [50:185, 40:135]. The resulting images used for analysis are 135 by 95 pixels."
   ]
  },
  {
   "cell_type": "code",
   "execution_count": 16,
   "metadata": {},
   "outputs": [],
   "source": [
    "h_n = 185-50 # height after cropping\n",
    "w_n = 135-40 # width after cropping\n",
    "\n",
    "# load and process the images from the prelim training set\n",
    "ntrain_img = len(ptrain)\n",
    "ptrain_ind = ptrain.index.values\n",
    "ptrain_img = onp.zeros((ntrain_img,h_n,w_n))\n",
    "\n",
    "for k in range(len(ptrain)):\n",
    "    im = imageio.imread(os.path.join(path, all_img[ptrain_ind[k]])).astype(float)\n",
    "    im = onp.mean(im, axis=2) # grayscale\n",
    "    im = im/255. # rescale\n",
    "    im = im[50:185,40:135] # crop to face\n",
    "    ptrain_img[k,:,:] = im\n",
    "    \n",
    "# load and process the images from the prelim validation set\n",
    "pval_ind = pval.index.values\n",
    "pval_img = onp.zeros((len(pval),h_n,w_n))\n",
    "\n",
    "for k in range(len(pval)):\n",
    "    im = imageio.imread(os.path.join(path, all_img[pval_ind[k]])).astype(float)\n",
    "    im = onp.mean(im, axis=2) # grayscale\n",
    "    im = im/255. # rescale\n",
    "    im = im[50:185,40:135] # crop to face\n",
    "    pval_img[k,:,:] = im\n",
    "    \n",
    "# load the images from the test set\n",
    "#ntest_img = 5000\n",
    "#ptest_img = onp.zeros((ntest_img,h_n,w_n))\n",
    "\n",
    "#for k in range(ntest_img):\n",
    "#    im = imageio.imread(os.path.join(path, all_img[k+15000])).astype(float)\n",
    "#    im = resize(im, (h,w))\n",
    "#    im = onp.mean(im, axis=2) # grayscale\n",
    "#    im = im/255. # rescale\n",
    "#    im = im[50:185,40:135] # crop to face\n",
    "#    ptest_img[k,:,:] = im"
   ]
  },
  {
   "cell_type": "markdown",
   "metadata": {},
   "source": [
    "`ptrain` is a 1 x 5330 array with the indicator values $\\{-1, 1\\}$ for old and young. `ptrain_img` is a 5330 x 135 x 95 array that contains the relevant images for the preliminary training data. \n",
    "\n",
    "`pval` is a 1 x 3027 array with the indicator values $\\{-1, 1\\}$ for old and young. `pval_img`is a 1332 x 135 x 95 array that contains the relevant images for the preliminary validation data. \n",
    "\n",
    "`test` is a 1 x 5000 array with with the indicator values $\\{-1, 1\\}$ for old and young. `ptest_img`is a 5000 x 135 x 95 array that contains the relevant images for the test data. "
   ]
  },
  {
   "cell_type": "code",
   "execution_count": 9,
   "metadata": {},
   "outputs": [],
   "source": [
    "data_train = ptrain_img.reshape(len(ptrain), h_n*w_n)\n",
    "y_train = ptrain.to_numpy(copy=True)\n",
    "\n",
    "data_val = pval_img.reshape(len(pval), h_n*w_n)\n",
    "y_val = pval.to_numpy(copy=True)\n",
    "\n",
    "#data_test = ptest_img.reshape(5000, h_n*w_n)\n",
    "#y_test = test.to_numpy(copy=True)"
   ]
  },
  {
   "cell_type": "markdown",
   "metadata": {},
   "source": [
    "# 2. Optimisation"
   ]
  },
  {
   "cell_type": "markdown",
   "metadata": {},
   "source": [
    "We optimise our logistic regression  model with a regularisation penalty.\n",
    "\n",
    "* Logistic regression loss function with L2 penalty:\n",
    "$$ \\frac{1}{N} \\, \\sum_{i=1}^N \\log(1 + \\exp(-y_i \\, \\langle \\beta, x_i \\rangle)) + \\frac{\\lambda}{N} \\| \\beta \\|^2$$\n",
    "\n",
    "* Logistic probability:\n",
    "$$P(y=1 | x) = \\frac{1}{1 + \\exp(- \\langle \\beta, x \\rangle)}$$"
   ]
  },
  {
   "cell_type": "markdown",
   "metadata": {},
   "source": [
    "We define the loss, prediction, accuracy functions and vectorise them accordingly."
   ]
  },
  {
   "cell_type": "code",
   "execution_count": 10,
   "metadata": {},
   "outputs": [],
   "source": [
    "def prediction_single(beta, x):\n",
    "    \"\"\" beta is a vector of dimension 10000, and x as well \"\"\"\n",
    "    proba = 1. / (1. + np.exp(-np.dot(beta, x)))\n",
    "    return proba\n",
    "\n",
    "#make a prediction on a whole dataset\n",
    "prediction_data = jax.vmap(prediction_single, in_axes=(None,0))\n",
    "\n",
    "def loss_single(beta,x,y):\n",
    "    \"\"\"\n",
    "    beta: vector of dimension 100*100\n",
    "    x: vector of dimension 100*100\n",
    "    y: a number that equals -1 or 1\n",
    "    \"\"\"\n",
    "    return np.log(1. + np.exp(-y * np.dot(beta, x)))\n",
    "\n",
    "#compute the loss on. whole dataset\n",
    "loss_dataset = jax.vmap(loss_single, in_axes=(None,0,0))\n",
    "\n",
    "def lossl2(beta, data, y, reg): # Ridge\n",
    "    \"\"\" compute the mean of all the individual losses \"\"\"\n",
    "    list_of_all_losses = loss_dataset(beta, data, y)\n",
    "    return np.mean(list_of_all_losses) + reg*np.mean((beta)**2)\n",
    "\n",
    "# grad_loss = jax.jit(jax.grad(loss))\n",
    "grad_lossl2 = jax.jit(jax.grad(lossl2))\n",
    "\n",
    "def accuracy(beta, data, y, threshold):\n",
    "    pred = prediction_data(beta, data)\n",
    "    prediction_binary = (pred > threshold).astype(int)  #equals 1 if pred > threshold and 0 otherwise\n",
    "    prediction_sign = 2*(prediction_binary - 0.5) #equals 1 if pred > threshold and -1 otherwise\n",
    "    return np.mean(prediction_sign == y)"
   ]
  },
  {
   "cell_type": "markdown",
   "metadata": {},
   "source": [
    "For each optimisation method, we plot the ROC curve and report the AUC."
   ]
  },
  {
   "cell_type": "code",
   "execution_count": 11,
   "metadata": {},
   "outputs": [],
   "source": [
    "# function to plot ROC curve\n",
    "def plot_ROC(model, method, data, y):\n",
    "    y_pred_proba = prediction_data(model,data)\n",
    "    fpr, tpr, _ = metrics.roc_curve(y,  y_pred_proba)\n",
    "    auc = metrics.roc_auc_score(y, y_pred_proba)\n",
    "    plt.gca().set_aspect('equal', adjustable='box')\n",
    "    plt.plot(fpr,tpr,label=method+\", AUC=\"+\"{0:.3f}\".format(auc))\n",
    "    plt.legend(loc=4)\n",
    "    plt.show()"
   ]
  },
  {
   "cell_type": "markdown",
   "metadata": {},
   "source": [
    "Initialise $\\beta \\sim N(0, \\frac{1}{\\sqrt{D}})$ where $D=135*95$"
   ]
  },
  {
   "cell_type": "code",
   "execution_count": 112,
   "metadata": {},
   "outputs": [],
   "source": [
    "# Initialise beta\n",
    "D = h_n*w_n\n",
    "beta_init = onp.random.normal(0., scale = 1./onp.sqrt(D), size=D)"
   ]
  },
  {
   "cell_type": "markdown",
   "metadata": {},
   "source": [
    "## 2.1 Baseline Classifier"
   ]
  },
  {
   "cell_type": "markdown",
   "metadata": {},
   "source": [
    "Our model should beat a baseline classifier that classifies every person as young. Since the dataset is imbalanced, such a classifier is expected to have a test classification accuracy rate of 78.58%."
   ]
  },
  {
   "cell_type": "code",
   "execution_count": 113,
   "metadata": {
    "scrolled": true
   },
   "outputs": [
    {
     "name": "stdout",
     "output_type": "stream",
     "text": [
      "Accuracy: 0.77998017839445\n"
     ]
    },
    {
     "data": {
      "image/png": "[encoded data removed]",
      "text/plain": [
       "<Figure size 432x288 with 1 Axes>"
      ]
     },
     "metadata": {
      "needs_background": "light"
     },
     "output_type": "display_data"
    }
   ],
   "source": [
    "c = onp.ones(len(pval))\n",
    "print(\"Accuracy:\", sum(c==y_val)/len(pval))\n",
    "    \n",
    "plot_ROC(onp.ones(D), \"Naive\",data_val, y_val)"
   ]
  },
  {
   "cell_type": "markdown",
   "metadata": {},
   "source": [
    "## 2.2 Stochastic Gradient Descent + Momentum"
   ]
  },
  {
   "cell_type": "markdown",
   "metadata": {},
   "source": [
    "To test the various suitable values for $\\lambda$ and an appropriate threshold, the loss function is minimised with stochastic gradient descent with the parameters specified below through a grid search."
   ]
  },
  {
   "cell_type": "code",
   "execution_count": null,
   "metadata": {
    "scrolled": true
   },
   "outputs": [],
   "source": [
    "regs = [0, 0.1, 0.5, 1, 5] # lambdas to test\n",
    "best_beta_sgdm = onp.zeros((len(regs),D)) # store the best models for each lambda\n",
    "loss_train_hist = [[] for x in range(5)]\n",
    "loss_val_hist = [[] for x in range(5)]\n",
    "\n",
    "for i in range(len(regs)):\n",
    "    print(\"Lambda:\",regs[i])\n",
    "    n_epoch = 100\n",
    "    batch_size = 100  # size of the mini-batch\n",
    "    mov_avg_param = 0.8 # added to smooth the loss graph\n",
    "    learning_rate = 0.001\n",
    "\n",
    "    #initialize the gradient\n",
    "    beta = onp.copy(beta_init)\n",
    "    gradient = grad_lossl2(beta, data_train, y_train, regs[i])\n",
    "\n",
    "    start = time.time()\n",
    "    for epoch in range(n_epoch):\n",
    "        #let us divide the learning by 2 every 10 epoch\n",
    "        if epoch % 10 == 0 and epoch >= 1:\n",
    "            learning_rate = learning_rate/2.\n",
    "\n",
    "        for k in range(ntrain_img // batch_size):  #number of batch per epoch\n",
    "            #select at random \"batch_size\" random data point\n",
    "            index_ = onp.random.choice(ntrain_img, batch_size, replace=False)\n",
    "\n",
    "            gradient_local = grad_lossl2(beta, data_train[index_], y_train[index_],regs[i])\n",
    "\n",
    "            #moving average of the gradient\n",
    "            gradient = gradient*mov_avg_param + (1-mov_avg_param)*gradient_local\n",
    "\n",
    "            #gradient descent update\n",
    "            beta = beta - learning_rate * gradient\n",
    "\n",
    "        loss_train = lossl2(beta, data_train, y_train, regs[i])\n",
    "        loss_val = lossl2(beta, data_val, y_val, regs[i])\n",
    "\n",
    "        if len(loss_val_hist[i])>0:\n",
    "            if loss_val <= loss_val_hist[i][-1]:\n",
    "                best_beta_sgdm[i] = beta # save the model with the lowest validation loss\n",
    "\n",
    "        loss_train_hist[i].append(loss_train)\n",
    "        loss_val_hist[i].append(loss_val)\n",
    "\n",
    "        timing = time.time() - start\n",
    "        if (epoch == 99) or not(epoch % 20):\n",
    "            print(\"epoch:{0:.0f} \\t time:{1:.0f} \\t Loss(train):{2:.3f} \\t Loss(val):{3:.3f}\".format(epoch, \n",
    "                                                                                                     timing, \n",
    "                                                                                                    loss_train, \n",
    "                                                                                                    loss_val))"
   ]
  },
  {
   "cell_type": "code",
   "execution_count": 31,
   "metadata": {},
   "outputs": [
    {
     "data": {
      "text/plain": [
       "Text(0.5, 1.0, 'Stochastic Gradient Descent')"
      ]
     },
     "execution_count": 31,
     "metadata": {},
     "output_type": "execute_result"
    },
    {
     "data": {
      "image/png": "[encoded data removed]",
      "text/plain": [
       "<Figure size 432x288 with 1 Axes>"
      ]
     },
     "metadata": {
      "needs_background": "light"
     },
     "output_type": "display_data"
    }
   ],
   "source": [
    "for i in range(len(regs)):\n",
    "    plt.plot(loss_val_hist[i], label=\"loss(val); lambda=\"+str(regs[i]))\n",
    "plt.legend(); plt.grid(True)\n",
    "plt.xlabel(\"epoch\"); plt.title(\"Stochastic Gradient Descent\")"
   ]
  },
  {
   "cell_type": "markdown",
   "metadata": {},
   "source": [
    "Validation losses for all the candidate $\\lambda$'s converged."
   ]
  },
  {
   "cell_type": "code",
   "execution_count": 33,
   "metadata": {},
   "outputs": [],
   "source": [
    "# Calculate AUC and accuracy for grid search\n",
    "acc_res = onp.zeros((10,(len(regs))))\n",
    "auc_res = [[] for x in range(5)]\n",
    "\n",
    "for i in range(len(regs)):\n",
    "    best_beta = best_beta_sgdm[i]\n",
    "    acc_list = []; auc_list = []\n",
    "    for j in list(range(1,11)):\n",
    "        acc = accuracy(best_beta, data_val, y_val, j/10)\n",
    "        acc_list.append(acc)\n",
    "    acc_res[:,i] = acc_list\n",
    "    y_pred_proba = prediction_data(best_beta,data_val)\n",
    "    fpr, tpr, _ = metrics.roc_curve(y_val,  y_pred_proba)\n",
    "    auc = metrics.roc_auc_score(y_val, y_pred_proba)\n",
    "    auc_res[i] = auc"
   ]
  },
  {
   "cell_type": "code",
   "execution_count": 42,
   "metadata": {
    "scrolled": true
   },
   "outputs": [
    {
     "data": {
      "text/html": [
       "<div>\n",
       "<style scoped>\n",
       "    .dataframe tbody tr th:only-of-type {\n",
       "        vertical-align: middle;\n",
       "    }\n",
       "\n",
       "    .dataframe tbody tr th {\n",
       "        vertical-align: top;\n",
       "    }\n",
       "\n",
       "    .dataframe thead th {\n",
       "        text-align: right;\n",
       "    }\n",
       "</style>\n",
       "<table border=\"1\" class=\"dataframe\">\n",
       "  <thead>\n",
       "    <tr style=\"text-align: right;\">\n",
       "      <th></th>\n",
       "      <th>AUC</th>\n",
       "    </tr>\n",
       "  </thead>\n",
       "  <tbody>\n",
       "    <tr>\n",
       "      <th>0.0</th>\n",
       "      <td>0.738248</td>\n",
       "    </tr>\n",
       "    <tr>\n",
       "      <th>0.1</th>\n",
       "      <td>0.738517</td>\n",
       "    </tr>\n",
       "    <tr>\n",
       "      <th>0.5</th>\n",
       "      <td>0.739045</td>\n",
       "    </tr>\n",
       "    <tr>\n",
       "      <th>1.0</th>\n",
       "      <td>0.739549</td>\n",
       "    </tr>\n",
       "    <tr>\n",
       "      <th>5.0</th>\n",
       "      <td>0.738309</td>\n",
       "    </tr>\n",
       "  </tbody>\n",
       "</table>\n",
       "</div>"
      ],
      "text/plain": [
       "          AUC\n",
       "0.0  0.738248\n",
       "0.1  0.738517\n",
       "0.5  0.739045\n",
       "1.0  0.739549\n",
       "5.0  0.738309"
      ]
     },
     "execution_count": 42,
     "metadata": {},
     "output_type": "execute_result"
    }
   ],
   "source": [
    "# Display AUC by lambda\n",
    "auc = pd.DataFrame(auc_res)\n",
    "auc.columns = ['AUC']\n",
    "auc.rename(index={0:0,1:0.1,2:0.5,3:1,4:5})"
   ]
  },
  {
   "cell_type": "code",
   "execution_count": 44,
   "metadata": {
    "scrolled": true
   },
   "outputs": [
    {
     "data": {
      "text/html": [
       "<div>\n",
       "<style scoped>\n",
       "    .dataframe tbody tr th:only-of-type {\n",
       "        vertical-align: middle;\n",
       "    }\n",
       "\n",
       "    .dataframe tbody tr th {\n",
       "        vertical-align: top;\n",
       "    }\n",
       "\n",
       "    .dataframe thead th {\n",
       "        text-align: right;\n",
       "    }\n",
       "</style>\n",
       "<table border=\"1\" class=\"dataframe\">\n",
       "  <thead>\n",
       "    <tr style=\"text-align: right;\">\n",
       "      <th></th>\n",
       "      <th>0</th>\n",
       "      <th>0.1</th>\n",
       "      <th>0.5</th>\n",
       "      <th>1</th>\n",
       "      <th>5</th>\n",
       "    </tr>\n",
       "  </thead>\n",
       "  <tbody>\n",
       "    <tr>\n",
       "      <th>0.1</th>\n",
       "      <td>0.779980</td>\n",
       "      <td>0.779980</td>\n",
       "      <td>0.779980</td>\n",
       "      <td>0.779980</td>\n",
       "      <td>0.779980</td>\n",
       "    </tr>\n",
       "    <tr>\n",
       "      <th>0.2</th>\n",
       "      <td>0.784936</td>\n",
       "      <td>0.785266</td>\n",
       "      <td>0.785266</td>\n",
       "      <td>0.785596</td>\n",
       "      <td>0.784936</td>\n",
       "    </tr>\n",
       "    <tr>\n",
       "      <th>0.3</th>\n",
       "      <td>0.795837</td>\n",
       "      <td>0.796829</td>\n",
       "      <td>0.797489</td>\n",
       "      <td>0.796168</td>\n",
       "      <td>0.797159</td>\n",
       "    </tr>\n",
       "    <tr>\n",
       "      <th>0.4</th>\n",
       "      <td>0.786587</td>\n",
       "      <td>0.785266</td>\n",
       "      <td>0.785596</td>\n",
       "      <td>0.786918</td>\n",
       "      <td>0.783944</td>\n",
       "    </tr>\n",
       "    <tr>\n",
       "      <th>0.5</th>\n",
       "      <td>0.693095</td>\n",
       "      <td>0.695078</td>\n",
       "      <td>0.701354</td>\n",
       "      <td>0.697060</td>\n",
       "      <td>0.699042</td>\n",
       "    </tr>\n",
       "    <tr>\n",
       "      <th>0.6</th>\n",
       "      <td>0.539808</td>\n",
       "      <td>0.545094</td>\n",
       "      <td>0.549389</td>\n",
       "      <td>0.545425</td>\n",
       "      <td>0.542451</td>\n",
       "    </tr>\n",
       "    <tr>\n",
       "      <th>0.7</th>\n",
       "      <td>0.365709</td>\n",
       "      <td>0.366369</td>\n",
       "      <td>0.370334</td>\n",
       "      <td>0.368352</td>\n",
       "      <td>0.365378</td>\n",
       "    </tr>\n",
       "    <tr>\n",
       "      <th>0.8</th>\n",
       "      <td>0.254708</td>\n",
       "      <td>0.255699</td>\n",
       "      <td>0.257351</td>\n",
       "      <td>0.256690</td>\n",
       "      <td>0.256029</td>\n",
       "    </tr>\n",
       "    <tr>\n",
       "      <th>0.9</th>\n",
       "      <td>0.221672</td>\n",
       "      <td>0.221341</td>\n",
       "      <td>0.222002</td>\n",
       "      <td>0.221341</td>\n",
       "      <td>0.222002</td>\n",
       "    </tr>\n",
       "    <tr>\n",
       "      <th>1.0</th>\n",
       "      <td>0.220020</td>\n",
       "      <td>0.220020</td>\n",
       "      <td>0.220020</td>\n",
       "      <td>0.220020</td>\n",
       "      <td>0.220020</td>\n",
       "    </tr>\n",
       "  </tbody>\n",
       "</table>\n",
       "</div>"
      ],
      "text/plain": [
       "            0       0.1       0.5         1         5\n",
       "0.1  0.779980  0.779980  0.779980  0.779980  0.779980\n",
       "0.2  0.784936  0.785266  0.785266  0.785596  0.784936\n",
       "0.3  0.795837  0.796829  0.797489  0.796168  0.797159\n",
       "0.4  0.786587  0.785266  0.785596  0.786918  0.783944\n",
       "0.5  0.693095  0.695078  0.701354  0.697060  0.699042\n",
       "0.6  0.539808  0.545094  0.549389  0.545425  0.542451\n",
       "0.7  0.365709  0.366369  0.370334  0.368352  0.365378\n",
       "0.8  0.254708  0.255699  0.257351  0.256690  0.256029\n",
       "0.9  0.221672  0.221341  0.222002  0.221341  0.222002\n",
       "1.0  0.220020  0.220020  0.220020  0.220020  0.220020"
      ]
     },
     "execution_count": 44,
     "metadata": {},
     "output_type": "execute_result"
    }
   ],
   "source": [
    "# Grid search to maximise accuracy by lambda and threshold\n",
    "auc = pd.DataFrame(acc_res)\n",
    "auc.columns = ['0','0.1','0.5','1','5']\n",
    "auc.rename(index={0:0.1,1:0.2,2:0.3,3:0.4,4:0.5,5:0.6,6:0.7,7:0.8,8:0.9,9:1})"
   ]
  },
  {
   "cell_type": "markdown",
   "metadata": {},
   "source": [
    "From the tables above, it seems that AUC is highest when $\\lambda=1$. The highest accuracy recorded is 0.797 when $\\lambda = 1$ is when threshold = 0.3. This beats the naive model in both accuracy and AUC. The ROC is plotted below."
   ]
  },
  {
   "cell_type": "code",
   "execution_count": 45,
   "metadata": {
    "scrolled": true
   },
   "outputs": [
    {
     "data": {
      "image/png": "[encoded data removed]",
      "text/plain": [
       "<Figure size 432x288 with 1 Axes>"
      ]
     },
     "metadata": {
      "needs_background": "light"
     },
     "output_type": "display_data"
    }
   ],
   "source": [
    "plot_ROC(best_beta_sgdm[2], \"Stochastic GD\", data_val, y_val)"
   ]
  },
  {
   "cell_type": "markdown",
   "metadata": {},
   "source": [
    "## 2.3 L-BFGS"
   ]
  },
  {
   "cell_type": "code",
   "execution_count": 110,
   "metadata": {},
   "outputs": [],
   "source": [
    "def loss_wrapper(beta):\n",
    "    \"\"\" only one argument \"\"\"\n",
    "    return lossl2(beta, data_train, y_train, 1)\n",
    "\n",
    "grad_loss_wrapper = jax.jit(jax.grad(loss_wrapper))    \n",
    "\n",
    "def gradient_wrapper(beta):\n",
    "    \"\"\"output is a numpy array\"\"\"\n",
    "    return onp.array(grad_loss_wrapper(beta))"
   ]
  },
  {
   "cell_type": "code",
   "execution_count": null,
   "metadata": {
    "scrolled": true
   },
   "outputs": [],
   "source": [
    "loss_train_bfgs = []; loss_val_bfgs = []\n",
    "time_hist = []  # to save the compute time\n",
    "\n",
    "best_beta_bfgs = onp.zeros(D) # to save best model\n",
    "beta = onp.copy(beta_init)\n",
    "\n",
    "def save_traj(beta):\n",
    "    global best_beta_bfgs\n",
    "    \"\"\" a function that saves a few statistics for later analysis\"\"\"\n",
    "    loss_train = lossl2(beta, data_train, y_train, 1)\n",
    "    loss_val = lossl2(beta, data_val, y_val, 1)\n",
    "    timing = time.time() - start\n",
    "    \n",
    "    print(\"Time:{0:.3f} \\t Loss(train):{1:.3f} \\t Loss(val):{2:.3f}\".format(timing, loss_train, loss_val))\n",
    "    \n",
    "    time_hist.append(timing)\n",
    "    loss_train_bfgs.append(loss_train)\n",
    "    loss_val_bfgs.append(loss_val)\n",
    "    \n",
    "    if loss_val <= loss_val_bfgs[-1]: # save the model with the lowest validation loss\n",
    "        best_beta_bfgs = beta\n",
    "        \n",
    "#run LBFGS\n",
    "start = time.time()\n",
    "onp.random.seed(0)\n",
    "traj = scipy.optimize.minimize(fun = loss_wrapper, # function to minimize\n",
    "                                x0 = onp.array(beta_init), # initial guess\n",
    "                                method='L-BFGS-B',  # we want to use L-BFGS\n",
    "                                jac=gradient_wrapper, # function that computes the gradient\n",
    "                                callback=save_traj, # a function used to save some results for later plotting\n",
    "                                options={\"maxiter\":100}) # maximum number of iterations"
   ]
  },
  {
   "cell_type": "code",
   "execution_count": 56,
   "metadata": {},
   "outputs": [
    {
     "data": {
      "text/plain": [
       "Text(0.5, 1.0, 'L-BFGS')"
      ]
     },
     "execution_count": 56,
     "metadata": {},
     "output_type": "execute_result"
    },
    {
     "data": {
      "image/png": "[encoded data removed]",
      "text/plain": [
       "<Figure size 432x288 with 1 Axes>"
      ]
     },
     "metadata": {
      "needs_background": "light"
     },
     "output_type": "display_data"
    }
   ],
   "source": [
    "plt.plot(loss_train_bfgs, label=\"loss(train)\")\n",
    "plt.plot(loss_val_bfgs, label=\"loss(val)\")\n",
    "plt.legend()\n",
    "plt.grid(True)\n",
    "plt.xlabel(\"iteration\")\n",
    "plt.title(\"L-BFGS\")"
   ]
  },
  {
   "cell_type": "code",
   "execution_count": 57,
   "metadata": {
    "scrolled": false
   },
   "outputs": [
    {
     "data": {
      "image/png": "[encoded data removed]",
      "text/plain": [
       "<Figure size 432x288 with 1 Axes>"
      ]
     },
     "metadata": {
      "needs_background": "light"
     },
     "output_type": "display_data"
    }
   ],
   "source": [
    "plot_ROC(best_beta_bfgs, \"L-BFGS\", data_val, y_val)"
   ]
  },
  {
   "cell_type": "code",
   "execution_count": 58,
   "metadata": {
    "scrolled": true
   },
   "outputs": [
    {
     "name": "stdout",
     "output_type": "stream",
     "text": [
      "Threshold: 0.1 \t Accuracy: 0.807\n",
      "Threshold: 0.2 \t Accuracy: 0.795\n",
      "Threshold: 0.3 \t Accuracy: 0.775\n",
      "Threshold: 0.4 \t Accuracy: 0.747\n",
      "Threshold: 0.5 \t Accuracy: 0.710\n",
      "Threshold: 0.6 \t Accuracy: 0.664\n",
      "Threshold: 0.7 \t Accuracy: 0.606\n",
      "Threshold: 0.8 \t Accuracy: 0.539\n",
      "Threshold: 0.9 \t Accuracy: 0.427\n",
      "Threshold: 1.0 \t Accuracy: 0.220\n"
     ]
    }
   ],
   "source": [
    "for i in list(range(1,11)):\n",
    "    acc = accuracy(best_beta_bfgs, data_val, y_val, i/10)\n",
    "    print(\"Threshold: {0:.1f} \\t Accuracy: {1:.3f}\".format(i/10, acc))"
   ]
  },
  {
   "cell_type": "markdown",
   "metadata": {},
   "source": [
    "L-BFGS proved to have a higher AUC (0.757) and accuracy (0.807) than stochastic gradient descent. The highest accuracy is when threshold = 0.1, unlike with stochastic gradient descent. However, L-BFGS took a considerably longer time to run than SGD, taking almost twice the time."
   ]
  },
  {
   "cell_type": "markdown",
   "metadata": {},
   "source": [
    "# 3. Improvements to Images"
   ]
  },
  {
   "cell_type": "markdown",
   "metadata": {},
   "source": [
    "This section will explore if the models can be improved by enhancing the pre-processing process - by using colored images or cropping the images to reduce memory space and run time."
   ]
  },
  {
   "cell_type": "markdown",
   "metadata": {},
   "source": [
    "## 3.1 Comparing colored images to grayscale"
   ]
  },
  {
   "cell_type": "markdown",
   "metadata": {},
   "source": [
    "We load the images as `ptrain_imgc`, `pval_imgc`, `ptest_imgc` as the training, validation and test datasets respectively in color. This changes each image to a 135 by 95 by 3 array."
   ]
  },
  {
   "cell_type": "code",
   "execution_count": 69,
   "metadata": {},
   "outputs": [],
   "source": [
    "# load the images from the prelim training set\n",
    "ntrain_img = len(ptrain)\n",
    "ptrain_ind = ptrain.index.values\n",
    "ptrain_imgc = onp.zeros((ntrain_img,h_n,w_n,3))\n",
    "\n",
    "for k in range(ntrain_img):\n",
    "    im = imageio.imread(os.path.join(path, all_img[ptrain_ind[k]])).astype(float)\n",
    "    im = im/255. # rescale\n",
    "    im = im[50:185,40:135] # crop to face\n",
    "    ptrain_imgc[k,:,:] = im\n",
    "    \n",
    "# load the images from the prelim validation set\n",
    "nval_img = len(pval)\n",
    "pval_ind = pval.index.values\n",
    "pval_imgc = onp.zeros((nval_img,h_n,w_n,3))\n",
    "\n",
    "for k in range(nval_img):\n",
    "    im = imageio.imread(os.path.join(path, all_img[pval_ind[k]])).astype(float)\n",
    "    im = im/255. # rescale\n",
    "    im = im[50:185,40:135] # crop to face\n",
    "    pval_imgc[k,:,:] = im\n",
    "    \n",
    "# load the images from the test set\n",
    "#ntest_img = 5000\n",
    "#ptest_imgc = onp.zeros((ntest_img,h_n,w_n,3))\n",
    "\n",
    "#for k in range(ntest_img):\n",
    "#    im = imageio.imread(os.path.join(path, all_img[k+15000])).astype(float)\n",
    "#    im = im/255. # rescale\n",
    "#    im = im[50:185,40:135] # crop to face\n",
    "#    ptest_imgc[k,:,:] = im"
   ]
  },
  {
   "cell_type": "code",
   "execution_count": 96,
   "metadata": {},
   "outputs": [],
   "source": [
    "# set datasets for colored images and initialise data\n",
    "D = h_n*w_n*3\n",
    "\n",
    "data_trainc = ptrain_imgc.reshape(5330, D)\n",
    "y_train = ptrain.to_numpy(copy=True)\n",
    "\n",
    "data_valc = pval_imgc.reshape(3027, D)\n",
    "y_val = pval.to_numpy(copy=True)\n",
    "\n",
    "#data_testc = ptest_imgc.reshape(5000, D)\n",
    "#y_test = test.to_numpy(copy=True)\n",
    "\n",
    "beta_init = onp.random.normal(0., scale = 1./onp.sqrt(D), size=D)"
   ]
  },
  {
   "cell_type": "markdown",
   "metadata": {},
   "source": [
    "The model is then trained with a stochastic gradient descent algorithm."
   ]
  },
  {
   "cell_type": "code",
   "execution_count": 77,
   "metadata": {},
   "outputs": [
    {
     "name": "stdout",
     "output_type": "stream",
     "text": [
      "epoch:0 \t time:7 \t Loss(train):0.642 \t Loss(val):0.665\n",
      "epoch:20 \t time:216 \t Loss(train):0.548 \t Loss(val):0.555\n",
      "epoch:40 \t time:416 \t Loss(train):0.540 \t Loss(val):0.560\n",
      "epoch:60 \t time:625 \t Loss(train):0.538 \t Loss(val):0.550\n",
      "epoch:80 \t time:857 \t Loss(train):0.538 \t Loss(val):0.557\n",
      "epoch:99 \t time:1054 \t Loss(train):0.538 \t Loss(val):0.556\n"
     ]
    }
   ],
   "source": [
    "n_epoch = 100\n",
    "batch_size = 100  # size of the mini-batch\n",
    "mov_avg_param = 0.8 # added to smooth the loss graph\n",
    "learning_rate = 0.001\n",
    "loss_train_sgdmc = []; loss_val_sgdmc = []\n",
    "\n",
    "#initialize the gradient\n",
    "beta = onp.copy(beta_init)\n",
    "gradient = grad_lossl2(beta, data_trainc, y_train, 1)\n",
    "best_beta_sgdmc = onp.zeros(D) # best model\n",
    "\n",
    "start = time.time()\n",
    "for epoch in range(n_epoch):\n",
    "    #let us divide the learning by 2 every 10 epoch\n",
    "    if epoch % 10 == 0 and epoch >= 1:\n",
    "        learning_rate = learning_rate/2.\n",
    "        \n",
    "    for k in range(ntrain_img // batch_size):  #number of batch per epoch\n",
    "        #select at random \"batch_size\" random data point\n",
    "        index_ = onp.random.choice(ntrain_img, batch_size, replace=False)\n",
    "\n",
    "        gradient_local = grad_lossl2(beta, data_trainc[index_], y_train[index_],1)\n",
    "\n",
    "        #moving average of the gradient\n",
    "        gradient = gradient*mov_avg_param + (1-mov_avg_param)*gradient_local\n",
    "\n",
    "        #gradient descent update\n",
    "        beta = beta - learning_rate * gradient\n",
    "    \n",
    "    loss_train = lossl2(beta, data_trainc, y_train,1)\n",
    "    loss_val = lossl2(beta, data_valc, y_val,1)\n",
    "    \n",
    "    if len(loss_val_sgdmc)>0:\n",
    "        if loss_val <= loss_val_sgdmc[-1]:\n",
    "            best_beta_sgdmc = beta # save the model with the lowest validation loss\n",
    "        \n",
    "    loss_train_sgdmc.append(loss_train)\n",
    "    loss_val_sgdmc.append(loss_val)\n",
    "    \n",
    "    timing = time.time() - start\n",
    "    if (epoch == 99) or not(epoch % 20):\n",
    "        print(\"epoch:{0:.0f} \\t time:{1:.0f} \\t Loss(train):{2:.3f} \\t Loss(val):{3:.3f}\".format(epoch, \n",
    "                                                                                                 timing, \n",
    "                                                                                                loss_train, \n",
    "                                                                                                loss_val))"
   ]
  },
  {
   "cell_type": "code",
   "execution_count": 78,
   "metadata": {},
   "outputs": [
    {
     "data": {
      "text/plain": [
       "Text(0.5, 1.0, 'Stochastic Gradient Descent on Colored')"
      ]
     },
     "execution_count": 78,
     "metadata": {},
     "output_type": "execute_result"
    },
    {
     "data": {
      "image/png": "[encoded data removed]",
      "text/plain": [
       "<Figure size 432x288 with 1 Axes>"
      ]
     },
     "metadata": {
      "needs_background": "light"
     },
     "output_type": "display_data"
    }
   ],
   "source": [
    "plt.plot(loss_train_sgdmc, label=\"loss(train)\")\n",
    "plt.plot(loss_val_sgdmc, label=\"loss(val)\")\n",
    "plt.legend()\n",
    "plt.grid(True)\n",
    "plt.xlabel(\"epoch\")\n",
    "plt.title(\"Stochastic Gradient Descent on Colored\")"
   ]
  },
  {
   "cell_type": "code",
   "execution_count": 79,
   "metadata": {},
   "outputs": [
    {
     "data": {
      "image/png": "[encoded data removed]",
      "text/plain": [
       "<Figure size 432x288 with 1 Axes>"
      ]
     },
     "metadata": {
      "needs_background": "light"
     },
     "output_type": "display_data"
    }
   ],
   "source": [
    "plot_ROC(best_beta_sgdmc, \"Stochastic GD\", data_valc, y_val)"
   ]
  },
  {
   "cell_type": "code",
   "execution_count": 80,
   "metadata": {
    "scrolled": false
   },
   "outputs": [
    {
     "name": "stdout",
     "output_type": "stream",
     "text": [
      "Threshold: 0.1 \t Accuracy: 0.784\n",
      "Threshold: 0.2 \t Accuracy: 0.807\n",
      "Threshold: 0.3 \t Accuracy: 0.819\n",
      "Threshold: 0.4 \t Accuracy: 0.790\n",
      "Threshold: 0.5 \t Accuracy: 0.730\n",
      "Threshold: 0.6 \t Accuracy: 0.616\n",
      "Threshold: 0.7 \t Accuracy: 0.471\n",
      "Threshold: 0.8 \t Accuracy: 0.327\n",
      "Threshold: 0.9 \t Accuracy: 0.242\n",
      "Threshold: 1.0 \t Accuracy: 0.220\n"
     ]
    }
   ],
   "source": [
    "for i in list(range(1,11)):\n",
    "    acc = accuracy(best_beta_sgdmc, data_valc, y_val, i/10)\n",
    "    print(\"Threshold: {0:.1f} \\t Accuracy: {1:.3f}\".format(i/10, acc))"
   ]
  },
  {
   "cell_type": "markdown",
   "metadata": {},
   "source": [
    "Compared to using grayscale images, training the model on colored images improves the accuracy (81.9 at threshold 0.3) and AUC=0.779, at the cost of increasing the time spent by almost 3 times."
   ]
  },
  {
   "cell_type": "markdown",
   "metadata": {},
   "source": [
    "## 3.2 Comparing 'eyes only' to facial images"
   ]
  },
  {
   "cell_type": "markdown",
   "metadata": {},
   "source": [
    "Observing the $\\beta$'s from the best model generated below, it appears that areas near the eyes and the cheekbones have greater weight in determining if one is classified as young or old. This suggests that training the model on images cropped to this extent may result in some improvements to time."
   ]
  },
  {
   "cell_type": "code",
   "execution_count": 87,
   "metadata": {},
   "outputs": [
    {
     "data": {
      "text/plain": [
       "<matplotlib.image.AxesImage at 0x7f88345fa3d0>"
      ]
     },
     "execution_count": 87,
     "metadata": {},
     "output_type": "execute_result"
    },
    {
     "data": {
      "image/png": "[encoded data removed]",
      "text/plain": [
       "<Figure size 432x288 with 1 Axes>"
      ]
     },
     "metadata": {
      "needs_background": "light"
     },
     "output_type": "display_data"
    }
   ],
   "source": [
    "plt.imshow(onp.mean(best_beta_sgdmc.reshape(h_n,w_n,3),axis=2))"
   ]
  },
  {
   "cell_type": "markdown",
   "metadata": {},
   "source": [
    "We load the images as `ptrain_imgce`, `pval_imgce`, `ptest_imgce` as the training, validation and test datasets respectively in color and crop the original images to the extent that includes only eyes and cheekbones. This changes each image to a $50*85*3$ array."
   ]
  },
  {
   "cell_type": "code",
   "execution_count": 89,
   "metadata": {},
   "outputs": [],
   "source": [
    "h_e, w_e = 145-95, 130-45\n",
    "# load the images from the prelim training set\n",
    "ntrain_img = len(ptrain)\n",
    "ptrain_ind = ptrain.index.values\n",
    "ptrain_imgce = onp.zeros((ntrain_img,h_e,w_e,3))\n",
    "\n",
    "for k in range(ntrain_img):\n",
    "    im = imageio.imread(os.path.join(path, all_img[ptrain_ind[k]])).astype(float)\n",
    "    im = im/255. # rescale\n",
    "    im = im[95:145,45:130] # crop to eyes\n",
    "    ptrain_imgce[k,:,:] = im\n",
    "    \n",
    "# load the images from the prelim validation set\n",
    "nval_img = len(pval)\n",
    "pval_ind = pval.index.values\n",
    "pval_imgce = onp.zeros((nval_img,h_e,w_e,3))\n",
    "\n",
    "for k in range(nval_img):\n",
    "    im = imageio.imread(os.path.join(path, all_img[pval_ind[k]])).astype(float)\n",
    "    im = im/255. # rescale\n",
    "    im = im[95:145,45:130] # crop to eyes\n",
    "    pval_imgce[k,:,:] = im\n",
    "    \n",
    "# load the images from the test set\n",
    "#ntest_img = 5000\n",
    "#ptest_imgce = onp.zeros((ntest_img,h_e,w_e,3))\n",
    "\n",
    "#for k in range(ntest_img):\n",
    "#    im = imageio.imread(os.path.join(path, all_img[k+15000])).astype(float)\n",
    "#    im = im/255. # rescale\n",
    "#    im = im[95:145,45:130] # crop to face\n",
    "#    ptest_imgce[k,:,:] = im"
   ]
  },
  {
   "cell_type": "code",
   "execution_count": 91,
   "metadata": {},
   "outputs": [],
   "source": [
    "D = h_e*w_e*3\n",
    "\n",
    "data_traince = ptrain_imgce.reshape(5330, D)\n",
    "y_train = ptrain.to_numpy(copy=True)\n",
    "\n",
    "data_valce = pval_imgce.reshape(3027, D)\n",
    "y_val = pval.to_numpy(copy=True)\n",
    "\n",
    "#data_testce = ptest_imgce.reshape(5000, D)\n",
    "#y_test = test.to_numpy(copy=True)\n",
    "\n",
    "beta_init = onp.random.normal(0., scale = 1./onp.sqrt(D), size=D)"
   ]
  },
  {
   "cell_type": "markdown",
   "metadata": {},
   "source": [
    "The model is trained with a stochastic gradient descent algorithm."
   ]
  },
  {
   "cell_type": "code",
   "execution_count": 92,
   "metadata": {},
   "outputs": [
    {
     "name": "stdout",
     "output_type": "stream",
     "text": [
      "epoch:0 \t time:3 \t Loss(train):0.666 \t Loss(val):0.661\n",
      "epoch:20 \t time:72 \t Loss(train):0.594 \t Loss(val):0.593\n",
      "epoch:40 \t time:137 \t Loss(train):0.588 \t Loss(val):0.591\n",
      "epoch:60 \t time:205 \t Loss(train):0.586 \t Loss(val):0.590\n",
      "epoch:80 \t time:273 \t Loss(train):0.586 \t Loss(val):0.596\n",
      "epoch:99 \t time:338 \t Loss(train):0.586 \t Loss(val):0.595\n"
     ]
    }
   ],
   "source": [
    "n_epoch = 100\n",
    "batch_size = 100  # size of the mini-batch\n",
    "mov_avg_param = 0.8 # added to smooth the loss graph\n",
    "learning_rate = 0.001\n",
    "loss_train_sgdmce = []; loss_val_sgdmce = []\n",
    "\n",
    "#initialize the gradient\n",
    "beta = onp.copy(beta_init)\n",
    "gradient = grad_lossl2(beta, data_traince, y_train,1)\n",
    "best_beta_sgdmce = onp.zeros(D) # best model\n",
    "\n",
    "start = time.time()\n",
    "for epoch in range(n_epoch):\n",
    "    #let us divide the learning by 2 every 10 epoch\n",
    "    if epoch % 10 == 0 and epoch >= 1:\n",
    "        learning_rate = learning_rate/2.\n",
    "        \n",
    "    for k in range(ntrain_img // batch_size):  #number of batch per epoch\n",
    "        #select at random \"batch_size\" random data point\n",
    "        index_ = onp.random.choice(ntrain_img, batch_size, replace=False)\n",
    "\n",
    "        gradient_local = grad_lossl2(beta, data_traince[index_], y_train[index_],1)\n",
    "\n",
    "        #moving average of the gradient\n",
    "        gradient = gradient*mov_avg_param + (1-mov_avg_param)*gradient_local\n",
    "\n",
    "        #gradient descent update\n",
    "        beta = beta - learning_rate * gradient\n",
    "    \n",
    "    loss_train = lossl2(beta, data_traince, y_train,1)\n",
    "    loss_val = lossl2(beta, data_valce, y_val,1)\n",
    "    \n",
    "    if len(loss_val_sgdmce)>0:\n",
    "        if loss_val <= loss_val_sgdmce[-1]:\n",
    "            best_beta_sgdmce = beta # save the model with the lowest validation loss\n",
    "        \n",
    "    loss_train_sgdmce.append(loss_train)\n",
    "    loss_val_sgdmce.append(loss_val)\n",
    "    \n",
    "    timing = time.time() - start\n",
    "    if (epoch == 99) or not(epoch % 20):\n",
    "        print(\"epoch:{0:.0f} \\t time:{1:.0f} \\t Loss(train):{2:.3f} \\t Loss(val):{3:.3f}\".format(epoch, \n",
    "                                                                                                 timing, \n",
    "                                                                                                loss_train, \n",
    "                                                                                                loss_val))"
   ]
  },
  {
   "cell_type": "code",
   "execution_count": 93,
   "metadata": {},
   "outputs": [
    {
     "data": {
      "text/plain": [
       "Text(0.5, 1.0, 'Stochastic Gradient Descent on Eyes')"
      ]
     },
     "execution_count": 93,
     "metadata": {},
     "output_type": "execute_result"
    },
    {
     "data": {
      "image/png": "[encoded data removed]",
      "text/plain": [
       "<Figure size 432x288 with 1 Axes>"
      ]
     },
     "metadata": {
      "needs_background": "light"
     },
     "output_type": "display_data"
    }
   ],
   "source": [
    "plt.plot(loss_train_sgdmce, label=\"loss(train)\")\n",
    "plt.plot(loss_val_sgdmce, label=\"loss(val)\")\n",
    "plt.legend()\n",
    "plt.grid(True)\n",
    "plt.xlabel(\"epoch\")\n",
    "plt.title(\"Stochastic Gradient Descent on Eyes\")"
   ]
  },
  {
   "cell_type": "code",
   "execution_count": 94,
   "metadata": {},
   "outputs": [
    {
     "data": {
      "image/png": "[encoded data removed]",
      "text/plain": [
       "<Figure size 432x288 with 1 Axes>"
      ]
     },
     "metadata": {
      "needs_background": "light"
     },
     "output_type": "display_data"
    }
   ],
   "source": [
    "# function to plot ROC curve\n",
    "plot_ROC(best_beta_sgdmce, \"Stochastic GD\", data_valce, y_val)"
   ]
  },
  {
   "cell_type": "code",
   "execution_count": 95,
   "metadata": {
    "scrolled": false
   },
   "outputs": [
    {
     "name": "stdout",
     "output_type": "stream",
     "text": [
      "Threshold: 0.1 \t Accuracy: 0.780\n",
      "Threshold: 0.2 \t Accuracy: 0.781\n",
      "Threshold: 0.3 \t Accuracy: 0.803\n",
      "Threshold: 0.4 \t Accuracy: 0.784\n",
      "Threshold: 0.5 \t Accuracy: 0.695\n",
      "Threshold: 0.6 \t Accuracy: 0.547\n",
      "Threshold: 0.7 \t Accuracy: 0.387\n",
      "Threshold: 0.8 \t Accuracy: 0.273\n",
      "Threshold: 0.9 \t Accuracy: 0.230\n",
      "Threshold: 1.0 \t Accuracy: 0.220\n"
     ]
    }
   ],
   "source": [
    "for i in list(range(1,11)):\n",
    "    acc = accuracy(best_beta_sgdmce, data_valce, y_val, i/10)\n",
    "    print(\"Threshold: {0:.1f} \\t Accuracy: {1:.3f}\".format(i/10, acc))"
   ]
  },
  {
   "cell_type": "markdown",
   "metadata": {},
   "source": [
    "This results in an accuracy of 0.803 with a threshold of 0.3, which beats the naive model. However, this has a lower AUC and accuracy compared to model in section 3.1 trained on the full-face colored images. This suggests that information is lost from removing parts of the images outside the eyes. Nonetheless, this method still has some merit given the reduction in time by more than 60%."
   ]
  },
  {
   "cell_type": "markdown",
   "metadata": {},
   "source": [
    "# 4. Conclusion"
   ]
  },
  {
   "cell_type": "markdown",
   "metadata": {},
   "source": [
    "Combining the method that returned the highest accuracy (L-BFGS) and full colored images, we present the best model below."
   ]
  },
  {
   "cell_type": "code",
   "execution_count": 99,
   "metadata": {},
   "outputs": [],
   "source": [
    "def loss_wrapper2(beta):\n",
    "    \"\"\" only one argument \"\"\"\n",
    "    return lossl2(beta, data_trainc, y_train, 1)\n",
    "\n",
    "grad_loss_wrapper2 = jax.jit(jax.grad(loss_wrapper2))    \n",
    "\n",
    "def gradient_wrapper2(beta):\n",
    "    \"\"\"output is a numpy array\"\"\"\n",
    "    return onp.array(grad_loss_wrapper2(beta))"
   ]
  },
  {
   "cell_type": "code",
   "execution_count": 106,
   "metadata": {
    "scrolled": true
   },
   "outputs": [
    {
     "name": "stdout",
     "output_type": "stream",
     "text": [
      "Time:39.675 \t Loss(train):0.702 \t Loss(val):0.712\n",
      "Time:58.677 \t Loss(train):0.700 \t Loss(val):0.702\n",
      "Time:77.994 \t Loss(train):0.684 \t Loss(val):0.640\n",
      "Time:97.369 \t Loss(train):0.670 \t Loss(val):0.617\n",
      "Time:116.654 \t Loss(train):0.652 \t Loss(val):0.629\n",
      "Time:136.066 \t Loss(train):0.643 \t Loss(val):0.657\n",
      "Time:152.257 \t Loss(train):0.638 \t Loss(val):0.671\n",
      "Time:167.923 \t Loss(train):0.629 \t Loss(val):0.683\n",
      "Time:185.276 \t Loss(train):0.618 \t Loss(val):0.676\n",
      "Time:203.176 \t Loss(train):0.594 \t Loss(val):0.632\n",
      "Time:220.571 \t Loss(train):0.579 \t Loss(val):0.588\n",
      "Time:237.895 \t Loss(train):0.577 \t Loss(val):0.578\n",
      "Time:255.193 \t Loss(train):0.575 \t Loss(val):0.577\n",
      "Time:281.743 \t Loss(train):0.574 \t Loss(val):0.560\n",
      "Time:299.157 \t Loss(train):0.570 \t Loss(val):0.563\n",
      "Time:316.542 \t Loss(train):0.561 \t Loss(val):0.567\n",
      "Time:334.127 \t Loss(train):0.553 \t Loss(val):0.573\n",
      "Time:351.666 \t Loss(train):0.549 \t Loss(val):0.568\n",
      "Time:382.624 \t Loss(train):0.548 \t Loss(val):0.574\n",
      "Time:401.022 \t Loss(train):0.545 \t Loss(val):0.565\n",
      "Time:422.230 \t Loss(train):0.542 \t Loss(val):0.556\n",
      "Time:440.707 \t Loss(train):0.540 \t Loss(val):0.552\n",
      "Time:458.845 \t Loss(train):0.538 \t Loss(val):0.552\n",
      "Time:486.401 \t Loss(train):0.534 \t Loss(val):0.546\n",
      "Time:514.013 \t Loss(train):0.533 \t Loss(val):0.566\n",
      "Time:532.213 \t Loss(train):0.529 \t Loss(val):0.565\n",
      "Time:549.923 \t Loss(train):0.517 \t Loss(val):0.554\n",
      "Time:576.315 \t Loss(train):0.516 \t Loss(val):0.562\n",
      "Time:591.483 \t Loss(train):0.513 \t Loss(val):0.556\n",
      "Time:606.624 \t Loss(train):0.511 \t Loss(val):0.553\n",
      "Time:623.304 \t Loss(train):0.510 \t Loss(val):0.553\n",
      "Time:651.003 \t Loss(train):0.509 \t Loss(val):0.547\n",
      "Time:669.561 \t Loss(train):0.507 \t Loss(val):0.549\n",
      "Time:687.788 \t Loss(train):0.503 \t Loss(val):0.552\n",
      "Time:705.582 \t Loss(train):0.499 \t Loss(val):0.556\n",
      "Time:720.855 \t Loss(train):0.497 \t Loss(val):0.541\n",
      "Time:735.933 \t Loss(train):0.496 \t Loss(val):0.565\n",
      "Time:753.184 \t Loss(train):0.494 \t Loss(val):0.555\n",
      "Time:771.344 \t Loss(train):0.492 \t Loss(val):0.542\n",
      "Time:789.523 \t Loss(train):0.490 \t Loss(val):0.541\n",
      "Time:807.723 \t Loss(train):0.488 \t Loss(val):0.545\n",
      "Time:833.128 \t Loss(train):0.484 \t Loss(val):0.541\n",
      "Time:848.279 \t Loss(train):0.482 \t Loss(val):0.552\n",
      "Time:863.274 \t Loss(train):0.481 \t Loss(val):0.555\n",
      "Time:881.138 \t Loss(train):0.477 \t Loss(val):0.558\n",
      "Time:899.517 \t Loss(train):0.472 \t Loss(val):0.559\n",
      "Time:927.075 \t Loss(train):0.471 \t Loss(val):0.571\n",
      "Time:945.266 \t Loss(train):0.463 \t Loss(val):0.556\n",
      "Time:963.017 \t Loss(train):0.461 \t Loss(val):0.555\n",
      "Time:981.083 \t Loss(train):0.461 \t Loss(val):0.542\n",
      "Time:997.673 \t Loss(train):0.460 \t Loss(val):0.550\n",
      "Time:1016.773 \t Loss(train):0.459 \t Loss(val):0.553\n",
      "Time:1035.914 \t Loss(train):0.458 \t Loss(val):0.559\n",
      "Time:1057.961 \t Loss(train):0.457 \t Loss(val):0.561\n",
      "Time:1084.264 \t Loss(train):0.456 \t Loss(val):0.556\n",
      "Time:1104.654 \t Loss(train):0.452 \t Loss(val):0.566\n",
      "Time:1127.559 \t Loss(train):0.449 \t Loss(val):0.567\n",
      "Time:1153.481 \t Loss(train):0.444 \t Loss(val):0.569\n",
      "Time:1182.378 \t Loss(train):0.443 \t Loss(val):0.561\n",
      "Time:1200.698 \t Loss(train):0.442 \t Loss(val):0.564\n",
      "Time:1229.306 \t Loss(train):0.441 \t Loss(val):0.575\n",
      "Time:1246.905 \t Loss(train):0.439 \t Loss(val):0.571\n",
      "Time:1265.389 \t Loss(train):0.436 \t Loss(val):0.574\n",
      "Time:1293.806 \t Loss(train):0.435 \t Loss(val):0.564\n",
      "Time:1311.606 \t Loss(train):0.433 \t Loss(val):0.569\n",
      "Time:1327.231 \t Loss(train):0.431 \t Loss(val):0.575\n",
      "Time:1343.138 \t Loss(train):0.430 \t Loss(val):0.577\n",
      "Time:1361.903 \t Loss(train):0.427 \t Loss(val):0.577\n",
      "Time:1382.040 \t Loss(train):0.422 \t Loss(val):0.585\n",
      "Time:1408.835 \t Loss(train):0.421 \t Loss(val):0.575\n",
      "Time:1425.237 \t Loss(train):0.417 \t Loss(val):0.576\n",
      "Time:1446.991 \t Loss(train):0.416 \t Loss(val):0.594\n",
      "Time:1464.269 \t Loss(train):0.412 \t Loss(val):0.592\n",
      "Time:1481.609 \t Loss(train):0.410 \t Loss(val):0.593\n",
      "Time:1500.401 \t Loss(train):0.406 \t Loss(val):0.597\n",
      "Time:1526.641 \t Loss(train):0.406 \t Loss(val):0.607\n",
      "Time:1544.817 \t Loss(train):0.405 \t Loss(val):0.607\n",
      "Time:1561.352 \t Loss(train):0.403 \t Loss(val):0.603\n",
      "Time:1576.033 \t Loss(train):0.400 \t Loss(val):0.596\n",
      "Time:1594.852 \t Loss(train):0.397 \t Loss(val):0.603\n",
      "Time:1624.062 \t Loss(train):0.397 \t Loss(val):0.596\n",
      "Time:1641.778 \t Loss(train):0.396 \t Loss(val):0.600\n",
      "Time:1660.084 \t Loss(train):0.394 \t Loss(val):0.608\n",
      "Time:1678.683 \t Loss(train):0.393 \t Loss(val):0.611\n",
      "Time:1699.379 \t Loss(train):0.391 \t Loss(val):0.622\n",
      "Time:1724.666 \t Loss(train):0.389 \t Loss(val):0.619\n",
      "Time:1744.259 \t Loss(train):0.388 \t Loss(val):0.635\n",
      "Time:1764.028 \t Loss(train):0.386 \t Loss(val):0.627\n",
      "Time:1782.358 \t Loss(train):0.384 \t Loss(val):0.620\n",
      "Time:1802.004 \t Loss(train):0.382 \t Loss(val):0.615\n",
      "Time:1819.672 \t Loss(train):0.380 \t Loss(val):0.616\n",
      "Time:1835.538 \t Loss(train):0.379 \t Loss(val):0.601\n",
      "Time:1853.992 \t Loss(train):0.376 \t Loss(val):0.623\n",
      "Time:1872.757 \t Loss(train):0.375 \t Loss(val):0.629\n",
      "Time:1892.305 \t Loss(train):0.375 \t Loss(val):0.631\n",
      "Time:1911.407 \t Loss(train):0.374 \t Loss(val):0.630\n",
      "Time:1929.600 \t Loss(train):0.373 \t Loss(val):0.633\n",
      "Time:1956.571 \t Loss(train):0.371 \t Loss(val):0.616\n",
      "Time:1977.322 \t Loss(train):0.370 \t Loss(val):0.612\n",
      "Time:2003.334 \t Loss(train):0.369 \t Loss(val):0.607\n"
     ]
    }
   ],
   "source": [
    "loss_train_bfgs2 = []; loss_val_bfgs2 = []\n",
    "time_hist = []  # to save the compute time\n",
    "\n",
    "best_beta_bfgs2 = onp.zeros(D) # to save best model\n",
    "beta = onp.copy(beta_init)\n",
    "\n",
    "def save_traj(beta):\n",
    "    global best_beta_bfgs2\n",
    "    \"\"\" a function that saves a few statistics for later analysis\"\"\"\n",
    "    loss_train = lossl2(beta, data_trainc, y_train, 1)\n",
    "    loss_val = lossl2(beta, data_valc, y_val, 1)\n",
    "    timing = time.time() - start\n",
    "    \n",
    "    print(\"Time:{0:.3f} \\t Loss(train):{1:.3f} \\t Loss(val):{2:.3f}\".format(timing, loss_train, loss_val))\n",
    "    \n",
    "    time_hist.append(timing)\n",
    "    loss_train_bfgs2.append(loss_train)\n",
    "    loss_val_bfgs2.append(loss_val)\n",
    "    \n",
    "    if loss_val <= loss_val_bfgs2[-1]: # save the model with the lowest validation loss\n",
    "        best_beta_bfgs2 = beta\n",
    "        \n",
    "#run LBFGS\n",
    "start = time.time()\n",
    "onp.random.seed(0)\n",
    "traj = scipy.optimize.minimize(fun = loss_wrapper2, # function to minimize\n",
    "                                x0 = onp.array(beta_init), # initial guess\n",
    "                                method='L-BFGS-B',  # we want to use L-BFGS\n",
    "                                jac=gradient_wrapper2, # function that computes the gradient\n",
    "                                callback=save_traj, # a function used to save some results for later plotting\n",
    "                                options={\"maxiter\":100}) # maximum number of iterations"
   ]
  },
  {
   "cell_type": "code",
   "execution_count": 107,
   "metadata": {},
   "outputs": [
    {
     "data": {
      "text/plain": [
       "Text(0.5, 1.0, 'L-BFGS')"
      ]
     },
     "execution_count": 107,
     "metadata": {},
     "output_type": "execute_result"
    },
    {
     "data": {
      "image/png": "[encoded data removed]",
      "text/plain": [
       "<Figure size 432x288 with 1 Axes>"
      ]
     },
     "metadata": {
      "needs_background": "light"
     },
     "output_type": "display_data"
    }
   ],
   "source": [
    "plt.plot(loss_train_bfgs2, label=\"loss(train)\")\n",
    "plt.plot(loss_val_bfgs2, label=\"loss(val)\")\n",
    "plt.legend()\n",
    "plt.grid(True)\n",
    "plt.xlabel(\"iteration\")\n",
    "plt.title(\"L-BFGS\")"
   ]
  },
  {
   "cell_type": "code",
   "execution_count": 108,
   "metadata": {
    "scrolled": true
   },
   "outputs": [
    {
     "data": {
      "image/png": "[encoded data removed]",
      "text/plain": [
       "<Figure size 432x288 with 1 Axes>"
      ]
     },
     "metadata": {
      "needs_background": "light"
     },
     "output_type": "display_data"
    }
   ],
   "source": [
    "plot_ROC(best_beta_bfgs2, \"L-BFGS\", data_valc, y_val)"
   ]
  },
  {
   "cell_type": "code",
   "execution_count": 109,
   "metadata": {
    "scrolled": true
   },
   "outputs": [
    {
     "name": "stdout",
     "output_type": "stream",
     "text": [
      "Threshold: 0.1 \t Accuracy: 0.818\n",
      "Threshold: 0.2 \t Accuracy: 0.813\n",
      "Threshold: 0.3 \t Accuracy: 0.787\n",
      "Threshold: 0.4 \t Accuracy: 0.755\n",
      "Threshold: 0.5 \t Accuracy: 0.727\n",
      "Threshold: 0.6 \t Accuracy: 0.686\n",
      "Threshold: 0.7 \t Accuracy: 0.642\n",
      "Threshold: 0.8 \t Accuracy: 0.579\n",
      "Threshold: 0.9 \t Accuracy: 0.476\n",
      "Threshold: 1.0 \t Accuracy: 0.220\n"
     ]
    }
   ],
   "source": [
    "for i in list(range(1,11)):\n",
    "    acc = accuracy(best_beta_bfgs2, data_valc, y_val, i/10)\n",
    "    print(\"Threshold: {0:.1f} \\t Accuracy: {1:.3f}\".format(i/10, acc))"
   ]
  },
  {
   "cell_type": "markdown",
   "metadata": {},
   "source": [
    "After training on colored images, L-BFGS proved to have a higher AUC (0.79) and accuracy (0.818 at threshold = 0.1) than with just grayscale images. While the accuracy for this seems slightly lower than the model trained in 3.1 on SGD, it has a marginally larger AUC and thus has more confidence. Thus, the final model proposed by our group is to train the colored images cropped to the facial extent on L-BFGS."
   ]
  }
 ],
 "metadata": {
  "kernelspec": {
   "display_name": "Python 3",
   "language": "python",
   "name": "python3"
  },
  "language_info": {
   "codemirror_mode": {
    "name": "ipython",
    "version": 3
   },
   "file_extension": ".py",
   "mimetype": "text/x-python",
   "name": "python",
   "nbconvert_exporter": "python",
   "pygments_lexer": "ipython3",
   "version": "3.7.6"
  }
 },
 "nbformat": 4,
 "nbformat_minor": 4
}

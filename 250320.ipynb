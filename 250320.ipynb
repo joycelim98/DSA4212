{
 "cells": [
  {
   "cell_type": "markdown",
   "metadata": {},
   "source": [
    "<h1><center>DSA 4212: Year 2019-2020</center></h1>\n",
    "<h3><center> Assignment 1 (Deadline: 27 March 2020 at 23:59) </center></h3>\n",
    "<h2><center> Group Number: ???? </center></h2>\n",
    "<h2><center> Group Member 1: Joyce Lim Li Jie, Student ID </center></h2>\n",
    "<h2><center> Group Member 2: Ryan Teo Jin Chuan, A0164337A </center></h2>\n",
    "<h2><center> Group Member 3: Wong Jia Hwee, Student ID </center></h2>"
   ]
  },
  {
   "cell_type": "code",
   "execution_count": 1,
   "metadata": {},
   "outputs": [],
   "source": [
    "%matplotlib inline\n",
    "from jax.config import config\n",
    "config.update(\"jax_enable_x64\", True) \n",
    "\n",
    "import jax; import jax.numpy as np\n",
    "\n",
    "import pylab as plt\n",
    "import imageio; import os\n",
    "import numpy as onp\n",
    "from skimage.transform import rescale, resize, downscale_local_mean\n",
    "from sklearn import metrics\n",
    "import pandas as pd; import time; import scipy"
   ]
  },
  {
   "cell_type": "markdown",
   "metadata": {},
   "source": [
    "# 1. Data Pre-Processing"
   ]
  },
  {
   "cell_type": "code",
   "execution_count": 2,
   "metadata": {},
   "outputs": [],
   "source": [
    "#load attributes csv file\n",
    "attribute = pd.read_csv(\"celeba.csv\")\n",
    "\n",
    "#\"attribute\" is a dictionary containing several attributes for each image\n",
    "#attribute.keys()"
   ]
  },
  {
   "cell_type": "code",
   "execution_count": 3,
   "metadata": {},
   "outputs": [],
   "source": [
    "#let us list all the files in the image directory\n",
    "path = \"img_celeba_small\"\n",
    "all_img = [f for f in os.listdir(path) \n",
    "                 if os.path.isfile(os.path.join(path, f)) \n",
    "                 and f.endswith(\".jpg\")]\n",
    "nb_img = len(all_img)\n",
    "\n",
    "#let us keep only the relevant rows in attributes\n",
    "attribute = attribute[:20000]"
   ]
  },
  {
   "cell_type": "markdown",
   "metadata": {},
   "source": [
    "## 1.1 Creating training and validation datasets"
   ]
  },
  {
   "cell_type": "markdown",
   "metadata": {},
   "source": [
    "We take the 15,000 training dataset and split it into a smaller training and validation dataset to improve the training outcome."
   ]
  },
  {
   "cell_type": "code",
   "execution_count": 4,
   "metadata": {
    "scrolled": true
   },
   "outputs": [],
   "source": [
    "# select first 15000 rows for training dataset\n",
    "train = attribute[:15000]\n",
    "train = train['Young']\n",
    "\n",
    "# select last 5000 rows for test dataset\n",
    "test = attribute[15000:20000]\n",
    "test = test['Young']"
   ]
  },
  {
   "cell_type": "code",
   "execution_count": 11,
   "metadata": {},
   "outputs": [
    {
     "data": {
      "text/plain": [
       "0.28545719427543065"
      ]
     },
     "execution_count": 11,
     "metadata": {},
     "output_type": "execute_result"
    }
   ],
   "source": [
    "is_Young = train==1\n",
    "is_Old = train==-1\n",
    "\n",
    "# subset training set by young/old\n",
    "train_y = train[is_Young] \n",
    "train_o = train[is_Old]\n",
    "\n",
    "# number of old people in training data\n",
    "n_old = len(train_o)\n",
    "\n",
    "# proportion of old people in whole dataset\n",
    "len(train_o)/len(train_y)"
   ]
  },
  {
   "cell_type": "markdown",
   "metadata": {},
   "source": [
    "Of the 15,000 images in the training data, 3331 (28.5%) are old. We create: \n",
    "1. a training set (50% old & 50% young) that is balanced containing 80% of all old data\n",
    "2. a validation set (28.5% old & 71.5% young) containing 20% of all old data\n",
    "\n",
    "Our training set should be balanced so that our classifier has sufficient data on young and old faces, while our validation set should imitate the age proportion in reality."
   ]
  },
  {
   "cell_type": "code",
   "execution_count": 18,
   "metadata": {},
   "outputs": [],
   "source": [
    "# sample 3331 observations from all young data in training set\n",
    "onp.random.seed(0)\n",
    "y_pindex = onp.random.choice(len(train_y), 5001, replace=False)\n",
    "o_pindex = onp.asarray(list(range(n_old)))"
   ]
  },
  {
   "cell_type": "code",
   "execution_count": 19,
   "metadata": {},
   "outputs": [],
   "source": [
    "train_n = 2665 # 80% of number of old samples\n",
    "\n",
    "# select prelim training & validation data\n",
    "ptrain_y = train_y.iloc[y_pindex[:train_n]]\n",
    "pval_y = train_y.iloc[y_pindex[train_n:]]\n",
    "\n",
    "ptrain_o = train_o.iloc[o_pindex[:train_n]]\n",
    "pval_o = train_o.iloc[o_pindex[train_n:]]\n",
    "\n",
    "# collate prelim training data (5330 obs, 50% each class)\n",
    "ptrain = ptrain_y.append(ptrain_o)\n",
    "ptrain = ptrain.sample(frac=1) # shuffle training set\n",
    "\n",
    "# collate prelim test data (1332 obs, 50% each class)\n",
    "pval = pval_y.append(pval_o)\n",
    "pval = pval.sample(frac=1) # shuffle validation set"
   ]
  },
  {
   "cell_type": "markdown",
   "metadata": {},
   "source": [
    "`ptrain` is a 1 x 5330 array with the indicator values $\\{-1, 1\\}$ for 2665 old and 2665 young. \n",
    "\n",
    "`pval` is a 1 x 3002 array with the indicator values $\\{-1, 1\\}$ for 666 old and 2336 young. "
   ]
  },
  {
   "cell_type": "markdown",
   "metadata": {},
   "source": [
    "## 1.2 Image Pre-Processing"
   ]
  },
  {
   "cell_type": "markdown",
   "metadata": {},
   "source": [
    "The images were initially loaded in grayscale with their original size of 218 by 178 pixels. The pixel intensity was then rescaled to [0,1]. To remove parts of the image irrelevant to a person's age (outside of the face), the images were cropped to only include the range [50:185, 40:135]. The resulting images used for analysis are 135 by 95 pixels."
   ]
  },
  {
   "cell_type": "code",
   "execution_count": 31,
   "metadata": {},
   "outputs": [],
   "source": [
    "h = 218 # original image height\n",
    "w = 178 # original image weight\n",
    "h_n = 185-50 # height after cropping\n",
    "w_n = 135-40 # width after cropping"
   ]
  },
  {
   "cell_type": "code",
   "execution_count": 32,
   "metadata": {},
   "outputs": [],
   "source": [
    "# load the images from the prelim training set\n",
    "ntrain_img = len(ptrain)\n",
    "ptrain_ind = ptrain.index.values\n",
    "ptrain_img = onp.zeros((ntrain_img,h_n,w_n))\n",
    "\n",
    "for k in range(ntrain_img):\n",
    "    im = imageio.imread(os.path.join(path, all_img[ptrain_ind[k]])).astype(float)\n",
    "    im = resize(im, (h,w))\n",
    "    im = onp.mean(im, axis=2) # grayscale\n",
    "    im = im/255. # rescale\n",
    "    im = im[50:185,40:135] # crop to face\n",
    "    ptrain_img[k,:,:] = im"
   ]
  },
  {
   "cell_type": "code",
   "execution_count": 33,
   "metadata": {},
   "outputs": [],
   "source": [
    "# load the images from the prelim validation set\n",
    "nval_img = len(pval)\n",
    "pval_ind = pval.index.values\n",
    "pval_img = onp.zeros((nval_img,h_n,w_n))\n",
    "\n",
    "for k in range(nval_img):\n",
    "    im = imageio.imread(os.path.join(path, all_img[pval_ind[k]])).astype(float)\n",
    "    im = resize(im, (h,w))\n",
    "    im = onp.mean(im, axis=2) # grayscale\n",
    "    im = im/255. # rescale\n",
    "    im = im[50:185,40:135] # crop to face\n",
    "    pval_img[k,:,:] = im"
   ]
  },
  {
   "cell_type": "code",
   "execution_count": 34,
   "metadata": {},
   "outputs": [],
   "source": [
    "# load the images from the test set\n",
    "ntest_img = 5000\n",
    "ptest_img = onp.zeros((ntest_img,h_n,w_n))\n",
    "\n",
    "for k in range(ntest_img):\n",
    "    im = imageio.imread(os.path.join(path, all_img[k+15000])).astype(float)\n",
    "    im = resize(im, (h,w))\n",
    "    im = onp.mean(im, axis=2) # grayscale\n",
    "    im = im/255. # rescale\n",
    "    im = im[50:185,40:135] # crop to face\n",
    "    ptest_img[k,:,:] = im"
   ]
  },
  {
   "cell_type": "code",
   "execution_count": null,
   "metadata": {},
   "outputs": [],
   "source": [
    "# test if the subsetting was successful\n",
    "plt.figure(figsize=(10,2))\n",
    "for k in range(20):\n",
    "    im = ptrain_img[k]\n",
    "    plt.subplot(2,10,k+1)\n",
    "    plt.imshow(im/255., cmap='gray')\n",
    "    plt.axis(\"off\")\n",
    "    \n",
    "    is_Young = ptrain.iloc[k]\n",
    "    if is_Young == 1:\n",
    "        plt.title(\"Young\")\n",
    "    else:\n",
    "        plt.title(\"Old\")"
   ]
  },
  {
   "cell_type": "code",
   "execution_count": null,
   "metadata": {},
   "outputs": [],
   "source": [
    "# test if the subsetting was successful\n",
    "plt.figure(figsize=(10,2))\n",
    "for k in range(20):\n",
    "    im = pval_img[k]\n",
    "    plt.subplot(2,10,k+1)\n",
    "    plt.imshow(im/255., cmap='gray')\n",
    "    plt.axis(\"off\")\n",
    "    \n",
    "    is_Young = pval.iloc[k]\n",
    "    if is_Young == 1:\n",
    "        plt.title(\"Young\")\n",
    "    else:\n",
    "        plt.title(\"Old\")"
   ]
  },
  {
   "cell_type": "code",
   "execution_count": null,
   "metadata": {},
   "outputs": [],
   "source": [
    "# test if the subsetting was successful\n",
    "plt.figure(figsize=(10,2))\n",
    "for k in range(20):\n",
    "    im = ptest_img[k]\n",
    "    plt.subplot(2,10,k+1)\n",
    "    plt.imshow(im/255., cmap='gray')\n",
    "    plt.axis(\"off\")\n",
    "    \n",
    "    is_Young = test.iloc[k]\n",
    "    if is_Young == 1:\n",
    "        plt.title(\"Young\")\n",
    "    else:\n",
    "        plt.title(\"Old\")"
   ]
  },
  {
   "cell_type": "markdown",
   "metadata": {},
   "source": [
    "`ptrain` is a 1 x 5330 array with the indicator values $\\{-1, 1\\}$ for old and young. `ptrain_img` is a 5330 x 135 x 95 array that contains the relevant images for the preliminary training data. \n",
    "\n",
    "`pval` is a 1 x 2336 array with the indicator values $\\{-1, 1\\}$ for old and young. `pval_img`is a 1332 x 135 x 95 array that contains the relevant images for the preliminary validation data. \n",
    "\n",
    "`test` is a 1 x 5000 array with with the indicator values $\\{-1, 1\\}$ for old and young. `ptest_img`is a 5000 x 135 x 95 array that contains the relevant images for the test data. "
   ]
  },
  {
   "cell_type": "code",
   "execution_count": 47,
   "metadata": {},
   "outputs": [],
   "source": [
    "data_train = ptrain_img.reshape(5330, h_n*w_n)\n",
    "y_train = ptrain.to_numpy(copy=True)\n",
    "\n",
    "data_val = pval_img.reshape(3002, h_n*w_n)\n",
    "y_val = pval.to_numpy(copy=True)\n",
    "\n",
    "data_test = ptest_img.reshape(5000, h_n*w_n)\n",
    "y_test = test.to_numpy(copy=True)"
   ]
  },
  {
   "cell_type": "markdown",
   "metadata": {},
   "source": [
    "# 2. Optimisation"
   ]
  },
  {
   "cell_type": "markdown",
   "metadata": {},
   "source": [
    "We optimise our logistic regression  model with a regularisation penalty.\n",
    "\n",
    "* Logistic regression loss function with penalty:\n",
    "$$ \\frac{1}{N} \\, \\sum_{i=1}^N \\log(1 + \\exp(-y_i \\, \\langle \\beta, x_i \\rangle)) + \\frac{\\lambda}{N} \\| \\beta \\|^2$$\n",
    "\n",
    "* Logistic probability:\n",
    "$$P(y=1 | x) = \\frac{1}{1 + \\exp(- \\langle \\beta, x \\rangle)}$$"
   ]
  },
  {
   "cell_type": "markdown",
   "metadata": {},
   "source": [
    "We define the loss, prediction, accuracy functions and vectorise them accordingly."
   ]
  },
  {
   "cell_type": "code",
   "execution_count": 48,
   "metadata": {},
   "outputs": [],
   "source": [
    "def prediction_single(beta, x):\n",
    "    \"\"\" beta is a vector of dimension 10000, and x as well \"\"\"\n",
    "    proba = 1. / (1. + np.exp(-np.dot(beta, x)))\n",
    "    return proba\n",
    "\n",
    "#make a prediction on a whole dataset\n",
    "prediction_data = jax.vmap(prediction_single, in_axes=(None,0))\n",
    "\n",
    "def loss_single(beta,x,y):\n",
    "    \"\"\"\n",
    "    beta: vector of dimension 100*100\n",
    "    x: vector of dimension 100*100\n",
    "    y: a number that equals -1 or 1\n",
    "    \"\"\"\n",
    "    return np.log(1. + np.exp(-y * np.dot(beta, x)))\n",
    "\n",
    "#compute the loss on. whole dataset\n",
    "loss_dataset = jax.vmap(loss_single, in_axes=(None,0,0))\n",
    "\n",
    "def loss(beta, data, y):\n",
    "    \"\"\" compute the mean of all the individual losses \"\"\"\n",
    "    list_of_all_losses = loss_dataset(beta, data, y)\n",
    "    return np.mean(list_of_all_losses) + np.mean((beta)**2)\n",
    "\n",
    "grad_loss = jax.jit(jax.grad(loss))\n",
    "\n",
    "def accuracy(beta, data, y, threshold):\n",
    "    pred = prediction_data(beta, data)\n",
    "    prediction_binary = (pred > threshold).astype(int)  #equals 1 if pred > threshold and 0 otherwise\n",
    "    prediction_sign = 2*(prediction_binary - 0.5) #equals 1 if pred > threshold and -1 otherwise\n",
    "    return np.mean(prediction_sign == y)"
   ]
  },
  {
   "cell_type": "markdown",
   "metadata": {},
   "source": [
    "For each optimisation method, we need to plot the ROC curve and report the AUC."
   ]
  },
  {
   "cell_type": "code",
   "execution_count": 49,
   "metadata": {},
   "outputs": [],
   "source": [
    "# function to plot ROC curve\n",
    "def plot_ROC(model, method, data, y):\n",
    "    y_pred_proba = prediction_data(model,data)\n",
    "    fpr, tpr, _ = metrics.roc_curve(y,  y_pred_proba)\n",
    "    auc = metrics.roc_auc_score(y, y_pred_proba)\n",
    "    plt.gca().set_aspect('equal', adjustable='box')\n",
    "    plt.plot(fpr,tpr,label=method+\", AUC=\"+\"{0:.3f}\".format(auc))\n",
    "    plt.legend(loc=4)\n",
    "    plt.show()"
   ]
  },
  {
   "cell_type": "markdown",
   "metadata": {},
   "source": [
    "Initialise $\\beta \\sim N(0, \\frac{1}{\\sqrt{D}})$ where $D=135*95$"
   ]
  },
  {
   "cell_type": "code",
   "execution_count": 80,
   "metadata": {},
   "outputs": [],
   "source": [
    "D = h_n*w_n\n",
    "onp.random.seed(0)\n",
    "beta_init = onp.random.normal(0., scale = 1./onp.sqrt(D), size=D)"
   ]
  },
  {
   "cell_type": "markdown",
   "metadata": {},
   "source": [
    "## 2.1 Baseline Classifier"
   ]
  },
  {
   "cell_type": "markdown",
   "metadata": {},
   "source": [
    "Our model should beat a baseline classifier that classifies every person as young. Since the dataset is imbalanced, such a classifier is expected to have a test classification accuracy rate of 78.58%."
   ]
  },
  {
   "cell_type": "code",
   "execution_count": 53,
   "metadata": {
    "scrolled": true
   },
   "outputs": [
    {
     "name": "stdout",
     "output_type": "stream",
     "text": [
      "Accuracy: 0.7858\n"
     ]
    },
    {
     "data": {
      "image/png": "[encoded data removed]",
      "text/plain": [
       "<Figure size 432x288 with 1 Axes>"
      ]
     },
     "metadata": {
      "needs_background": "light"
     },
     "output_type": "display_data"
    }
   ],
   "source": [
    "c = onp.ones(5000)\n",
    "print(\"Accuracy:\", sum(c==y_test)/5000)\n",
    "    \n",
    "plot_ROC(onp.ones(D), \"Naive\",data_val, y_val)"
   ]
  },
  {
   "cell_type": "markdown",
   "metadata": {},
   "source": [
    "## 2.2 Naive Gradient Descent"
   ]
  },
  {
   "cell_type": "code",
   "execution_count": 157,
   "metadata": {
    "scrolled": true
   },
   "outputs": [
    {
     "name": "stdout",
     "output_type": "stream",
     "text": [
      "Iteration:0 \t time:0 \t Loss(train):0.702 \t Loss(val):0.701\n",
      "Iteration:1 \t time:8 \t Loss(train):0.693 \t Loss(val):0.690\n",
      "Iteration:2 \t time:13 \t Loss(train):0.691 \t Loss(val):0.688\n",
      "Iteration:3 \t time:16 \t Loss(train):0.690 \t Loss(val):0.687\n",
      "Iteration:4 \t time:21 \t Loss(train):0.689 \t Loss(val):0.687\n",
      "Iteration:5 \t time:26 \t Loss(train):0.689 \t Loss(val):0.686\n",
      "Iteration:6 \t time:31 \t Loss(train):0.688 \t Loss(val):0.685\n",
      "Iteration:7 \t time:36 \t Loss(train):0.687 \t Loss(val):0.685\n",
      "Iteration:8 \t time:41 \t Loss(train):0.686 \t Loss(val):0.684\n",
      "Iteration:9 \t time:46 \t Loss(train):0.686 \t Loss(val):0.683\n",
      "Iteration:10 \t time:51 \t Loss(train):0.685 \t Loss(val):0.683\n",
      "Iteration:11 \t time:55 \t Loss(train):0.684 \t Loss(val):0.682\n",
      "Iteration:12 \t time:58 \t Loss(train):0.684 \t Loss(val):0.682\n",
      "Iteration:13 \t time:63 \t Loss(train):0.683 \t Loss(val):0.681\n",
      "Iteration:14 \t time:68 \t Loss(train):0.683 \t Loss(val):0.680\n",
      "Iteration:15 \t time:73 \t Loss(train):0.682 \t Loss(val):0.680\n",
      "Iteration:16 \t time:78 \t Loss(train):0.681 \t Loss(val):0.679\n",
      "Iteration:17 \t time:83 \t Loss(train):0.681 \t Loss(val):0.679\n",
      "Iteration:18 \t time:88 \t Loss(train):0.680 \t Loss(val):0.678\n",
      "Iteration:19 \t time:94 \t Loss(train):0.680 \t Loss(val):0.678\n",
      "Iteration:20 \t time:98 \t Loss(train):0.679 \t Loss(val):0.677\n",
      "Iteration:21 \t time:102 \t Loss(train):0.679 \t Loss(val):0.677\n",
      "Iteration:22 \t time:106 \t Loss(train):0.678 \t Loss(val):0.677\n",
      "Iteration:23 \t time:110 \t Loss(train):0.678 \t Loss(val):0.676\n",
      "Iteration:24 \t time:115 \t Loss(train):0.677 \t Loss(val):0.676\n",
      "Iteration:25 \t time:119 \t Loss(train):0.677 \t Loss(val):0.675\n",
      "Iteration:26 \t time:123 \t Loss(train):0.676 \t Loss(val):0.675\n",
      "Iteration:27 \t time:127 \t Loss(train):0.676 \t Loss(val):0.674\n",
      "Iteration:28 \t time:131 \t Loss(train):0.675 \t Loss(val):0.674\n",
      "Iteration:29 \t time:136 \t Loss(train):0.675 \t Loss(val):0.674\n",
      "Iteration:30 \t time:140 \t Loss(train):0.674 \t Loss(val):0.673\n",
      "Iteration:31 \t time:144 \t Loss(train):0.674 \t Loss(val):0.673\n",
      "Iteration:32 \t time:149 \t Loss(train):0.673 \t Loss(val):0.672\n",
      "Iteration:33 \t time:153 \t Loss(train):0.673 \t Loss(val):0.672\n",
      "Iteration:34 \t time:158 \t Loss(train):0.673 \t Loss(val):0.672\n",
      "Iteration:35 \t time:162 \t Loss(train):0.672 \t Loss(val):0.671\n",
      "Iteration:36 \t time:165 \t Loss(train):0.672 \t Loss(val):0.671\n",
      "Iteration:37 \t time:169 \t Loss(train):0.671 \t Loss(val):0.671\n",
      "Iteration:38 \t time:173 \t Loss(train):0.671 \t Loss(val):0.670\n",
      "Iteration:39 \t time:176 \t Loss(train):0.671 \t Loss(val):0.670\n",
      "Iteration:40 \t time:180 \t Loss(train):0.670 \t Loss(val):0.670\n",
      "Iteration:41 \t time:184 \t Loss(train):0.670 \t Loss(val):0.670\n",
      "Iteration:42 \t time:187 \t Loss(train):0.670 \t Loss(val):0.669\n",
      "Iteration:43 \t time:191 \t Loss(train):0.669 \t Loss(val):0.669\n",
      "Iteration:44 \t time:194 \t Loss(train):0.669 \t Loss(val):0.669\n",
      "Iteration:45 \t time:198 \t Loss(train):0.668 \t Loss(val):0.668\n",
      "Iteration:46 \t time:202 \t Loss(train):0.668 \t Loss(val):0.668\n",
      "Iteration:47 \t time:207 \t Loss(train):0.668 \t Loss(val):0.668\n",
      "Iteration:48 \t time:212 \t Loss(train):0.668 \t Loss(val):0.668\n",
      "Iteration:49 \t time:218 \t Loss(train):0.667 \t Loss(val):0.667\n",
      "Iteration:50 \t time:224 \t Loss(train):0.667 \t Loss(val):0.667\n",
      "Iteration:51 \t time:228 \t Loss(train):0.667 \t Loss(val):0.667\n",
      "Iteration:52 \t time:232 \t Loss(train):0.666 \t Loss(val):0.666\n",
      "Iteration:53 \t time:237 \t Loss(train):0.666 \t Loss(val):0.666\n",
      "Iteration:54 \t time:242 \t Loss(train):0.666 \t Loss(val):0.666\n",
      "Iteration:55 \t time:247 \t Loss(train):0.665 \t Loss(val):0.666\n",
      "Iteration:56 \t time:252 \t Loss(train):0.665 \t Loss(val):0.666\n",
      "Iteration:57 \t time:256 \t Loss(train):0.665 \t Loss(val):0.665\n",
      "Iteration:58 \t time:261 \t Loss(train):0.664 \t Loss(val):0.665\n",
      "Iteration:59 \t time:266 \t Loss(train):0.664 \t Loss(val):0.665\n",
      "Iteration:60 \t time:270 \t Loss(train):0.664 \t Loss(val):0.665\n",
      "Iteration:61 \t time:275 \t Loss(train):0.664 \t Loss(val):0.664\n",
      "Iteration:62 \t time:279 \t Loss(train):0.663 \t Loss(val):0.664\n",
      "Iteration:63 \t time:284 \t Loss(train):0.663 \t Loss(val):0.664\n",
      "Iteration:64 \t time:289 \t Loss(train):0.663 \t Loss(val):0.664\n",
      "Iteration:65 \t time:294 \t Loss(train):0.663 \t Loss(val):0.664\n",
      "Iteration:66 \t time:300 \t Loss(train):0.662 \t Loss(val):0.663\n",
      "Iteration:67 \t time:304 \t Loss(train):0.662 \t Loss(val):0.663\n",
      "Iteration:68 \t time:308 \t Loss(train):0.662 \t Loss(val):0.663\n",
      "Iteration:69 \t time:312 \t Loss(train):0.662 \t Loss(val):0.663\n",
      "Iteration:70 \t time:316 \t Loss(train):0.661 \t Loss(val):0.662\n",
      "Iteration:71 \t time:320 \t Loss(train):0.661 \t Loss(val):0.662\n",
      "Iteration:72 \t time:324 \t Loss(train):0.661 \t Loss(val):0.662\n",
      "Iteration:73 \t time:328 \t Loss(train):0.661 \t Loss(val):0.662\n",
      "Iteration:74 \t time:332 \t Loss(train):0.660 \t Loss(val):0.662\n",
      "Iteration:75 \t time:337 \t Loss(train):0.660 \t Loss(val):0.662\n",
      "Iteration:76 \t time:341 \t Loss(train):0.660 \t Loss(val):0.661\n",
      "Iteration:77 \t time:346 \t Loss(train):0.660 \t Loss(val):0.661\n",
      "Iteration:78 \t time:350 \t Loss(train):0.659 \t Loss(val):0.661\n",
      "Iteration:79 \t time:355 \t Loss(train):0.659 \t Loss(val):0.661\n",
      "Iteration:80 \t time:361 \t Loss(train):0.659 \t Loss(val):0.661\n",
      "Iteration:81 \t time:365 \t Loss(train):0.659 \t Loss(val):0.660\n",
      "Iteration:82 \t time:370 \t Loss(train):0.659 \t Loss(val):0.660\n",
      "Iteration:83 \t time:376 \t Loss(train):0.658 \t Loss(val):0.660\n",
      "Iteration:84 \t time:381 \t Loss(train):0.658 \t Loss(val):0.660\n",
      "Iteration:85 \t time:386 \t Loss(train):0.658 \t Loss(val):0.660\n",
      "Iteration:86 \t time:391 \t Loss(train):0.658 \t Loss(val):0.660\n",
      "Iteration:87 \t time:397 \t Loss(train):0.657 \t Loss(val):0.659\n",
      "Iteration:88 \t time:401 \t Loss(train):0.657 \t Loss(val):0.659\n",
      "Iteration:89 \t time:405 \t Loss(train):0.657 \t Loss(val):0.659\n",
      "Iteration:90 \t time:410 \t Loss(train):0.657 \t Loss(val):0.659\n",
      "Iteration:91 \t time:416 \t Loss(train):0.657 \t Loss(val):0.659\n",
      "Iteration:92 \t time:421 \t Loss(train):0.656 \t Loss(val):0.659\n",
      "Iteration:93 \t time:426 \t Loss(train):0.656 \t Loss(val):0.658\n",
      "Iteration:94 \t time:431 \t Loss(train):0.656 \t Loss(val):0.658\n",
      "Iteration:95 \t time:435 \t Loss(train):0.656 \t Loss(val):0.658\n",
      "Iteration:96 \t time:440 \t Loss(train):0.656 \t Loss(val):0.658\n",
      "Iteration:97 \t time:445 \t Loss(train):0.655 \t Loss(val):0.658\n",
      "Iteration:98 \t time:450 \t Loss(train):0.655 \t Loss(val):0.658\n",
      "Iteration:99 \t time:455 \t Loss(train):0.655 \t Loss(val):0.658\n",
      "Iteration:100 \t time:459 \t Loss(train):0.655 \t Loss(val):0.657\n",
      "Iteration:101 \t time:463 \t Loss(train):0.655 \t Loss(val):0.657\n",
      "Iteration:102 \t time:467 \t Loss(train):0.655 \t Loss(val):0.657\n",
      "Iteration:103 \t time:472 \t Loss(train):0.654 \t Loss(val):0.657\n",
      "Iteration:104 \t time:478 \t Loss(train):0.654 \t Loss(val):0.657\n",
      "Iteration:105 \t time:483 \t Loss(train):0.654 \t Loss(val):0.657\n",
      "Iteration:106 \t time:488 \t Loss(train):0.654 \t Loss(val):0.657\n",
      "Iteration:107 \t time:492 \t Loss(train):0.654 \t Loss(val):0.656\n",
      "Iteration:108 \t time:496 \t Loss(train):0.653 \t Loss(val):0.656\n",
      "Iteration:109 \t time:500 \t Loss(train):0.653 \t Loss(val):0.656\n",
      "Iteration:110 \t time:505 \t Loss(train):0.653 \t Loss(val):0.656\n",
      "Iteration:111 \t time:510 \t Loss(train):0.653 \t Loss(val):0.656\n",
      "Iteration:112 \t time:515 \t Loss(train):0.653 \t Loss(val):0.656\n",
      "Iteration:113 \t time:519 \t Loss(train):0.653 \t Loss(val):0.656\n",
      "Iteration:114 \t time:524 \t Loss(train):0.652 \t Loss(val):0.655\n",
      "Iteration:115 \t time:528 \t Loss(train):0.652 \t Loss(val):0.655\n",
      "Iteration:116 \t time:532 \t Loss(train):0.652 \t Loss(val):0.655\n",
      "Iteration:117 \t time:536 \t Loss(train):0.652 \t Loss(val):0.655\n",
      "Iteration:118 \t time:541 \t Loss(train):0.652 \t Loss(val):0.655\n",
      "Iteration:119 \t time:545 \t Loss(train):0.652 \t Loss(val):0.655\n",
      "Iteration:120 \t time:549 \t Loss(train):0.651 \t Loss(val):0.655\n",
      "Iteration:121 \t time:553 \t Loss(train):0.651 \t Loss(val):0.655\n",
      "Iteration:122 \t time:557 \t Loss(train):0.651 \t Loss(val):0.654\n",
      "Iteration:123 \t time:561 \t Loss(train):0.651 \t Loss(val):0.654\n",
      "Iteration:124 \t time:565 \t Loss(train):0.651 \t Loss(val):0.654\n",
      "Iteration:125 \t time:569 \t Loss(train):0.651 \t Loss(val):0.654\n",
      "Iteration:126 \t time:573 \t Loss(train):0.650 \t Loss(val):0.654\n",
      "Iteration:127 \t time:577 \t Loss(train):0.650 \t Loss(val):0.654\n",
      "Iteration:128 \t time:581 \t Loss(train):0.650 \t Loss(val):0.654\n",
      "Iteration:129 \t time:585 \t Loss(train):0.650 \t Loss(val):0.654\n",
      "Iteration:130 \t time:590 \t Loss(train):0.650 \t Loss(val):0.653\n",
      "Iteration:131 \t time:596 \t Loss(train):0.650 \t Loss(val):0.653\n",
      "Iteration:132 \t time:601 \t Loss(train):0.649 \t Loss(val):0.653\n"
     ]
    },
    {
     "name": "stdout",
     "output_type": "stream",
     "text": [
      "Iteration:133 \t time:606 \t Loss(train):0.649 \t Loss(val):0.653\n",
      "Iteration:134 \t time:611 \t Loss(train):0.649 \t Loss(val):0.653\n",
      "Iteration:135 \t time:616 \t Loss(train):0.649 \t Loss(val):0.653\n",
      "Iteration:136 \t time:621 \t Loss(train):0.649 \t Loss(val):0.653\n",
      "Iteration:137 \t time:626 \t Loss(train):0.649 \t Loss(val):0.653\n",
      "Iteration:138 \t time:631 \t Loss(train):0.649 \t Loss(val):0.653\n",
      "Iteration:139 \t time:636 \t Loss(train):0.648 \t Loss(val):0.652\n",
      "Iteration:140 \t time:641 \t Loss(train):0.648 \t Loss(val):0.652\n",
      "Iteration:141 \t time:646 \t Loss(train):0.648 \t Loss(val):0.652\n",
      "Iteration:142 \t time:651 \t Loss(train):0.648 \t Loss(val):0.652\n",
      "Iteration:143 \t time:655 \t Loss(train):0.648 \t Loss(val):0.652\n",
      "Iteration:144 \t time:660 \t Loss(train):0.648 \t Loss(val):0.652\n",
      "Iteration:145 \t time:665 \t Loss(train):0.647 \t Loss(val):0.652\n",
      "Iteration:146 \t time:670 \t Loss(train):0.647 \t Loss(val):0.652\n",
      "Iteration:147 \t time:675 \t Loss(train):0.647 \t Loss(val):0.651\n",
      "Iteration:148 \t time:679 \t Loss(train):0.647 \t Loss(val):0.651\n",
      "Iteration:149 \t time:684 \t Loss(train):0.647 \t Loss(val):0.651\n",
      "Iteration:150 \t time:689 \t Loss(train):0.647 \t Loss(val):0.651\n",
      "Iteration:151 \t time:694 \t Loss(train):0.647 \t Loss(val):0.651\n",
      "Iteration:152 \t time:699 \t Loss(train):0.646 \t Loss(val):0.651\n",
      "Iteration:153 \t time:704 \t Loss(train):0.646 \t Loss(val):0.651\n",
      "Iteration:154 \t time:709 \t Loss(train):0.646 \t Loss(val):0.651\n"
     ]
    },
    {
     "ename": "KeyboardInterrupt",
     "evalue": "",
     "output_type": "error",
     "traceback": [
      "\u001b[0;31m---------------------------------------------------------------------------\u001b[0m",
      "\u001b[0;31mKeyboardInterrupt\u001b[0m                         Traceback (most recent call last)",
      "\u001b[0;32m<ipython-input-157-35e81950ba1d>\u001b[0m in \u001b[0;36m<module>\u001b[0;34m\u001b[0m\n\u001b[1;32m     18\u001b[0m \u001b[0;34m\u001b[0m\u001b[0m\n\u001b[1;32m     19\u001b[0m     \u001b[0;32mif\u001b[0m \u001b[0mloss_val_hist\u001b[0m\u001b[0;34m:\u001b[0m\u001b[0;34m\u001b[0m\u001b[0;34m\u001b[0m\u001b[0m\n\u001b[0;32m---> 20\u001b[0;31m         \u001b[0;32mif\u001b[0m \u001b[0mloss_val\u001b[0m \u001b[0;34m<=\u001b[0m \u001b[0mloss_val_hist\u001b[0m\u001b[0;34m[\u001b[0m\u001b[0;34m-\u001b[0m\u001b[0;36m1\u001b[0m\u001b[0;34m]\u001b[0m\u001b[0;34m:\u001b[0m\u001b[0;34m\u001b[0m\u001b[0;34m\u001b[0m\u001b[0m\n\u001b[0m\u001b[1;32m     21\u001b[0m             \u001b[0mbest_beta_gd\u001b[0m \u001b[0;34m=\u001b[0m \u001b[0mbeta\u001b[0m\u001b[0;34m\u001b[0m\u001b[0;34m\u001b[0m\u001b[0m\n\u001b[1;32m     22\u001b[0m \u001b[0;34m\u001b[0m\u001b[0m\n",
      "\u001b[0;32m~/anaconda3/lib/python3.7/site-packages/jax/interpreters/xla.py\u001b[0m in \u001b[0;36m_forward_method\u001b[0;34m(attrname, self, fun, *args)\u001b[0m\n\u001b[1;32m    711\u001b[0m \u001b[0;34m\u001b[0m\u001b[0m\n\u001b[1;32m    712\u001b[0m \u001b[0;32mdef\u001b[0m \u001b[0m_forward_method\u001b[0m\u001b[0;34m(\u001b[0m\u001b[0mattrname\u001b[0m\u001b[0;34m,\u001b[0m \u001b[0mself\u001b[0m\u001b[0;34m,\u001b[0m \u001b[0mfun\u001b[0m\u001b[0;34m,\u001b[0m \u001b[0;34m*\u001b[0m\u001b[0margs\u001b[0m\u001b[0;34m)\u001b[0m\u001b[0;34m:\u001b[0m\u001b[0;34m\u001b[0m\u001b[0;34m\u001b[0m\u001b[0m\n\u001b[0;32m--> 713\u001b[0;31m   \u001b[0;32mreturn\u001b[0m \u001b[0mfun\u001b[0m\u001b[0;34m(\u001b[0m\u001b[0mgetattr\u001b[0m\u001b[0;34m(\u001b[0m\u001b[0mself\u001b[0m\u001b[0;34m,\u001b[0m \u001b[0mattrname\u001b[0m\u001b[0;34m)\u001b[0m\u001b[0;34m,\u001b[0m \u001b[0;34m*\u001b[0m\u001b[0margs\u001b[0m\u001b[0;34m)\u001b[0m\u001b[0;34m\u001b[0m\u001b[0;34m\u001b[0m\u001b[0m\n\u001b[0m\u001b[1;32m    714\u001b[0m \u001b[0m_forward_to_value\u001b[0m \u001b[0;34m=\u001b[0m \u001b[0mpartial\u001b[0m\u001b[0;34m(\u001b[0m\u001b[0m_forward_method\u001b[0m\u001b[0;34m,\u001b[0m \u001b[0;34m\"_value\"\u001b[0m\u001b[0;34m)\u001b[0m\u001b[0;34m\u001b[0m\u001b[0;34m\u001b[0m\u001b[0m\n\u001b[1;32m    715\u001b[0m \u001b[0;34m\u001b[0m\u001b[0m\n",
      "\u001b[0;32m~/anaconda3/lib/python3.7/site-packages/jax/interpreters/xla.py\u001b[0m in \u001b[0;36m_value\u001b[0;34m(self)\u001b[0m\n\u001b[1;32m    740\u001b[0m         \u001b[0mself\u001b[0m\u001b[0;34m.\u001b[0m\u001b[0m_npy_value\u001b[0m \u001b[0;34m=\u001b[0m \u001b[0mlazy\u001b[0m\u001b[0;34m.\u001b[0m\u001b[0meval_lexpr\u001b[0m\u001b[0;34m(\u001b[0m\u001b[0mself\u001b[0m\u001b[0;34m.\u001b[0m\u001b[0m_lazy_expr\u001b[0m\u001b[0;34m,\u001b[0m \u001b[0;32mNone\u001b[0m\u001b[0;34m)\u001b[0m\u001b[0;34m\u001b[0m\u001b[0;34m\u001b[0m\u001b[0m\n\u001b[1;32m    741\u001b[0m       \u001b[0;32melse\u001b[0m\u001b[0;34m:\u001b[0m\u001b[0;34m\u001b[0m\u001b[0;34m\u001b[0m\u001b[0m\n\u001b[0;32m--> 742\u001b[0;31m         \u001b[0mself\u001b[0m\u001b[0;34m.\u001b[0m\u001b[0m_npy_value\u001b[0m \u001b[0;34m=\u001b[0m \u001b[0m_force\u001b[0m\u001b[0;34m(\u001b[0m\u001b[0mself\u001b[0m\u001b[0;34m)\u001b[0m\u001b[0;34m.\u001b[0m\u001b[0mdevice_buffer\u001b[0m\u001b[0;34m.\u001b[0m\u001b[0mto_py\u001b[0m\u001b[0;34m(\u001b[0m\u001b[0;34m)\u001b[0m\u001b[0;34m\u001b[0m\u001b[0;34m\u001b[0m\u001b[0m\n\u001b[0m\u001b[1;32m    743\u001b[0m       \u001b[0mself\u001b[0m\u001b[0;34m.\u001b[0m\u001b[0m_npy_value\u001b[0m\u001b[0;34m.\u001b[0m\u001b[0mflags\u001b[0m\u001b[0;34m.\u001b[0m\u001b[0mwriteable\u001b[0m \u001b[0;34m=\u001b[0m \u001b[0;32mFalse\u001b[0m\u001b[0;34m\u001b[0m\u001b[0;34m\u001b[0m\u001b[0m\n\u001b[1;32m    744\u001b[0m     \u001b[0;32mreturn\u001b[0m \u001b[0mself\u001b[0m\u001b[0;34m.\u001b[0m\u001b[0m_npy_value\u001b[0m\u001b[0;34m\u001b[0m\u001b[0;34m\u001b[0m\u001b[0m\n",
      "\u001b[0;31mKeyboardInterrupt\u001b[0m: "
     ]
    }
   ],
   "source": [
    "n_iter = 10000\n",
    "learning_rate = 0.001\n",
    "loss_train_hist=[]; loss_val_hist = []\n",
    "\n",
    "beta = onp.copy(beta_init)\n",
    "best_beta_gd = onp.copy(beta_init)\n",
    "#current_lowestloss_update = []\n",
    "\n",
    "#current_lowest_loss = loss(beta_min,data_val,y_val) #on the validation set for later comparison\n",
    "\n",
    "start = time.time()\n",
    "for k in range(n_iter):\n",
    "    gradient = grad_loss(beta,data_train,y_train)\n",
    "    beta = beta-learning_rate*gradient\n",
    "\n",
    "    loss_train = loss(beta,data_train,y_train)\n",
    "    loss_val = loss(beta,data_val,y_val)\n",
    "    \n",
    "    if loss_val_hist:\n",
    "        if loss_val <= loss_val_hist[-1]:\n",
    "            best_beta_gd = beta\n",
    "        \n",
    "    #acc_train_list.append(accuracy_train)\n",
    "    #acc_val_list.append(accuracy_val)\n",
    "    loss_train_hist.append(loss_train)\n",
    "    loss_val_hist.append(loss_val)\n",
    "    \n",
    "    timing = time.time() - start\n",
    "    print(\"Iteration:{0:.0f} \\t time:{1:.0f} \\t Loss(train):{2:.3f} \\t Loss(val):{3:.3f}\".format(k, \n",
    "                                                                                                 timing, \n",
    "                                                                                                loss_train, \n",
    "                                                                                                loss_val))"
   ]
  },
  {
   "cell_type": "code",
   "execution_count": 158,
   "metadata": {},
   "outputs": [
    {
     "data": {
      "text/plain": [
       "Text(0.5, 1.0, 'Naive Gradient Descent')"
      ]
     },
     "execution_count": 158,
     "metadata": {},
     "output_type": "execute_result"
    },
    {
     "data": {
      "image/png": "[encoded data removed]",
      "text/plain": [
       "<Figure size 432x288 with 1 Axes>"
      ]
     },
     "metadata": {
      "needs_background": "light"
     },
     "output_type": "display_data"
    }
   ],
   "source": [
    "plt.plot(loss_train_hist, label=\"loss(train)\")\n",
    "plt.plot(loss_val_hist, label=\"loss(val)\")\n",
    "plt.legend()\n",
    "plt.grid(True)\n",
    "plt.xlabel(\"Iteration\")\n",
    "plt.title(\"Naive Gradient Descent\")"
   ]
  },
  {
   "cell_type": "code",
   "execution_count": 161,
   "metadata": {},
   "outputs": [
    {
     "data": {
      "image/png": "[encoded data removed]",
      "text/plain": [
       "<Figure size 432x288 with 1 Axes>"
      ]
     },
     "metadata": {
      "needs_background": "light"
     },
     "output_type": "display_data"
    }
   ],
   "source": [
    "plot_ROC(best_beta_gd, \"Naive GD\", data_test)"
   ]
  },
  {
   "cell_type": "code",
   "execution_count": 188,
   "metadata": {
    "scrolled": true
   },
   "outputs": [
    {
     "name": "stdout",
     "output_type": "stream",
     "text": [
      "Threshold: 0.1 \t Accuracy: 0.500\n",
      "Threshold: 0.2 \t Accuracy: 0.502\n",
      "Threshold: 0.3 \t Accuracy: 0.520\n",
      "Threshold: 0.4 \t Accuracy: 0.581\n",
      "Threshold: 0.5 \t Accuracy: 0.628\n",
      "Threshold: 0.6 \t Accuracy: 0.572\n",
      "Threshold: 0.7 \t Accuracy: 0.517\n",
      "Threshold: 0.8 \t Accuracy: 0.500\n",
      "Threshold: 0.9 \t Accuracy: 0.500\n",
      "Threshold: 1.0 \t Accuracy: 0.500\n"
     ]
    }
   ],
   "source": [
    "for i in list(range(1,11)):\n",
    "    acc = accuracy(best_beta_gd, data_val, y_val, i/10)\n",
    "    print(\"Threshold: {0:.1f} \\t Accuracy: {1:.3f}\".format(i/10, acc))"
   ]
  },
  {
   "cell_type": "markdown",
   "metadata": {},
   "source": [
    "The Naive Gradient Descent algorithm achieved an AUC of _ and accuracy of _ at threshold _ . This beats the baseline model but takes extremely long to run, approximately _ ."
   ]
  },
  {
   "cell_type": "markdown",
   "metadata": {},
   "source": [
    "## 2.3 Stochastic Gradient Descent + Momentum"
   ]
  },
  {
   "cell_type": "markdown",
   "metadata": {},
   "source": [
    "To compensate for the time cost of Naive Gradient Descent, we attempt to optimise the loss function with stochastic gradient descent with the parameters specified below."
   ]
  },
  {
   "cell_type": "code",
   "execution_count": 54,
   "metadata": {
    "scrolled": true
   },
   "outputs": [
    {
     "name": "stdout",
     "output_type": "stream",
     "text": [
      "epoch:0 \t time:3 \t Loss(train):0.669 \t Loss(val):0.718\n",
      "epoch:20 \t time:67 \t Loss(train):0.601 \t Loss(val):0.615\n",
      "epoch:40 \t time:150 \t Loss(train):0.594 \t Loss(val):0.600\n",
      "epoch:60 \t time:231 \t Loss(train):0.592 \t Loss(val):0.592\n",
      "epoch:80 \t time:313 \t Loss(train):0.592 \t Loss(val):0.593\n",
      "epoch:99 \t time:376 \t Loss(train):0.592 \t Loss(val):0.594\n"
     ]
    }
   ],
   "source": [
    "n_epoch = 100\n",
    "batch_size = 100  # size of the mini-batch\n",
    "mov_avg_param = 0.8 # added to smooth the loss graph\n",
    "learning_rate = 0.001\n",
    "loss_train_hist = []; loss_val_hist = []\n",
    "\n",
    "#initialize the gradient\n",
    "beta = onp.copy(beta_init)\n",
    "gradient = grad_loss(beta, data_train, y_train)\n",
    "best_beta_sgdm = onp.zeros(D) # best model\n",
    "\n",
    "start = time.time()\n",
    "for epoch in range(n_epoch):\n",
    "    #let us divide the learning by 2 every 10 epoch\n",
    "    if epoch % 10 == 0 and epoch >= 1:\n",
    "        learning_rate = learning_rate/2.\n",
    "        \n",
    "    for k in range(ntrain_img // batch_size):  #number of batch per epoch\n",
    "        #select at random \"batch_size\" random data point\n",
    "        index_ = onp.random.choice(ntrain_img, batch_size, replace=False)\n",
    "\n",
    "        gradient_local = grad_loss(beta, data_train[index_], y_train[index_])\n",
    "\n",
    "        #moving average of the gradient\n",
    "        gradient = gradient*mov_avg_param + (1-mov_avg_param)*gradient_local\n",
    "\n",
    "        #gradient descent update\n",
    "        beta = beta - learning_rate * gradient\n",
    "    \n",
    "    loss_train = loss(beta, data_train, y_train)\n",
    "    loss_val = loss(beta, data_val, y_val)\n",
    "    \n",
    "    if len(loss_val_hist)>0:\n",
    "        if loss_val <= loss_val_hist[-1]:\n",
    "            best_beta_sgdm = beta # save the model with the lowest validation loss\n",
    "        \n",
    "    loss_train_hist.append(loss_train)\n",
    "    loss_val_hist.append(loss_val)\n",
    "    \n",
    "    timing = time.time() - start\n",
    "    if (epoch == 99) or not(epoch % 20):\n",
    "        print(\"epoch:{0:.0f} \\t time:{1:.0f} \\t Loss(train):{2:.3f} \\t Loss(val):{3:.3f}\".format(epoch, \n",
    "                                                                                                 timing, \n",
    "                                                                                                loss_train, \n",
    "                                                                                                loss_val))"
   ]
  },
  {
   "cell_type": "code",
   "execution_count": 56,
   "metadata": {},
   "outputs": [
    {
     "data": {
      "text/plain": [
       "Text(0.5, 1.0, 'Stochastic Gradient Descent')"
      ]
     },
     "execution_count": 56,
     "metadata": {},
     "output_type": "execute_result"
    },
    {
     "data": {
      "image/png": "[encoded data removed]",
      "text/plain": [
       "<Figure size 432x288 with 1 Axes>"
      ]
     },
     "metadata": {
      "needs_background": "light"
     },
     "output_type": "display_data"
    }
   ],
   "source": [
    "plt.plot(loss_train_hist, label=\"loss(train)\")\n",
    "plt.plot(loss_val_hist, label=\"loss(val)\")\n",
    "plt.legend()\n",
    "plt.grid(True)\n",
    "plt.xlabel(\"epoch\")\n",
    "plt.title(\"Stochastic Gradient Descent\")"
   ]
  },
  {
   "cell_type": "code",
   "execution_count": 57,
   "metadata": {},
   "outputs": [
    {
     "data": {
      "image/png": "[encoded data removed]",
      "text/plain": [
       "<Figure size 432x288 with 1 Axes>"
      ]
     },
     "metadata": {
      "needs_background": "light"
     },
     "output_type": "display_data"
    }
   ],
   "source": [
    "plot_ROC(best_beta_sgdm, \"Stochastic GD\", data_val, y_val)"
   ]
  },
  {
   "cell_type": "code",
   "execution_count": 58,
   "metadata": {
    "scrolled": true
   },
   "outputs": [
    {
     "name": "stdout",
     "output_type": "stream",
     "text": [
      "Threshold: 0.1 \t Accuracy: 0.778\n",
      "Threshold: 0.2 \t Accuracy: 0.782\n",
      "Threshold: 0.3 \t Accuracy: 0.796\n",
      "Threshold: 0.4 \t Accuracy: 0.781\n",
      "Threshold: 0.5 \t Accuracy: 0.695\n",
      "Threshold: 0.6 \t Accuracy: 0.548\n",
      "Threshold: 0.7 \t Accuracy: 0.371\n",
      "Threshold: 0.8 \t Accuracy: 0.259\n",
      "Threshold: 0.9 \t Accuracy: 0.224\n",
      "Threshold: 1.0 \t Accuracy: 0.222\n"
     ]
    }
   ],
   "source": [
    "for i in list(range(1,11)):\n",
    "    acc = accuracy(best_beta_sgdm, data_val, y_val, i/10)\n",
    "    print(\"Threshold: {0:.1f} \\t Accuracy: {1:.3f}\".format(i/10, acc))"
   ]
  },
  {
   "cell_type": "markdown",
   "metadata": {},
   "source": [
    "The accuracy of the Stochastic Gradient Descent method is greatest at ~0.809 when the threshold is ~0.3, and the method has an AUC of 0.761. This classifier has a higher accuracy than the naive model."
   ]
  },
  {
   "cell_type": "markdown",
   "metadata": {},
   "source": [
    "## 2.4 L-BFGS"
   ]
  },
  {
   "cell_type": "code",
   "execution_count": 59,
   "metadata": {},
   "outputs": [],
   "source": [
    "def loss_wrapper(beta):\n",
    "    \"\"\" only one argument \"\"\"\n",
    "    return loss(beta, data_train, y_train)\n",
    "\n",
    "grad_loss_wrapper = jax.jit(jax.grad(loss_wrapper))    \n",
    "\n",
    "def gradient_wrapper(beta):\n",
    "    \"\"\"output is a numpy array\"\"\"\n",
    "    return onp.array(grad_loss_wrapper(beta))"
   ]
  },
  {
   "cell_type": "code",
   "execution_count": 81,
   "metadata": {
    "scrolled": true
   },
   "outputs": [
    {
     "name": "stdout",
     "output_type": "stream",
     "text": [
      "Time:11.399 \t Loss(train):0.693 \t Loss(val):0.722\n",
      "Time:17.301 \t Loss(train):0.691 \t Loss(val):0.693\n",
      "Time:23.004 \t Loss(train):0.689 \t Loss(val):0.680\n",
      "Time:28.396 \t Loss(train):0.680 \t Loss(val):0.638\n",
      "Time:33.648 \t Loss(train):0.669 \t Loss(val):0.616\n",
      "Time:39.074 \t Loss(train):0.655 \t Loss(val):0.624\n",
      "Time:44.527 \t Loss(train):0.648 \t Loss(val):0.649\n",
      "Time:49.985 \t Loss(train):0.645 \t Loss(val):0.667\n",
      "Time:55.463 \t Loss(train):0.641 \t Loss(val):0.681\n",
      "Time:60.893 \t Loss(train):0.634 \t Loss(val):0.690\n",
      "Time:66.388 \t Loss(train):0.624 \t Loss(val):0.678\n",
      "Time:71.866 \t Loss(train):0.605 \t Loss(val):0.634\n",
      "Time:77.569 \t Loss(train):0.595 \t Loss(val):0.603\n",
      "Time:83.114 \t Loss(train):0.593 \t Loss(val):0.588\n",
      "Time:88.605 \t Loss(train):0.592 \t Loss(val):0.581\n",
      "Time:93.997 \t Loss(train):0.590 \t Loss(val):0.569\n",
      "Time:99.535 \t Loss(train):0.585 \t Loss(val):0.563\n",
      "Time:105.002 \t Loss(train):0.578 \t Loss(val):0.554\n",
      "Time:113.341 \t Loss(train):0.574 \t Loss(val):0.579\n",
      "Time:118.858 \t Loss(train):0.569 \t Loss(val):0.578\n",
      "Time:124.563 \t Loss(train):0.565 \t Loss(val):0.573\n",
      "Time:130.088 \t Loss(train):0.558 \t Loss(val):0.568\n",
      "Time:135.563 \t Loss(train):0.554 \t Loss(val):0.562\n",
      "Time:141.124 \t Loss(train):0.550 \t Loss(val):0.619\n",
      "Time:146.667 \t Loss(train):0.539 \t Loss(val):0.573\n",
      "Time:152.085 \t Loss(train):0.537 \t Loss(val):0.566\n",
      "Time:157.627 \t Loss(train):0.536 \t Loss(val):0.565\n",
      "Time:162.986 \t Loss(train):0.535 \t Loss(val):0.566\n",
      "Time:170.100 \t Loss(train):0.533 \t Loss(val):0.566\n",
      "Time:177.032 \t Loss(train):0.533 \t Loss(val):0.578\n",
      "Time:181.637 \t Loss(train):0.529 \t Loss(val):0.570\n",
      "Time:186.281 \t Loss(train):0.528 \t Loss(val):0.567\n",
      "Time:190.899 \t Loss(train):0.526 \t Loss(val):0.564\n",
      "Time:195.478 \t Loss(train):0.524 \t Loss(val):0.563\n",
      "Time:200.133 \t Loss(train):0.518 \t Loss(val):0.553\n",
      "Time:206.996 \t Loss(train):0.516 \t Loss(val):0.572\n",
      "Time:212.362 \t Loss(train):0.514 \t Loss(val):0.567\n",
      "Time:217.862 \t Loss(train):0.512 \t Loss(val):0.567\n",
      "Time:223.337 \t Loss(train):0.510 \t Loss(val):0.568\n",
      "Time:228.985 \t Loss(train):0.507 \t Loss(val):0.572\n",
      "Time:234.453 \t Loss(train):0.503 \t Loss(val):0.570\n",
      "Time:242.905 \t Loss(train):0.503 \t Loss(val):0.583\n",
      "Time:248.545 \t Loss(train):0.499 \t Loss(val):0.577\n",
      "Time:253.900 \t Loss(train):0.496 \t Loss(val):0.572\n",
      "Time:259.469 \t Loss(train):0.493 \t Loss(val):0.567\n",
      "Time:265.134 \t Loss(train):0.490 \t Loss(val):0.568\n",
      "Time:273.507 \t Loss(train):0.490 \t Loss(val):0.560\n",
      "Time:279.067 \t Loss(train):0.489 \t Loss(val):0.566\n",
      "Time:284.504 \t Loss(train):0.488 \t Loss(val):0.568\n",
      "Time:290.470 \t Loss(train):0.487 \t Loss(val):0.572\n",
      "Time:296.057 \t Loss(train):0.485 \t Loss(val):0.578\n",
      "Time:301.516 \t Loss(train):0.481 \t Loss(val):0.586\n",
      "Time:309.848 \t Loss(train):0.481 \t Loss(val):0.593\n",
      "Time:315.476 \t Loss(train):0.478 \t Loss(val):0.596\n",
      "Time:321.011 \t Loss(train):0.477 \t Loss(val):0.596\n",
      "Time:326.587 \t Loss(train):0.476 \t Loss(val):0.594\n",
      "Time:332.097 \t Loss(train):0.475 \t Loss(val):0.591\n",
      "Time:337.655 \t Loss(train):0.474 \t Loss(val):0.601\n",
      "Time:343.095 \t Loss(train):0.472 \t Loss(val):0.584\n",
      "Time:348.708 \t Loss(train):0.470 \t Loss(val):0.589\n",
      "Time:354.883 \t Loss(train):0.469 \t Loss(val):0.597\n",
      "Time:364.219 \t Loss(train):0.465 \t Loss(val):0.600\n",
      "Time:369.806 \t Loss(train):0.461 \t Loss(val):0.601\n",
      "Time:375.361 \t Loss(train):0.458 \t Loss(val):0.576\n",
      "Time:380.916 \t Loss(train):0.454 \t Loss(val):0.593\n",
      "Time:386.483 \t Loss(train):0.452 \t Loss(val):0.595\n",
      "Time:391.923 \t Loss(train):0.451 \t Loss(val):0.596\n",
      "Time:397.454 \t Loss(train):0.449 \t Loss(val):0.596\n",
      "Time:405.728 \t Loss(train):0.449 \t Loss(val):0.602\n",
      "Time:411.251 \t Loss(train):0.448 \t Loss(val):0.593\n",
      "Time:416.865 \t Loss(train):0.447 \t Loss(val):0.594\n",
      "Time:422.490 \t Loss(train):0.446 \t Loss(val):0.593\n",
      "Time:430.838 \t Loss(train):0.444 \t Loss(val):0.606\n",
      "Time:436.483 \t Loss(train):0.442 \t Loss(val):0.602\n",
      "Time:442.063 \t Loss(train):0.440 \t Loss(val):0.601\n",
      "Time:450.375 \t Loss(train):0.440 \t Loss(val):0.594\n",
      "Time:455.901 \t Loss(train):0.440 \t Loss(val):0.595\n",
      "Time:461.375 \t Loss(train):0.437 \t Loss(val):0.605\n",
      "Time:466.864 \t Loss(train):0.434 \t Loss(val):0.602\n",
      "Time:472.743 \t Loss(train):0.430 \t Loss(val):0.600\n",
      "Time:481.090 \t Loss(train):0.429 \t Loss(val):0.607\n",
      "Time:486.890 \t Loss(train):0.428 \t Loss(val):0.608\n",
      "Time:492.328 \t Loss(train):0.426 \t Loss(val):0.606\n",
      "Time:497.858 \t Loss(train):0.422 \t Loss(val):0.618\n",
      "Time:503.438 \t Loss(train):0.421 \t Loss(val):0.606\n",
      "Time:508.978 \t Loss(train):0.420 \t Loss(val):0.609\n",
      "Time:517.241 \t Loss(train):0.419 \t Loss(val):0.625\n",
      "Time:522.805 \t Loss(train):0.417 \t Loss(val):0.623\n",
      "Time:528.339 \t Loss(train):0.416 \t Loss(val):0.622\n",
      "Time:533.865 \t Loss(train):0.415 \t Loss(val):0.619\n",
      "Time:539.443 \t Loss(train):0.415 \t Loss(val):0.618\n",
      "Time:547.661 \t Loss(train):0.414 \t Loss(val):0.626\n",
      "Time:553.268 \t Loss(train):0.413 \t Loss(val):0.624\n",
      "Time:558.808 \t Loss(train):0.411 \t Loss(val):0.623\n",
      "Time:564.369 \t Loss(train):0.409 \t Loss(val):0.627\n",
      "Time:569.913 \t Loss(train):0.407 \t Loss(val):0.626\n",
      "Time:578.308 \t Loss(train):0.406 \t Loss(val):0.637\n",
      "Time:583.820 \t Loss(train):0.404 \t Loss(val):0.627\n",
      "Time:589.311 \t Loss(train):0.404 \t Loss(val):0.638\n",
      "Time:594.905 \t Loss(train):0.404 \t Loss(val):0.637\n"
     ]
    }
   ],
   "source": [
    "loss_train_hist = []; loss_val_hist = []\n",
    "acc_val_hist = []\n",
    "time_hist = []  # to save the compute time\n",
    "\n",
    "best_beta_bfgs = onp.zeros(D) # to save best model\n",
    "beta = onp.copy(beta_init)\n",
    "\n",
    "def save_traj(beta):\n",
    "    global best_beta_bfgs\n",
    "    \"\"\" a function that saves a few statistics for later analysis\"\"\"\n",
    "    loss_train = loss(beta, data_train, y_train)\n",
    "    loss_val = loss(beta, data_val, y_val)\n",
    "    timing = time.time() - start\n",
    "    \n",
    "    print(\"Time:{0:.3f} \\t Loss(train):{1:.3f} \\t Loss(val):{2:.3f}\".format(timing, loss_train, loss_val))\n",
    "    \n",
    "    time_hist.append(timing)\n",
    "    loss_train_hist.append(loss_train)\n",
    "    loss_val_hist.append(loss_val)\n",
    "\n",
    "    #acc_val = accuracy(beta, data_val, y_val)\n",
    "    #acc_val_list.append(accuracy_val)\n",
    "    \n",
    "    if loss_val <= loss_val_hist[-1]: # save the model with the lowest validation loss\n",
    "        best_beta_bfgs = beta\n",
    "        \n",
    "#run LBFGS\n",
    "start = time.time()\n",
    "onp.random.seed(0)\n",
    "traj = scipy.optimize.minimize(fun = loss_wrapper, # function to minimize\n",
    "                                x0 = onp.array(beta_init), # initial guess\n",
    "                                method='L-BFGS-B',  # we want to use L-BFGS\n",
    "                                jac=gradient_wrapper, # function that computes the gradient\n",
    "                                callback=save_traj, # a function used to save some results for later plotting\n",
    "                                options={\"maxiter\":100}) # maximum number of iterations"
   ]
  },
  {
   "cell_type": "code",
   "execution_count": 82,
   "metadata": {},
   "outputs": [
    {
     "data": {
      "text/plain": [
       "Text(0.5, 1.0, 'L-BFGS')"
      ]
     },
     "execution_count": 82,
     "metadata": {},
     "output_type": "execute_result"
    },
    {
     "data": {
      "image/png": "[encoded data removed]",
      "text/plain": [
       "<Figure size 432x288 with 1 Axes>"
      ]
     },
     "metadata": {
      "needs_background": "light"
     },
     "output_type": "display_data"
    }
   ],
   "source": [
    "plt.plot(loss_train_hist, label=\"loss(train)\")\n",
    "plt.plot(loss_val_hist, label=\"loss(val)\")\n",
    "plt.legend()\n",
    "plt.grid(True)\n",
    "plt.xlabel(\"iteration\")\n",
    "plt.title(\"L-BFGS\")"
   ]
  },
  {
   "cell_type": "code",
   "execution_count": 83,
   "metadata": {
    "scrolled": true
   },
   "outputs": [
    {
     "data": {
      "image/png": "[encoded data removed]",
      "text/plain": [
       "<Figure size 432x288 with 1 Axes>"
      ]
     },
     "metadata": {
      "needs_background": "light"
     },
     "output_type": "display_data"
    }
   ],
   "source": [
    "plot_ROC(best_beta_bfgs, \"L-BFGS\", data_val, y_val)"
   ]
  },
  {
   "cell_type": "code",
   "execution_count": 84,
   "metadata": {},
   "outputs": [
    {
     "name": "stdout",
     "output_type": "stream",
     "text": [
      "Threshold: 0.1 \t Accuracy: 0.804\n",
      "Threshold: 0.2 \t Accuracy: 0.793\n",
      "Threshold: 0.3 \t Accuracy: 0.774\n",
      "Threshold: 0.4 \t Accuracy: 0.743\n",
      "Threshold: 0.5 \t Accuracy: 0.703\n",
      "Threshold: 0.6 \t Accuracy: 0.664\n",
      "Threshold: 0.7 \t Accuracy: 0.610\n",
      "Threshold: 0.8 \t Accuracy: 0.539\n",
      "Threshold: 0.9 \t Accuracy: 0.428\n",
      "Threshold: 1.0 \t Accuracy: 0.222\n"
     ]
    }
   ],
   "source": [
    "for i in list(range(1,11)):\n",
    "    acc = accuracy(best_beta_bfgs, data_val, y_val, i/10)\n",
    "    print(\"Threshold: {0:.1f} \\t Accuracy: {1:.3f}\".format(i/10, acc))"
   ]
  },
  {
   "cell_type": "markdown",
   "metadata": {},
   "source": [
    "# 3. Improvements to Images"
   ]
  },
  {
   "cell_type": "markdown",
   "metadata": {},
   "source": [
    "This section will explore if the model accuracies can be increased by either improving the image pre-processing."
   ]
  },
  {
   "cell_type": "markdown",
   "metadata": {},
   "source": [
    "## 3.1 Comparing colored images to grayscale"
   ]
  },
  {
   "cell_type": "markdown",
   "metadata": {},
   "source": [
    "We load the images as `ptrain_imgc`, `pval_imgc`, `ptest_imgc` as the training, validation and test datasets respectively in color. This changes each image to a 135 by 95 by 3 array."
   ]
  },
  {
   "cell_type": "code",
   "execution_count": 61,
   "metadata": {},
   "outputs": [],
   "source": [
    "# load the images from the prelim training set\n",
    "ntrain_img = len(ptrain)\n",
    "ptrain_ind = ptrain.index.values\n",
    "ptrain_imgc = onp.zeros((ntrain_img,h_n,w_n,3))\n",
    "\n",
    "for k in range(ntrain_img):\n",
    "    im = imageio.imread(os.path.join(path, all_img[ptrain_ind[k]])).astype(float)\n",
    "    im = resize(im, (h,w))\n",
    "    im = im/255. # rescale\n",
    "    im = im[50:185,40:135] # crop to face\n",
    "    ptrain_imgc[k,:,:] = im"
   ]
  },
  {
   "cell_type": "code",
   "execution_count": 62,
   "metadata": {},
   "outputs": [],
   "source": [
    "# load the images from the prelim validation set\n",
    "nval_img = len(pval)\n",
    "pval_ind = pval.index.values\n",
    "pval_imgc = onp.zeros((nval_img,h_n,w_n,3))\n",
    "\n",
    "for k in range(nval_img):\n",
    "    im = imageio.imread(os.path.join(path, all_img[pval_ind[k]])).astype(float)\n",
    "    im = resize(im, (h,w))\n",
    "    im = im/255. # rescale\n",
    "    im = im[50:185,40:135] # crop to face\n",
    "    pval_imgc[k,:,:] = im"
   ]
  },
  {
   "cell_type": "code",
   "execution_count": 63,
   "metadata": {},
   "outputs": [],
   "source": [
    "# load the images from the test set\n",
    "ntest_img = 5000\n",
    "ptest_imgc = onp.zeros((ntest_img,h_n,w_n,3))\n",
    "\n",
    "for k in range(ntest_img):\n",
    "    im = imageio.imread(os.path.join(path, all_img[k+15000])).astype(float)\n",
    "    im = resize(im, (h,w))\n",
    "    im = im/255. # rescale\n",
    "    im = im[50:185,40:135] # crop to face\n",
    "    ptest_imgc[k,:,:] = im"
   ]
  },
  {
   "cell_type": "code",
   "execution_count": 64,
   "metadata": {},
   "outputs": [],
   "source": [
    "D = h_n*w_n*3\n",
    "\n",
    "data_trainc = ptrain_imgc.reshape(5330, D)\n",
    "y_train = ptrain.to_numpy(copy=True)\n",
    "\n",
    "data_valc = pval_imgc.reshape(3002, D)\n",
    "y_val = pval.to_numpy(copy=True)\n",
    "\n",
    "data_testc = ptest_imgc.reshape(5000, D)\n",
    "y_test = test.to_numpy(copy=True)\n",
    "\n",
    "beta_init = onp.random.normal(0., scale = 1./onp.sqrt(D), size=D)"
   ]
  },
  {
   "cell_type": "markdown",
   "metadata": {},
   "source": [
    "The model is trained with a stochastic gradient descent algorithm."
   ]
  },
  {
   "cell_type": "code",
   "execution_count": 67,
   "metadata": {},
   "outputs": [
    {
     "name": "stdout",
     "output_type": "stream",
     "text": [
      "epoch:0 \t time:7 \t Loss(train):0.642 \t Loss(val):0.635\n",
      "epoch:20 \t time:196 \t Loss(train):0.548 \t Loss(val):0.557\n",
      "epoch:40 \t time:388 \t Loss(train):0.540 \t Loss(val):0.559\n",
      "epoch:60 \t time:569 \t Loss(train):0.538 \t Loss(val):0.560\n",
      "epoch:80 \t time:749 \t Loss(train):0.538 \t Loss(val):0.560\n",
      "epoch:99 \t time:917 \t Loss(train):0.538 \t Loss(val):0.557\n"
     ]
    }
   ],
   "source": [
    "n_epoch = 100\n",
    "batch_size = 100  # size of the mini-batch\n",
    "mov_avg_param = 0.8 # added to smooth the loss graph\n",
    "learning_rate = 0.001\n",
    "loss_train_hist = []; loss_val_hist = []\n",
    "\n",
    "#initialize the gradient\n",
    "beta = onp.copy(beta_init)\n",
    "gradient = grad_loss(beta, data_trainc, y_train)\n",
    "best_beta_sgdmc = onp.zeros(D) # best model\n",
    "\n",
    "start = time.time()\n",
    "for epoch in range(n_epoch):\n",
    "    #let us divide the learning by 2 every 10 epoch\n",
    "    if epoch % 10 == 0 and epoch >= 1:\n",
    "        learning_rate = learning_rate/2.\n",
    "        \n",
    "    for k in range(ntrain_img // batch_size):  #number of batch per epoch\n",
    "        #select at random \"batch_size\" random data point\n",
    "        index_ = onp.random.choice(ntrain_img, batch_size, replace=False)\n",
    "\n",
    "        gradient_local = grad_loss(beta, data_trainc[index_], y_train[index_])\n",
    "\n",
    "        #moving average of the gradient\n",
    "        gradient = gradient*mov_avg_param + (1-mov_avg_param)*gradient_local\n",
    "\n",
    "        #gradient descent update\n",
    "        beta = beta - learning_rate * gradient\n",
    "    \n",
    "    loss_train = loss(beta, data_trainc, y_train)\n",
    "    loss_val = loss(beta, data_valc, y_val)\n",
    "    \n",
    "    if len(loss_val_hist)>0:\n",
    "        if loss_val <= loss_val_hist[-1]:\n",
    "            best_beta_sgdmc = beta # save the model with the lowest validation loss\n",
    "        \n",
    "    loss_train_hist.append(loss_train)\n",
    "    loss_val_hist.append(loss_val)\n",
    "    \n",
    "    timing = time.time() - start\n",
    "    if (epoch == 99) or not(epoch % 20):\n",
    "        print(\"epoch:{0:.0f} \\t time:{1:.0f} \\t Loss(train):{2:.3f} \\t Loss(val):{3:.3f}\".format(epoch, \n",
    "                                                                                                 timing, \n",
    "                                                                                                loss_train, \n",
    "                                                                                                loss_val))"
   ]
  },
  {
   "cell_type": "code",
   "execution_count": 68,
   "metadata": {},
   "outputs": [
    {
     "data": {
      "text/plain": [
       "Text(0.5, 1.0, 'Stochastic Gradient Descent on Colored')"
      ]
     },
     "execution_count": 68,
     "metadata": {},
     "output_type": "execute_result"
    },
    {
     "data": {
      "image/png": "[encoded data removed]",
      "text/plain": [
       "<Figure size 432x288 with 1 Axes>"
      ]
     },
     "metadata": {
      "needs_background": "light"
     },
     "output_type": "display_data"
    }
   ],
   "source": [
    "plt.plot(loss_train_hist, label=\"loss(train)\")\n",
    "plt.plot(loss_val_hist, label=\"loss(val)\")\n",
    "plt.legend()\n",
    "plt.grid(True)\n",
    "plt.xlabel(\"epoch\")\n",
    "plt.title(\"Stochastic Gradient Descent on Colored\")"
   ]
  },
  {
   "cell_type": "code",
   "execution_count": 69,
   "metadata": {},
   "outputs": [
    {
     "data": {
      "image/png": "[encoded data removed]",
      "text/plain": [
       "<Figure size 432x288 with 1 Axes>"
      ]
     },
     "metadata": {
      "needs_background": "light"
     },
     "output_type": "display_data"
    }
   ],
   "source": [
    "plot_ROC(best_beta_sgdmc, \"Stochastic GD\", data_valc, y_val)"
   ]
  },
  {
   "cell_type": "code",
   "execution_count": 70,
   "metadata": {
    "scrolled": false
   },
   "outputs": [
    {
     "name": "stdout",
     "output_type": "stream",
     "text": [
      "Threshold: 0.1 \t Accuracy: 0.781\n",
      "Threshold: 0.2 \t Accuracy: 0.805\n",
      "Threshold: 0.3 \t Accuracy: 0.817\n",
      "Threshold: 0.4 \t Accuracy: 0.789\n",
      "Threshold: 0.5 \t Accuracy: 0.732\n",
      "Threshold: 0.6 \t Accuracy: 0.615\n",
      "Threshold: 0.7 \t Accuracy: 0.471\n",
      "Threshold: 0.8 \t Accuracy: 0.329\n",
      "Threshold: 0.9 \t Accuracy: 0.242\n",
      "Threshold: 1.0 \t Accuracy: 0.222\n"
     ]
    }
   ],
   "source": [
    "for i in list(range(1,11)):\n",
    "    acc = accuracy(best_beta_sgdmc, data_valc, y_val, i/10)\n",
    "    print(\"Threshold: {0:.1f} \\t Accuracy: {1:.3f}\".format(i/10, acc))"
   ]
  },
  {
   "cell_type": "markdown",
   "metadata": {},
   "source": [
    "Compared to using grayscale images, training the model on colored images improves the accuracy (81.7 at threshold 0.3) and AUC=0.779, at the cost of increasing the time spent from 317s to 917s."
   ]
  },
  {
   "cell_type": "markdown",
   "metadata": {},
   "source": [
    "## 3.2 Comparing 'eyes only' to facial images"
   ]
  },
  {
   "cell_type": "markdown",
   "metadata": {},
   "source": [
    "Observing the $\\beta$'s from the best model generated by naive Gradient Descent below, it appears that areas near the eyes and the cheekbones have greater weight in determining if one is classified as young or old. This suggests that training the model on images cropped to this extent may result in some improvements to time."
   ]
  },
  {
   "cell_type": "code",
   "execution_count": null,
   "metadata": {},
   "outputs": [],
   "source": [
    "best_beta_ngd = pd.read_csv('beta_ngd.csv')\n",
    "best_beta_ngd = np.asarray(best_beta_ngd['beta_10000_min'])\n",
    "plt.imshow(best_beta_ngd.reshape(h_n,w_n), cmap='gray')"
   ]
  },
  {
   "cell_type": "markdown",
   "metadata": {},
   "source": [
    "We load the images as `ptrain_imgce`, `pval_imgce`, `ptest_imgce` as the training, validation and test datasets respectively in color and crop the original images to the extent that includes only eyes and cheekbones. This changes each image to a $50*85*3$ array."
   ]
  },
  {
   "cell_type": "code",
   "execution_count": 71,
   "metadata": {},
   "outputs": [],
   "source": [
    "h_e, w_e = 145-95, 130-45\n",
    "# load the images from the prelim training set\n",
    "ntrain_img = len(ptrain)\n",
    "ptrain_ind = ptrain.index.values\n",
    "ptrain_imgce = onp.zeros((ntrain_img,h_e,w_e,3))\n",
    "\n",
    "for k in range(ntrain_img):\n",
    "    im = imageio.imread(os.path.join(path, all_img[ptrain_ind[k]])).astype(float)\n",
    "    im = resize(im, (h,w))\n",
    "    im = im/255. # rescale\n",
    "    im = im[95:145,45:130] # crop to eyes\n",
    "    ptrain_imgce[k,:,:] = im\n",
    "    \n",
    "# load the images from the prelim validation set\n",
    "nval_img = len(pval)\n",
    "pval_ind = pval.index.values\n",
    "pval_imgce = onp.zeros((nval_img,h_e,w_e,3))\n",
    "\n",
    "for k in range(nval_img):\n",
    "    im = imageio.imread(os.path.join(path, all_img[pval_ind[k]])).astype(float)\n",
    "    im = resize(im, (h,w))\n",
    "    im = im/255. # rescale\n",
    "    im = im[95:145,45:130] # crop to eyes\n",
    "    pval_imgce[k,:,:] = im\n",
    "    \n",
    "# load the images from the test set\n",
    "ntest_img = 5000\n",
    "ptest_imgce = onp.zeros((ntest_img,h_e,w_e,3))\n",
    "\n",
    "for k in range(ntest_img):\n",
    "    im = imageio.imread(os.path.join(path, all_img[k+15000])).astype(float)\n",
    "    im = resize(im, (h,w))\n",
    "    im = im/255. # rescale\n",
    "    im = im[95:145,45:130] # crop to face\n",
    "    ptest_imgce[k,:,:] = im"
   ]
  },
  {
   "cell_type": "code",
   "execution_count": 72,
   "metadata": {},
   "outputs": [],
   "source": [
    "D = h_e*w_e*3\n",
    "\n",
    "data_traince = ptrain_imgce.reshape(5330, D)\n",
    "y_train = ptrain.to_numpy(copy=True)\n",
    "\n",
    "data_valce = pval_imgce.reshape(3002, D)\n",
    "y_val = pval.to_numpy(copy=True)\n",
    "\n",
    "data_testce = ptest_imgce.reshape(5000, D)\n",
    "y_test = test.to_numpy(copy=True)\n",
    "\n",
    "beta_init = onp.random.normal(0., scale = 1./onp.sqrt(D), size=D)"
   ]
  },
  {
   "cell_type": "markdown",
   "metadata": {},
   "source": [
    "The model is trained with a stochastic gradient descent algorithm."
   ]
  },
  {
   "cell_type": "code",
   "execution_count": 74,
   "metadata": {},
   "outputs": [
    {
     "name": "stdout",
     "output_type": "stream",
     "text": [
      "epoch:0 \t time:3 \t Loss(train):0.676 \t Loss(val):0.728\n",
      "epoch:20 \t time:62 \t Loss(train):0.593 \t Loss(val):0.602\n",
      "epoch:40 \t time:123 \t Loss(train):0.587 \t Loss(val):0.590\n",
      "epoch:60 \t time:185 \t Loss(train):0.586 \t Loss(val):0.597\n",
      "epoch:80 \t time:248 \t Loss(train):0.585 \t Loss(val):0.595\n",
      "epoch:99 \t time:307 \t Loss(train):0.585 \t Loss(val):0.595\n"
     ]
    }
   ],
   "source": [
    "n_epoch = 100\n",
    "batch_size = 100  # size of the mini-batch\n",
    "mov_avg_param = 0.8 # added to smooth the loss graph\n",
    "learning_rate = 0.001\n",
    "loss_train_hist = []; loss_val_hist = []\n",
    "\n",
    "#initialize the gradient\n",
    "beta = onp.copy(beta_init)\n",
    "gradient = grad_loss(beta, data_traince, y_train)\n",
    "best_beta_sgdmce = onp.zeros(D) # best model\n",
    "\n",
    "start = time.time()\n",
    "for epoch in range(n_epoch):\n",
    "    #let us divide the learning by 2 every 10 epoch\n",
    "    if epoch % 10 == 0 and epoch >= 1:\n",
    "        learning_rate = learning_rate/2.\n",
    "        \n",
    "    for k in range(ntrain_img // batch_size):  #number of batch per epoch\n",
    "        #select at random \"batch_size\" random data point\n",
    "        index_ = onp.random.choice(ntrain_img, batch_size, replace=False)\n",
    "\n",
    "        gradient_local = grad_loss(beta, data_traince[index_], y_train[index_])\n",
    "\n",
    "        #moving average of the gradient\n",
    "        gradient = gradient*mov_avg_param + (1-mov_avg_param)*gradient_local\n",
    "\n",
    "        #gradient descent update\n",
    "        beta = beta - learning_rate * gradient\n",
    "    \n",
    "    loss_train = loss(beta, data_traince, y_train)\n",
    "    loss_val = loss(beta, data_valce, y_val)\n",
    "    \n",
    "    if len(loss_val_hist)>0:\n",
    "        if loss_val <= loss_val_hist[-1]:\n",
    "            best_beta_sgdmce = beta # save the model with the lowest validation loss\n",
    "        \n",
    "    loss_train_hist.append(loss_train)\n",
    "    loss_val_hist.append(loss_val)\n",
    "    \n",
    "    timing = time.time() - start\n",
    "    if (epoch == 99) or not(epoch % 20):\n",
    "        print(\"epoch:{0:.0f} \\t time:{1:.0f} \\t Loss(train):{2:.3f} \\t Loss(val):{3:.3f}\".format(epoch, \n",
    "                                                                                                 timing, \n",
    "                                                                                                loss_train, \n",
    "                                                                                                loss_val))"
   ]
  },
  {
   "cell_type": "code",
   "execution_count": 75,
   "metadata": {},
   "outputs": [
    {
     "data": {
      "text/plain": [
       "Text(0.5, 1.0, 'Stochastic Gradient Descent on Eyes')"
      ]
     },
     "execution_count": 75,
     "metadata": {},
     "output_type": "execute_result"
    },
    {
     "data": {
      "image/png": "[encoded data removed]",
      "text/plain": [
       "<Figure size 432x288 with 1 Axes>"
      ]
     },
     "metadata": {
      "needs_background": "light"
     },
     "output_type": "display_data"
    }
   ],
   "source": [
    "plt.plot(loss_train_hist, label=\"loss(train)\")\n",
    "plt.plot(loss_val_hist, label=\"loss(val)\")\n",
    "plt.legend()\n",
    "plt.grid(True)\n",
    "plt.xlabel(\"epoch\")\n",
    "plt.title(\"Stochastic Gradient Descent on Eyes\")"
   ]
  },
  {
   "cell_type": "code",
   "execution_count": 76,
   "metadata": {},
   "outputs": [
    {
     "data": {
      "image/png": "[encoded data removed]",
      "text/plain": [
       "<Figure size 432x288 with 1 Axes>"
      ]
     },
     "metadata": {
      "needs_background": "light"
     },
     "output_type": "display_data"
    }
   ],
   "source": [
    "# function to plot ROC curve\n",
    "plot_ROC(best_beta_sgdmce, \"Stochastic GD\", data_valce, y_val)"
   ]
  },
  {
   "cell_type": "code",
   "execution_count": 77,
   "metadata": {
    "scrolled": false
   },
   "outputs": [
    {
     "name": "stdout",
     "output_type": "stream",
     "text": [
      "Threshold: 0.1 \t Accuracy: 0.777\n",
      "Threshold: 0.2 \t Accuracy: 0.780\n",
      "Threshold: 0.3 \t Accuracy: 0.802\n",
      "Threshold: 0.4 \t Accuracy: 0.783\n",
      "Threshold: 0.5 \t Accuracy: 0.690\n",
      "Threshold: 0.6 \t Accuracy: 0.547\n",
      "Threshold: 0.7 \t Accuracy: 0.389\n",
      "Threshold: 0.8 \t Accuracy: 0.276\n",
      "Threshold: 0.9 \t Accuracy: 0.231\n",
      "Threshold: 1.0 \t Accuracy: 0.222\n"
     ]
    }
   ],
   "source": [
    "for i in list(range(1,11)):\n",
    "    acc = accuracy(best_beta_sgdmce, data_valce, y_val, i/10)\n",
    "    print(\"Threshold: {0:.1f} \\t Accuracy: {1:.3f}\".format(i/10, acc))"
   ]
  },
  {
   "cell_type": "markdown",
   "metadata": {},
   "source": [
    "This results in an accuracy of 0.802 with a threshold of 0.3, which beats the naive model. However, this has a lower AUC and accuracy compared to model in section 3.1 trained on the full-face colored images. This suggests that information is lost from removing parts of the images outside the eyes. Nonetheless, this method still has some merit given the reduction in time from 917s to 307s."
   ]
  }
 ],
 "metadata": {
  "kernelspec": {
   "display_name": "Python 3",
   "language": "python",
   "name": "python3"
  },
  "language_info": {
   "codemirror_mode": {
    "name": "ipython",
    "version": 3
   },
   "file_extension": ".py",
   "mimetype": "text/x-python",
   "name": "python",
   "nbconvert_exporter": "python",
   "pygments_lexer": "ipython3",
   "version": "3.7.6"
  }
 },
 "nbformat": 4,
 "nbformat_minor": 4
}

{
  "nbformat": 4,
  "nbformat_minor": 0,
  "metadata": {
    "kernelspec": {
      "display_name": "conda_torch_autograd",
      "language": "python",
      "name": "conda_torch_autograd"
    },
    "language_info": {
      "codemirror_mode": {
        "name": "ipython",
        "version": 3
      },
      "file_extension": ".py",
      "mimetype": "text/x-python",
      "name": "python",
      "nbconvert_exporter": "python",
      "pygments_lexer": "ipython3",
      "version": "3.6.9"
    },
    "colab": {
      "name": "Book Recommendation Final.ipynb",
      "provenance": [],
      "collapsed_sections": [
        "BvHMRcKSJRjl",
        "NqRFYR-wPJ8z"
      ],
      "toc_visible": true,
      "machine_shape": "hm"
    },
    "accelerator": "GPU"
  },
  "cells": [
    {
      "cell_type": "markdown",
      "metadata": {
        "id": "eRiHFkeO0u8i",
        "colab_type": "text"
      },
      "source": [
        "<h1><center>DSA 4212: Year 2019-2020</center></h1>\n",
        "<h3><center> Assignment 2 (Deadline: 1st of May 2020 at 23:59) </center></h3>\n",
        "<h3><center> To Be submitted on the lumiNUS </center></h3>\n",
        "<h2><center> Group Number: ???? </center></h2>\n",
        "<h2><center> Filename: assignment_2_XX.ipynb where XXX is your group number</center></h2>\n",
        "<h2><center> Group Member 1: Student Name, Student ID </center></h2>\n",
        "<h2><center> Group Member 2: Student Name, Student ID </center></h2>\n",
        "<h2><center> Group Member 3: Student Name, Student ID </center></h2>\n",
        "\n"
      ]
    },
    {
      "cell_type": "code",
      "metadata": {
        "id": "F_kJIby70u8l",
        "colab_type": "code",
        "colab": {}
      },
      "source": [
        "%matplotlib inline\n",
        "from jax.config import config\n",
        "config.update(\"jax_enable_x64\", True)  #important for L-BFGS\n",
        "\n",
        "import jax\n",
        "import jax.numpy as np\n",
        "\n",
        "import pylab as plt\n",
        "import imageio\n",
        "import os\n",
        "import numpy as onp\n",
        "from skimage.transform import rescale, resize, downscale_local_mean\n",
        "import scipy\n",
        "import pandas as pd\n",
        "import matplotlib.pyplot as plt\n",
        "\n",
        "import zipfile\n",
        "import io"
      ],
      "execution_count": 0,
      "outputs": []
    },
    {
      "cell_type": "code",
      "metadata": {
        "id": "5ZJKOq7t-Zdc",
        "colab_type": "code",
        "colab": {}
      },
      "source": [
        "from pydrive.auth import GoogleAuth\n",
        "from pydrive.drive import GoogleDrive\n",
        "from google.colab import auth\n",
        "from oauth2client.client import GoogleCredentials\n",
        "# Authenticate and create the PyDrive client.\n",
        "auth.authenticate_user()\n",
        "gauth = GoogleAuth()\n",
        "gauth.credentials = GoogleCredentials.get_application_default()\n",
        "drive = GoogleDrive(gauth)"
      ],
      "execution_count": 0,
      "outputs": []
    },
    {
      "cell_type": "code",
      "metadata": {
        "id": "yjK4AOGl-Ve6",
        "colab_type": "code",
        "outputId": "461251f1-97d8-400f-dc67-222be2237604",
        "colab": {
          "base_uri": "https://localhost:8080/",
          "height": 124
        }
      },
      "source": [
        "from google.colab import drive\n",
        "drive.mount('/content/drive', force_remount=True)  "
      ],
      "execution_count": 4,
      "outputs": [
        {
          "output_type": "stream",
          "text": [
            "Go to this URL in a browser: https://accounts.google.com/o/oauth2/auth?client_id=947318989803-6bn6qk8qdgf4n4g3pfee6491hc0brc4i.apps.googleusercontent.com&redirect_uri=urn%3aietf%3awg%3aoauth%3a2.0%3aoob&response_type=code&scope=email%20https%3a%2f%2fwww.googleapis.com%2fauth%2fdocs.test%20https%3a%2f%2fwww.googleapis.com%2fauth%2fdrive%20https%3a%2f%2fwww.googleapis.com%2fauth%2fdrive.photos.readonly%20https%3a%2f%2fwww.googleapis.com%2fauth%2fpeopleapi.readonly\n",
            "\n",
            "Enter your authorization code:\n",
            "··········\n",
            "Mounted at /content/drive\n"
          ],
          "name": "stdout"
        }
      ]
    },
    {
      "cell_type": "markdown",
      "metadata": {
        "id": "w9Qh_eXO0u9q",
        "colab_type": "text"
      },
      "source": [
        "# Exercise 4: Book recommendations\n"
      ]
    },
    {
      "cell_type": "markdown",
      "metadata": {
        "id": "g0HBG2JP0u9r",
        "colab_type": "text"
      },
      "source": [
        "The files `books.csv` and `ratings.csv` contain the description of $10000$ books and the ratings of $53424$ users. Build a book recommendation system out of this dataset.\n",
        "\n",
        "**remark**: it may be a good idea to shuffle and split the data into a train/test subset.  \n",
        "**remark**: think first about an appropriate metric to quantify how well your model is doing.  \n",
        "**remark**: it may be a good idea to come-up first with one or two baseline/naive models.  \n",
        "\n"
      ]
    },
    {
      "cell_type": "markdown",
      "metadata": {
        "id": "VkftMx1Z36iV",
        "colab_type": "text"
      },
      "source": [
        "## 4.1 Import the Dataset\n",
        "\n",
        "\n"
      ]
    },
    {
      "cell_type": "code",
      "metadata": {
        "id": "lzRvjc3W4oLU",
        "colab_type": "code",
        "colab": {}
      },
      "source": [
        "filename = \"books_and_ratings.zip\"\n",
        "#shareable_link = \"https://drive.google.com/open?id=1OJO7dITjEMBy7iAo0nrdK3Fi0Nlo21ju\"\n",
        "shareable_link = \"https://drive.google.com/open?id=1W_fMbL9K-dAwV0OsFDk3yeb0RncBZJvQ\"\n",
        "temp_var, id = shareable_link.split(\"=\")\n",
        "downloaded = GoogleDrive(gauth).CreateFile({'id':id}) \n",
        "downloaded.GetContentFile(filename)"
      ],
      "execution_count": 0,
      "outputs": []
    },
    {
      "cell_type": "code",
      "metadata": {
        "id": "wRn8mk_t-jKd",
        "colab_type": "code",
        "colab": {
          "base_uri": "https://localhost:8080/",
          "height": 69
        },
        "outputId": "897f36c2-f700-423c-b604-5ba940a5a8e2"
      },
      "source": [
        "if ('books.csv' and 'ratings.csv') not in os.listdir('/content'):\n",
        "  !unzip 'books_and_ratings.zip'"
      ],
      "execution_count": 6,
      "outputs": [
        {
          "output_type": "stream",
          "text": [
            "Archive:  books_and_ratings.zip\n",
            "  inflating: books.csv               \n",
            "  inflating: ratings.csv             \n"
          ],
          "name": "stdout"
        }
      ]
    },
    {
      "cell_type": "code",
      "metadata": {
        "id": "mlCULKab_X1k",
        "colab_type": "code",
        "outputId": "c476c0ae-4c7f-4b83-d50b-6d04c7afef9a",
        "colab": {
          "base_uri": "https://localhost:8080/",
          "height": 35
        }
      },
      "source": [
        "os.getcwd()"
      ],
      "execution_count": 7,
      "outputs": [
        {
          "output_type": "execute_result",
          "data": {
            "text/plain": [
              "'/content'"
            ]
          },
          "metadata": {
            "tags": []
          },
          "execution_count": 7
        }
      ]
    },
    {
      "cell_type": "code",
      "metadata": {
        "id": "-hN9W6AoDq0c",
        "colab_type": "code",
        "outputId": "de7941a0-54d9-4582-cfbe-a4f2ef225672",
        "colab": {
          "base_uri": "https://localhost:8080/",
          "height": 139
        }
      },
      "source": [
        "os.listdir('/content')"
      ],
      "execution_count": 8,
      "outputs": [
        {
          "output_type": "execute_result",
          "data": {
            "text/plain": [
              "['.config',\n",
              " 'books.csv',\n",
              " 'books_and_ratings.zip',\n",
              " 'drive',\n",
              " 'ratings.csv',\n",
              " 'adc.json',\n",
              " 'sample_data']"
            ]
          },
          "metadata": {
            "tags": []
          },
          "execution_count": 8
        }
      ]
    },
    {
      "cell_type": "code",
      "metadata": {
        "id": "qLAYdR2U_UOe",
        "colab_type": "code",
        "colab": {}
      },
      "source": [
        "books_full_path = '/content/' + 'books.csv'\n",
        "ratings_full_path = '/content/' + 'ratings.csv'\n",
        "books_df = pd.read_csv(books_full_path, encoding = 'ISO-8859-1',engine='python')\n",
        "ratings_df = pd.read_csv(ratings_full_path)"
      ],
      "execution_count": 0,
      "outputs": []
    },
    {
      "cell_type": "markdown",
      "metadata": {
        "id": "NNu3Zv4D4jsj",
        "colab_type": "text"
      },
      "source": [
        "## 4.2 Simple Data Exploration\n"
      ]
    },
    {
      "cell_type": "code",
      "metadata": {
        "id": "YTksVWcZ_bNy",
        "colab_type": "code",
        "outputId": "e24a00f6-b968-4e65-af0a-69485e4e1b7c",
        "colab": {
          "base_uri": "https://localhost:8080/",
          "height": 202
        }
      },
      "source": [
        "books_df.head()"
      ],
      "execution_count": 10,
      "outputs": [
        {
          "output_type": "execute_result",
          "data": {
            "text/html": [
              "<div>\n",
              "<style scoped>\n",
              "    .dataframe tbody tr th:only-of-type {\n",
              "        vertical-align: middle;\n",
              "    }\n",
              "\n",
              "    .dataframe tbody tr th {\n",
              "        vertical-align: top;\n",
              "    }\n",
              "\n",
              "    .dataframe thead th {\n",
              "        text-align: right;\n",
              "    }\n",
              "</style>\n",
              "<table border=\"1\" class=\"dataframe\">\n",
              "  <thead>\n",
              "    <tr style=\"text-align: right;\">\n",
              "      <th></th>\n",
              "      <th>book_id</th>\n",
              "      <th>authors</th>\n",
              "      <th>title</th>\n",
              "    </tr>\n",
              "  </thead>\n",
              "  <tbody>\n",
              "    <tr>\n",
              "      <th>0</th>\n",
              "      <td>1</td>\n",
              "      <td>Suzanne Collins</td>\n",
              "      <td>The Hunger Games (The Hunger Games, #1)</td>\n",
              "    </tr>\n",
              "    <tr>\n",
              "      <th>1</th>\n",
              "      <td>2</td>\n",
              "      <td>J.K. Rowling, Mary GrandPrÌ©</td>\n",
              "      <td>Harry Potter and the Sorcerer's Stone (Harry P...</td>\n",
              "    </tr>\n",
              "    <tr>\n",
              "      <th>2</th>\n",
              "      <td>3</td>\n",
              "      <td>Stephenie Meyer</td>\n",
              "      <td>Twilight (Twilight, #1)</td>\n",
              "    </tr>\n",
              "    <tr>\n",
              "      <th>3</th>\n",
              "      <td>4</td>\n",
              "      <td>Harper Lee</td>\n",
              "      <td>To Kill a Mockingbird</td>\n",
              "    </tr>\n",
              "    <tr>\n",
              "      <th>4</th>\n",
              "      <td>5</td>\n",
              "      <td>F. Scott Fitzgerald</td>\n",
              "      <td>The Great Gatsby</td>\n",
              "    </tr>\n",
              "  </tbody>\n",
              "</table>\n",
              "</div>"
            ],
            "text/plain": [
              "   book_id  ...                                              title\n",
              "0        1  ...            The Hunger Games (The Hunger Games, #1)\n",
              "1        2  ...  Harry Potter and the Sorcerer's Stone (Harry P...\n",
              "2        3  ...                            Twilight (Twilight, #1)\n",
              "3        4  ...                              To Kill a Mockingbird\n",
              "4        5  ...                                   The Great Gatsby\n",
              "\n",
              "[5 rows x 3 columns]"
            ]
          },
          "metadata": {
            "tags": []
          },
          "execution_count": 10
        }
      ]
    },
    {
      "cell_type": "code",
      "metadata": {
        "id": "NKUkbv_c0u9s",
        "colab_type": "code",
        "outputId": "011579a4-3771-459a-a2a5-dd70a52a27e5",
        "colab": {
          "base_uri": "https://localhost:8080/",
          "height": 202
        }
      },
      "source": [
        "ratings_df.head()"
      ],
      "execution_count": 11,
      "outputs": [
        {
          "output_type": "execute_result",
          "data": {
            "text/html": [
              "<div>\n",
              "<style scoped>\n",
              "    .dataframe tbody tr th:only-of-type {\n",
              "        vertical-align: middle;\n",
              "    }\n",
              "\n",
              "    .dataframe tbody tr th {\n",
              "        vertical-align: top;\n",
              "    }\n",
              "\n",
              "    .dataframe thead th {\n",
              "        text-align: right;\n",
              "    }\n",
              "</style>\n",
              "<table border=\"1\" class=\"dataframe\">\n",
              "  <thead>\n",
              "    <tr style=\"text-align: right;\">\n",
              "      <th></th>\n",
              "      <th>user_id</th>\n",
              "      <th>book_id</th>\n",
              "      <th>rating</th>\n",
              "    </tr>\n",
              "  </thead>\n",
              "  <tbody>\n",
              "    <tr>\n",
              "      <th>0</th>\n",
              "      <td>1</td>\n",
              "      <td>258</td>\n",
              "      <td>5</td>\n",
              "    </tr>\n",
              "    <tr>\n",
              "      <th>1</th>\n",
              "      <td>2</td>\n",
              "      <td>4081</td>\n",
              "      <td>4</td>\n",
              "    </tr>\n",
              "    <tr>\n",
              "      <th>2</th>\n",
              "      <td>2</td>\n",
              "      <td>260</td>\n",
              "      <td>5</td>\n",
              "    </tr>\n",
              "    <tr>\n",
              "      <th>3</th>\n",
              "      <td>2</td>\n",
              "      <td>9296</td>\n",
              "      <td>5</td>\n",
              "    </tr>\n",
              "    <tr>\n",
              "      <th>4</th>\n",
              "      <td>2</td>\n",
              "      <td>2318</td>\n",
              "      <td>3</td>\n",
              "    </tr>\n",
              "  </tbody>\n",
              "</table>\n",
              "</div>"
            ],
            "text/plain": [
              "   user_id  book_id  rating\n",
              "0        1      258       5\n",
              "1        2     4081       4\n",
              "2        2      260       5\n",
              "3        2     9296       5\n",
              "4        2     2318       3"
            ]
          },
          "metadata": {
            "tags": []
          },
          "execution_count": 11
        }
      ]
    },
    {
      "cell_type": "code",
      "metadata": {
        "id": "_HgRERtJFBjN",
        "colab_type": "code",
        "outputId": "858076cc-0f92-434a-aad0-e66949a274d5",
        "colab": {
          "base_uri": "https://localhost:8080/",
          "height": 35
        }
      },
      "source": [
        "books_df.shape"
      ],
      "execution_count": 12,
      "outputs": [
        {
          "output_type": "execute_result",
          "data": {
            "text/plain": [
              "(10000, 3)"
            ]
          },
          "metadata": {
            "tags": []
          },
          "execution_count": 12
        }
      ]
    },
    {
      "cell_type": "code",
      "metadata": {
        "id": "QBFdWJZwFBhB",
        "colab_type": "code",
        "outputId": "187f76e7-1c04-4e3d-ccf3-24e4101f99ab",
        "colab": {
          "base_uri": "https://localhost:8080/",
          "height": 35
        }
      },
      "source": [
        "ratings_df.shape"
      ],
      "execution_count": 13,
      "outputs": [
        {
          "output_type": "execute_result",
          "data": {
            "text/plain": [
              "(5976479, 3)"
            ]
          },
          "metadata": {
            "tags": []
          },
          "execution_count": 13
        }
      ]
    },
    {
      "cell_type": "code",
      "metadata": {
        "id": "Dqq2DJ8u0u90",
        "colab_type": "code",
        "outputId": "34b8c575-9c16-453c-c250-117271f7c91c",
        "colab": {
          "base_uri": "https://localhost:8080/",
          "height": 35
        }
      },
      "source": [
        "nb_of_books = len(books_df[\"book_id\"])\n",
        "nb_of_users = len(onp.unique(onp.array(ratings_df[\"user_id\"])))\n",
        "print(\"Number of books Nb:{} \\t Number of Unique Users Nu:{}\".format(nb_of_books, nb_of_users))"
      ],
      "execution_count": 14,
      "outputs": [
        {
          "output_type": "stream",
          "text": [
            "Number of books Nb:10000 \t Number of Unique Users Nu:53424\n"
          ],
          "name": "stdout"
        }
      ]
    },
    {
      "cell_type": "markdown",
      "metadata": {
        "id": "6jmsVrTqFPD_",
        "colab_type": "text"
      },
      "source": [
        "In `books_df`, there are 10000 books. In the `ratings_df`, there are 5976479 examples but 53424 different unique users.\n",
        "\n",
        "Let's see if all the `book_id` exist in both the books and ratings dataframe.\n",
        "\n"
      ]
    },
    {
      "cell_type": "code",
      "metadata": {
        "id": "cNjst6_vFYGe",
        "colab_type": "code",
        "outputId": "ba8c5204-4fca-4eb1-ca5b-ac4a10ee54e0",
        "colab": {
          "base_uri": "https://localhost:8080/",
          "height": 35
        }
      },
      "source": [
        "series_of_book_ids_from_books_df = books_df['book_id'].sort_values(ascending=True)\n",
        "series_of_book_ids_from_ratings_df = ratings_df['book_id'].sort_values(ascending=True).unique()\n",
        "series_of_book_ids_from_ratings_df == series_of_book_ids_from_books_df\n",
        "print(ratings_df['rating'].unique())"
      ],
      "execution_count": 15,
      "outputs": [
        {
          "output_type": "stream",
          "text": [
            "[5 4 3 2 1]\n"
          ],
          "name": "stdout"
        }
      ]
    },
    {
      "cell_type": "markdown",
      "metadata": {
        "id": "enTyQlBHcUve",
        "colab_type": "text"
      },
      "source": [
        "The `book_id` from 1 to 10000 exist in both `books_df` and `ratings_df`. We can conclude that, for everybook, there are at least one user who rated it.\n",
        "\n",
        "The ratings are verified to be strictly 1 to 5."
      ]
    },
    {
      "cell_type": "markdown",
      "metadata": {
        "id": "CfiaoQes_kWd",
        "colab_type": "text"
      },
      "source": [
        "## 4.3 Pre-processing"
      ]
    },
    {
      "cell_type": "markdown",
      "metadata": {
        "id": "r-pl42NV4CLG",
        "colab_type": "text"
      },
      "source": [
        "### 4.3.1 Train-Val-Test Split\n",
        "\n",
        "We shall split the data into 80% for training set and 20% for test set. From the training set, we will further split 20% for the validation set.\n",
        "\n",
        "**r_train_full**: The full training set before splitting into training and validation set.\n",
        "\n",
        "**r_train**: The training set after splitting the full training set into training set and validation set.\n",
        "\n",
        "**r_val**: The validation set\n",
        "\n",
        "**r_test**: The test set"
      ]
    },
    {
      "cell_type": "code",
      "metadata": {
        "id": "gc0xlwgeaxDa",
        "colab_type": "code",
        "colab": {}
      },
      "source": [
        "# Setting the seed\n",
        "import random as random\n",
        "random.seed(4212)"
      ],
      "execution_count": 0,
      "outputs": []
    },
    {
      "cell_type": "code",
      "metadata": {
        "id": "rhZC94SK0u97",
        "colab_type": "code",
        "outputId": "56ae963f-4706-4029-fe93-2a3009ccdab0",
        "colab": {
          "base_uri": "https://localhost:8080/",
          "height": 52
        }
      },
      "source": [
        "# We first shuffle the row numbers\n",
        "\n",
        "row_index = onp.arange(len(ratings_df))\n",
        "print(row_index)\n",
        "onp.random.shuffle(row_index)\n",
        "print(row_index)"
      ],
      "execution_count": 17,
      "outputs": [
        {
          "output_type": "stream",
          "text": [
            "[      0       1       2 ... 5976476 5976477 5976478]\n",
            "[1969128 3489982 4974778 ... 1734468 4489247 4440434]\n"
          ],
          "name": "stdout"
        }
      ]
    },
    {
      "cell_type": "code",
      "metadata": {
        "id": "3QHTJ0Sdaca3",
        "colab_type": "code",
        "outputId": "a8741ef0-a0dd-4279-d074-ad36f3002522",
        "colab": {
          "base_uri": "https://localhost:8080/",
          "height": 52
        }
      },
      "source": [
        "print(0.8 * 5976478) # Number of examples for the full training set\n",
        "print(0.2 * 5976478) # Number of examples for test set"
      ],
      "execution_count": 18,
      "outputs": [
        {
          "output_type": "stream",
          "text": [
            "4781182.4\n",
            "1195295.6\n"
          ],
          "name": "stdout"
        }
      ]
    },
    {
      "cell_type": "code",
      "metadata": {
        "id": "MjNVO_gw4lgc",
        "colab_type": "code",
        "outputId": "562473a7-8150-4241-95eb-78963db5f71c",
        "colab": {
          "base_uri": "https://localhost:8080/",
          "height": 52
        }
      },
      "source": [
        "# Let's split the data into train and test accordingly\n",
        "r_train_full = ratings_df.iloc[row_index[0:4781183]]\n",
        "r_test = ratings_df.iloc[row_index[4781183:]]\n",
        "print(r_train_full.shape)\n",
        "print(r_test.shape)"
      ],
      "execution_count": 19,
      "outputs": [
        {
          "output_type": "stream",
          "text": [
            "(4781183, 3)\n",
            "(1195296, 3)\n"
          ],
          "name": "stdout"
        }
      ]
    },
    {
      "cell_type": "code",
      "metadata": {
        "id": "KLzsxR5fbfkl",
        "colab_type": "code",
        "outputId": "643a6e06-8ff2-4bd5-c659-51383063fe39",
        "colab": {
          "base_uri": "https://localhost:8080/",
          "height": 52
        }
      },
      "source": [
        "print(0.8 * 4781183) # 80% of full training set for new training set\n",
        "print(0.2 * 4781183) # 20% of full training set for validation set"
      ],
      "execution_count": 20,
      "outputs": [
        {
          "output_type": "stream",
          "text": [
            "3824946.4000000004\n",
            "956236.6000000001\n"
          ],
          "name": "stdout"
        }
      ]
    },
    {
      "cell_type": "code",
      "metadata": {
        "id": "9ZxncHQTdR5A",
        "colab_type": "code",
        "outputId": "6a6b5df2-6952-4b08-bd71-d4f9f6e233a2",
        "colab": {
          "base_uri": "https://localhost:8080/",
          "height": 52
        }
      },
      "source": [
        "# Let's split the train set further into train set and validation set\n",
        "# These will be used when cross-validation is necessary\n",
        "\n",
        "r_train = r_train_full[0:3824947]\n",
        "print(r_train.shape)\n",
        "\n",
        "r_val = r_train_full[3824947:]\n",
        "print(r_val.shape)"
      ],
      "execution_count": 21,
      "outputs": [
        {
          "output_type": "stream",
          "text": [
            "(3824947, 3)\n",
            "(956236, 3)\n"
          ],
          "name": "stdout"
        }
      ]
    },
    {
      "cell_type": "code",
      "metadata": {
        "id": "K41tIRoId7vW",
        "colab_type": "code",
        "outputId": "ebcb8848-43a0-49b2-fde6-cc33819a9597",
        "colab": {
          "base_uri": "https://localhost:8080/",
          "height": 388
        }
      },
      "source": [
        "display(r_train_full.head(2))\n",
        "display(r_train.head(2))\n",
        "display(r_val.head(2))\n",
        "display(r_test.head(2))"
      ],
      "execution_count": 22,
      "outputs": [
        {
          "output_type": "display_data",
          "data": {
            "text/html": [
              "<div>\n",
              "<style scoped>\n",
              "    .dataframe tbody tr th:only-of-type {\n",
              "        vertical-align: middle;\n",
              "    }\n",
              "\n",
              "    .dataframe tbody tr th {\n",
              "        vertical-align: top;\n",
              "    }\n",
              "\n",
              "    .dataframe thead th {\n",
              "        text-align: right;\n",
              "    }\n",
              "</style>\n",
              "<table border=\"1\" class=\"dataframe\">\n",
              "  <thead>\n",
              "    <tr style=\"text-align: right;\">\n",
              "      <th></th>\n",
              "      <th>user_id</th>\n",
              "      <th>book_id</th>\n",
              "      <th>rating</th>\n",
              "    </tr>\n",
              "  </thead>\n",
              "  <tbody>\n",
              "    <tr>\n",
              "      <th>1969128</th>\n",
              "      <td>26773</td>\n",
              "      <td>971</td>\n",
              "      <td>5</td>\n",
              "    </tr>\n",
              "    <tr>\n",
              "      <th>3489982</th>\n",
              "      <td>8978</td>\n",
              "      <td>2769</td>\n",
              "      <td>4</td>\n",
              "    </tr>\n",
              "  </tbody>\n",
              "</table>\n",
              "</div>"
            ],
            "text/plain": [
              "         user_id  book_id  rating\n",
              "1969128    26773      971       5\n",
              "3489982     8978     2769       4"
            ]
          },
          "metadata": {
            "tags": []
          }
        },
        {
          "output_type": "display_data",
          "data": {
            "text/html": [
              "<div>\n",
              "<style scoped>\n",
              "    .dataframe tbody tr th:only-of-type {\n",
              "        vertical-align: middle;\n",
              "    }\n",
              "\n",
              "    .dataframe tbody tr th {\n",
              "        vertical-align: top;\n",
              "    }\n",
              "\n",
              "    .dataframe thead th {\n",
              "        text-align: right;\n",
              "    }\n",
              "</style>\n",
              "<table border=\"1\" class=\"dataframe\">\n",
              "  <thead>\n",
              "    <tr style=\"text-align: right;\">\n",
              "      <th></th>\n",
              "      <th>user_id</th>\n",
              "      <th>book_id</th>\n",
              "      <th>rating</th>\n",
              "    </tr>\n",
              "  </thead>\n",
              "  <tbody>\n",
              "    <tr>\n",
              "      <th>1969128</th>\n",
              "      <td>26773</td>\n",
              "      <td>971</td>\n",
              "      <td>5</td>\n",
              "    </tr>\n",
              "    <tr>\n",
              "      <th>3489982</th>\n",
              "      <td>8978</td>\n",
              "      <td>2769</td>\n",
              "      <td>4</td>\n",
              "    </tr>\n",
              "  </tbody>\n",
              "</table>\n",
              "</div>"
            ],
            "text/plain": [
              "         user_id  book_id  rating\n",
              "1969128    26773      971       5\n",
              "3489982     8978     2769       4"
            ]
          },
          "metadata": {
            "tags": []
          }
        },
        {
          "output_type": "display_data",
          "data": {
            "text/html": [
              "<div>\n",
              "<style scoped>\n",
              "    .dataframe tbody tr th:only-of-type {\n",
              "        vertical-align: middle;\n",
              "    }\n",
              "\n",
              "    .dataframe tbody tr th {\n",
              "        vertical-align: top;\n",
              "    }\n",
              "\n",
              "    .dataframe thead th {\n",
              "        text-align: right;\n",
              "    }\n",
              "</style>\n",
              "<table border=\"1\" class=\"dataframe\">\n",
              "  <thead>\n",
              "    <tr style=\"text-align: right;\">\n",
              "      <th></th>\n",
              "      <th>user_id</th>\n",
              "      <th>book_id</th>\n",
              "      <th>rating</th>\n",
              "    </tr>\n",
              "  </thead>\n",
              "  <tbody>\n",
              "    <tr>\n",
              "      <th>118805</th>\n",
              "      <td>3356</td>\n",
              "      <td>2303</td>\n",
              "      <td>3</td>\n",
              "    </tr>\n",
              "    <tr>\n",
              "      <th>5162883</th>\n",
              "      <td>48579</td>\n",
              "      <td>155</td>\n",
              "      <td>5</td>\n",
              "    </tr>\n",
              "  </tbody>\n",
              "</table>\n",
              "</div>"
            ],
            "text/plain": [
              "         user_id  book_id  rating\n",
              "118805      3356     2303       3\n",
              "5162883    48579      155       5"
            ]
          },
          "metadata": {
            "tags": []
          }
        },
        {
          "output_type": "display_data",
          "data": {
            "text/html": [
              "<div>\n",
              "<style scoped>\n",
              "    .dataframe tbody tr th:only-of-type {\n",
              "        vertical-align: middle;\n",
              "    }\n",
              "\n",
              "    .dataframe tbody tr th {\n",
              "        vertical-align: top;\n",
              "    }\n",
              "\n",
              "    .dataframe thead th {\n",
              "        text-align: right;\n",
              "    }\n",
              "</style>\n",
              "<table border=\"1\" class=\"dataframe\">\n",
              "  <thead>\n",
              "    <tr style=\"text-align: right;\">\n",
              "      <th></th>\n",
              "      <th>user_id</th>\n",
              "      <th>book_id</th>\n",
              "      <th>rating</th>\n",
              "    </tr>\n",
              "  </thead>\n",
              "  <tbody>\n",
              "    <tr>\n",
              "      <th>2791319</th>\n",
              "      <td>35501</td>\n",
              "      <td>597</td>\n",
              "      <td>5</td>\n",
              "    </tr>\n",
              "    <tr>\n",
              "      <th>1953709</th>\n",
              "      <td>26808</td>\n",
              "      <td>3792</td>\n",
              "      <td>3</td>\n",
              "    </tr>\n",
              "  </tbody>\n",
              "</table>\n",
              "</div>"
            ],
            "text/plain": [
              "         user_id  book_id  rating\n",
              "2791319    35501      597       5\n",
              "1953709    26808     3792       3"
            ]
          },
          "metadata": {
            "tags": []
          }
        }
      ]
    },
    {
      "cell_type": "markdown",
      "metadata": {
        "id": "lNgk-d9IdJDO",
        "colab_type": "text"
      },
      "source": [
        "## 4.4 Modelling\n",
        "\n"
      ]
    },
    {
      "cell_type": "markdown",
      "metadata": {
        "id": "pPepC1V44L2r",
        "colab_type": "text"
      },
      "source": [
        "### 4.4.1 Naive Models\n",
        "\n",
        "We will attempt 2 naive models, namely a user mean rating model and a book mean rating model.\n",
        "\n",
        "The performance metric we will use for the naive models is Mean Square Error (MSE) that is the loss function \n",
        "\n",
        "$$\n",
        "L(R) = \\frac{1}{|J|} \\sum_{(u,b)\\in{J}} (\\hat{R}_{u,b}^{(naive)} - R_{u,b})^2\n",
        "$$ \n",
        "\n",
        "where \n",
        "- $\\hat{R}_{u,b}^{(naive)}$ is the rating of user $u$ on book $b$ estimated by the naive model,\n",
        "- $R_{u,b}$ is the actual rating of user u on book b and\n",
        "- $J = ${$(u,b)$ such that user $u$ has rated book $b$}\n"
      ]
    },
    {
      "cell_type": "markdown",
      "metadata": {
        "id": "X0Pbh-35WOka",
        "colab_type": "text"
      },
      "source": [
        "#### Functions"
      ]
    },
    {
      "cell_type": "code",
      "metadata": {
        "id": "QYlk1dbdWKbt",
        "colab_type": "code",
        "colab": {}
      },
      "source": [
        "def naive_loss(R_hat, R_actual):\n",
        "  return np.mean((R_hat - R_actual)**2)"
      ],
      "execution_count": 0,
      "outputs": []
    },
    {
      "cell_type": "markdown",
      "metadata": {
        "id": "CjxMdKgCS7lU",
        "colab_type": "text"
      },
      "source": [
        "#### Mean User Rating"
      ]
    },
    {
      "cell_type": "markdown",
      "metadata": {
        "id": "ISwJi9EXnrxU",
        "colab_type": "text"
      },
      "source": [
        "##### Pre-processing\n"
      ]
    },
    {
      "cell_type": "code",
      "metadata": {
        "id": "LYO0WcKDnK_f",
        "colab_type": "code",
        "outputId": "7a87c9df-5903-4240-8310-d5bf0b9c9f35",
        "colab": {
          "base_uri": "https://localhost:8080/",
          "height": 110
        }
      },
      "source": [
        "mean_user_rating_df = r_train_full.copy()\n",
        "display(mean_user_rating_df.head(2))"
      ],
      "execution_count": 24,
      "outputs": [
        {
          "output_type": "display_data",
          "data": {
            "text/html": [
              "<div>\n",
              "<style scoped>\n",
              "    .dataframe tbody tr th:only-of-type {\n",
              "        vertical-align: middle;\n",
              "    }\n",
              "\n",
              "    .dataframe tbody tr th {\n",
              "        vertical-align: top;\n",
              "    }\n",
              "\n",
              "    .dataframe thead th {\n",
              "        text-align: right;\n",
              "    }\n",
              "</style>\n",
              "<table border=\"1\" class=\"dataframe\">\n",
              "  <thead>\n",
              "    <tr style=\"text-align: right;\">\n",
              "      <th></th>\n",
              "      <th>user_id</th>\n",
              "      <th>book_id</th>\n",
              "      <th>rating</th>\n",
              "    </tr>\n",
              "  </thead>\n",
              "  <tbody>\n",
              "    <tr>\n",
              "      <th>1969128</th>\n",
              "      <td>26773</td>\n",
              "      <td>971</td>\n",
              "      <td>5</td>\n",
              "    </tr>\n",
              "    <tr>\n",
              "      <th>3489982</th>\n",
              "      <td>8978</td>\n",
              "      <td>2769</td>\n",
              "      <td>4</td>\n",
              "    </tr>\n",
              "  </tbody>\n",
              "</table>\n",
              "</div>"
            ],
            "text/plain": [
              "         user_id  book_id  rating\n",
              "1969128    26773      971       5\n",
              "3489982     8978     2769       4"
            ]
          },
          "metadata": {
            "tags": []
          }
        }
      ]
    },
    {
      "cell_type": "code",
      "metadata": {
        "id": "WnIIzgwuiSKA",
        "colab_type": "code",
        "colab": {}
      },
      "source": [
        "# Create a new data frame with the mean ratings that each user give for the books they rated\n",
        "\n",
        "mean_user_rating_df = mean_user_rating_df.groupby('user_id').mean().reset_index() # Obtain the mean rating for each user\n",
        "mean_user_rating_df.drop('book_id',axis=1,inplace=True)"
      ],
      "execution_count": 0,
      "outputs": []
    },
    {
      "cell_type": "code",
      "metadata": {
        "id": "ulGzJD0Uu4XK",
        "colab_type": "code",
        "outputId": "3e44060e-b6d3-41e0-c0d7-3bedcd917ea0",
        "colab": {
          "base_uri": "https://localhost:8080/",
          "height": 110
        }
      },
      "source": [
        "mean_user_rating_df.rename(columns = {\"rating\":\"mean_user_rating\"},inplace=True)\n",
        "display(mean_user_rating_df.head(2))"
      ],
      "execution_count": 26,
      "outputs": [
        {
          "output_type": "display_data",
          "data": {
            "text/html": [
              "<div>\n",
              "<style scoped>\n",
              "    .dataframe tbody tr th:only-of-type {\n",
              "        vertical-align: middle;\n",
              "    }\n",
              "\n",
              "    .dataframe tbody tr th {\n",
              "        vertical-align: top;\n",
              "    }\n",
              "\n",
              "    .dataframe thead th {\n",
              "        text-align: right;\n",
              "    }\n",
              "</style>\n",
              "<table border=\"1\" class=\"dataframe\">\n",
              "  <thead>\n",
              "    <tr style=\"text-align: right;\">\n",
              "      <th></th>\n",
              "      <th>user_id</th>\n",
              "      <th>mean_user_rating</th>\n",
              "    </tr>\n",
              "  </thead>\n",
              "  <tbody>\n",
              "    <tr>\n",
              "      <th>0</th>\n",
              "      <td>1</td>\n",
              "      <td>3.662921</td>\n",
              "    </tr>\n",
              "    <tr>\n",
              "      <th>1</th>\n",
              "      <td>2</td>\n",
              "      <td>4.450980</td>\n",
              "    </tr>\n",
              "  </tbody>\n",
              "</table>\n",
              "</div>"
            ],
            "text/plain": [
              "   user_id  mean_user_rating\n",
              "0        1          3.662921\n",
              "1        2          4.450980"
            ]
          },
          "metadata": {
            "tags": []
          }
        }
      ]
    },
    {
      "cell_type": "markdown",
      "metadata": {
        "id": "wB8xtuG1nbY6",
        "colab_type": "text"
      },
      "source": [
        "##### Test the Naive Mean User Rating Model"
      ]
    },
    {
      "cell_type": "code",
      "metadata": {
        "id": "jwQ-jZUy4cpO",
        "colab_type": "code",
        "outputId": "a527780c-1972-4e79-f296-b6b6d9950e28",
        "colab": {
          "base_uri": "https://localhost:8080/",
          "height": 110
        }
      },
      "source": [
        "# Test the mean ratings model\n",
        "\n",
        "testing_on_mean_user_rating_df = pd.merge(r_test,mean_user_rating_df)\n",
        "display(testing_on_mean_user_rating_df.head(2))"
      ],
      "execution_count": 27,
      "outputs": [
        {
          "output_type": "display_data",
          "data": {
            "text/html": [
              "<div>\n",
              "<style scoped>\n",
              "    .dataframe tbody tr th:only-of-type {\n",
              "        vertical-align: middle;\n",
              "    }\n",
              "\n",
              "    .dataframe tbody tr th {\n",
              "        vertical-align: top;\n",
              "    }\n",
              "\n",
              "    .dataframe thead th {\n",
              "        text-align: right;\n",
              "    }\n",
              "</style>\n",
              "<table border=\"1\" class=\"dataframe\">\n",
              "  <thead>\n",
              "    <tr style=\"text-align: right;\">\n",
              "      <th></th>\n",
              "      <th>user_id</th>\n",
              "      <th>book_id</th>\n",
              "      <th>rating</th>\n",
              "      <th>mean_user_rating</th>\n",
              "    </tr>\n",
              "  </thead>\n",
              "  <tbody>\n",
              "    <tr>\n",
              "      <th>0</th>\n",
              "      <td>35501</td>\n",
              "      <td>597</td>\n",
              "      <td>5</td>\n",
              "      <td>4.264151</td>\n",
              "    </tr>\n",
              "    <tr>\n",
              "      <th>1</th>\n",
              "      <td>35501</td>\n",
              "      <td>5052</td>\n",
              "      <td>5</td>\n",
              "      <td>4.264151</td>\n",
              "    </tr>\n",
              "  </tbody>\n",
              "</table>\n",
              "</div>"
            ],
            "text/plain": [
              "   user_id  book_id  rating  mean_user_rating\n",
              "0    35501      597       5          4.264151\n",
              "1    35501     5052       5          4.264151"
            ]
          },
          "metadata": {
            "tags": []
          }
        }
      ]
    },
    {
      "cell_type": "code",
      "metadata": {
        "id": "lmiAK8ZG2Sxi",
        "colab_type": "code",
        "outputId": "85927cae-06c3-40a0-da81-d18b1c15b472",
        "colab": {
          "base_uri": "https://localhost:8080/",
          "height": 35
        }
      },
      "source": [
        "# Check if the dataframe contains any null values\n",
        "\n",
        "testing_on_mean_user_rating_df.isna().values.any()"
      ],
      "execution_count": 28,
      "outputs": [
        {
          "output_type": "execute_result",
          "data": {
            "text/plain": [
              "False"
            ]
          },
          "metadata": {
            "tags": []
          },
          "execution_count": 28
        }
      ]
    },
    {
      "cell_type": "code",
      "metadata": {
        "id": "up17bNHgebPI",
        "colab_type": "code",
        "outputId": "a67e015d-ac3b-49ff-8586-5a50c8e6b0f9",
        "colab": {
          "base_uri": "https://localhost:8080/",
          "height": 35
        }
      },
      "source": [
        "# Obtain the test MSE\n",
        "\n",
        "mean_user_rating_test_mse = naive_loss(testing_on_mean_user_rating_df['mean_user_rating'],\n",
        "                                       testing_on_mean_user_rating_df['rating'])\n",
        "print(\"The test MSE is \",round(mean_user_rating_test_mse,3))"
      ],
      "execution_count": 29,
      "outputs": [
        {
          "output_type": "stream",
          "text": [
            "The test MSE is  0.8\n"
          ],
          "name": "stdout"
        }
      ]
    },
    {
      "cell_type": "markdown",
      "metadata": {
        "id": "ORgUhSCHupj9",
        "colab_type": "text"
      },
      "source": [
        "#### Mean Book Rating"
      ]
    },
    {
      "cell_type": "markdown",
      "metadata": {
        "id": "HIWwjDKQnvxx",
        "colab_type": "text"
      },
      "source": [
        "##### Pre-processing"
      ]
    },
    {
      "cell_type": "code",
      "metadata": {
        "id": "YeQB9SQ1Xjvj",
        "colab_type": "code",
        "outputId": "ea4b0a8e-4f0f-40ae-8263-3eff6ef50102",
        "colab": {
          "base_uri": "https://localhost:8080/",
          "height": 110
        }
      },
      "source": [
        "mean_book_rating_df = r_train_full.copy()\n",
        "display(mean_book_rating_df.head(2))"
      ],
      "execution_count": 30,
      "outputs": [
        {
          "output_type": "display_data",
          "data": {
            "text/html": [
              "<div>\n",
              "<style scoped>\n",
              "    .dataframe tbody tr th:only-of-type {\n",
              "        vertical-align: middle;\n",
              "    }\n",
              "\n",
              "    .dataframe tbody tr th {\n",
              "        vertical-align: top;\n",
              "    }\n",
              "\n",
              "    .dataframe thead th {\n",
              "        text-align: right;\n",
              "    }\n",
              "</style>\n",
              "<table border=\"1\" class=\"dataframe\">\n",
              "  <thead>\n",
              "    <tr style=\"text-align: right;\">\n",
              "      <th></th>\n",
              "      <th>user_id</th>\n",
              "      <th>book_id</th>\n",
              "      <th>rating</th>\n",
              "    </tr>\n",
              "  </thead>\n",
              "  <tbody>\n",
              "    <tr>\n",
              "      <th>1969128</th>\n",
              "      <td>26773</td>\n",
              "      <td>971</td>\n",
              "      <td>5</td>\n",
              "    </tr>\n",
              "    <tr>\n",
              "      <th>3489982</th>\n",
              "      <td>8978</td>\n",
              "      <td>2769</td>\n",
              "      <td>4</td>\n",
              "    </tr>\n",
              "  </tbody>\n",
              "</table>\n",
              "</div>"
            ],
            "text/plain": [
              "         user_id  book_id  rating\n",
              "1969128    26773      971       5\n",
              "3489982     8978     2769       4"
            ]
          },
          "metadata": {
            "tags": []
          }
        }
      ]
    },
    {
      "cell_type": "code",
      "metadata": {
        "id": "ZeTWjDrXXj9d",
        "colab_type": "code",
        "colab": {}
      },
      "source": [
        "# Create a new data frame with the mean ratings that each book received\n",
        "\n",
        "mean_book_rating_df = mean_book_rating_df.groupby('book_id').mean().reset_index()\n",
        "mean_book_rating_df.drop('user_id',axis=1,inplace=True)"
      ],
      "execution_count": 0,
      "outputs": []
    },
    {
      "cell_type": "code",
      "metadata": {
        "id": "JxC7WGHnuzgx",
        "colab_type": "code",
        "outputId": "ae309964-f9cd-4ffc-ea2e-60099bd2f8fa",
        "colab": {
          "base_uri": "https://localhost:8080/",
          "height": 110
        }
      },
      "source": [
        "mean_book_rating_df.rename(columns = {\"rating\":\"mean_book_rating\"},inplace=True)\n",
        "display(mean_book_rating_df.head(2))"
      ],
      "execution_count": 32,
      "outputs": [
        {
          "output_type": "display_data",
          "data": {
            "text/html": [
              "<div>\n",
              "<style scoped>\n",
              "    .dataframe tbody tr th:only-of-type {\n",
              "        vertical-align: middle;\n",
              "    }\n",
              "\n",
              "    .dataframe tbody tr th {\n",
              "        vertical-align: top;\n",
              "    }\n",
              "\n",
              "    .dataframe thead th {\n",
              "        text-align: right;\n",
              "    }\n",
              "</style>\n",
              "<table border=\"1\" class=\"dataframe\">\n",
              "  <thead>\n",
              "    <tr style=\"text-align: right;\">\n",
              "      <th></th>\n",
              "      <th>book_id</th>\n",
              "      <th>mean_book_rating</th>\n",
              "    </tr>\n",
              "  </thead>\n",
              "  <tbody>\n",
              "    <tr>\n",
              "      <th>0</th>\n",
              "      <td>1</td>\n",
              "      <td>4.282552</td>\n",
              "    </tr>\n",
              "    <tr>\n",
              "      <th>1</th>\n",
              "      <td>2</td>\n",
              "      <td>4.354979</td>\n",
              "    </tr>\n",
              "  </tbody>\n",
              "</table>\n",
              "</div>"
            ],
            "text/plain": [
              "   book_id  mean_book_rating\n",
              "0        1          4.282552\n",
              "1        2          4.354979"
            ]
          },
          "metadata": {
            "tags": []
          }
        }
      ]
    },
    {
      "cell_type": "code",
      "metadata": {
        "id": "a-_n7DlauzlT",
        "colab_type": "code",
        "outputId": "d6f90fb1-7309-48e1-939b-3232dcdedbcd",
        "colab": {
          "base_uri": "https://localhost:8080/",
          "height": 110
        }
      },
      "source": [
        "# Test the mean ratings model\n",
        "\n",
        "testing_on_mean_book_rating_df = pd.merge(r_test,mean_book_rating_df)\n",
        "display(testing_on_mean_book_rating_df.head(2))"
      ],
      "execution_count": 33,
      "outputs": [
        {
          "output_type": "display_data",
          "data": {
            "text/html": [
              "<div>\n",
              "<style scoped>\n",
              "    .dataframe tbody tr th:only-of-type {\n",
              "        vertical-align: middle;\n",
              "    }\n",
              "\n",
              "    .dataframe tbody tr th {\n",
              "        vertical-align: top;\n",
              "    }\n",
              "\n",
              "    .dataframe thead th {\n",
              "        text-align: right;\n",
              "    }\n",
              "</style>\n",
              "<table border=\"1\" class=\"dataframe\">\n",
              "  <thead>\n",
              "    <tr style=\"text-align: right;\">\n",
              "      <th></th>\n",
              "      <th>user_id</th>\n",
              "      <th>book_id</th>\n",
              "      <th>rating</th>\n",
              "      <th>mean_book_rating</th>\n",
              "    </tr>\n",
              "  </thead>\n",
              "  <tbody>\n",
              "    <tr>\n",
              "      <th>0</th>\n",
              "      <td>35501</td>\n",
              "      <td>597</td>\n",
              "      <td>5</td>\n",
              "      <td>3.775947</td>\n",
              "    </tr>\n",
              "    <tr>\n",
              "      <th>1</th>\n",
              "      <td>10241</td>\n",
              "      <td>597</td>\n",
              "      <td>4</td>\n",
              "      <td>3.775947</td>\n",
              "    </tr>\n",
              "  </tbody>\n",
              "</table>\n",
              "</div>"
            ],
            "text/plain": [
              "   user_id  book_id  rating  mean_book_rating\n",
              "0    35501      597       5          3.775947\n",
              "1    10241      597       4          3.775947"
            ]
          },
          "metadata": {
            "tags": []
          }
        }
      ]
    },
    {
      "cell_type": "code",
      "metadata": {
        "id": "6zIRGl8Muztg",
        "colab_type": "code",
        "outputId": "628521b9-a725-4c99-9d2d-10be279c4042",
        "colab": {
          "base_uri": "https://localhost:8080/",
          "height": 35
        }
      },
      "source": [
        "# Check if the dataframe contains any null values\n",
        "\n",
        "testing_on_mean_book_rating_df.isna().values.any()"
      ],
      "execution_count": 34,
      "outputs": [
        {
          "output_type": "execute_result",
          "data": {
            "text/plain": [
              "False"
            ]
          },
          "metadata": {
            "tags": []
          },
          "execution_count": 34
        }
      ]
    },
    {
      "cell_type": "markdown",
      "metadata": {
        "id": "YCEMpWSWnM8X",
        "colab_type": "text"
      },
      "source": [
        "##### Test the Naive Mean Book Rating Model\n",
        "\n"
      ]
    },
    {
      "cell_type": "code",
      "metadata": {
        "id": "tvaiuzaXuzp7",
        "colab_type": "code",
        "outputId": "0de3e6c5-e7f9-4ebb-c876-151a94f85c2f",
        "colab": {
          "base_uri": "https://localhost:8080/",
          "height": 35
        }
      },
      "source": [
        "# Obtain the test MSE\n",
        "\n",
        "mean_book_rating_test_mse = naive_loss(testing_on_mean_book_rating_df['mean_book_rating'],\n",
        "                                       testing_on_mean_book_rating_df['rating'])\n",
        "print(\"The test MSE is \", round(mean_book_rating_test_mse,3))"
      ],
      "execution_count": 35,
      "outputs": [
        {
          "output_type": "stream",
          "text": [
            "The test MSE is  0.911\n"
          ],
          "name": "stdout"
        }
      ]
    },
    {
      "cell_type": "markdown",
      "metadata": {
        "id": "hSUQX_lyakot",
        "colab_type": "text"
      },
      "source": [
        "The above shows that the naive user mean rating model has a lower test MSE."
      ]
    },
    {
      "cell_type": "markdown",
      "metadata": {
        "id": "0Tr2U07b5SAF",
        "colab_type": "text"
      },
      "source": [
        "### 4.4.2 Combined Means of Naive Models"
      ]
    },
    {
      "cell_type": "markdown",
      "metadata": {
        "id": "frYA4TYSeFw5",
        "colab_type": "text"
      },
      "source": [
        "Now, we shall attempt to combine `mean_user_rating` and `mean_book_pairing` to see how well does the combined mean do. The approach is as follows:\n",
        "\n",
        "1.   For each unique `user_id` and `book_id` pairing $(u,b)$, find the average of the `mean_user_rating` and the `mean_book_pairing`. This average will be referred to as `comb_mean_rating`. In other words, each $(u,b)$ pair has its own comb_mean_rating.\n",
        "2.   Due to constraints, we can only predict the users' rating and the books' received rating in the test set separately.\n",
        "\n",
        "  *   For each user $u$, we find the average of the mean rating of ($u$,$b$) pairings $\\forall{b} \\in$ books that $u$ has rated. This average will serve as the $\\hat{R}_{u,b}$ for user $u$ in the test set.\n",
        "  *   For each book $b$, we find the average of the mean rating of ($u$,$b$) pairings for all the ratings that book $b$ received from $u, \\forall{u} \\in$ users. This average will serve as the $\\hat{R}_{u,b}$ that book $b$ received in the test set.\n",
        "\n",
        "\n",
        "\n"
      ]
    },
    {
      "cell_type": "markdown",
      "metadata": {
        "id": "gLsKHUk0nxts",
        "colab_type": "text"
      },
      "source": [
        "#### Pre-processing"
      ]
    },
    {
      "cell_type": "code",
      "metadata": {
        "id": "9iWQh7pdgEuw",
        "colab_type": "code",
        "outputId": "6efcc14d-0bab-4731-a03d-08014b0c156e",
        "colab": {
          "base_uri": "https://localhost:8080/",
          "height": 110
        }
      },
      "source": [
        "comb_means_df = r_train_full.copy()\n",
        "display(comb_means_df.head(2))"
      ],
      "execution_count": 36,
      "outputs": [
        {
          "output_type": "display_data",
          "data": {
            "text/html": [
              "<div>\n",
              "<style scoped>\n",
              "    .dataframe tbody tr th:only-of-type {\n",
              "        vertical-align: middle;\n",
              "    }\n",
              "\n",
              "    .dataframe tbody tr th {\n",
              "        vertical-align: top;\n",
              "    }\n",
              "\n",
              "    .dataframe thead th {\n",
              "        text-align: right;\n",
              "    }\n",
              "</style>\n",
              "<table border=\"1\" class=\"dataframe\">\n",
              "  <thead>\n",
              "    <tr style=\"text-align: right;\">\n",
              "      <th></th>\n",
              "      <th>user_id</th>\n",
              "      <th>book_id</th>\n",
              "      <th>rating</th>\n",
              "    </tr>\n",
              "  </thead>\n",
              "  <tbody>\n",
              "    <tr>\n",
              "      <th>1969128</th>\n",
              "      <td>26773</td>\n",
              "      <td>971</td>\n",
              "      <td>5</td>\n",
              "    </tr>\n",
              "    <tr>\n",
              "      <th>3489982</th>\n",
              "      <td>8978</td>\n",
              "      <td>2769</td>\n",
              "      <td>4</td>\n",
              "    </tr>\n",
              "  </tbody>\n",
              "</table>\n",
              "</div>"
            ],
            "text/plain": [
              "         user_id  book_id  rating\n",
              "1969128    26773      971       5\n",
              "3489982     8978     2769       4"
            ]
          },
          "metadata": {
            "tags": []
          }
        }
      ]
    },
    {
      "cell_type": "code",
      "metadata": {
        "id": "AKqFo42KiwOj",
        "colab_type": "code",
        "outputId": "7793bb4d-d83d-49db-cf32-2b7eb3e24f6e",
        "colab": {
          "base_uri": "https://localhost:8080/",
          "height": 110
        }
      },
      "source": [
        "# Merge in the column of mean user ratings of each user\n",
        "\n",
        "comb_means_df2 = pd.merge(comb_means_df,mean_user_rating_df,on='user_id')\n",
        "display(comb_means_df2.head(2))"
      ],
      "execution_count": 37,
      "outputs": [
        {
          "output_type": "display_data",
          "data": {
            "text/html": [
              "<div>\n",
              "<style scoped>\n",
              "    .dataframe tbody tr th:only-of-type {\n",
              "        vertical-align: middle;\n",
              "    }\n",
              "\n",
              "    .dataframe tbody tr th {\n",
              "        vertical-align: top;\n",
              "    }\n",
              "\n",
              "    .dataframe thead th {\n",
              "        text-align: right;\n",
              "    }\n",
              "</style>\n",
              "<table border=\"1\" class=\"dataframe\">\n",
              "  <thead>\n",
              "    <tr style=\"text-align: right;\">\n",
              "      <th></th>\n",
              "      <th>user_id</th>\n",
              "      <th>book_id</th>\n",
              "      <th>rating</th>\n",
              "      <th>mean_user_rating</th>\n",
              "    </tr>\n",
              "  </thead>\n",
              "  <tbody>\n",
              "    <tr>\n",
              "      <th>0</th>\n",
              "      <td>26773</td>\n",
              "      <td>971</td>\n",
              "      <td>5</td>\n",
              "      <td>4.029703</td>\n",
              "    </tr>\n",
              "    <tr>\n",
              "      <th>1</th>\n",
              "      <td>26773</td>\n",
              "      <td>1026</td>\n",
              "      <td>4</td>\n",
              "      <td>4.029703</td>\n",
              "    </tr>\n",
              "  </tbody>\n",
              "</table>\n",
              "</div>"
            ],
            "text/plain": [
              "   user_id  book_id  rating  mean_user_rating\n",
              "0    26773      971       5          4.029703\n",
              "1    26773     1026       4          4.029703"
            ]
          },
          "metadata": {
            "tags": []
          }
        }
      ]
    },
    {
      "cell_type": "code",
      "metadata": {
        "id": "XzabZpbFkDS5",
        "colab_type": "code",
        "outputId": "ffdc2fa0-6bb4-49e8-fd0a-85f2278572d4",
        "colab": {
          "base_uri": "https://localhost:8080/",
          "height": 110
        }
      },
      "source": [
        "# Merge in the column of mean book ratings that each book received\n",
        "\n",
        "comb_means_df3 = pd.merge(comb_means_df2,mean_book_rating_df,on='book_id')\n",
        "display(comb_means_df3.head(2))"
      ],
      "execution_count": 38,
      "outputs": [
        {
          "output_type": "display_data",
          "data": {
            "text/html": [
              "<div>\n",
              "<style scoped>\n",
              "    .dataframe tbody tr th:only-of-type {\n",
              "        vertical-align: middle;\n",
              "    }\n",
              "\n",
              "    .dataframe tbody tr th {\n",
              "        vertical-align: top;\n",
              "    }\n",
              "\n",
              "    .dataframe thead th {\n",
              "        text-align: right;\n",
              "    }\n",
              "</style>\n",
              "<table border=\"1\" class=\"dataframe\">\n",
              "  <thead>\n",
              "    <tr style=\"text-align: right;\">\n",
              "      <th></th>\n",
              "      <th>user_id</th>\n",
              "      <th>book_id</th>\n",
              "      <th>rating</th>\n",
              "      <th>mean_user_rating</th>\n",
              "      <th>mean_book_rating</th>\n",
              "    </tr>\n",
              "  </thead>\n",
              "  <tbody>\n",
              "    <tr>\n",
              "      <th>0</th>\n",
              "      <td>26773</td>\n",
              "      <td>971</td>\n",
              "      <td>5</td>\n",
              "      <td>4.029703</td>\n",
              "      <td>4.044794</td>\n",
              "    </tr>\n",
              "    <tr>\n",
              "      <th>1</th>\n",
              "      <td>34809</td>\n",
              "      <td>971</td>\n",
              "      <td>2</td>\n",
              "      <td>3.877358</td>\n",
              "      <td>4.044794</td>\n",
              "    </tr>\n",
              "  </tbody>\n",
              "</table>\n",
              "</div>"
            ],
            "text/plain": [
              "   user_id  book_id  rating  mean_user_rating  mean_book_rating\n",
              "0    26773      971       5          4.029703          4.044794\n",
              "1    34809      971       2          3.877358          4.044794"
            ]
          },
          "metadata": {
            "tags": []
          }
        }
      ]
    },
    {
      "cell_type": "code",
      "metadata": {
        "id": "mQv-1elOT_6E",
        "colab_type": "code",
        "outputId": "6146300c-7db8-48c6-a126-a5a1edaeffb2",
        "colab": {
          "base_uri": "https://localhost:8080/",
          "height": 110
        }
      },
      "source": [
        "# Obtain the dataframe with the combined means column\n",
        "\n",
        "mean_user_rating_series = comb_means_df3['mean_user_rating']\n",
        "mean_book_rating_series = comb_means_df3['mean_book_rating']\n",
        "comb_means_pretrain_df = comb_means_df3.assign(comb_mean_rating = pd.Series(\n",
        "    (mean_user_rating_series + mean_book_rating_series)/2).values)\n",
        "display(comb_means_pretrain_df.head(2))"
      ],
      "execution_count": 39,
      "outputs": [
        {
          "output_type": "display_data",
          "data": {
            "text/html": [
              "<div>\n",
              "<style scoped>\n",
              "    .dataframe tbody tr th:only-of-type {\n",
              "        vertical-align: middle;\n",
              "    }\n",
              "\n",
              "    .dataframe tbody tr th {\n",
              "        vertical-align: top;\n",
              "    }\n",
              "\n",
              "    .dataframe thead th {\n",
              "        text-align: right;\n",
              "    }\n",
              "</style>\n",
              "<table border=\"1\" class=\"dataframe\">\n",
              "  <thead>\n",
              "    <tr style=\"text-align: right;\">\n",
              "      <th></th>\n",
              "      <th>user_id</th>\n",
              "      <th>book_id</th>\n",
              "      <th>rating</th>\n",
              "      <th>mean_user_rating</th>\n",
              "      <th>mean_book_rating</th>\n",
              "      <th>comb_mean_rating</th>\n",
              "    </tr>\n",
              "  </thead>\n",
              "  <tbody>\n",
              "    <tr>\n",
              "      <th>0</th>\n",
              "      <td>26773</td>\n",
              "      <td>971</td>\n",
              "      <td>5</td>\n",
              "      <td>4.029703</td>\n",
              "      <td>4.044794</td>\n",
              "      <td>4.037249</td>\n",
              "    </tr>\n",
              "    <tr>\n",
              "      <th>1</th>\n",
              "      <td>34809</td>\n",
              "      <td>971</td>\n",
              "      <td>2</td>\n",
              "      <td>3.877358</td>\n",
              "      <td>4.044794</td>\n",
              "      <td>3.961076</td>\n",
              "    </tr>\n",
              "  </tbody>\n",
              "</table>\n",
              "</div>"
            ],
            "text/plain": [
              "   user_id  book_id  ...  mean_book_rating  comb_mean_rating\n",
              "0    26773      971  ...          4.044794          4.037249\n",
              "1    34809      971  ...          4.044794          3.961076\n",
              "\n",
              "[2 rows x 6 columns]"
            ]
          },
          "metadata": {
            "tags": []
          }
        }
      ]
    },
    {
      "cell_type": "code",
      "metadata": {
        "id": "wBAQydKOoW3B",
        "colab_type": "code",
        "outputId": "c0682e37-318f-4091-af83-b4be434e5935",
        "colab": {
          "base_uri": "https://localhost:8080/",
          "height": 110
        }
      },
      "source": [
        "# Combine the user_id and book_id columns\n",
        "# This will be the dataframe that the next few sections will base on\n",
        "# It is the equivalent of r_train, except that `rating` is replaced by \n",
        "# `comb_mean_rating` which is the mean of `mean_user_rating` and `mean_book_rating`\n",
        "\n",
        "comb_means_pretrain_df.drop(['rating','mean_user_rating','mean_book_rating'],axis=1,inplace=True)\n",
        "display(comb_means_pretrain_df.head(2))"
      ],
      "execution_count": 40,
      "outputs": [
        {
          "output_type": "display_data",
          "data": {
            "text/html": [
              "<div>\n",
              "<style scoped>\n",
              "    .dataframe tbody tr th:only-of-type {\n",
              "        vertical-align: middle;\n",
              "    }\n",
              "\n",
              "    .dataframe tbody tr th {\n",
              "        vertical-align: top;\n",
              "    }\n",
              "\n",
              "    .dataframe thead th {\n",
              "        text-align: right;\n",
              "    }\n",
              "</style>\n",
              "<table border=\"1\" class=\"dataframe\">\n",
              "  <thead>\n",
              "    <tr style=\"text-align: right;\">\n",
              "      <th></th>\n",
              "      <th>user_id</th>\n",
              "      <th>book_id</th>\n",
              "      <th>comb_mean_rating</th>\n",
              "    </tr>\n",
              "  </thead>\n",
              "  <tbody>\n",
              "    <tr>\n",
              "      <th>0</th>\n",
              "      <td>26773</td>\n",
              "      <td>971</td>\n",
              "      <td>4.037249</td>\n",
              "    </tr>\n",
              "    <tr>\n",
              "      <th>1</th>\n",
              "      <td>34809</td>\n",
              "      <td>971</td>\n",
              "      <td>3.961076</td>\n",
              "    </tr>\n",
              "  </tbody>\n",
              "</table>\n",
              "</div>"
            ],
            "text/plain": [
              "   user_id  book_id  comb_mean_rating\n",
              "0    26773      971          4.037249\n",
              "1    34809      971          3.961076"
            ]
          },
          "metadata": {
            "tags": []
          }
        }
      ]
    },
    {
      "cell_type": "markdown",
      "metadata": {
        "id": "SbnoPPwKzQIE",
        "colab_type": "text"
      },
      "source": [
        "#### Combined Means for Users"
      ]
    },
    {
      "cell_type": "code",
      "metadata": {
        "id": "qCNycCHIzDvt",
        "colab_type": "code",
        "outputId": "8e9c23a0-4a4a-4fd2-fe2a-c89c51a2e806",
        "colab": {
          "base_uri": "https://localhost:8080/",
          "height": 110
        }
      },
      "source": [
        "comb_mean_user_rating_df = comb_means_pretrain_df.groupby('user_id').mean().reset_index() # Average combinned mean rating each user gave\n",
        "comb_mean_user_rating_df.drop('book_id',axis=1,inplace=True)\n",
        "display(comb_mean_user_rating_df.head(2))"
      ],
      "execution_count": 41,
      "outputs": [
        {
          "output_type": "display_data",
          "data": {
            "text/html": [
              "<div>\n",
              "<style scoped>\n",
              "    .dataframe tbody tr th:only-of-type {\n",
              "        vertical-align: middle;\n",
              "    }\n",
              "\n",
              "    .dataframe tbody tr th {\n",
              "        vertical-align: top;\n",
              "    }\n",
              "\n",
              "    .dataframe thead th {\n",
              "        text-align: right;\n",
              "    }\n",
              "</style>\n",
              "<table border=\"1\" class=\"dataframe\">\n",
              "  <thead>\n",
              "    <tr style=\"text-align: right;\">\n",
              "      <th></th>\n",
              "      <th>user_id</th>\n",
              "      <th>comb_mean_rating</th>\n",
              "    </tr>\n",
              "  </thead>\n",
              "  <tbody>\n",
              "    <tr>\n",
              "      <th>0</th>\n",
              "      <td>1</td>\n",
              "      <td>3.788069</td>\n",
              "    </tr>\n",
              "    <tr>\n",
              "      <th>1</th>\n",
              "      <td>2</td>\n",
              "      <td>4.185824</td>\n",
              "    </tr>\n",
              "  </tbody>\n",
              "</table>\n",
              "</div>"
            ],
            "text/plain": [
              "   user_id  comb_mean_rating\n",
              "0        1          3.788069\n",
              "1        2          4.185824"
            ]
          },
          "metadata": {
            "tags": []
          }
        }
      ]
    },
    {
      "cell_type": "markdown",
      "metadata": {
        "id": "Gge6zkBqn0C2",
        "colab_type": "text"
      },
      "source": [
        "##### Test the Combined Means Model in Predicting User Ratings\n"
      ]
    },
    {
      "cell_type": "code",
      "metadata": {
        "id": "F-Rq6RUirTBK",
        "colab_type": "code",
        "colab": {}
      },
      "source": [
        "test_set = r_test.copy()"
      ],
      "execution_count": 0,
      "outputs": []
    },
    {
      "cell_type": "code",
      "metadata": {
        "id": "-PZ2BflZr0Br",
        "colab_type": "code",
        "outputId": "0618a5f8-3089-4181-aa86-60da8b4e0d15",
        "colab": {
          "base_uri": "https://localhost:8080/",
          "height": 202
        }
      },
      "source": [
        "testing_on_comb_mean_user_rating_df = pd.merge(test_set,comb_mean_user_rating_df,on='user_id')\n",
        "display(testing_on_comb_mean_user_rating_df.head())"
      ],
      "execution_count": 43,
      "outputs": [
        {
          "output_type": "display_data",
          "data": {
            "text/html": [
              "<div>\n",
              "<style scoped>\n",
              "    .dataframe tbody tr th:only-of-type {\n",
              "        vertical-align: middle;\n",
              "    }\n",
              "\n",
              "    .dataframe tbody tr th {\n",
              "        vertical-align: top;\n",
              "    }\n",
              "\n",
              "    .dataframe thead th {\n",
              "        text-align: right;\n",
              "    }\n",
              "</style>\n",
              "<table border=\"1\" class=\"dataframe\">\n",
              "  <thead>\n",
              "    <tr style=\"text-align: right;\">\n",
              "      <th></th>\n",
              "      <th>user_id</th>\n",
              "      <th>book_id</th>\n",
              "      <th>rating</th>\n",
              "      <th>comb_mean_rating</th>\n",
              "    </tr>\n",
              "  </thead>\n",
              "  <tbody>\n",
              "    <tr>\n",
              "      <th>0</th>\n",
              "      <td>35501</td>\n",
              "      <td>597</td>\n",
              "      <td>5</td>\n",
              "      <td>4.099783</td>\n",
              "    </tr>\n",
              "    <tr>\n",
              "      <th>1</th>\n",
              "      <td>35501</td>\n",
              "      <td>5052</td>\n",
              "      <td>5</td>\n",
              "      <td>4.099783</td>\n",
              "    </tr>\n",
              "    <tr>\n",
              "      <th>2</th>\n",
              "      <td>35501</td>\n",
              "      <td>3127</td>\n",
              "      <td>5</td>\n",
              "      <td>4.099783</td>\n",
              "    </tr>\n",
              "    <tr>\n",
              "      <th>3</th>\n",
              "      <td>35501</td>\n",
              "      <td>9407</td>\n",
              "      <td>4</td>\n",
              "      <td>4.099783</td>\n",
              "    </tr>\n",
              "    <tr>\n",
              "      <th>4</th>\n",
              "      <td>35501</td>\n",
              "      <td>413</td>\n",
              "      <td>5</td>\n",
              "      <td>4.099783</td>\n",
              "    </tr>\n",
              "  </tbody>\n",
              "</table>\n",
              "</div>"
            ],
            "text/plain": [
              "   user_id  book_id  rating  comb_mean_rating\n",
              "0    35501      597       5          4.099783\n",
              "1    35501     5052       5          4.099783\n",
              "2    35501     3127       5          4.099783\n",
              "3    35501     9407       4          4.099783\n",
              "4    35501      413       5          4.099783"
            ]
          },
          "metadata": {
            "tags": []
          }
        }
      ]
    },
    {
      "cell_type": "code",
      "metadata": {
        "id": "GGcOXkfMsih_",
        "colab_type": "code",
        "outputId": "3cc16419-729c-4ef9-d5cb-112cbc3539af",
        "colab": {
          "base_uri": "https://localhost:8080/",
          "height": 35
        }
      },
      "source": [
        "# Obtain the test MSE\n",
        "r_hat = testing_on_comb_mean_user_rating_df[\"comb_mean_rating\"]\n",
        "r_actual = testing_on_comb_mean_user_rating_df[\"rating\"]\n",
        "comb_user_test_mse = naive_loss(r_hat,r_actual)\n",
        "print(\"The test MSE is \",comb_user_test_mse)"
      ],
      "execution_count": 44,
      "outputs": [
        {
          "output_type": "stream",
          "text": [
            "The test MSE is  0.8392796632308017\n"
          ],
          "name": "stdout"
        }
      ]
    },
    {
      "cell_type": "markdown",
      "metadata": {
        "id": "4Fz9H-79ziCo",
        "colab_type": "text"
      },
      "source": [
        "#### Combined Means for Books"
      ]
    },
    {
      "cell_type": "code",
      "metadata": {
        "id": "lzyllncGzb4E",
        "colab_type": "code",
        "outputId": "b1b80e07-6963-4201-87bd-c2a1ad08f519",
        "colab": {
          "base_uri": "https://localhost:8080/",
          "height": 110
        }
      },
      "source": [
        "comb_mean_book_rating_df = comb_means_pretrain_df.groupby('book_id').mean().reset_index() # Average combinned mean rating each book received\n",
        "comb_mean_book_rating_df.drop('user_id',axis=1,inplace=True)\n",
        "display(comb_mean_book_rating_df.head(2))"
      ],
      "execution_count": 45,
      "outputs": [
        {
          "output_type": "display_data",
          "data": {
            "text/html": [
              "<div>\n",
              "<style scoped>\n",
              "    .dataframe tbody tr th:only-of-type {\n",
              "        vertical-align: middle;\n",
              "    }\n",
              "\n",
              "    .dataframe tbody tr th {\n",
              "        vertical-align: top;\n",
              "    }\n",
              "\n",
              "    .dataframe thead th {\n",
              "        text-align: right;\n",
              "    }\n",
              "</style>\n",
              "<table border=\"1\" class=\"dataframe\">\n",
              "  <thead>\n",
              "    <tr style=\"text-align: right;\">\n",
              "      <th></th>\n",
              "      <th>book_id</th>\n",
              "      <th>comb_mean_rating</th>\n",
              "    </tr>\n",
              "  </thead>\n",
              "  <tbody>\n",
              "    <tr>\n",
              "      <th>0</th>\n",
              "      <td>1</td>\n",
              "      <td>4.115085</td>\n",
              "    </tr>\n",
              "    <tr>\n",
              "      <th>1</th>\n",
              "      <td>2</td>\n",
              "      <td>4.156746</td>\n",
              "    </tr>\n",
              "  </tbody>\n",
              "</table>\n",
              "</div>"
            ],
            "text/plain": [
              "   book_id  comb_mean_rating\n",
              "0        1          4.115085\n",
              "1        2          4.156746"
            ]
          },
          "metadata": {
            "tags": []
          }
        }
      ]
    },
    {
      "cell_type": "markdown",
      "metadata": {
        "id": "pII21gKarLL5",
        "colab_type": "text"
      },
      "source": [
        "##### Test the Combined Means Model in Predicting Book Ratings\n"
      ]
    },
    {
      "cell_type": "code",
      "metadata": {
        "id": "M5A7-_OnUAEa",
        "colab_type": "code",
        "outputId": "79f6b7d9-f469-4f56-844f-c6712b91cb1e",
        "colab": {
          "base_uri": "https://localhost:8080/",
          "height": 202
        }
      },
      "source": [
        "testing_on_comb_mean_book_rating_df = pd.merge(test_set,comb_mean_book_rating_df,on='book_id')\n",
        "display(testing_on_comb_mean_book_rating_df.head())"
      ],
      "execution_count": 46,
      "outputs": [
        {
          "output_type": "display_data",
          "data": {
            "text/html": [
              "<div>\n",
              "<style scoped>\n",
              "    .dataframe tbody tr th:only-of-type {\n",
              "        vertical-align: middle;\n",
              "    }\n",
              "\n",
              "    .dataframe tbody tr th {\n",
              "        vertical-align: top;\n",
              "    }\n",
              "\n",
              "    .dataframe thead th {\n",
              "        text-align: right;\n",
              "    }\n",
              "</style>\n",
              "<table border=\"1\" class=\"dataframe\">\n",
              "  <thead>\n",
              "    <tr style=\"text-align: right;\">\n",
              "      <th></th>\n",
              "      <th>user_id</th>\n",
              "      <th>book_id</th>\n",
              "      <th>rating</th>\n",
              "      <th>comb_mean_rating</th>\n",
              "    </tr>\n",
              "  </thead>\n",
              "  <tbody>\n",
              "    <tr>\n",
              "      <th>0</th>\n",
              "      <td>35501</td>\n",
              "      <td>597</td>\n",
              "      <td>5</td>\n",
              "      <td>3.837417</td>\n",
              "    </tr>\n",
              "    <tr>\n",
              "      <th>1</th>\n",
              "      <td>10241</td>\n",
              "      <td>597</td>\n",
              "      <td>4</td>\n",
              "      <td>3.837417</td>\n",
              "    </tr>\n",
              "    <tr>\n",
              "      <th>2</th>\n",
              "      <td>46841</td>\n",
              "      <td>597</td>\n",
              "      <td>3</td>\n",
              "      <td>3.837417</td>\n",
              "    </tr>\n",
              "    <tr>\n",
              "      <th>3</th>\n",
              "      <td>15547</td>\n",
              "      <td>597</td>\n",
              "      <td>2</td>\n",
              "      <td>3.837417</td>\n",
              "    </tr>\n",
              "    <tr>\n",
              "      <th>4</th>\n",
              "      <td>2149</td>\n",
              "      <td>597</td>\n",
              "      <td>3</td>\n",
              "      <td>3.837417</td>\n",
              "    </tr>\n",
              "  </tbody>\n",
              "</table>\n",
              "</div>"
            ],
            "text/plain": [
              "   user_id  book_id  rating  comb_mean_rating\n",
              "0    35501      597       5          3.837417\n",
              "1    10241      597       4          3.837417\n",
              "2    46841      597       3          3.837417\n",
              "3    15547      597       2          3.837417\n",
              "4     2149      597       3          3.837417"
            ]
          },
          "metadata": {
            "tags": []
          }
        }
      ]
    },
    {
      "cell_type": "code",
      "metadata": {
        "id": "C365ds4RUAKv",
        "colab_type": "code",
        "outputId": "51eeeaec-c173-41f2-94ee-b83fc7c3dd61",
        "colab": {
          "base_uri": "https://localhost:8080/",
          "height": 35
        }
      },
      "source": [
        "# Obtain the test MSE\n",
        "r_hat = testing_on_comb_mean_book_rating_df[\"comb_mean_rating\"]\n",
        "r_actual = testing_on_comb_mean_book_rating_df[\"rating\"]\n",
        "comb_book_test_mse = naive_loss(r_hat,r_actual)\n",
        "print(\"The test MSE is \",comb_book_test_mse)"
      ],
      "execution_count": 47,
      "outputs": [
        {
          "output_type": "stream",
          "text": [
            "The test MSE is  0.925705391079081\n"
          ],
          "name": "stdout"
        }
      ]
    },
    {
      "cell_type": "markdown",
      "metadata": {
        "id": "CN-vGRxlcIX5",
        "colab_type": "text"
      },
      "source": [
        "So far, the naive mean user rating still performs the best in terms of test MSE."
      ]
    },
    {
      "cell_type": "markdown",
      "metadata": {
        "id": "h8_HNzr4YjAC",
        "colab_type": "text"
      },
      "source": [
        "### 4.4.3 User Reversion Towards the Mean"
      ]
    },
    {
      "cell_type": "markdown",
      "metadata": {
        "id": "MTjSsg9ZY771",
        "colab_type": "text"
      },
      "source": [
        "We consider the regularized estimate\n",
        "\n",
        "$$\n",
        "\\hat{R}_{u,b} = \\frac{1}{\\alpha + |F(u)|} (\\alpha M + \\sum_{f\\in{F(u)}}R_{(u,b)})\n",
        "$$\n",
        "\n",
        "where \n",
        "- $M$ is the total mean of all the ratings \n",
        "- $F(u)$ is the set of films rated by user $u$, and $\\alpha > 0$ is a parameter of the model.  \n",
        "\n",
        "We shall choose $\\alpha$ using cross-validation (CV), choosing the alpha that gives the lowest CV error. Our metric used will be the same as that used for the naive models."
      ]
    },
    {
      "cell_type": "markdown",
      "metadata": {
        "id": "Op4YO5xpb6-i",
        "colab_type": "text"
      },
      "source": [
        "#### Finding $|F(u)|$, $M$, and $\\sum_{f\\in{F(u)}}R_{(u,b)}$"
      ]
    },
    {
      "cell_type": "code",
      "metadata": {
        "id": "InCCSZctdImN",
        "colab_type": "code",
        "outputId": "9e235e08-69ce-45fa-fb3c-51d806418888",
        "colab": {
          "base_uri": "https://localhost:8080/",
          "height": 110
        }
      },
      "source": [
        "display(r_train.head(2))"
      ],
      "execution_count": 48,
      "outputs": [
        {
          "output_type": "display_data",
          "data": {
            "text/html": [
              "<div>\n",
              "<style scoped>\n",
              "    .dataframe tbody tr th:only-of-type {\n",
              "        vertical-align: middle;\n",
              "    }\n",
              "\n",
              "    .dataframe tbody tr th {\n",
              "        vertical-align: top;\n",
              "    }\n",
              "\n",
              "    .dataframe thead th {\n",
              "        text-align: right;\n",
              "    }\n",
              "</style>\n",
              "<table border=\"1\" class=\"dataframe\">\n",
              "  <thead>\n",
              "    <tr style=\"text-align: right;\">\n",
              "      <th></th>\n",
              "      <th>user_id</th>\n",
              "      <th>book_id</th>\n",
              "      <th>rating</th>\n",
              "    </tr>\n",
              "  </thead>\n",
              "  <tbody>\n",
              "    <tr>\n",
              "      <th>1969128</th>\n",
              "      <td>26773</td>\n",
              "      <td>971</td>\n",
              "      <td>5</td>\n",
              "    </tr>\n",
              "    <tr>\n",
              "      <th>3489982</th>\n",
              "      <td>8978</td>\n",
              "      <td>2769</td>\n",
              "      <td>4</td>\n",
              "    </tr>\n",
              "  </tbody>\n",
              "</table>\n",
              "</div>"
            ],
            "text/plain": [
              "         user_id  book_id  rating\n",
              "1969128    26773      971       5\n",
              "3489982     8978     2769       4"
            ]
          },
          "metadata": {
            "tags": []
          }
        }
      ]
    },
    {
      "cell_type": "code",
      "metadata": {
        "id": "UxnxkRtxYq2A",
        "colab_type": "code",
        "outputId": "9ae727d9-2dc0-42b1-e684-d7179a4a6ba7",
        "colab": {
          "base_uri": "https://localhost:8080/",
          "height": 110
        }
      },
      "source": [
        "# Finding |F(U)| of each user\n",
        "\n",
        "rev_train_fu = r_train.groupby('user_id').size().reset_index(name = 'num_of_books_rated')\n",
        "display(rev_train_fu.head(2))"
      ],
      "execution_count": 49,
      "outputs": [
        {
          "output_type": "display_data",
          "data": {
            "text/html": [
              "<div>\n",
              "<style scoped>\n",
              "    .dataframe tbody tr th:only-of-type {\n",
              "        vertical-align: middle;\n",
              "    }\n",
              "\n",
              "    .dataframe tbody tr th {\n",
              "        vertical-align: top;\n",
              "    }\n",
              "\n",
              "    .dataframe thead th {\n",
              "        text-align: right;\n",
              "    }\n",
              "</style>\n",
              "<table border=\"1\" class=\"dataframe\">\n",
              "  <thead>\n",
              "    <tr style=\"text-align: right;\">\n",
              "      <th></th>\n",
              "      <th>user_id</th>\n",
              "      <th>num_of_books_rated</th>\n",
              "    </tr>\n",
              "  </thead>\n",
              "  <tbody>\n",
              "    <tr>\n",
              "      <th>0</th>\n",
              "      <td>1</td>\n",
              "      <td>72</td>\n",
              "    </tr>\n",
              "    <tr>\n",
              "      <th>1</th>\n",
              "      <td>2</td>\n",
              "      <td>44</td>\n",
              "    </tr>\n",
              "  </tbody>\n",
              "</table>\n",
              "</div>"
            ],
            "text/plain": [
              "   user_id  num_of_books_rated\n",
              "0        1                  72\n",
              "1        2                  44"
            ]
          },
          "metadata": {
            "tags": []
          }
        }
      ]
    },
    {
      "cell_type": "code",
      "metadata": {
        "id": "641G06iYe8yf",
        "colab_type": "code",
        "outputId": "10e63a2e-44cf-428e-801b-6adafed80ea8",
        "colab": {
          "base_uri": "https://localhost:8080/",
          "height": 35
        }
      },
      "source": [
        "# Finding M \n",
        "\n",
        "M = r_train['rating'].mean()\n",
        "print(M)\n",
        "# M is 3.919"
      ],
      "execution_count": 50,
      "outputs": [
        {
          "output_type": "stream",
          "text": [
            "3.9201011151265623\n"
          ],
          "name": "stdout"
        }
      ]
    },
    {
      "cell_type": "code",
      "metadata": {
        "id": "h8BShls5cWBQ",
        "colab_type": "code",
        "outputId": "cb52186e-d792-409c-d94b-b8aeb1418ec5",
        "colab": {
          "base_uri": "https://localhost:8080/",
          "height": 110
        }
      },
      "source": [
        "# Finding sum of R_ub\n",
        "\n",
        "rev_train_sum_of_ratings = r_train.groupby('user_id').sum().reset_index()\n",
        "rev_train_sum_of_ratings.drop('book_id',axis = 1,inplace=True)\n",
        "rev_train_sum_of_ratings.rename(columns = {\"rating\" : \"sum_of_ratings\"}, inplace=True)\n",
        "display(rev_train_sum_of_ratings.head(2))"
      ],
      "execution_count": 51,
      "outputs": [
        {
          "output_type": "display_data",
          "data": {
            "text/html": [
              "<div>\n",
              "<style scoped>\n",
              "    .dataframe tbody tr th:only-of-type {\n",
              "        vertical-align: middle;\n",
              "    }\n",
              "\n",
              "    .dataframe tbody tr th {\n",
              "        vertical-align: top;\n",
              "    }\n",
              "\n",
              "    .dataframe thead th {\n",
              "        text-align: right;\n",
              "    }\n",
              "</style>\n",
              "<table border=\"1\" class=\"dataframe\">\n",
              "  <thead>\n",
              "    <tr style=\"text-align: right;\">\n",
              "      <th></th>\n",
              "      <th>user_id</th>\n",
              "      <th>sum_of_ratings</th>\n",
              "    </tr>\n",
              "  </thead>\n",
              "  <tbody>\n",
              "    <tr>\n",
              "      <th>0</th>\n",
              "      <td>1</td>\n",
              "      <td>266</td>\n",
              "    </tr>\n",
              "    <tr>\n",
              "      <th>1</th>\n",
              "      <td>2</td>\n",
              "      <td>200</td>\n",
              "    </tr>\n",
              "  </tbody>\n",
              "</table>\n",
              "</div>"
            ],
            "text/plain": [
              "   user_id  sum_of_ratings\n",
              "0        1             266\n",
              "1        2             200"
            ]
          },
          "metadata": {
            "tags": []
          }
        }
      ]
    },
    {
      "cell_type": "markdown",
      "metadata": {
        "id": "CGAjgc29Kd08",
        "colab_type": "text"
      },
      "source": [
        "For convenience, let's define some functions that helps us obtain the above values."
      ]
    },
    {
      "cell_type": "markdown",
      "metadata": {
        "id": "B7tNF10ucagu",
        "colab_type": "text"
      },
      "source": [
        "#### Functions"
      ]
    },
    {
      "cell_type": "code",
      "metadata": {
        "id": "Ir4en-wa_-x_",
        "colab_type": "code",
        "colab": {}
      },
      "source": [
        "# Function that calculates r_hat\n",
        "def rev_r_hat(alpha,mod_f,sum_of_R_ub,M):\n",
        "  \"\"\"\n",
        "  Returns rating estimated by reversion towards mean\n",
        "  \"\"\"\n",
        "  first_term = 1/ (alpha + mod_f)\n",
        "  second_term = (alpha * M) + sum_of_R_ub\n",
        "  return round(first_term * second_term)"
      ],
      "execution_count": 0,
      "outputs": []
    },
    {
      "cell_type": "code",
      "metadata": {
        "id": "43FZ0eqYEFv4",
        "colab_type": "code",
        "colab": {}
      },
      "source": [
        "# Functions for preprocessing\n",
        "\n",
        "def get_fu(df):\n",
        "  return df.groupby('user_id').size().reset_index(name = 'num_of_books_rated')\n",
        "\n",
        "def get_M(df):\n",
        "  return df['rating'].mean()\n",
        "\n",
        "def get_sum_of_R_ub(df):\n",
        "  rev_train_sum_of_ratings = df.groupby('user_id').sum().reset_index()\n",
        "  rev_train_sum_of_ratings.drop('book_id',axis = 1,inplace=True)\n",
        "  rev_train_sum_of_ratings.rename(columns = {\"rating\" : \"sum_of_ratings\"}, inplace=True)\n",
        "  return rev_train_sum_of_ratings\n",
        "\n",
        "def user_prepro_rev(rev_train):\n",
        "  \"\"\"\n",
        "  Returns the training dataframe with desired headers and M\n",
        "  ['user_id','book_id','rating',num_of_books_rated','sum_of_ratings']\n",
        "  \"\"\"\n",
        "\n",
        "  # Obtain |F(u)|\n",
        "  rev_train_fu = get_fu(rev_train)\n",
        "  \n",
        "  # Obtain M\n",
        "  M = get_M(rev_train)\n",
        "\n",
        "  # Obtain sum of R_ub\n",
        "  rev_train_sum_of_ratings = get_sum_of_R_ub(rev_train)\n",
        "\n",
        "  # Merge to obtain desired dataframe and M\n",
        "  rev_train_temp = pd.merge(rev_train,rev_train_fu)\n",
        "  rev_train_temp2 = pd.merge(rev_train_temp,rev_train_sum_of_ratings)\n",
        "  rev_train_final = rev_train_temp2.groupby('user_id').mean().reset_index()\n",
        "  return rev_train_final, M"
      ],
      "execution_count": 0,
      "outputs": []
    },
    {
      "cell_type": "code",
      "metadata": {
        "id": "PNJTMqwZi0Aj",
        "colab_type": "code",
        "colab": {}
      },
      "source": [
        "# Helper merge function\n",
        "def merge_df_on_user_id(df1,df2):\n",
        "  merged_df = pd.merge(df1,df2,on='user_id')\n",
        "  return merged_df\n",
        "\n",
        "# Loss Function\n",
        "def user_rev_loss(alpha,mod_f, sum_of_R_ub, train_df, df2, M):\n",
        "  \"\"\"\n",
        "  Returns the MSE\n",
        "  \"\"\"\n",
        "  # Merge the train set and validation set\n",
        "  merged_df = merge_df_on_user_id(train_df,df2)\n",
        "  return np.mean((merged_df['r_hat'] - merged_df['rating'])**2)"
      ],
      "execution_count": 0,
      "outputs": []
    },
    {
      "cell_type": "code",
      "metadata": {
        "id": "Xlf6Vu0uuhV7",
        "colab_type": "code",
        "colab": {}
      },
      "source": [
        "# Function for cross validation\n",
        "\n",
        "def user_rev_cv(train_df,val_df,list_of_alphas, M):\n",
        "\n",
        "  lowest_val_err = 1000\n",
        "  best_alpha = 0\n",
        "  val_err_hist = [] # Stores validation error\n",
        "\n",
        "  mod_f = train_df['num_of_books_rated']\n",
        "  sum_of_R_ub = train_df['sum_of_ratings']\n",
        "\n",
        "  # Drop unnecessary columns to improve efficiency\n",
        "  # train_precv only has user_id and r_hat\n",
        "  train_precv = train_df.drop(['book_id','rating','num_of_books_rated','sum_of_ratings'],axis=1,inplace=False)\n",
        "\n",
        "  for alpha in list_of_alphas:\n",
        "\n",
        "    rev_train_cv = train_precv.assign(r_hat = pd.Series(rev_r_hat(alpha,mod_f,sum_of_R_ub,M).values)) # Adds a column of r_hat to train_precv\n",
        "    \n",
        "    # Find the validation error\n",
        "    val_err = user_rev_loss(alpha,mod_f,sum_of_R_ub,rev_train_cv,val_df,M)\n",
        "    print(\"Current alpha: \", alpha)\n",
        "    print(\"Current CV Error: \", val_err)\n",
        "    print(\"==============================\")\n",
        "    val_err_hist.append(val_err)\n",
        "    if (lowest_val_err > val_err): # Records the alpha that gives the lowest val error\n",
        "      lowest_val_err = val_err\n",
        "      best_alpha = alpha\n",
        "  return best_alpha, val_err_hist"
      ],
      "execution_count": 0,
      "outputs": []
    },
    {
      "cell_type": "code",
      "metadata": {
        "id": "cC7OiTy0HknO",
        "colab_type": "code",
        "colab": {}
      },
      "source": [
        "# Functions for model testing\n",
        "\n",
        "def test_user_model(train_df,test_df,best_alpha):\n",
        "  \"\"\"\n",
        "  Returns the test MSE\n",
        "  \"\"\"\n",
        "  mod_f = train_df['num_of_books_rated']\n",
        "  sum_of_R_ub = train_df['sum_of_ratings']\n",
        "\n",
        "  train_pretest = train_df.drop(['book_id','rating','num_of_books_rated','sum_of_ratings'],axis=1,inplace=False)\n",
        "\n",
        "  rev_train_test = train_pretest.assign(r_hat = pd.Series(rev_r_hat(best_alpha,mod_f,sum_of_R_ub,M).values))\n",
        "\n",
        "  test_err = user_rev_loss(best_alpha,mod_f,sum_of_R_ub,rev_train_test,test_df,M)\n",
        "\n",
        "  return test_err"
      ],
      "execution_count": 0,
      "outputs": []
    },
    {
      "cell_type": "markdown",
      "metadata": {
        "id": "ESTRJDjrk2T4",
        "colab_type": "text"
      },
      "source": [
        "#### Pre-processing"
      ]
    },
    {
      "cell_type": "code",
      "metadata": {
        "id": "v5D0G8OBk9K6",
        "colab_type": "code",
        "colab": {}
      },
      "source": [
        "rev_train = r_train.copy()"
      ],
      "execution_count": 0,
      "outputs": []
    },
    {
      "cell_type": "code",
      "metadata": {
        "id": "E40eJXC1lGj3",
        "colab_type": "code",
        "outputId": "5c703824-1071-4805-99df-32bdf49d6c48",
        "colab": {
          "base_uri": "https://localhost:8080/",
          "height": 110
        }
      },
      "source": [
        "display(rev_train.head(2))"
      ],
      "execution_count": 58,
      "outputs": [
        {
          "output_type": "display_data",
          "data": {
            "text/html": [
              "<div>\n",
              "<style scoped>\n",
              "    .dataframe tbody tr th:only-of-type {\n",
              "        vertical-align: middle;\n",
              "    }\n",
              "\n",
              "    .dataframe tbody tr th {\n",
              "        vertical-align: top;\n",
              "    }\n",
              "\n",
              "    .dataframe thead th {\n",
              "        text-align: right;\n",
              "    }\n",
              "</style>\n",
              "<table border=\"1\" class=\"dataframe\">\n",
              "  <thead>\n",
              "    <tr style=\"text-align: right;\">\n",
              "      <th></th>\n",
              "      <th>user_id</th>\n",
              "      <th>book_id</th>\n",
              "      <th>rating</th>\n",
              "    </tr>\n",
              "  </thead>\n",
              "  <tbody>\n",
              "    <tr>\n",
              "      <th>1969128</th>\n",
              "      <td>26773</td>\n",
              "      <td>971</td>\n",
              "      <td>5</td>\n",
              "    </tr>\n",
              "    <tr>\n",
              "      <th>3489982</th>\n",
              "      <td>8978</td>\n",
              "      <td>2769</td>\n",
              "      <td>4</td>\n",
              "    </tr>\n",
              "  </tbody>\n",
              "</table>\n",
              "</div>"
            ],
            "text/plain": [
              "         user_id  book_id  rating\n",
              "1969128    26773      971       5\n",
              "3489982     8978     2769       4"
            ]
          },
          "metadata": {
            "tags": []
          }
        }
      ]
    },
    {
      "cell_type": "code",
      "metadata": {
        "id": "i3aq0wtkFwXh",
        "colab_type": "code",
        "outputId": "bd92b32c-d817-48cb-a56f-5834e065d009",
        "colab": {
          "base_uri": "https://localhost:8080/",
          "height": 127
        }
      },
      "source": [
        "# num_of_book_rated is our F(u), for user u\n",
        "# sum_of_ratings is the sum of R_ub for user u and all the books u has rated\n",
        "\n",
        "user_rev_train_precv, M = user_prepro_rev(rev_train)\n",
        "print(M)\n",
        "display(user_rev_train_precv.head(2))"
      ],
      "execution_count": 59,
      "outputs": [
        {
          "output_type": "stream",
          "text": [
            "3.9201011151265623\n"
          ],
          "name": "stdout"
        },
        {
          "output_type": "display_data",
          "data": {
            "text/html": [
              "<div>\n",
              "<style scoped>\n",
              "    .dataframe tbody tr th:only-of-type {\n",
              "        vertical-align: middle;\n",
              "    }\n",
              "\n",
              "    .dataframe tbody tr th {\n",
              "        vertical-align: top;\n",
              "    }\n",
              "\n",
              "    .dataframe thead th {\n",
              "        text-align: right;\n",
              "    }\n",
              "</style>\n",
              "<table border=\"1\" class=\"dataframe\">\n",
              "  <thead>\n",
              "    <tr style=\"text-align: right;\">\n",
              "      <th></th>\n",
              "      <th>user_id</th>\n",
              "      <th>book_id</th>\n",
              "      <th>rating</th>\n",
              "      <th>num_of_books_rated</th>\n",
              "      <th>sum_of_ratings</th>\n",
              "    </tr>\n",
              "  </thead>\n",
              "  <tbody>\n",
              "    <tr>\n",
              "      <th>0</th>\n",
              "      <td>1</td>\n",
              "      <td>764.277778</td>\n",
              "      <td>3.694444</td>\n",
              "      <td>72.0</td>\n",
              "      <td>266.0</td>\n",
              "    </tr>\n",
              "    <tr>\n",
              "      <th>1</th>\n",
              "      <td>2</td>\n",
              "      <td>1907.750000</td>\n",
              "      <td>4.545455</td>\n",
              "      <td>44.0</td>\n",
              "      <td>200.0</td>\n",
              "    </tr>\n",
              "  </tbody>\n",
              "</table>\n",
              "</div>"
            ],
            "text/plain": [
              "   user_id      book_id    rating  num_of_books_rated  sum_of_ratings\n",
              "0        1   764.277778  3.694444                72.0           266.0\n",
              "1        2  1907.750000  4.545455                44.0           200.0"
            ]
          },
          "metadata": {
            "tags": []
          }
        }
      ]
    },
    {
      "cell_type": "markdown",
      "metadata": {
        "id": "F2-7Il-Bhqxk",
        "colab_type": "text"
      },
      "source": [
        "#### Cross-Validation"
      ]
    },
    {
      "cell_type": "code",
      "metadata": {
        "id": "G7WU_0o0hupP",
        "colab_type": "code",
        "colab": {}
      },
      "source": [
        "rev_val = r_val.copy()"
      ],
      "execution_count": 0,
      "outputs": []
    },
    {
      "cell_type": "code",
      "metadata": {
        "id": "mZT7QIbukq2b",
        "colab_type": "code",
        "outputId": "6777ea07-755c-4aa5-802f-fcbb9dbab32e",
        "colab": {
          "base_uri": "https://localhost:8080/",
          "height": 110
        }
      },
      "source": [
        "display(rev_val.head(2))"
      ],
      "execution_count": 61,
      "outputs": [
        {
          "output_type": "display_data",
          "data": {
            "text/html": [
              "<div>\n",
              "<style scoped>\n",
              "    .dataframe tbody tr th:only-of-type {\n",
              "        vertical-align: middle;\n",
              "    }\n",
              "\n",
              "    .dataframe tbody tr th {\n",
              "        vertical-align: top;\n",
              "    }\n",
              "\n",
              "    .dataframe thead th {\n",
              "        text-align: right;\n",
              "    }\n",
              "</style>\n",
              "<table border=\"1\" class=\"dataframe\">\n",
              "  <thead>\n",
              "    <tr style=\"text-align: right;\">\n",
              "      <th></th>\n",
              "      <th>user_id</th>\n",
              "      <th>book_id</th>\n",
              "      <th>rating</th>\n",
              "    </tr>\n",
              "  </thead>\n",
              "  <tbody>\n",
              "    <tr>\n",
              "      <th>118805</th>\n",
              "      <td>3356</td>\n",
              "      <td>2303</td>\n",
              "      <td>3</td>\n",
              "    </tr>\n",
              "    <tr>\n",
              "      <th>5162883</th>\n",
              "      <td>48579</td>\n",
              "      <td>155</td>\n",
              "      <td>5</td>\n",
              "    </tr>\n",
              "  </tbody>\n",
              "</table>\n",
              "</div>"
            ],
            "text/plain": [
              "         user_id  book_id  rating\n",
              "118805      3356     2303       3\n",
              "5162883    48579      155       5"
            ]
          },
          "metadata": {
            "tags": []
          }
        }
      ]
    },
    {
      "cell_type": "code",
      "metadata": {
        "id": "5PRHZbMVuRzG",
        "colab_type": "code",
        "outputId": "71243a6b-828c-47d4-f7a9-f39fdf015579",
        "colab": {
          "base_uri": "https://localhost:8080/",
          "height": 745
        }
      },
      "source": [
        "# Let's run cross-validation to find the best alpha to be used for testing\n",
        "\n",
        "list_of_alphas = [0.01,0.05,0.1,0.5,1,2,3,4,5,6,7,8,9,10]\n",
        "\n",
        "user_best_alpha, user_val_err_hist = user_rev_cv(user_rev_train_precv,rev_val,list_of_alphas,M)"
      ],
      "execution_count": 62,
      "outputs": [
        {
          "output_type": "stream",
          "text": [
            "Current alpha:  0.01\n",
            "Current CV Error:  0.8813953877494677\n",
            "==============================\n",
            "Current alpha:  0.05\n",
            "Current CV Error:  0.8813953877494677\n",
            "==============================\n",
            "Current alpha:  0.1\n",
            "Current CV Error:  0.8813953877494677\n",
            "==============================\n",
            "Current alpha:  0.5\n",
            "Current CV Error:  0.8813734266436319\n",
            "==============================\n",
            "Current alpha:  1\n",
            "Current CV Error:  0.8811046645388795\n",
            "==============================\n",
            "Current alpha:  2\n",
            "Current CV Error:  0.8808777331119096\n",
            "==============================\n",
            "Current alpha:  3\n",
            "Current CV Error:  0.8808453143366282\n",
            "==============================\n",
            "Current alpha:  4\n",
            "Current CV Error:  0.8808118497944022\n",
            "==============================\n",
            "Current alpha:  5\n",
            "Current CV Error:  0.8807731564174535\n",
            "==============================\n",
            "Current alpha:  6\n",
            "Current CV Error:  0.8810691084627644\n",
            "==============================\n",
            "Current alpha:  7\n",
            "Current CV Error:  0.8813190467625147\n",
            "==============================\n",
            "Current alpha:  8\n",
            "Current CV Error:  0.8818293810314608\n",
            "==============================\n",
            "Current alpha:  9\n",
            "Current CV Error:  0.8823093880590147\n",
            "==============================\n",
            "Current alpha:  10\n",
            "Current CV Error:  0.8828887429463019\n",
            "==============================\n"
          ],
          "name": "stdout"
        }
      ]
    },
    {
      "cell_type": "code",
      "metadata": {
        "id": "rZHH51c9-Odv",
        "colab_type": "code",
        "outputId": "a4983b08-0c55-46f5-aaac-740dc7ba0c9c",
        "colab": {
          "base_uri": "https://localhost:8080/",
          "height": 347
        }
      },
      "source": [
        "print(\"Alpha chosen by CV: \", user_best_alpha)\n",
        "print(\"Lowest CV Error: \", min(user_val_err_hist))\n",
        "plt.plot(list_of_alphas,user_val_err_hist)\n",
        "plt.title(\"Plot of CV Error\")\n",
        "plt.grid(True)\n",
        "plt.ylabel(\"Error\")\n",
        "plt.xlabel(\"Alpha Values\")"
      ],
      "execution_count": 63,
      "outputs": [
        {
          "output_type": "stream",
          "text": [
            "Alpha chosen by CV:  5\n",
            "Lowest CV Error:  0.8807731564174535\n"
          ],
          "name": "stdout"
        },
        {
          "output_type": "execute_result",
          "data": {
            "text/plain": [
              "Text(0.5, 0, 'Alpha Values')"
            ]
          },
          "metadata": {
            "tags": []
          },
          "execution_count": 63
        },
        {
          "output_type": "display_data",
          "data": {
            "image/png": "[encoded data removed]",
            "text/plain": [
              "<Figure size 432x288 with 1 Axes>"
            ]
          },
          "metadata": {
            "tags": [],
            "needs_background": "light"
          }
        }
      ]
    },
    {
      "cell_type": "markdown",
      "metadata": {
        "id": "U0EJqOegnBQI",
        "colab_type": "text"
      },
      "source": [
        "#### Model Test\n",
        "\n",
        "Now, let's test the model."
      ]
    },
    {
      "cell_type": "code",
      "metadata": {
        "id": "DtQV0cWV4wVs",
        "colab_type": "code",
        "outputId": "3a911857-67a7-4101-9c88-7c4d0ba5add8",
        "colab": {
          "base_uri": "https://localhost:8080/",
          "height": 35
        }
      },
      "source": [
        "user_test_mse = test_user_model(user_rev_train_precv,r_test,user_best_alpha)\n",
        "print(\"The test MSE obtained is \", user_test_mse)"
      ],
      "execution_count": 64,
      "outputs": [
        {
          "output_type": "stream",
          "text": [
            "The test MSE obtained is  0.8812996948036302\n"
          ],
          "name": "stdout"
        }
      ]
    },
    {
      "cell_type": "markdown",
      "metadata": {
        "id": "I411hSToTsHr",
        "colab_type": "text"
      },
      "source": [
        "### 4.4.4 Book Reversion Towards the Mean\n",
        "\n",
        "We will now repeat the same process to predict the rating a book will receive."
      ]
    },
    {
      "cell_type": "markdown",
      "metadata": {
        "id": "TT19SEtC8BBx",
        "colab_type": "text"
      },
      "source": [
        "#### Functions"
      ]
    },
    {
      "cell_type": "code",
      "metadata": {
        "id": "RhoAUWI-8DDL",
        "colab_type": "code",
        "colab": {}
      },
      "source": [
        "# Functions for preprocessing\n",
        "\n",
        "def get_fb(df):\n",
        "  return df.groupby('book_id').size().reset_index(name = 'num_of_users_rated')\n",
        "\n",
        "def get_M(df):\n",
        "  return df['rating'].mean()\n",
        "\n",
        "def get_sum_of_R_bu(df):\n",
        "  rev_train_sum_of_ratings = df.groupby('book_id').sum().reset_index()\n",
        "  rev_train_sum_of_ratings.drop('user_id',axis = 1,inplace=True)\n",
        "  rev_train_sum_of_ratings.rename(columns = {\"rating\" : \"sum_of_ratings\"}, inplace=True)\n",
        "  return rev_train_sum_of_ratings\n",
        "\n",
        "def prepro_book_rev(rev_train):\n",
        "  \"\"\"\n",
        "  Returns the training dataframe with desired headers and M\n",
        "  ['user_id','book_id','rating',num_of_books_rated','sum_of_ratings']\n",
        "  \"\"\"\n",
        "\n",
        "  # Obtain |F(u)|\n",
        "  rev_train_fb = get_fb(rev_train)\n",
        "  \n",
        "  # Obtain M\n",
        "  M = get_M(rev_train)\n",
        "\n",
        "  # Obtain sum of R_ub\n",
        "  rev_train_sum_of_ratings = get_sum_of_R_bu(rev_train)\n",
        "\n",
        "  # Merge to obtain desired dataframe and M\n",
        "  rev_train_temp = pd.merge(rev_train,rev_train_fb)\n",
        "  rev_train_temp2 = pd.merge(rev_train_temp,rev_train_sum_of_ratings)\n",
        "  rev_train_final = rev_train_temp2.groupby('book_id').mean().reset_index()\n",
        "  return rev_train_final, M"
      ],
      "execution_count": 0,
      "outputs": []
    },
    {
      "cell_type": "code",
      "metadata": {
        "id": "YFyzk5el-hm6",
        "colab_type": "code",
        "colab": {}
      },
      "source": [
        "# Helper merge function\n",
        "def merge_df_on_book_id(df1,df2):\n",
        "  merged_df = pd.merge(df1,df2,on='book_id',)\n",
        "  return merged_df\n",
        "\n",
        "# Loss Function\n",
        "def book_rev_loss(alpha,mod_f, sum_of_R_ub, train_df, df2, M):\n",
        "  \"\"\"\n",
        "  Returns the MSE\n",
        "  \"\"\"\n",
        "  # Merge the train set and validation set\n",
        "  merged_df = merge_df_on_book_id(train_df,df2)\n",
        "  return np.mean((merged_df['r_hat'] - merged_df['rating'])**2)"
      ],
      "execution_count": 0,
      "outputs": []
    },
    {
      "cell_type": "code",
      "metadata": {
        "id": "4Cqc0vph92Eh",
        "colab_type": "code",
        "colab": {}
      },
      "source": [
        "# Function for cross validation\n",
        "\n",
        "def book_rev_cv(train_df,val_df,list_of_alphas, M):\n",
        "\n",
        "  lowest_val_err = 1000\n",
        "  best_alpha = 0\n",
        "  val_err_hist = [] # Stores validation error\n",
        "\n",
        "  mod_f = train_df['num_of_users_rated']\n",
        "  sum_of_R_bu = train_df['sum_of_ratings']\n",
        "\n",
        "  # Drop unnecessary columns to improve efficiency\n",
        "  # train_precv only has book_id and r_hat\n",
        "  train_precv = train_df.drop(['user_id','rating','num_of_users_rated','sum_of_ratings'],axis=1,inplace=False)\n",
        "\n",
        "  for alpha in list_of_alphas:\n",
        "\n",
        "    book_rev_train_cv = train_precv.assign(r_hat = pd.Series(rev_r_hat(alpha,mod_f,sum_of_R_bu,M).values)) # Adds a column of r_hat to train_precv\n",
        "\n",
        "    # Find the validation error\n",
        "    val_err = book_rev_loss(alpha,mod_f,sum_of_R_bu,book_rev_train_cv,val_df,M)\n",
        "    print(\"Current alpha: \", alpha)\n",
        "    print(\"Current CV Error: \", val_err)\n",
        "    print(\"==============================\")\n",
        "    val_err_hist.append(val_err)\n",
        "    if (lowest_val_err > val_err): # Records the alpha that gives the lowest val error\n",
        "      lowest_val_err = val_err\n",
        "      best_alpha = alpha\n",
        "  return best_alpha, val_err_hist"
      ],
      "execution_count": 0,
      "outputs": []
    },
    {
      "cell_type": "code",
      "metadata": {
        "id": "-G_YXAICQ7Om",
        "colab_type": "code",
        "colab": {}
      },
      "source": [
        "# Functions for model testing\n",
        "\n",
        "def test_book_model(train_df,test_df,best_alpha):\n",
        "  \"\"\"\n",
        "  Returns the test MSE\n",
        "  \"\"\"\n",
        "  mod_f = train_df['num_of_users_rated']\n",
        "  sum_of_R_bu = train_df['sum_of_ratings']\n",
        "  \n",
        "  train_pretest = train_df.drop(['user_id','rating','num_of_users_rated','sum_of_ratings'],axis=1,inplace=False)\n",
        "\n",
        "  rev_train_test = train_pretest.assign(r_hat = pd.Series(rev_r_hat(best_alpha,mod_f,sum_of_R_bu,M).values))\n",
        "\n",
        "  test_err = book_rev_loss(best_alpha,mod_f,sum_of_R_bu,rev_train_test,test_df,M)\n",
        "\n",
        "  return test_err"
      ],
      "execution_count": 0,
      "outputs": []
    },
    {
      "cell_type": "markdown",
      "metadata": {
        "id": "Ua1WGKpx71i7",
        "colab_type": "text"
      },
      "source": [
        "#### Pre-processing"
      ]
    },
    {
      "cell_type": "code",
      "metadata": {
        "id": "qNTUCF1eTynQ",
        "colab_type": "code",
        "outputId": "01fe8e82-c2b5-48ee-a21b-2e9723b7f9a9",
        "colab": {
          "base_uri": "https://localhost:8080/",
          "height": 110
        }
      },
      "source": [
        "display(rev_train.head(2))"
      ],
      "execution_count": 69,
      "outputs": [
        {
          "output_type": "display_data",
          "data": {
            "text/html": [
              "<div>\n",
              "<style scoped>\n",
              "    .dataframe tbody tr th:only-of-type {\n",
              "        vertical-align: middle;\n",
              "    }\n",
              "\n",
              "    .dataframe tbody tr th {\n",
              "        vertical-align: top;\n",
              "    }\n",
              "\n",
              "    .dataframe thead th {\n",
              "        text-align: right;\n",
              "    }\n",
              "</style>\n",
              "<table border=\"1\" class=\"dataframe\">\n",
              "  <thead>\n",
              "    <tr style=\"text-align: right;\">\n",
              "      <th></th>\n",
              "      <th>user_id</th>\n",
              "      <th>book_id</th>\n",
              "      <th>rating</th>\n",
              "    </tr>\n",
              "  </thead>\n",
              "  <tbody>\n",
              "    <tr>\n",
              "      <th>1969128</th>\n",
              "      <td>26773</td>\n",
              "      <td>971</td>\n",
              "      <td>5</td>\n",
              "    </tr>\n",
              "    <tr>\n",
              "      <th>3489982</th>\n",
              "      <td>8978</td>\n",
              "      <td>2769</td>\n",
              "      <td>4</td>\n",
              "    </tr>\n",
              "  </tbody>\n",
              "</table>\n",
              "</div>"
            ],
            "text/plain": [
              "         user_id  book_id  rating\n",
              "1969128    26773      971       5\n",
              "3489982     8978     2769       4"
            ]
          },
          "metadata": {
            "tags": []
          }
        }
      ]
    },
    {
      "cell_type": "code",
      "metadata": {
        "id": "KvwbkAKATy53",
        "colab_type": "code",
        "outputId": "d3e81914-8275-401e-d375-d72fb5620c83",
        "colab": {
          "base_uri": "https://localhost:8080/",
          "height": 127
        }
      },
      "source": [
        "# num_of_users_rated is F(b), the number of ratings the book received\n",
        "# sum_of_ratings is sum of R_bu, the sum of ratings that the book received from all users that rated it\n",
        "\n",
        "book_rev_train_precv, M = prepro_book_rev(rev_train)\n",
        "print(M)\n",
        "display(book_rev_train_precv.head(2))"
      ],
      "execution_count": 70,
      "outputs": [
        {
          "output_type": "stream",
          "text": [
            "3.9201011151265623\n"
          ],
          "name": "stdout"
        },
        {
          "output_type": "display_data",
          "data": {
            "text/html": [
              "<div>\n",
              "<style scoped>\n",
              "    .dataframe tbody tr th:only-of-type {\n",
              "        vertical-align: middle;\n",
              "    }\n",
              "\n",
              "    .dataframe tbody tr th {\n",
              "        vertical-align: top;\n",
              "    }\n",
              "\n",
              "    .dataframe thead th {\n",
              "        text-align: right;\n",
              "    }\n",
              "</style>\n",
              "<table border=\"1\" class=\"dataframe\">\n",
              "  <thead>\n",
              "    <tr style=\"text-align: right;\">\n",
              "      <th></th>\n",
              "      <th>book_id</th>\n",
              "      <th>user_id</th>\n",
              "      <th>rating</th>\n",
              "      <th>num_of_users_rated</th>\n",
              "      <th>sum_of_ratings</th>\n",
              "    </tr>\n",
              "  </thead>\n",
              "  <tbody>\n",
              "    <tr>\n",
              "      <th>0</th>\n",
              "      <td>1</td>\n",
              "      <td>27577.699741</td>\n",
              "      <td>4.281506</td>\n",
              "      <td>14664.0</td>\n",
              "      <td>62784.0</td>\n",
              "    </tr>\n",
              "    <tr>\n",
              "      <th>1</th>\n",
              "      <td>2</td>\n",
              "      <td>27716.348406</td>\n",
              "      <td>4.350699</td>\n",
              "      <td>13955.0</td>\n",
              "      <td>60714.0</td>\n",
              "    </tr>\n",
              "  </tbody>\n",
              "</table>\n",
              "</div>"
            ],
            "text/plain": [
              "   book_id       user_id    rating  num_of_users_rated  sum_of_ratings\n",
              "0        1  27577.699741  4.281506             14664.0         62784.0\n",
              "1        2  27716.348406  4.350699             13955.0         60714.0"
            ]
          },
          "metadata": {
            "tags": []
          }
        }
      ]
    },
    {
      "cell_type": "markdown",
      "metadata": {
        "id": "xsg1iYJn9kBy",
        "colab_type": "text"
      },
      "source": [
        "#### Cross-Validation"
      ]
    },
    {
      "cell_type": "code",
      "metadata": {
        "id": "VxP12qjqTylW",
        "colab_type": "code",
        "outputId": "d44ef638-e379-4eb1-ced2-3617b2eeeb04",
        "colab": {
          "base_uri": "https://localhost:8080/",
          "height": 110
        }
      },
      "source": [
        "display(rev_val.head(2))"
      ],
      "execution_count": 71,
      "outputs": [
        {
          "output_type": "display_data",
          "data": {
            "text/html": [
              "<div>\n",
              "<style scoped>\n",
              "    .dataframe tbody tr th:only-of-type {\n",
              "        vertical-align: middle;\n",
              "    }\n",
              "\n",
              "    .dataframe tbody tr th {\n",
              "        vertical-align: top;\n",
              "    }\n",
              "\n",
              "    .dataframe thead th {\n",
              "        text-align: right;\n",
              "    }\n",
              "</style>\n",
              "<table border=\"1\" class=\"dataframe\">\n",
              "  <thead>\n",
              "    <tr style=\"text-align: right;\">\n",
              "      <th></th>\n",
              "      <th>user_id</th>\n",
              "      <th>book_id</th>\n",
              "      <th>rating</th>\n",
              "    </tr>\n",
              "  </thead>\n",
              "  <tbody>\n",
              "    <tr>\n",
              "      <th>118805</th>\n",
              "      <td>3356</td>\n",
              "      <td>2303</td>\n",
              "      <td>3</td>\n",
              "    </tr>\n",
              "    <tr>\n",
              "      <th>5162883</th>\n",
              "      <td>48579</td>\n",
              "      <td>155</td>\n",
              "      <td>5</td>\n",
              "    </tr>\n",
              "  </tbody>\n",
              "</table>\n",
              "</div>"
            ],
            "text/plain": [
              "         user_id  book_id  rating\n",
              "118805      3356     2303       3\n",
              "5162883    48579      155       5"
            ]
          },
          "metadata": {
            "tags": []
          }
        }
      ]
    },
    {
      "cell_type": "code",
      "metadata": {
        "id": "IhCvM6JqTyjX",
        "colab_type": "code",
        "outputId": "5c1f158c-3c88-4971-beba-319f1c6da2ac",
        "colab": {
          "base_uri": "https://localhost:8080/",
          "height": 1000
        }
      },
      "source": [
        "# Let's run cross-validation to find the best alpha to be used for testing\n",
        "\n",
        "list_of_alphas = [0.01,0.05,0.1,0.5,1,2,3,4,5,6,7,8,9,10,15,20,25,30,35,40,45,50,75]\n",
        "\n",
        "book_best_alpha, book_val_err_hist = book_rev_cv(book_rev_train_precv,rev_val,list_of_alphas,M)"
      ],
      "execution_count": 72,
      "outputs": [
        {
          "output_type": "stream",
          "text": [
            "Current alpha:  0.01\n",
            "Current CV Error:  0.9666588582734806\n",
            "==============================\n",
            "Current alpha:  0.05\n",
            "Current CV Error:  0.9666588582734806\n",
            "==============================\n",
            "Current alpha:  0.1\n",
            "Current CV Error:  0.9666588582734806\n",
            "==============================\n",
            "Current alpha:  0.5\n",
            "Current CV Error:  0.9666588582734806\n",
            "==============================\n",
            "Current alpha:  1\n",
            "Current CV Error:  0.9666285310320883\n",
            "==============================\n",
            "Current alpha:  2\n",
            "Current CV Error:  0.9665793799856939\n",
            "==============================\n",
            "Current alpha:  3\n",
            "Current CV Error:  0.9665689223162482\n",
            "==============================\n",
            "Current alpha:  4\n",
            "Current CV Error:  0.9666034326254188\n",
            "==============================\n",
            "Current alpha:  5\n",
            "Current CV Error:  0.9665312747062441\n",
            "==============================\n",
            "Current alpha:  6\n",
            "Current CV Error:  0.9665145424351311\n",
            "==============================\n",
            "Current alpha:  7\n",
            "Current CV Error:  0.9664988559309626\n",
            "==============================\n",
            "Current alpha:  8\n",
            "Current CV Error:  0.9663869588678945\n",
            "==============================\n",
            "Current alpha:  9\n",
            "Current CV Error:  0.966495718630129\n",
            "==============================\n",
            "Current alpha:  10\n",
            "Current CV Error:  0.9663754554315044\n",
            "==============================\n",
            "Current alpha:  15\n",
            "Current CV Error:  0.9663806842662271\n",
            "==============================\n",
            "Current alpha:  20\n",
            "Current CV Error:  0.9666180733626427\n",
            "==============================\n",
            "Current alpha:  25\n",
            "Current CV Error:  0.9666787278454273\n",
            "==============================\n",
            "Current alpha:  30\n",
            "Current CV Error:  0.9670133732676871\n",
            "==============================\n",
            "Current alpha:  35\n",
            "Current CV Error:  0.9671890621143734\n",
            "==============================\n",
            "Current alpha:  40\n",
            "Current CV Error:  0.9673961239693967\n",
            "==============================\n",
            "Current alpha:  45\n",
            "Current CV Error:  0.967638741900535\n",
            "==============================\n",
            "Current alpha:  50\n",
            "Current CV Error:  0.967824888416667\n",
            "==============================\n",
            "Current alpha:  75\n",
            "Current CV Error:  0.9688947080009538\n",
            "==============================\n"
          ],
          "name": "stdout"
        }
      ]
    },
    {
      "cell_type": "code",
      "metadata": {
        "id": "fg5ZIcwETyaw",
        "colab_type": "code",
        "outputId": "aeb53e08-c964-462b-ee45-198a882e0b4d",
        "colab": {
          "base_uri": "https://localhost:8080/",
          "height": 347
        }
      },
      "source": [
        "print(\"Alpha chosen by CV: \", book_best_alpha)\n",
        "print(\"Lowest CV Error: \", min(book_val_err_hist))\n",
        "plt.plot(list_of_alphas,book_val_err_hist)\n",
        "plt.title(\"Plot of CV Error\")\n",
        "plt.grid(True)\n",
        "plt.ylabel(\"Error\")\n",
        "plt.xlabel(\"Alpha Values\")"
      ],
      "execution_count": 73,
      "outputs": [
        {
          "output_type": "stream",
          "text": [
            "Alpha chosen by CV:  10\n",
            "Lowest CV Error:  0.9663754554315044\n"
          ],
          "name": "stdout"
        },
        {
          "output_type": "execute_result",
          "data": {
            "text/plain": [
              "Text(0.5, 0, 'Alpha Values')"
            ]
          },
          "metadata": {
            "tags": []
          },
          "execution_count": 73
        },
        {
          "output_type": "display_data",
          "data": {
            "image/png": "[encoded data removed]",
            "text/plain": [
              "<Figure size 432x288 with 1 Axes>"
            ]
          },
          "metadata": {
            "tags": [],
            "needs_background": "light"
          }
        }
      ]
    },
    {
      "cell_type": "markdown",
      "metadata": {
        "id": "a6OQjMxdQsW5",
        "colab_type": "text"
      },
      "source": [
        "#### Model Test"
      ]
    },
    {
      "cell_type": "code",
      "metadata": {
        "id": "8X1v0ER7R-b8",
        "colab_type": "code",
        "outputId": "b3bf2664-c471-4f22-b9fb-25562a898025",
        "colab": {
          "base_uri": "https://localhost:8080/",
          "height": 110
        }
      },
      "source": [
        "display(book_rev_train_precv.head(2))"
      ],
      "execution_count": 74,
      "outputs": [
        {
          "output_type": "display_data",
          "data": {
            "text/html": [
              "<div>\n",
              "<style scoped>\n",
              "    .dataframe tbody tr th:only-of-type {\n",
              "        vertical-align: middle;\n",
              "    }\n",
              "\n",
              "    .dataframe tbody tr th {\n",
              "        vertical-align: top;\n",
              "    }\n",
              "\n",
              "    .dataframe thead th {\n",
              "        text-align: right;\n",
              "    }\n",
              "</style>\n",
              "<table border=\"1\" class=\"dataframe\">\n",
              "  <thead>\n",
              "    <tr style=\"text-align: right;\">\n",
              "      <th></th>\n",
              "      <th>book_id</th>\n",
              "      <th>user_id</th>\n",
              "      <th>rating</th>\n",
              "      <th>num_of_users_rated</th>\n",
              "      <th>sum_of_ratings</th>\n",
              "    </tr>\n",
              "  </thead>\n",
              "  <tbody>\n",
              "    <tr>\n",
              "      <th>0</th>\n",
              "      <td>1</td>\n",
              "      <td>27577.699741</td>\n",
              "      <td>4.281506</td>\n",
              "      <td>14664.0</td>\n",
              "      <td>62784.0</td>\n",
              "    </tr>\n",
              "    <tr>\n",
              "      <th>1</th>\n",
              "      <td>2</td>\n",
              "      <td>27716.348406</td>\n",
              "      <td>4.350699</td>\n",
              "      <td>13955.0</td>\n",
              "      <td>60714.0</td>\n",
              "    </tr>\n",
              "  </tbody>\n",
              "</table>\n",
              "</div>"
            ],
            "text/plain": [
              "   book_id       user_id    rating  num_of_users_rated  sum_of_ratings\n",
              "0        1  27577.699741  4.281506             14664.0         62784.0\n",
              "1        2  27716.348406  4.350699             13955.0         60714.0"
            ]
          },
          "metadata": {
            "tags": []
          }
        }
      ]
    },
    {
      "cell_type": "code",
      "metadata": {
        "id": "ZHGaon0oQuco",
        "colab_type": "code",
        "outputId": "e36198a3-3cca-41a7-e36d-888717516868",
        "colab": {
          "base_uri": "https://localhost:8080/",
          "height": 35
        }
      },
      "source": [
        "book_test_mse = test_book_model(book_rev_train_precv,r_test,book_best_alpha)\n",
        "print(\"The test MSE obtained is \", book_test_mse)"
      ],
      "execution_count": 75,
      "outputs": [
        {
          "output_type": "stream",
          "text": [
            "The test MSE obtained is  0.9670642250957086\n"
          ],
          "name": "stdout"
        }
      ]
    },
    {
      "cell_type": "markdown",
      "metadata": {
        "id": "LykZXKkXdti2",
        "colab_type": "text"
      },
      "source": [
        "In both reversion towards the mean models, we see that the user reversion towards the mean does better in terms of test MSE.\n",
        "\n",
        "We shall now attempt the factor model."
      ]
    },
    {
      "cell_type": "markdown",
      "metadata": {
        "id": "G_A0uys94f6k",
        "colab_type": "text"
      },
      "source": [
        "### 4.4.5 Factor Model\n",
        "\n",
        "From the few basic models above, we see that the naive mean user rating obtained the lowest test MSE. From here on, the naive mean user rating will serve as our $\\hat{R}_{u,b}^{(naive)}$.\n",
        "\n",
        "We would like to improve upon the basic naive mean user model. We define the residual\n",
        "$$\n",
        "r_{u,b} = R_{u,b} - \\hat{R}_{u,b}^{(naive)}\n",
        "$$\n",
        "\n",
        "We want a model $\\hat{r}_{u,b}$ that can approximate well the residuals $r_{u,b} \\approx \\hat{r}_{u,b}$ , so that\n",
        "$$\n",
        "R_{u,b} \\approx \\hat{R}_{u,b} = \\hat{R}_{u,b}^{(naive)} + \\hat{r}_{u,b}\n",
        "$$\n",
        "Therefore, we want to minimize the loss function\n",
        "$$\n",
        "L(\\hat{r}_{u,b}) = \\frac{1}{|J|} \\sum_{(u,b)\\in{J}} (r_{u,b} - \\hat{r}_{u,b})^2\n",
        "$$\n",
        "$$\n",
        "L(\\{w_{u}\\},\\{w_{b}\\}) = \\frac{1}{|J|} \\sum_{(u,b)\\in{J}} (r_{u,b} - <w_{u},w_{b}>)^2\n",
        "$$\n",
        "where $ r_{u,b} \\approx \\hat{r}_{u,b} = <w_{u},w_{b}> $\n",
        "\n",
        "The loss function is also our mean square error of the residuals."
      ]
    },
    {
      "cell_type": "markdown",
      "metadata": {
        "id": "kNZKKkHfjCRp",
        "colab_type": "text"
      },
      "source": [
        "#### Functions"
      ]
    },
    {
      "cell_type": "code",
      "metadata": {
        "id": "C3pJk6j0jECZ",
        "colab_type": "code",
        "colab": {}
      },
      "source": [
        "#Loss Function\n",
        "def fact_loss(df_arr,int_only_npy,r_ub,w_u,w_b):\n",
        "  M = w_u@(w_b.T)\n",
        "  r_hat = M[int_only_npy[:,0],int_only_npy[:,1]]\n",
        "  return np.mean((r_ub - r_hat)**2)\n",
        "\n",
        "grad_loss_u = jax.jit(jax.grad(fact_loss,argnums=3))\n",
        "grad_loss_b = jax.jit(jax.grad(fact_loss,argnums=4))"
      ],
      "execution_count": 0,
      "outputs": []
    },
    {
      "cell_type": "code",
      "metadata": {
        "id": "gKnx_KAbUvqi",
        "colab_type": "code",
        "colab": {}
      },
      "source": [
        "# Alternate Minimization Functions\n",
        "\n",
        "def minimize_U_fixed(npy_data,int_only_npy,npy_r_ub,U,B,LBFGS_iter):\n",
        "  r,d = B.shape\n",
        "  def grad_b_wrapper(B_flat):\n",
        "    B = B_flat.reshape(r,d)\n",
        "    return onp.array(grad_loss_b(npy_data,int_only_npy,npy_r_ub,U,B)).ravel()\n",
        "  def loss_wrapper(B_flat):\n",
        "    B=B_flat.reshape(r,d)\n",
        "    return fact_loss(npy_data,int_only_npy,npy_r_ub,U,B)\n",
        "  traj = scipy.optimize.minimize(fun = loss_wrapper,\n",
        "                                 x0 = onp.array(B.ravel()),\n",
        "                                 method=\"L-BFGS-B\",\n",
        "                                 jac=grad_b_wrapper,\n",
        "                                 options={\"maxiter\":LBFGS_iter})\n",
        "  B_final = traj[\"x\"].reshape(r,d)\n",
        "  return B_final\n",
        "\n",
        "def minimize_B_fixed(npy_data,int_only_npy,npy_r_ub,U,B,LBFGS_iter):\n",
        "  r,d = U.shape\n",
        "  def grad_b_wrapper(U_flat):\n",
        "    U=U_flat.reshape(r,d)\n",
        "    return onp.array(grad_loss_u(npy_data,int_only_npy,npy_r_ub,U,B)).ravel()\n",
        "  def loss_wrapper(U_flat):\n",
        "    U = U_flat.reshape(r,d)\n",
        "    return fact_loss(npy_data,int_only_npy,npy_r_ub,U,B)\n",
        "  traj = scipy.optimize.minimize(fun=loss_wrapper,\n",
        "                                 x0 = onp.array(U.ravel()),\n",
        "                                 method='L-BFGS-B',\n",
        "                                 jac=grad_b_wrapper,\n",
        "                                 options={\"maxiter\":LBFGS_iter})\n",
        "  U_final = traj[\"x\"].reshape(r,d)\n",
        "  return U_final    "
      ],
      "execution_count": 0,
      "outputs": []
    },
    {
      "cell_type": "markdown",
      "metadata": {
        "id": "foc75RZ5Atpm",
        "colab_type": "text"
      },
      "source": [
        "#### Get the train set in numpy form with and finding $r_{u,b}$\n",
        "\n",
        "\n"
      ]
    },
    {
      "cell_type": "code",
      "metadata": {
        "id": "4qz_GYETdSDI",
        "colab_type": "code",
        "outputId": "feef0a3c-2160-43d4-c492-f151124f8e32",
        "colab": {
          "base_uri": "https://localhost:8080/",
          "height": 110
        }
      },
      "source": [
        "fact_train = r_train.copy()\n",
        "display(fact_train.head(2))"
      ],
      "execution_count": 124,
      "outputs": [
        {
          "output_type": "display_data",
          "data": {
            "text/html": [
              "<div>\n",
              "<style scoped>\n",
              "    .dataframe tbody tr th:only-of-type {\n",
              "        vertical-align: middle;\n",
              "    }\n",
              "\n",
              "    .dataframe tbody tr th {\n",
              "        vertical-align: top;\n",
              "    }\n",
              "\n",
              "    .dataframe thead th {\n",
              "        text-align: right;\n",
              "    }\n",
              "</style>\n",
              "<table border=\"1\" class=\"dataframe\">\n",
              "  <thead>\n",
              "    <tr style=\"text-align: right;\">\n",
              "      <th></th>\n",
              "      <th>user_id</th>\n",
              "      <th>book_id</th>\n",
              "      <th>rating</th>\n",
              "    </tr>\n",
              "  </thead>\n",
              "  <tbody>\n",
              "    <tr>\n",
              "      <th>1969128</th>\n",
              "      <td>26773</td>\n",
              "      <td>971</td>\n",
              "      <td>5</td>\n",
              "    </tr>\n",
              "    <tr>\n",
              "      <th>3489982</th>\n",
              "      <td>8978</td>\n",
              "      <td>2769</td>\n",
              "      <td>4</td>\n",
              "    </tr>\n",
              "  </tbody>\n",
              "</table>\n",
              "</div>"
            ],
            "text/plain": [
              "         user_id  book_id  rating\n",
              "1969128    26773      971       5\n",
              "3489982     8978     2769       4"
            ]
          },
          "metadata": {
            "tags": []
          }
        }
      ]
    },
    {
      "cell_type": "code",
      "metadata": {
        "id": "gbO4VrXSdZQY",
        "colab_type": "code",
        "outputId": "d1a3246f-b961-4e39-a65a-fc649216c311",
        "colab": {
          "base_uri": "https://localhost:8080/",
          "height": 110
        }
      },
      "source": [
        "# The mean_rating of each user is the R_hat_naive of each user\n",
        "# This is obtained from the mean user rating\n",
        "\n",
        "temp_fact_train = fact_train.groupby('user_id').mean().reset_index()\n",
        "temp_fact_train2 = temp_fact_train.drop('book_id',axis=1)\n",
        "temp_fact_train2.rename(columns = {\"rating\" : \"mean_rating\"},inplace=True)\n",
        "display(temp_fact_train2.head(2))"
      ],
      "execution_count": 125,
      "outputs": [
        {
          "output_type": "display_data",
          "data": {
            "text/html": [
              "<div>\n",
              "<style scoped>\n",
              "    .dataframe tbody tr th:only-of-type {\n",
              "        vertical-align: middle;\n",
              "    }\n",
              "\n",
              "    .dataframe tbody tr th {\n",
              "        vertical-align: top;\n",
              "    }\n",
              "\n",
              "    .dataframe thead th {\n",
              "        text-align: right;\n",
              "    }\n",
              "</style>\n",
              "<table border=\"1\" class=\"dataframe\">\n",
              "  <thead>\n",
              "    <tr style=\"text-align: right;\">\n",
              "      <th></th>\n",
              "      <th>user_id</th>\n",
              "      <th>mean_rating</th>\n",
              "    </tr>\n",
              "  </thead>\n",
              "  <tbody>\n",
              "    <tr>\n",
              "      <th>0</th>\n",
              "      <td>1</td>\n",
              "      <td>3.694444</td>\n",
              "    </tr>\n",
              "    <tr>\n",
              "      <th>1</th>\n",
              "      <td>2</td>\n",
              "      <td>4.545455</td>\n",
              "    </tr>\n",
              "  </tbody>\n",
              "</table>\n",
              "</div>"
            ],
            "text/plain": [
              "   user_id  mean_rating\n",
              "0        1     3.694444\n",
              "1        2     4.545455"
            ]
          },
          "metadata": {
            "tags": []
          }
        }
      ]
    },
    {
      "cell_type": "code",
      "metadata": {
        "id": "riKDnEwodeDq",
        "colab_type": "code",
        "outputId": "4212dd6e-eb9c-417f-fe85-4343a62d18ea",
        "colab": {
          "base_uri": "https://localhost:8080/",
          "height": 110
        }
      },
      "source": [
        "fact_train = pd.merge(fact_train,temp_fact_train2,on='user_id')\n",
        "display(fact_train.head(2))"
      ],
      "execution_count": 126,
      "outputs": [
        {
          "output_type": "display_data",
          "data": {
            "text/html": [
              "<div>\n",
              "<style scoped>\n",
              "    .dataframe tbody tr th:only-of-type {\n",
              "        vertical-align: middle;\n",
              "    }\n",
              "\n",
              "    .dataframe tbody tr th {\n",
              "        vertical-align: top;\n",
              "    }\n",
              "\n",
              "    .dataframe thead th {\n",
              "        text-align: right;\n",
              "    }\n",
              "</style>\n",
              "<table border=\"1\" class=\"dataframe\">\n",
              "  <thead>\n",
              "    <tr style=\"text-align: right;\">\n",
              "      <th></th>\n",
              "      <th>user_id</th>\n",
              "      <th>book_id</th>\n",
              "      <th>rating</th>\n",
              "      <th>mean_rating</th>\n",
              "    </tr>\n",
              "  </thead>\n",
              "  <tbody>\n",
              "    <tr>\n",
              "      <th>0</th>\n",
              "      <td>26773</td>\n",
              "      <td>971</td>\n",
              "      <td>5</td>\n",
              "      <td>4.061728</td>\n",
              "    </tr>\n",
              "    <tr>\n",
              "      <th>1</th>\n",
              "      <td>26773</td>\n",
              "      <td>1026</td>\n",
              "      <td>4</td>\n",
              "      <td>4.061728</td>\n",
              "    </tr>\n",
              "  </tbody>\n",
              "</table>\n",
              "</div>"
            ],
            "text/plain": [
              "   user_id  book_id  rating  mean_rating\n",
              "0    26773      971       5     4.061728\n",
              "1    26773     1026       4     4.061728"
            ]
          },
          "metadata": {
            "tags": []
          }
        }
      ]
    },
    {
      "cell_type": "code",
      "metadata": {
        "id": "y_vQFsx1dheB",
        "colab_type": "code",
        "outputId": "fafce4a0-cb95-499e-9998-b59df2f43303",
        "colab": {
          "base_uri": "https://localhost:8080/",
          "height": 306
        }
      },
      "source": [
        "# r_ub is the actual residual obtained from the difference between the actual rating and the mean_rating\n",
        "\n",
        "actual_rating = fact_train['rating']\n",
        "est_rating = fact_train['mean_rating']\n",
        "\n",
        "fact_train = fact_train.assign(r_ub = pd.Series(actual_rating - est_rating).values)\n",
        "fact_train.sort_values(by=['user_id','book_id'],inplace=True)\n",
        "fact_train.astype({'user_id':'int64','book_id':'int64'})\n",
        "display(fact_train.head())\n",
        "print(fact_train.dtypes)"
      ],
      "execution_count": 127,
      "outputs": [
        {
          "output_type": "display_data",
          "data": {
            "text/html": [
              "<div>\n",
              "<style scoped>\n",
              "    .dataframe tbody tr th:only-of-type {\n",
              "        vertical-align: middle;\n",
              "    }\n",
              "\n",
              "    .dataframe tbody tr th {\n",
              "        vertical-align: top;\n",
              "    }\n",
              "\n",
              "    .dataframe thead th {\n",
              "        text-align: right;\n",
              "    }\n",
              "</style>\n",
              "<table border=\"1\" class=\"dataframe\">\n",
              "  <thead>\n",
              "    <tr style=\"text-align: right;\">\n",
              "      <th></th>\n",
              "      <th>user_id</th>\n",
              "      <th>book_id</th>\n",
              "      <th>rating</th>\n",
              "      <th>mean_rating</th>\n",
              "      <th>r_ub</th>\n",
              "    </tr>\n",
              "  </thead>\n",
              "  <tbody>\n",
              "    <tr>\n",
              "      <th>671645</th>\n",
              "      <td>1</td>\n",
              "      <td>10</td>\n",
              "      <td>4</td>\n",
              "      <td>3.694444</td>\n",
              "      <td>0.305556</td>\n",
              "    </tr>\n",
              "    <tr>\n",
              "      <th>671628</th>\n",
              "      <td>1</td>\n",
              "      <td>11</td>\n",
              "      <td>5</td>\n",
              "      <td>3.694444</td>\n",
              "      <td>1.305556</td>\n",
              "    </tr>\n",
              "    <tr>\n",
              "      <th>671648</th>\n",
              "      <td>1</td>\n",
              "      <td>13</td>\n",
              "      <td>4</td>\n",
              "      <td>3.694444</td>\n",
              "      <td>0.305556</td>\n",
              "    </tr>\n",
              "    <tr>\n",
              "      <th>671615</th>\n",
              "      <td>1</td>\n",
              "      <td>22</td>\n",
              "      <td>3</td>\n",
              "      <td>3.694444</td>\n",
              "      <td>-0.694444</td>\n",
              "    </tr>\n",
              "    <tr>\n",
              "      <th>671654</th>\n",
              "      <td>1</td>\n",
              "      <td>31</td>\n",
              "      <td>4</td>\n",
              "      <td>3.694444</td>\n",
              "      <td>0.305556</td>\n",
              "    </tr>\n",
              "  </tbody>\n",
              "</table>\n",
              "</div>"
            ],
            "text/plain": [
              "        user_id  book_id  rating  mean_rating      r_ub\n",
              "671645        1       10       4     3.694444  0.305556\n",
              "671628        1       11       5     3.694444  1.305556\n",
              "671648        1       13       4     3.694444  0.305556\n",
              "671615        1       22       3     3.694444 -0.694444\n",
              "671654        1       31       4     3.694444  0.305556"
            ]
          },
          "metadata": {
            "tags": []
          }
        },
        {
          "output_type": "stream",
          "text": [
            "user_id          int64\n",
            "book_id          int64\n",
            "rating           int64\n",
            "mean_rating    float64\n",
            "r_ub           float64\n",
            "dtype: object\n"
          ],
          "name": "stdout"
        }
      ]
    },
    {
      "cell_type": "code",
      "metadata": {
        "id": "CJmOGaKneV9m",
        "colab_type": "code",
        "outputId": "9e1c7f52-87fa-4029-ed14-e0d6664a8fdb",
        "colab": {
          "base_uri": "https://localhost:8080/",
          "height": 52
        }
      },
      "source": [
        "# convert the r_ub of each user into npy\n",
        "\n",
        "train_r_ub = onp.array(fact_train['r_ub'])\n",
        "print(train_r_ub)"
      ],
      "execution_count": 82,
      "outputs": [
        {
          "output_type": "stream",
          "text": [
            "[ 0.30555556  1.30555556  0.30555556 ... -0.32183908 -0.32183908\n",
            " -0.32183908]\n"
          ],
          "name": "stdout"
        }
      ]
    },
    {
      "cell_type": "code",
      "metadata": {
        "id": "SwdG_MqPb41D",
        "colab_type": "code",
        "outputId": "c6556416-5be6-4233-cc6f-82bcbdd9e930",
        "colab": {
          "base_uri": "https://localhost:8080/",
          "height": 243
        }
      },
      "source": [
        "# Convert the whole train set into npy\n",
        "\n",
        "train_npy = onp.array(fact_train)\n",
        "print(train_npy)"
      ],
      "execution_count": 83,
      "outputs": [
        {
          "output_type": "stream",
          "text": [
            "[[ 1.00000000e+00  1.00000000e+01  4.00000000e+00  3.69444444e+00\n",
            "   3.05555556e-01]\n",
            " [ 1.00000000e+00  1.10000000e+01  5.00000000e+00  3.69444444e+00\n",
            "   1.30555556e+00]\n",
            " [ 1.00000000e+00  1.30000000e+01  4.00000000e+00  3.69444444e+00\n",
            "   3.05555556e-01]\n",
            " ...\n",
            " [ 5.34240000e+04  8.60900000e+03  4.00000000e+00  4.32183908e+00\n",
            "  -3.21839080e-01]\n",
            " [ 5.34240000e+04  8.72600000e+03  4.00000000e+00  4.32183908e+00\n",
            "  -3.21839080e-01]\n",
            " [ 5.34240000e+04  9.84900000e+03  4.00000000e+00  4.32183908e+00\n",
            "  -3.21839080e-01]]\n"
          ],
          "name": "stdout"
        }
      ]
    },
    {
      "cell_type": "code",
      "metadata": {
        "id": "odCAlRTAhF8r",
        "colab_type": "code",
        "outputId": "6d05b0f8-78e6-4b07-b695-3f3e5f7a6d78",
        "colab": {
          "base_uri": "https://localhost:8080/",
          "height": 139
        }
      },
      "source": [
        "# Convert the integer columns ie user_id, book_id and rating into npy\n",
        "\n",
        "train_int_npy = onp.array(fact_train[['user_id','book_id','rating']])\n",
        "train_int_npy[:,0] = train_int_npy[:,0] - 1\n",
        "train_int_npy[:,1] = train_int_npy[:,1] - 1\n",
        "print(train_int_npy)"
      ],
      "execution_count": 84,
      "outputs": [
        {
          "output_type": "stream",
          "text": [
            "[[    0     9     4]\n",
            " [    0    10     5]\n",
            " [    0    12     4]\n",
            " ...\n",
            " [53423  8608     4]\n",
            " [53423  8725     4]\n",
            " [53423  9848     4]]\n"
          ],
          "name": "stdout"
        }
      ]
    },
    {
      "cell_type": "markdown",
      "metadata": {
        "id": "QNDUBD2ZbB3j",
        "colab_type": "text"
      },
      "source": [
        "#### Get the validation set in npy form with and finding $r_{u,b}$"
      ]
    },
    {
      "cell_type": "code",
      "metadata": {
        "id": "iL07D2KkcdQC",
        "colab_type": "code",
        "outputId": "c0d9b5b0-e84c-468f-ee38-6639e006f534",
        "colab": {
          "base_uri": "https://localhost:8080/",
          "height": 110
        }
      },
      "source": [
        "fact_val = r_val.copy()\n",
        "display(fact_val.head(2))"
      ],
      "execution_count": 85,
      "outputs": [
        {
          "output_type": "display_data",
          "data": {
            "text/html": [
              "<div>\n",
              "<style scoped>\n",
              "    .dataframe tbody tr th:only-of-type {\n",
              "        vertical-align: middle;\n",
              "    }\n",
              "\n",
              "    .dataframe tbody tr th {\n",
              "        vertical-align: top;\n",
              "    }\n",
              "\n",
              "    .dataframe thead th {\n",
              "        text-align: right;\n",
              "    }\n",
              "</style>\n",
              "<table border=\"1\" class=\"dataframe\">\n",
              "  <thead>\n",
              "    <tr style=\"text-align: right;\">\n",
              "      <th></th>\n",
              "      <th>user_id</th>\n",
              "      <th>book_id</th>\n",
              "      <th>rating</th>\n",
              "    </tr>\n",
              "  </thead>\n",
              "  <tbody>\n",
              "    <tr>\n",
              "      <th>118805</th>\n",
              "      <td>3356</td>\n",
              "      <td>2303</td>\n",
              "      <td>3</td>\n",
              "    </tr>\n",
              "    <tr>\n",
              "      <th>5162883</th>\n",
              "      <td>48579</td>\n",
              "      <td>155</td>\n",
              "      <td>5</td>\n",
              "    </tr>\n",
              "  </tbody>\n",
              "</table>\n",
              "</div>"
            ],
            "text/plain": [
              "         user_id  book_id  rating\n",
              "118805      3356     2303       3\n",
              "5162883    48579      155       5"
            ]
          },
          "metadata": {
            "tags": []
          }
        }
      ]
    },
    {
      "cell_type": "code",
      "metadata": {
        "id": "EGj0x_iwcdY0",
        "colab_type": "code",
        "outputId": "b7d664c4-510e-4c9d-dc47-9ec4f21a2bc6",
        "colab": {
          "base_uri": "https://localhost:8080/",
          "height": 110
        }
      },
      "source": [
        "# The mean_rating of each user is the R_hat_naive of each user\n",
        "# This is obtained from the mean user rating\n",
        "\n",
        "temp_fact_val = fact_val.groupby('user_id').mean().reset_index()\n",
        "temp_fact_val2 = temp_fact_val.drop('book_id',axis=1)\n",
        "temp_fact_val2.rename(columns = {\"rating\" : \"mean_rating\"},inplace=True)\n",
        "display(temp_fact_val2.head(2))"
      ],
      "execution_count": 86,
      "outputs": [
        {
          "output_type": "display_data",
          "data": {
            "text/html": [
              "<div>\n",
              "<style scoped>\n",
              "    .dataframe tbody tr th:only-of-type {\n",
              "        vertical-align: middle;\n",
              "    }\n",
              "\n",
              "    .dataframe tbody tr th {\n",
              "        vertical-align: top;\n",
              "    }\n",
              "\n",
              "    .dataframe thead th {\n",
              "        text-align: right;\n",
              "    }\n",
              "</style>\n",
              "<table border=\"1\" class=\"dataframe\">\n",
              "  <thead>\n",
              "    <tr style=\"text-align: right;\">\n",
              "      <th></th>\n",
              "      <th>user_id</th>\n",
              "      <th>mean_rating</th>\n",
              "    </tr>\n",
              "  </thead>\n",
              "  <tbody>\n",
              "    <tr>\n",
              "      <th>0</th>\n",
              "      <td>1</td>\n",
              "      <td>3.529412</td>\n",
              "    </tr>\n",
              "    <tr>\n",
              "      <th>1</th>\n",
              "      <td>2</td>\n",
              "      <td>3.857143</td>\n",
              "    </tr>\n",
              "  </tbody>\n",
              "</table>\n",
              "</div>"
            ],
            "text/plain": [
              "   user_id  mean_rating\n",
              "0        1     3.529412\n",
              "1        2     3.857143"
            ]
          },
          "metadata": {
            "tags": []
          }
        }
      ]
    },
    {
      "cell_type": "code",
      "metadata": {
        "id": "ARKvcEhncdhp",
        "colab_type": "code",
        "outputId": "95d7fe1c-dbb7-455e-a046-59cb9e18b388",
        "colab": {
          "base_uri": "https://localhost:8080/",
          "height": 110
        }
      },
      "source": [
        "fact_val = pd.merge(fact_val,temp_fact_val2,on='user_id')\n",
        "display(fact_val.head(2))"
      ],
      "execution_count": 87,
      "outputs": [
        {
          "output_type": "display_data",
          "data": {
            "text/html": [
              "<div>\n",
              "<style scoped>\n",
              "    .dataframe tbody tr th:only-of-type {\n",
              "        vertical-align: middle;\n",
              "    }\n",
              "\n",
              "    .dataframe tbody tr th {\n",
              "        vertical-align: top;\n",
              "    }\n",
              "\n",
              "    .dataframe thead th {\n",
              "        text-align: right;\n",
              "    }\n",
              "</style>\n",
              "<table border=\"1\" class=\"dataframe\">\n",
              "  <thead>\n",
              "    <tr style=\"text-align: right;\">\n",
              "      <th></th>\n",
              "      <th>user_id</th>\n",
              "      <th>book_id</th>\n",
              "      <th>rating</th>\n",
              "      <th>mean_rating</th>\n",
              "    </tr>\n",
              "  </thead>\n",
              "  <tbody>\n",
              "    <tr>\n",
              "      <th>0</th>\n",
              "      <td>3356</td>\n",
              "      <td>2303</td>\n",
              "      <td>3</td>\n",
              "      <td>3.869565</td>\n",
              "    </tr>\n",
              "    <tr>\n",
              "      <th>1</th>\n",
              "      <td>3356</td>\n",
              "      <td>766</td>\n",
              "      <td>5</td>\n",
              "      <td>3.869565</td>\n",
              "    </tr>\n",
              "  </tbody>\n",
              "</table>\n",
              "</div>"
            ],
            "text/plain": [
              "   user_id  book_id  rating  mean_rating\n",
              "0     3356     2303       3     3.869565\n",
              "1     3356      766       5     3.869565"
            ]
          },
          "metadata": {
            "tags": []
          }
        }
      ]
    },
    {
      "cell_type": "code",
      "metadata": {
        "id": "c8_VrDRKc4nA",
        "colab_type": "code",
        "colab": {}
      },
      "source": [
        "actual_rating = fact_val['rating']\n",
        "est_rating = fact_val['mean_rating']"
      ],
      "execution_count": 0,
      "outputs": []
    },
    {
      "cell_type": "code",
      "metadata": {
        "id": "RIPe2Wwzc9r7",
        "colab_type": "code",
        "outputId": "49611287-39c8-4f80-b00b-9bde97e3cfe8",
        "colab": {
          "base_uri": "https://localhost:8080/",
          "height": 202
        }
      },
      "source": [
        "# r_ub is the actual residual obtained from the difference between the actual rating and the mean_rating\n",
        "\n",
        "fact_val = fact_val.assign(r_ub = pd.Series(actual_rating - est_rating).values)\n",
        "fact_val.sort_values(by=['user_id','book_id'],inplace=True)\n",
        "display(fact_val.head())"
      ],
      "execution_count": 89,
      "outputs": [
        {
          "output_type": "display_data",
          "data": {
            "text/html": [
              "<div>\n",
              "<style scoped>\n",
              "    .dataframe tbody tr th:only-of-type {\n",
              "        vertical-align: middle;\n",
              "    }\n",
              "\n",
              "    .dataframe tbody tr th {\n",
              "        vertical-align: top;\n",
              "    }\n",
              "\n",
              "    .dataframe thead th {\n",
              "        text-align: right;\n",
              "    }\n",
              "</style>\n",
              "<table border=\"1\" class=\"dataframe\">\n",
              "  <thead>\n",
              "    <tr style=\"text-align: right;\">\n",
              "      <th></th>\n",
              "      <th>user_id</th>\n",
              "      <th>book_id</th>\n",
              "      <th>rating</th>\n",
              "      <th>mean_rating</th>\n",
              "      <th>r_ub</th>\n",
              "    </tr>\n",
              "  </thead>\n",
              "  <tbody>\n",
              "    <tr>\n",
              "      <th>292366</th>\n",
              "      <td>1</td>\n",
              "      <td>16</td>\n",
              "      <td>3</td>\n",
              "      <td>3.529412</td>\n",
              "      <td>-0.529412</td>\n",
              "    </tr>\n",
              "    <tr>\n",
              "      <th>292371</th>\n",
              "      <td>1</td>\n",
              "      <td>33</td>\n",
              "      <td>4</td>\n",
              "      <td>3.529412</td>\n",
              "      <td>0.470588</td>\n",
              "    </tr>\n",
              "    <tr>\n",
              "      <th>292362</th>\n",
              "      <td>1</td>\n",
              "      <td>60</td>\n",
              "      <td>3</td>\n",
              "      <td>3.529412</td>\n",
              "      <td>-0.529412</td>\n",
              "    </tr>\n",
              "    <tr>\n",
              "      <th>292361</th>\n",
              "      <td>1</td>\n",
              "      <td>66</td>\n",
              "      <td>4</td>\n",
              "      <td>3.529412</td>\n",
              "      <td>0.470588</td>\n",
              "    </tr>\n",
              "    <tr>\n",
              "      <th>292357</th>\n",
              "      <td>1</td>\n",
              "      <td>109</td>\n",
              "      <td>3</td>\n",
              "      <td>3.529412</td>\n",
              "      <td>-0.529412</td>\n",
              "    </tr>\n",
              "  </tbody>\n",
              "</table>\n",
              "</div>"
            ],
            "text/plain": [
              "        user_id  book_id  rating  mean_rating      r_ub\n",
              "292366        1       16       3     3.529412 -0.529412\n",
              "292371        1       33       4     3.529412  0.470588\n",
              "292362        1       60       3     3.529412 -0.529412\n",
              "292361        1       66       4     3.529412  0.470588\n",
              "292357        1      109       3     3.529412 -0.529412"
            ]
          },
          "metadata": {
            "tags": []
          }
        }
      ]
    },
    {
      "cell_type": "code",
      "metadata": {
        "id": "rXVdaGx9efhA",
        "colab_type": "code",
        "outputId": "53e7bb67-ad29-4fa3-c1fb-1b626745ceba",
        "colab": {
          "base_uri": "https://localhost:8080/",
          "height": 52
        }
      },
      "source": [
        "# Convert the r_ub of each user into npy\n",
        "\n",
        "val_r_ub = onp.array(fact_val['r_ub'])\n",
        "print(val_r_ub)"
      ],
      "execution_count": 90,
      "outputs": [
        {
          "output_type": "stream",
          "text": [
            "[-0.52941176  0.47058824 -0.52941176 ... -0.52380952 -0.52380952\n",
            " -0.52380952]\n"
          ],
          "name": "stdout"
        }
      ]
    },
    {
      "cell_type": "code",
      "metadata": {
        "id": "PR8i1qNKc931",
        "colab_type": "code",
        "outputId": "03a5436e-67d6-4d0b-cce8-d06bdbb7eb7e",
        "colab": {
          "base_uri": "https://localhost:8080/",
          "height": 243
        }
      },
      "source": [
        "# Convert the whole validation set into npy\n",
        "\n",
        "val_npy = onp.array(fact_val)\n",
        "print(val_npy)"
      ],
      "execution_count": 91,
      "outputs": [
        {
          "output_type": "stream",
          "text": [
            "[[ 1.00000000e+00  1.60000000e+01  3.00000000e+00  3.52941176e+00\n",
            "  -5.29411765e-01]\n",
            " [ 1.00000000e+00  3.30000000e+01  4.00000000e+00  3.52941176e+00\n",
            "   4.70588235e-01]\n",
            " [ 1.00000000e+00  6.00000000e+01  3.00000000e+00  3.52941176e+00\n",
            "  -5.29411765e-01]\n",
            " ...\n",
            " [ 5.34240000e+04  4.00300000e+03  4.00000000e+00  4.52380952e+00\n",
            "  -5.23809524e-01]\n",
            " [ 5.34240000e+04  4.19600000e+03  4.00000000e+00  4.52380952e+00\n",
            "  -5.23809524e-01]\n",
            " [ 5.34240000e+04  4.27700000e+03  4.00000000e+00  4.52380952e+00\n",
            "  -5.23809524e-01]]\n"
          ],
          "name": "stdout"
        }
      ]
    },
    {
      "cell_type": "code",
      "metadata": {
        "id": "k7MHMU_Vhphd",
        "colab_type": "code",
        "outputId": "806a3184-b1b7-4e37-c53a-67ce777c1255",
        "colab": {
          "base_uri": "https://localhost:8080/",
          "height": 139
        }
      },
      "source": [
        "# Convert the integer columns ie user_id, book_id and rating into npy\n",
        "\n",
        "val_int_npy = onp.array(fact_val[['user_id','book_id','rating']])\n",
        "val_int_npy[:,0] = val_int_npy[:,0] - 1\n",
        "val_int_npy[:,1] = val_int_npy[:,1] - 1\n",
        "print(val_int_npy)"
      ],
      "execution_count": 92,
      "outputs": [
        {
          "output_type": "stream",
          "text": [
            "[[    0    15     3]\n",
            " [    0    32     4]\n",
            " [    0    59     3]\n",
            " ...\n",
            " [53423  4002     4]\n",
            " [53423  4195     4]\n",
            " [53423  4276     4]]\n"
          ],
          "name": "stdout"
        }
      ]
    },
    {
      "cell_type": "markdown",
      "metadata": {
        "id": "hO8Gj7AzFMcW",
        "colab_type": "text"
      },
      "source": [
        "#### Setting initial $w_{u},w_{b}$ for the train set with d=5\n",
        "\n",
        "Recall that $ r_{u,b} \\approx \\hat{r}_{u,b} = <w_{u},w_{b}> $.\n",
        "\n",
        "$w_{u}\\in\\mathbb{R}^{d}$ and $w_{b}\\in\\mathbb{R}^d$ are vectors of randomly generated weights that we will eventually train."
      ]
    },
    {
      "cell_type": "code",
      "metadata": {
        "id": "j318gCGLNYwN",
        "colab_type": "code",
        "outputId": "86464790-1e29-4601-c4dc-6123c1c38aa9",
        "colab": {
          "base_uri": "https://localhost:8080/",
          "height": 156
        }
      },
      "source": [
        "# Get wu for every user\n",
        "d=5\n",
        "num_of_users = len(fact_train['user_id'].unique())\n",
        "w_u_init = onp.random.normal(0,2,size=(num_of_users,d))\n",
        "print(w_u_init)\n",
        "print(w_u_init.shape)"
      ],
      "execution_count": 93,
      "outputs": [
        {
          "output_type": "stream",
          "text": [
            "[[ 1.54661869 -0.47632017  1.13849038  0.43746517 -1.01489359]\n",
            " [ 0.85747014  0.77188076  0.2637507   1.44208283  1.66543176]\n",
            " [-2.08427522 -2.69336335 -0.93439361 -0.74592777  1.28460989]\n",
            " ...\n",
            " [-1.21142242  0.84377101  1.00229638  0.25470455 -1.32723293]\n",
            " [ 0.2796288   0.68408179  0.9746066  -2.50223964 -0.56587048]\n",
            " [-2.26549374  3.34304861 -1.91889491  0.56773183 -1.65024199]]\n",
            "(53424, 5)\n"
          ],
          "name": "stdout"
        }
      ]
    },
    {
      "cell_type": "code",
      "metadata": {
        "id": "AgbcFt2j-Gx0",
        "colab_type": "code",
        "outputId": "f1a4faa7-0081-4217-d009-d1d0d22c37c5",
        "colab": {
          "base_uri": "https://localhost:8080/",
          "height": 156
        }
      },
      "source": [
        "# Get wu for every user\n",
        "d=5\n",
        "num_of_books = len(fact_train['book_id'].unique())\n",
        "w_b_init = onp.random.normal(0,2,size=(num_of_books,d))\n",
        "print(w_b_init)\n",
        "print(w_b_init.shape)"
      ],
      "execution_count": 94,
      "outputs": [
        {
          "output_type": "stream",
          "text": [
            "[[ 2.80892194 -4.36745526  0.75580265  2.27271946 -2.29982922]\n",
            " [-0.21118675 -2.45287236 -2.03296444  0.10239877  2.53032136]\n",
            " [ 2.7832747  -1.50749314 -2.84688895 -1.22571416  0.34526414]\n",
            " ...\n",
            " [ 0.12462481  3.09808981 -0.45653567  0.31260095 -2.14121616]\n",
            " [-0.65803186  1.48861955  1.75381814 -3.25835392  0.9847409 ]\n",
            " [-1.30629108 -0.51717885  0.59726047 -2.94901345  2.066702  ]]\n",
            "(10000, 5)\n"
          ],
          "name": "stdout"
        }
      ]
    },
    {
      "cell_type": "markdown",
      "metadata": {
        "id": "oEs6rHYgZRjv",
        "colab_type": "text"
      },
      "source": [
        "#### Gradient Descent for d = 5 for Sanity Check\n",
        "\n",
        "Note: The cells in this section are commented out for efficiency purposes."
      ]
    },
    {
      "cell_type": "code",
      "metadata": {
        "id": "MAXO4PzxZciK",
        "colab_type": "code",
        "colab": {}
      },
      "source": [
        "# U = onp.copy(w_u_init)\n",
        "# B = onp.copy(w_b_init)"
      ],
      "execution_count": 0,
      "outputs": []
    },
    {
      "cell_type": "code",
      "metadata": {
        "id": "9OEg5Mhkyux3",
        "colab_type": "code",
        "colab": {}
      },
      "source": [
        "# print(U.shape)\n",
        "# print(B.shape)"
      ],
      "execution_count": 0,
      "outputs": []
    },
    {
      "cell_type": "code",
      "metadata": {
        "id": "hTrk9vBQZOA7",
        "colab_type": "code",
        "colab": {}
      },
      "source": [
        "# LBFGS_iter=10\n",
        "# n_iter=10\n",
        "# train_loss_history = []\n",
        "# val_loss_history = []\n",
        "\n",
        "# for k in range(n_iter):\n",
        "\n",
        "#   print(\"iteration: \", k)\n",
        "#   B = minimize_U_fixed(train_npy,train_int_npy,train_r_ub,U,B,LBFGS_iter)\n",
        "#   U = minimize_B_fixed(train_npy,train_int_npy,train_r_ub,U,B,LBFGS_iter)\n",
        "\n",
        "#   current_train_loss = fact_loss(train_npy,train_int_npy,train_r_ub,U,B)\n",
        "#   train_loss_history.append(current_train_loss)\n",
        "\n",
        "#   current_val_loss = fact_loss(val_npy,val_int_npy,val_r_ub,U,B)\n",
        "#   val_loss_history.append(current_val_loss)\n",
        "  \n",
        "#   print(\"Train loss:{0:.3f} \\t Validation Loss:{1:.3f}\".format(current_train_loss,current_val_loss))"
      ],
      "execution_count": 0,
      "outputs": []
    },
    {
      "cell_type": "code",
      "metadata": {
        "id": "-MG06M3-ZP24",
        "colab_type": "code",
        "colab": {}
      },
      "source": [
        "# iters = range(0,n_iter)\n",
        "# print(train_loss_history)\n",
        "# plt.plot(iters,train_loss_history,label=\"loss(train)\")\n",
        "# plt.plot(iters,val_loss_history,label=\"loss(val)\")\n",
        "# plt.legend()\n",
        "# plt.grid(True)\n",
        "# plt.xlabel(\"iteration\")\n",
        "# plt.title(\"L-BFGS-B\")"
      ],
      "execution_count": 0,
      "outputs": []
    },
    {
      "cell_type": "markdown",
      "metadata": {
        "id": "-g3vH8Jo3kp8",
        "colab_type": "text"
      },
      "source": [
        "#### Apply L-BFGS-B and Cross-Validation\n",
        "\n",
        "Now that we have set up the algorithm for L-BFGS-B, let's apply cross validation to select the hyperparameter d that can give us the lowest CV error."
      ]
    },
    {
      "cell_type": "code",
      "metadata": {
        "id": "M-LY7je_3w5b",
        "colab_type": "code",
        "outputId": "29543b4b-5329-42a2-ae81-4fd9346c56c9",
        "colab": {
          "base_uri": "https://localhost:8080/",
          "height": 1000
        }
      },
      "source": [
        "list_of_d = [1,2,3,4,5,6,7,8,9,10,15,20]\n",
        "num_of_users = len(fact_train['user_id'].unique())\n",
        "num_of_books = len(fact_train['book_id'].unique())\n",
        "lowest_cv_loss = 100\n",
        "best_d = 0\n",
        "LBFGS_iter=15\n",
        "n_iter=15\n",
        "best_U = U\n",
        "best_B = B\n",
        "all_train_loss_history = []\n",
        "all_val_loss_history = []\n",
        "\n",
        "# Cross Validation to select d\n",
        "for d in list_of_d:\n",
        "  # Initialize history\n",
        "  train_loss_history = []\n",
        "  val_loss_history = []\n",
        "\n",
        "  # Initialize w_u and w_b\n",
        "  w_u_init = onp.random.normal(0,2,size=(num_of_users,d))\n",
        "  w_b_init = onp.random.normal(0,2,size=(num_of_books,d))\n",
        "  U = onp.copy(w_u_init)\n",
        "  B = onp.copy(w_b_init)\n",
        "  print(\"Shape of U:\", U.shape)\n",
        "  print(\"Shape_of_B:\", B.shape)\n",
        "  \n",
        "  # L-BFGS-B for each d\n",
        "  for k in range(n_iter):\n",
        "\n",
        "    print(\"current d:{0} \\t iteration:{1}\".format(d,k))\n",
        "\n",
        "    # Alternate minimizations to train U and B\n",
        "    B = minimize_U_fixed(train_npy,train_int_npy,train_r_ub,U,B,LBFGS_iter)\n",
        "    U = minimize_B_fixed(train_npy,train_int_npy,train_r_ub,U,B,LBFGS_iter)\n",
        "\n",
        "    # Save loss history\n",
        "    current_train_loss = fact_loss(train_npy,train_int_npy,train_r_ub,U,B)\n",
        "    train_loss_history.append(current_train_loss)\n",
        "\n",
        "    current_val_loss = fact_loss(val_npy,val_int_npy,val_r_ub,U,B)\n",
        "    val_loss_history.append(current_val_loss)\n",
        "\n",
        "    print(\"Train loss:{0:.3f} \\t Validation Loss:{1:.3f}\".format(current_train_loss,current_val_loss))\n",
        "  \n",
        "  # Save all the loss histories for each d\n",
        "  all_train_loss_history.append(train_loss_history)\n",
        "  all_val_loss_history.append(val_loss_history)\n",
        "\n",
        "  # Save the best d and the corresponding U and B when val_loss is the lowest\n",
        "  if (current_val_loss < lowest_cv_loss):\n",
        "    lowest_cv_loss = current_val_loss\n",
        "    best_d = d\n",
        "    best_U = U\n",
        "    best_B = B"
      ],
      "execution_count": 0,
      "outputs": [
        {
          "output_type": "stream",
          "text": [
            "Shape of U: (53424, 1)\n",
            "Shape_of_B: (10000, 1)\n",
            "current d:1 \t iteration:0\n",
            "Train loss:0.769 \t Validation Loss:0.759\n",
            "current d:1 \t iteration:1\n",
            "Train loss:0.766 \t Validation Loss:0.761\n",
            "current d:1 \t iteration:2\n",
            "Train loss:0.766 \t Validation Loss:0.761\n",
            "current d:1 \t iteration:3\n",
            "Train loss:0.766 \t Validation Loss:0.761\n",
            "current d:1 \t iteration:4\n",
            "Train loss:0.766 \t Validation Loss:0.761\n",
            "current d:1 \t iteration:5\n",
            "Train loss:0.766 \t Validation Loss:0.761\n",
            "current d:1 \t iteration:6\n",
            "Train loss:0.766 \t Validation Loss:0.761\n",
            "current d:1 \t iteration:7\n",
            "Train loss:0.766 \t Validation Loss:0.761\n",
            "current d:1 \t iteration:8\n",
            "Train loss:0.766 \t Validation Loss:0.761\n",
            "current d:1 \t iteration:9\n",
            "Train loss:0.766 \t Validation Loss:0.761\n",
            "current d:1 \t iteration:10\n",
            "Train loss:0.766 \t Validation Loss:0.761\n",
            "current d:1 \t iteration:11\n",
            "Train loss:0.766 \t Validation Loss:0.761\n",
            "current d:1 \t iteration:12\n",
            "Train loss:0.766 \t Validation Loss:0.761\n",
            "current d:1 \t iteration:13\n",
            "Train loss:0.766 \t Validation Loss:0.761\n",
            "current d:1 \t iteration:14\n",
            "Train loss:0.766 \t Validation Loss:0.761\n",
            "Shape of U: (53424, 2)\n",
            "Shape_of_B: (10000, 2)\n",
            "current d:2 \t iteration:0\n",
            "Train loss:0.758 \t Validation Loss:0.780\n",
            "current d:2 \t iteration:1\n",
            "Train loss:0.748 \t Validation Loss:0.779\n",
            "current d:2 \t iteration:2\n",
            "Train loss:0.748 \t Validation Loss:0.780\n",
            "current d:2 \t iteration:3\n",
            "Train loss:0.748 \t Validation Loss:0.780\n",
            "current d:2 \t iteration:4\n",
            "Train loss:0.748 \t Validation Loss:0.780\n",
            "current d:2 \t iteration:5\n",
            "Train loss:0.748 \t Validation Loss:0.780\n",
            "current d:2 \t iteration:6\n",
            "Train loss:0.748 \t Validation Loss:0.780\n",
            "current d:2 \t iteration:7\n",
            "Train loss:0.748 \t Validation Loss:0.780\n",
            "current d:2 \t iteration:8\n",
            "Train loss:0.748 \t Validation Loss:0.780\n",
            "current d:2 \t iteration:9\n",
            "Train loss:0.748 \t Validation Loss:0.780\n",
            "current d:2 \t iteration:10\n",
            "Train loss:0.748 \t Validation Loss:0.780\n",
            "current d:2 \t iteration:11\n",
            "Train loss:0.748 \t Validation Loss:0.780\n",
            "current d:2 \t iteration:12\n",
            "Train loss:0.748 \t Validation Loss:0.780\n",
            "current d:2 \t iteration:13\n",
            "Train loss:0.748 \t Validation Loss:0.780\n",
            "current d:2 \t iteration:14\n",
            "Train loss:0.748 \t Validation Loss:0.780\n",
            "Shape of U: (53424, 3)\n",
            "Shape_of_B: (10000, 3)\n",
            "current d:3 \t iteration:0\n",
            "Train loss:0.747 \t Validation Loss:0.794\n",
            "current d:3 \t iteration:1\n",
            "Train loss:0.736 \t Validation Loss:0.796\n",
            "current d:3 \t iteration:2\n",
            "Train loss:0.736 \t Validation Loss:0.796\n",
            "current d:3 \t iteration:3\n",
            "Train loss:0.735 \t Validation Loss:0.796\n",
            "current d:3 \t iteration:4\n",
            "Train loss:0.735 \t Validation Loss:0.796\n",
            "current d:3 \t iteration:5\n",
            "Train loss:0.735 \t Validation Loss:0.796\n",
            "current d:3 \t iteration:6\n",
            "Train loss:0.735 \t Validation Loss:0.796\n",
            "current d:3 \t iteration:7\n",
            "Train loss:0.735 \t Validation Loss:0.796\n",
            "current d:3 \t iteration:8\n",
            "Train loss:0.735 \t Validation Loss:0.796\n",
            "current d:3 \t iteration:9\n",
            "Train loss:0.735 \t Validation Loss:0.796\n",
            "current d:3 \t iteration:10\n",
            "Train loss:0.735 \t Validation Loss:0.796\n",
            "current d:3 \t iteration:11\n",
            "Train loss:0.735 \t Validation Loss:0.796\n",
            "current d:3 \t iteration:12\n",
            "Train loss:0.735 \t Validation Loss:0.796\n",
            "current d:3 \t iteration:13\n",
            "Train loss:0.735 \t Validation Loss:0.796\n",
            "current d:3 \t iteration:14\n",
            "Train loss:0.735 \t Validation Loss:0.796\n",
            "Shape of U: (53424, 4)\n",
            "Shape_of_B: (10000, 4)\n",
            "current d:4 \t iteration:0\n",
            "Train loss:0.738 \t Validation Loss:0.813\n",
            "current d:4 \t iteration:1\n",
            "Train loss:0.714 \t Validation Loss:0.818\n",
            "current d:4 \t iteration:2\n",
            "Train loss:0.696 \t Validation Loss:0.805\n",
            "current d:4 \t iteration:3\n",
            "Train loss:0.695 \t Validation Loss:0.802\n",
            "current d:4 \t iteration:4\n",
            "Train loss:0.695 \t Validation Loss:0.801\n",
            "current d:4 \t iteration:5\n",
            "Train loss:0.695 \t Validation Loss:0.801\n",
            "current d:4 \t iteration:6\n",
            "Train loss:0.695 \t Validation Loss:0.801\n",
            "current d:4 \t iteration:7\n",
            "Train loss:0.695 \t Validation Loss:0.801\n",
            "current d:4 \t iteration:8\n",
            "Train loss:0.695 \t Validation Loss:0.801\n",
            "current d:4 \t iteration:9\n",
            "Train loss:0.695 \t Validation Loss:0.801\n",
            "current d:4 \t iteration:10\n",
            "Train loss:0.695 \t Validation Loss:0.801\n",
            "current d:4 \t iteration:11\n",
            "Train loss:0.695 \t Validation Loss:0.801\n",
            "current d:4 \t iteration:12\n",
            "Train loss:0.695 \t Validation Loss:0.801\n",
            "current d:4 \t iteration:13\n",
            "Train loss:0.695 \t Validation Loss:0.801\n",
            "current d:4 \t iteration:14\n",
            "Train loss:0.695 \t Validation Loss:0.801\n",
            "Shape of U: (53424, 5)\n",
            "Shape_of_B: (10000, 5)\n",
            "current d:5 \t iteration:0\n",
            "Train loss:0.727 \t Validation Loss:0.832\n",
            "current d:5 \t iteration:1\n",
            "Train loss:0.697 \t Validation Loss:0.838\n",
            "current d:5 \t iteration:2\n",
            "Train loss:0.679 \t Validation Loss:0.824\n",
            "current d:5 \t iteration:3\n",
            "Train loss:0.678 \t Validation Loss:0.822\n",
            "current d:5 \t iteration:4\n",
            "Train loss:0.678 \t Validation Loss:0.822\n",
            "current d:5 \t iteration:5\n",
            "Train loss:0.678 \t Validation Loss:0.822\n",
            "current d:5 \t iteration:6\n",
            "Train loss:0.678 \t Validation Loss:0.822\n",
            "current d:5 \t iteration:7\n",
            "Train loss:0.678 \t Validation Loss:0.822\n",
            "current d:5 \t iteration:8\n",
            "Train loss:0.678 \t Validation Loss:0.822\n",
            "current d:5 \t iteration:9\n",
            "Train loss:0.678 \t Validation Loss:0.822\n",
            "current d:5 \t iteration:10\n",
            "Train loss:0.678 \t Validation Loss:0.822\n",
            "current d:5 \t iteration:11\n",
            "Train loss:0.678 \t Validation Loss:0.822\n",
            "current d:5 \t iteration:12\n",
            "Train loss:0.678 \t Validation Loss:0.822\n",
            "current d:5 \t iteration:13\n",
            "Train loss:0.678 \t Validation Loss:0.822\n",
            "current d:5 \t iteration:14\n",
            "Train loss:0.678 \t Validation Loss:0.822\n",
            "Shape of U: (53424, 6)\n",
            "Shape_of_B: (10000, 6)\n",
            "current d:6 \t iteration:0\n",
            "Train loss:0.718 \t Validation Loss:0.857\n",
            "current d:6 \t iteration:1\n",
            "Train loss:0.680 \t Validation Loss:0.874\n",
            "current d:6 \t iteration:2\n",
            "Train loss:0.655 \t Validation Loss:0.852\n",
            "current d:6 \t iteration:3\n",
            "Train loss:0.653 \t Validation Loss:0.847\n",
            "current d:6 \t iteration:4\n",
            "Train loss:0.653 \t Validation Loss:0.846\n",
            "current d:6 \t iteration:5\n",
            "Train loss:0.653 \t Validation Loss:0.846\n",
            "current d:6 \t iteration:6\n",
            "Train loss:0.653 \t Validation Loss:0.846\n",
            "current d:6 \t iteration:7\n",
            "Train loss:0.653 \t Validation Loss:0.846\n",
            "current d:6 \t iteration:8\n",
            "Train loss:0.653 \t Validation Loss:0.846\n",
            "current d:6 \t iteration:9\n",
            "Train loss:0.653 \t Validation Loss:0.846\n",
            "current d:6 \t iteration:10\n",
            "Train loss:0.653 \t Validation Loss:0.846\n",
            "current d:6 \t iteration:11\n",
            "Train loss:0.653 \t Validation Loss:0.846\n",
            "current d:6 \t iteration:12\n",
            "Train loss:0.653 \t Validation Loss:0.846\n",
            "current d:6 \t iteration:13\n",
            "Train loss:0.653 \t Validation Loss:0.846\n",
            "current d:6 \t iteration:14\n",
            "Train loss:0.653 \t Validation Loss:0.846\n",
            "Shape of U: (53424, 7)\n",
            "Shape_of_B: (10000, 7)\n",
            "current d:7 \t iteration:0\n",
            "Train loss:0.709 \t Validation Loss:0.881\n",
            "current d:7 \t iteration:1\n",
            "Train loss:0.690 \t Validation Loss:0.881\n",
            "current d:7 \t iteration:2\n",
            "Train loss:0.689 \t Validation Loss:0.881\n",
            "current d:7 \t iteration:3\n",
            "Train loss:0.689 \t Validation Loss:0.882\n",
            "current d:7 \t iteration:4\n",
            "Train loss:0.689 \t Validation Loss:0.882\n",
            "current d:7 \t iteration:5\n",
            "Train loss:0.689 \t Validation Loss:0.882\n",
            "current d:7 \t iteration:6\n",
            "Train loss:0.689 \t Validation Loss:0.882\n",
            "current d:7 \t iteration:7\n",
            "Train loss:0.689 \t Validation Loss:0.882\n",
            "current d:7 \t iteration:8\n",
            "Train loss:0.689 \t Validation Loss:0.882\n",
            "current d:7 \t iteration:9\n",
            "Train loss:0.689 \t Validation Loss:0.882\n",
            "current d:7 \t iteration:10\n",
            "Train loss:0.689 \t Validation Loss:0.882\n",
            "current d:7 \t iteration:11\n",
            "Train loss:0.689 \t Validation Loss:0.882\n",
            "current d:7 \t iteration:12\n",
            "Train loss:0.689 \t Validation Loss:0.882\n",
            "current d:7 \t iteration:13\n",
            "Train loss:0.689 \t Validation Loss:0.882\n",
            "current d:7 \t iteration:14\n",
            "Train loss:0.689 \t Validation Loss:0.882\n",
            "Shape of U: (53424, 8)\n",
            "Shape_of_B: (10000, 8)\n",
            "current d:8 \t iteration:0\n",
            "Train loss:0.702 \t Validation Loss:0.923\n",
            "current d:8 \t iteration:1\n",
            "Train loss:0.657 \t Validation Loss:0.954\n",
            "current d:8 \t iteration:2\n",
            "Train loss:0.632 \t Validation Loss:0.935\n",
            "current d:8 \t iteration:3\n",
            "Train loss:0.630 \t Validation Loss:0.929\n",
            "current d:8 \t iteration:4\n",
            "Train loss:0.630 \t Validation Loss:0.927\n",
            "current d:8 \t iteration:5\n",
            "Train loss:0.630 \t Validation Loss:0.926\n",
            "current d:8 \t iteration:6\n",
            "Train loss:0.630 \t Validation Loss:0.926\n",
            "current d:8 \t iteration:7\n",
            "Train loss:0.630 \t Validation Loss:0.926\n",
            "current d:8 \t iteration:8\n",
            "Train loss:0.630 \t Validation Loss:0.926\n",
            "current d:8 \t iteration:9\n",
            "Train loss:0.630 \t Validation Loss:0.926\n",
            "current d:8 \t iteration:10\n",
            "Train loss:0.630 \t Validation Loss:0.926\n",
            "current d:8 \t iteration:11\n",
            "Train loss:0.630 \t Validation Loss:0.926\n",
            "current d:8 \t iteration:12\n",
            "Train loss:0.630 \t Validation Loss:0.926\n",
            "current d:8 \t iteration:13\n",
            "Train loss:0.630 \t Validation Loss:0.926\n",
            "current d:8 \t iteration:14\n",
            "Train loss:0.630 \t Validation Loss:0.926\n",
            "Shape of U: (53424, 9)\n",
            "Shape_of_B: (10000, 9)\n",
            "current d:9 \t iteration:0\n",
            "Train loss:0.691 \t Validation Loss:0.950\n",
            "current d:9 \t iteration:1\n",
            "Train loss:0.637 \t Validation Loss:0.970\n",
            "current d:9 \t iteration:2\n",
            "Train loss:0.609 \t Validation Loss:0.944\n",
            "current d:9 \t iteration:3\n",
            "Train loss:0.607 \t Validation Loss:0.938\n",
            "current d:9 \t iteration:4\n",
            "Train loss:0.606 \t Validation Loss:0.934\n",
            "current d:9 \t iteration:5\n",
            "Train loss:0.606 \t Validation Loss:0.931\n",
            "current d:9 \t iteration:6\n",
            "Train loss:0.606 \t Validation Loss:0.931\n",
            "current d:9 \t iteration:7\n",
            "Train loss:0.606 \t Validation Loss:0.931\n",
            "current d:9 \t iteration:8\n",
            "Train loss:0.606 \t Validation Loss:0.931\n",
            "current d:9 \t iteration:9\n",
            "Train loss:0.606 \t Validation Loss:0.931\n",
            "current d:9 \t iteration:10\n",
            "Train loss:0.606 \t Validation Loss:0.931\n",
            "current d:9 \t iteration:11\n",
            "Train loss:0.606 \t Validation Loss:0.931\n",
            "current d:9 \t iteration:12\n",
            "Train loss:0.606 \t Validation Loss:0.931\n",
            "current d:9 \t iteration:13\n",
            "Train loss:0.606 \t Validation Loss:0.931\n",
            "current d:9 \t iteration:14\n",
            "Train loss:0.606 \t Validation Loss:0.931\n",
            "Shape of U: (53424, 10)\n",
            "Shape_of_B: (10000, 10)\n",
            "current d:10 \t iteration:0\n",
            "Train loss:0.689 \t Validation Loss:1.018\n",
            "current d:10 \t iteration:1\n",
            "Train loss:0.631 \t Validation Loss:1.075\n",
            "current d:10 \t iteration:2\n",
            "Train loss:0.604 \t Validation Loss:1.050\n",
            "current d:10 \t iteration:3\n",
            "Train loss:0.602 \t Validation Loss:1.044\n",
            "current d:10 \t iteration:4\n",
            "Train loss:0.601 \t Validation Loss:1.041\n",
            "current d:10 \t iteration:5\n",
            "Train loss:0.601 \t Validation Loss:1.041\n",
            "current d:10 \t iteration:6\n",
            "Train loss:0.601 \t Validation Loss:1.041\n",
            "current d:10 \t iteration:7\n",
            "Train loss:0.601 \t Validation Loss:1.041\n",
            "current d:10 \t iteration:8\n",
            "Train loss:0.601 \t Validation Loss:1.041\n",
            "current d:10 \t iteration:9\n",
            "Train loss:0.601 \t Validation Loss:1.041\n",
            "current d:10 \t iteration:10\n",
            "Train loss:0.601 \t Validation Loss:1.041\n",
            "current d:10 \t iteration:11\n",
            "Train loss:0.601 \t Validation Loss:1.041\n",
            "current d:10 \t iteration:12\n",
            "Train loss:0.601 \t Validation Loss:1.041\n",
            "current d:10 \t iteration:13\n",
            "Train loss:0.601 \t Validation Loss:1.041\n",
            "current d:10 \t iteration:14\n",
            "Train loss:0.601 \t Validation Loss:1.041\n",
            "Shape of U: (53424, 15)\n",
            "Shape_of_B: (10000, 15)\n",
            "current d:15 \t iteration:0\n",
            "Train loss:0.659 \t Validation Loss:1.303\n",
            "current d:15 \t iteration:1\n",
            "Train loss:0.576 \t Validation Loss:1.386\n",
            "current d:15 \t iteration:2\n",
            "Train loss:0.546 \t Validation Loss:1.360\n",
            "current d:15 \t iteration:3\n",
            "Train loss:0.544 \t Validation Loss:1.351\n",
            "current d:15 \t iteration:4\n",
            "Train loss:0.543 \t Validation Loss:1.346\n",
            "current d:15 \t iteration:5\n",
            "Train loss:0.543 \t Validation Loss:1.345\n",
            "current d:15 \t iteration:6\n",
            "Train loss:0.543 \t Validation Loss:1.345\n",
            "current d:15 \t iteration:7\n",
            "Train loss:0.543 \t Validation Loss:1.345\n",
            "current d:15 \t iteration:8\n",
            "Train loss:0.543 \t Validation Loss:1.345\n",
            "current d:15 \t iteration:9\n",
            "Train loss:0.543 \t Validation Loss:1.345\n",
            "current d:15 \t iteration:10\n",
            "Train loss:0.543 \t Validation Loss:1.345\n",
            "current d:15 \t iteration:11\n",
            "Train loss:0.543 \t Validation Loss:1.345\n",
            "current d:15 \t iteration:12\n",
            "Train loss:0.543 \t Validation Loss:1.345\n",
            "current d:15 \t iteration:13\n",
            "Train loss:0.543 \t Validation Loss:1.345\n",
            "current d:15 \t iteration:14\n",
            "Train loss:0.543 \t Validation Loss:1.345\n",
            "Shape of U: (53424, 20)\n",
            "Shape_of_B: (10000, 20)\n",
            "current d:20 \t iteration:0\n",
            "Train loss:0.664 \t Validation Loss:2.000\n",
            "current d:20 \t iteration:1\n",
            "Train loss:0.533 \t Validation Loss:2.161\n",
            "current d:20 \t iteration:2\n",
            "Train loss:0.475 \t Validation Loss:2.312\n",
            "current d:20 \t iteration:3\n",
            "Train loss:0.459 \t Validation Loss:2.297\n",
            "current d:20 \t iteration:4\n",
            "Train loss:0.457 \t Validation Loss:2.282\n",
            "current d:20 \t iteration:5\n",
            "Train loss:0.456 \t Validation Loss:2.278\n",
            "current d:20 \t iteration:6\n",
            "Train loss:0.456 \t Validation Loss:2.268\n",
            "current d:20 \t iteration:7\n",
            "Train loss:0.456 \t Validation Loss:2.268\n",
            "current d:20 \t iteration:8\n",
            "Train loss:0.456 \t Validation Loss:2.268\n",
            "current d:20 \t iteration:9\n",
            "Train loss:0.456 \t Validation Loss:2.268\n",
            "current d:20 \t iteration:10\n",
            "Train loss:0.456 \t Validation Loss:2.268\n",
            "current d:20 \t iteration:11\n",
            "Train loss:0.456 \t Validation Loss:2.268\n",
            "current d:20 \t iteration:12\n",
            "Train loss:0.456 \t Validation Loss:2.268\n",
            "current d:20 \t iteration:13\n",
            "Train loss:0.456 \t Validation Loss:2.268\n",
            "current d:20 \t iteration:14\n",
            "Train loss:0.456 \t Validation Loss:2.268\n"
          ],
          "name": "stdout"
        }
      ]
    },
    {
      "cell_type": "code",
      "metadata": {
        "id": "igcmdf2v6dg2",
        "colab_type": "code",
        "outputId": "95d3ce68-d3a6-4154-e5f3-2ebf3b394645",
        "colab": {
          "base_uri": "https://localhost:8080/",
          "height": 52
        }
      },
      "source": [
        "print(\"The best d from cross-validation is\", best_d)\n",
        "print(\"The lowest CV loss is\", lowest_cv_loss)"
      ],
      "execution_count": 0,
      "outputs": [
        {
          "output_type": "stream",
          "text": [
            "The best d from cross-validation is 1\n",
            "The lowest CV loss is 0.7609324219830944\n"
          ],
          "name": "stdout"
        }
      ]
    },
    {
      "cell_type": "code",
      "metadata": {
        "id": "Udy-7-297Yi4",
        "colab_type": "code",
        "colab": {}
      },
      "source": [
        "# Extract the histories corresponding to the best_d\n",
        "\n",
        "d_index = list_of_d.index(best_d)\n",
        "best_train_loss_history = all_train_loss_history[d_index]\n",
        "best_val_loss_history = all_val_loss_history[d_index]"
      ],
      "execution_count": 0,
      "outputs": []
    },
    {
      "cell_type": "code",
      "metadata": {
        "id": "Ow7rqtJo9sLG",
        "colab_type": "code",
        "outputId": "955ba46e-00a2-4ec1-edf1-456ea052d9c8",
        "colab": {
          "base_uri": "https://localhost:8080/",
          "height": 313
        }
      },
      "source": [
        "# Plot the loss histories\n",
        "\n",
        "iters = range(0,n_iter)\n",
        "plt.plot(iters,best_train_loss_history,label=\"loss(train)\")\n",
        "plt.plot(iters,best_val_loss_history,label=\"loss(val)\")\n",
        "plt.legend()\n",
        "plt.grid(True)\n",
        "plt.xlabel(\"iteration\")\n",
        "plt.title(\"Cross Validated L-BFGS-B with Chosen d\")"
      ],
      "execution_count": 0,
      "outputs": [
        {
          "output_type": "execute_result",
          "data": {
            "text/plain": [
              "Text(0.5, 1.0, 'Cross Validated L-BFGS-B with Chosen d')"
            ]
          },
          "metadata": {
            "tags": []
          },
          "execution_count": 227
        },
        {
          "output_type": "display_data",
          "data": {
            "image/png": "[encoded data removed]",
            "text/plain": [
              "<Figure size 432x288 with 1 Axes>"
            ]
          },
          "metadata": {
            "tags": [],
            "needs_background": "light"
          }
        }
      ]
    },
    {
      "cell_type": "markdown",
      "metadata": {
        "id": "BvHMRcKSJRjl",
        "colab_type": "text"
      },
      "source": [
        "#### Save the weights into Google Drive\n",
        "\n",
        "Uncomment/modify this section to save the weights\n",
        "\n"
      ]
    },
    {
      "cell_type": "code",
      "metadata": {
        "id": "NtaZ02V4JpZb",
        "colab_type": "code",
        "outputId": "c3617f04-1689-4614-ea8a-b0474172c8fa",
        "colab": {
          "base_uri": "https://localhost:8080/",
          "height": 35
        }
      },
      "source": [
        "# !ls '/content/drive/My Drive/DSA4212/Assignments/Assignment 2/'"
      ],
      "execution_count": 0,
      "outputs": [
        {
          "output_type": "stream",
          "text": [
            "'Book Recommendation Final.ipynb'   books_and_ratings.zip\n"
          ],
          "name": "stdout"
        }
      ]
    },
    {
      "cell_type": "code",
      "metadata": {
        "id": "jiItFf9eLTLC",
        "colab_type": "code",
        "colab": {}
      },
      "source": [
        "# SAVE_DIRECTORY = \"/content/drive/My Drive/DSA4212/Assignments/Assignment 2/\""
      ],
      "execution_count": 0,
      "outputs": []
    },
    {
      "cell_type": "code",
      "metadata": {
        "id": "Plnm6G7qLAHj",
        "colab_type": "code",
        "colab": {}
      },
      "source": [
        "# # Save the weights\n",
        "# np.save(SAVE_DIRECTORY + \"best_U.npy\", best_U)\n",
        "# np.save(SAVE_DIRECTORY + \"best_B.npy\", best_B)"
      ],
      "execution_count": 0,
      "outputs": []
    },
    {
      "cell_type": "code",
      "metadata": {
        "id": "q-dOHfX8hdmL",
        "colab_type": "code",
        "colab": {}
      },
      "source": [
        "# # Save the histories\n",
        "# train_loss_history_npy = onp.asarray(train_loss_history)\n",
        "# val_loss_history_npy = onp.asarray(val_loss_history)\n",
        "# np.save(SAVE_DIRECTORY + \"train_loss_history.npy\", train_loss_history_npy)\n",
        "# np.save(SAVE_DIRECTORY + \"val_loss_history.npy\", val_loss_history_npy)"
      ],
      "execution_count": 0,
      "outputs": []
    },
    {
      "cell_type": "markdown",
      "metadata": {
        "id": "NqRFYR-wPJ8z",
        "colab_type": "text"
      },
      "source": [
        "#### Load the Saved Weights\n",
        "\n",
        "Uncomment/modify this section to load the saved weights"
      ]
    },
    {
      "cell_type": "code",
      "metadata": {
        "id": "kW5U1TD54qq6",
        "colab_type": "code",
        "colab": {}
      },
      "source": [
        "# # Uncomment this if we are using the saved weights for testing\n",
        "# SAVE_DIRECTORY = \"/content/drive/My Drive/DSA4212/Assignments/Assignment 2/\""
      ],
      "execution_count": 0,
      "outputs": []
    },
    {
      "cell_type": "code",
      "metadata": {
        "id": "1-qd6uzXVfog",
        "colab_type": "code",
        "colab": {}
      },
      "source": [
        "# # Uncomment this if we are using the saved weights for testing\n",
        "# loaded_best_U = np.load(SAVE_DIRECTORY + \"best_U.npy\")\n",
        "# loaded_best_B = np.load(SAVE_DIRECTORY + \"best_B.npy\")"
      ],
      "execution_count": 0,
      "outputs": []
    },
    {
      "cell_type": "code",
      "metadata": {
        "id": "-zWbJ3saPJDS",
        "colab_type": "code",
        "colab": {}
      },
      "source": [
        "# # Uncomment this if we are using the saved weights for testing\n",
        "# best_U = loaded_best_U\n",
        "# best_B = loaded_best_B"
      ],
      "execution_count": 0,
      "outputs": []
    },
    {
      "cell_type": "code",
      "metadata": {
        "id": "Qg6r-RIMh34M",
        "colab_type": "code",
        "colab": {}
      },
      "source": [
        "# # Uncomment this if we are using the saved histories for plotting\n",
        "# loaded_train_loss_history = np.load(SAVE_DIRECTORY + \"train_loss_history.npy\")\n",
        "# loaded_val_loss_history = np.load(SAVE_DIRECTORY + \"val_loss_history.npy\")\n",
        "# train_loss_history = loaded_train_loss_history.tolist()\n",
        "# val_loss_history = loaded_val_loss_history.tolist()"
      ],
      "execution_count": 0,
      "outputs": []
    },
    {
      "cell_type": "markdown",
      "metadata": {
        "id": "o3DFGKqk_Bl6",
        "colab_type": "text"
      },
      "source": [
        "#### Test the Factor Model with L-BFGS-B"
      ]
    },
    {
      "cell_type": "code",
      "metadata": {
        "id": "9TNR3vKH_LsE",
        "colab_type": "code",
        "colab": {
          "base_uri": "https://localhost:8080/",
          "height": 110
        },
        "outputId": "ed2ec2db-72d7-4700-f389-3c358d17ef78"
      },
      "source": [
        "fact_test = r_test.copy()\n",
        "naive_train = fact_train.copy()\n",
        "display(naive_train.head(2))"
      ],
      "execution_count": 128,
      "outputs": [
        {
          "output_type": "display_data",
          "data": {
            "text/html": [
              "<div>\n",
              "<style scoped>\n",
              "    .dataframe tbody tr th:only-of-type {\n",
              "        vertical-align: middle;\n",
              "    }\n",
              "\n",
              "    .dataframe tbody tr th {\n",
              "        vertical-align: top;\n",
              "    }\n",
              "\n",
              "    .dataframe thead th {\n",
              "        text-align: right;\n",
              "    }\n",
              "</style>\n",
              "<table border=\"1\" class=\"dataframe\">\n",
              "  <thead>\n",
              "    <tr style=\"text-align: right;\">\n",
              "      <th></th>\n",
              "      <th>user_id</th>\n",
              "      <th>book_id</th>\n",
              "      <th>rating</th>\n",
              "      <th>mean_rating</th>\n",
              "      <th>r_ub</th>\n",
              "    </tr>\n",
              "  </thead>\n",
              "  <tbody>\n",
              "    <tr>\n",
              "      <th>671645</th>\n",
              "      <td>1</td>\n",
              "      <td>10</td>\n",
              "      <td>4</td>\n",
              "      <td>3.694444</td>\n",
              "      <td>0.305556</td>\n",
              "    </tr>\n",
              "    <tr>\n",
              "      <th>671628</th>\n",
              "      <td>1</td>\n",
              "      <td>11</td>\n",
              "      <td>5</td>\n",
              "      <td>3.694444</td>\n",
              "      <td>1.305556</td>\n",
              "    </tr>\n",
              "  </tbody>\n",
              "</table>\n",
              "</div>"
            ],
            "text/plain": [
              "        user_id  book_id  rating  mean_rating      r_ub\n",
              "671645        1       10       4     3.694444  0.305556\n",
              "671628        1       11       5     3.694444  1.305556"
            ]
          },
          "metadata": {
            "tags": []
          }
        }
      ]
    },
    {
      "cell_type": "code",
      "metadata": {
        "id": "heJd8-gcA8bl",
        "colab_type": "code",
        "colab": {}
      },
      "source": [
        "# Test Loss Function\n",
        "\n",
        "def test_loss(test_df,naive_train_df,best_U,best_B):\n",
        "  r_hat = best_U @ best_B.T # Shape of |U|x|B| of train set \n",
        "\n",
        "  naive_train_df2 = naive_train_df.drop('book_id',axis=1)\n",
        "  naive_train_df3 = naive_train_df2.groupby('user_id').mean().reset_index()\n",
        "  R_naive_npy = onp.array(naive_train_df3['mean_rating']) # Obtain the naive estimated rating for each user in the train set\n",
        "\n",
        "  test_id_npy = onp.array(test_df[['user_id','book_id']]) # Obtain the user_id and book_id from the test set\n",
        "  adj_user_ids = [x-1 for x in test_id_npy[:,0]] # adjust the user_id in test set for zero-based indexing\n",
        "  adj_book_ids = [x-1 for x in test_id_npy[:,1]] # adjust the book_id in test set for zero-based indexing\n",
        "\n",
        "  test_r_hat = r_hat[adj_user_ids,adj_book_ids] # extract the r_hats for the corresponding pairs of user_id and book_id  \n",
        "  test_R_naive = R_naive_npy[adj_user_ids] # extract the R_naive for the corresponding user_id\n",
        "  R_hat = test_R_naive + test_r_hat # Get the estimated rating for the corresponding pairs of user_id and book_id\n",
        "\n",
        "  R_ub = onp.array(test_df['rating']) # Get the actual ratings from the test set\n",
        "\n",
        "  return np.mean((R_ub - R_hat)**2) # Find the mean squared error"
      ],
      "execution_count": 0,
      "outputs": []
    },
    {
      "cell_type": "code",
      "metadata": {
        "id": "CUFIuag2R3Bu",
        "colab_type": "code",
        "outputId": "5cc01514-a8d5-4055-aef7-65c2c0188501",
        "colab": {
          "base_uri": "https://localhost:8080/",
          "height": 35
        }
      },
      "source": [
        "test_mse = test_loss(r_test,naive_train,best_U,best_B)\n",
        "print(\"The Factor Model Test MSE is\", test_mse)"
      ],
      "execution_count": 134,
      "outputs": [
        {
          "output_type": "stream",
          "text": [
            "The Factor Model Test MSE is 0.7980425518227283\n"
          ],
          "name": "stdout"
        }
      ]
    },
    {
      "cell_type": "markdown",
      "metadata": {
        "id": "QVfBDZny6x1Y",
        "colab_type": "text"
      },
      "source": [
        "In conclusion, of all the models, the factor model with d = 1 performed the best with the lowest loss or test MSE. The factor model does slightly better than the user mean model and we can see why. The factor model adjusts the `mean_rating` of each user to become closer to the actual rating that each user gave to each book by estimating and compensating for the residuals from the difference between the actual rating and the naive predicted rating."
      ]
    }
  ]
}
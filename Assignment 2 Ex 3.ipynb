{
 "cells": [
  {
   "cell_type": "code",
   "execution_count": 110,
   "metadata": {},
   "outputs": [],
   "source": [
    "%matplotlib inline\n",
    "from jax.config import config\n",
    "config.update(\"jax_enable_x64\", True)  #important for L-BFGS\n",
    "\n",
    "import jax\n",
    "import jax.numpy as np\n",
    "\n",
    "import pylab as plt\n",
    "import imageio\n",
    "import os\n",
    "import numpy as onp\n",
    "from skimage.transform import rescale, resize, downscale_local_mean\n",
    "import pandas as pd\n",
    "import scipy"
   ]
  },
  {
   "cell_type": "markdown",
   "metadata": {},
   "source": [
    "# Exercise 3: SIR estimation"
   ]
  },
  {
   "cell_type": "markdown",
   "metadata": {},
   "source": [
    "Consider a population with a fraction $S \\in (0,1)$ of people susceptible of contracting a disease, a fraction $I \\in (0,1)$ of infected people, and a fraction $R \\in (0,1)$ of recovered people. \n",
    "If at day $t$ the values of these fractions are $(S_t, I_t, R_t)$, the values at day $t+1$ are \n",
    "\n",
    "$$S_{t+1} = \\frac{\\widehat{S}_{t+1}}{\\widehat{S}_{t+1}+\\widehat{I}_{t+1}+\\widehat{R}_{t+1}}\n",
    "\\qquad \\textrm{and} \\qquad\n",
    "I_{t+1} = \\frac{\\widehat{I}_{t+1}}{\\widehat{S}_{t+1}+\\widehat{I}_{t+1}+\\widehat{R}_{t+1}}\n",
    "\\qquad \\textrm{and} \\qquad\n",
    "R_{t+1} = \\frac{\\widehat{R}_{t+1}}{\\widehat{S}_{t+1}+\\widehat{I}_{t+1}+\\widehat{R}_{t+1}}\n",
    "$$\n",
    "\n",
    "where\n",
    "\n",
    "$$\n",
    "\\widehat{S}_{t+1} = S_t \\, \\exp[-\\beta \\, I_t]\n",
    "\\qquad \\textrm{and} \\qquad\n",
    "\\widehat{I}_{t+1} = I_t \\, \\exp[\\beta \\, S_t - \\gamma]\n",
    "\\qquad \\textrm{and} \\qquad\n",
    "\\widehat{R}_{t+1} = R_t + \\gamma \\, I_t.\n",
    "$$\n",
    "\n",
    "for some unkown parameter $\\beta > 0$ and $\\gamma > 0$ to be estimated.\n",
    "Assume that $S_0 = 0.99$ and $I_0=0.01$ and $R_0=0$. One collects data $[y_1, y_2, \\ldots, y_{30}]$ during 30 consecutive days where  \n",
    "\n",
    "$$y_t \\sim \\mathbf{Poisson}(\\textrm{mean}=1000 \\times I_t)$$\n",
    "\n",
    "**Question 1:** Find the maximum likelihood estimates of the parameter $\\beta$ and $\\gamma$.  \n",
    "**Question 2:** Generate artificial observations from your fitted model and check whether the artificial observations are close to the collected observations.  \n",
    "**Question 3:** Can you give a confidence interval for your estimate of $\\beta$ and $\\gamma$? [this can be done by computing the inverse of the Hessian at the MLE, etc... If you do not know how to do this, google it.] \n",
    "\n",
    "**Remark:** the parameter $\\beta$ and $\\gamma$ are positive. It may be useful to reparametrize the model in terms of $B = \\log[\\beta]$ and $G = \\log[\\gamma]$.  \n",
    "**Remark:** Note that if you use `jax`, it is normal that it takes a bit of time to compute the gradients.   \n",
    "**Remark:** Note that if you use `jax.jit`, it is normal that it takes a bit of time the first time that the gradient is computed. That is because it is difficult to optimize functions with `for` loops inside them."
   ]
  },
  {
   "cell_type": "code",
   "execution_count": 3,
   "metadata": {},
   "outputs": [
    {
     "data": {
      "image/png": "[encoded data removed]",
      "text/plain": [
       "<Figure size 504x360 with 1 Axes>"
      ]
     },
     "metadata": {
      "needs_background": "light"
     },
     "output_type": "display_data"
    }
   ],
   "source": [
    "plt.figure(figsize=(7,5))\n",
    "y_history = onp.array([7, 16, 18, 21, 24, 25, 42, 64, 55, 69, 66, 92, 112, 133, 160, 158, 177, 221, 234, 251, 261, 272, 291, 313, 328, 318, 316, 342, 293, 273])\n",
    "plt.plot(np.arange(1,31), y_history, \"--s\")\n",
    "plt.ylabel(\"Observations\")\n",
    "plt.xlabel(\"Days\")\n",
    "plt.title(\"SIR model\")\n",
    "plt.grid(True)"
   ]
  },
  {
   "cell_type": "markdown",
   "metadata": {},
   "source": [
    "## Q1: Maximum Likelihood Estimates for $\\beta, \\gamma$"
   ]
  },
  {
   "cell_type": "code",
   "execution_count": 222,
   "metadata": {},
   "outputs": [],
   "source": [
    "# define recursive function to generate population at time t based on beta and gamma\n",
    "def pop(t, beta, gamma):\n",
    "    if t==0:\n",
    "        \"\"\"return initial S I R proportion\"\"\"\n",
    "        return (0.99,0.01,0) \n",
    "    else:\n",
    "        S, I, R = pop(t-1, beta, gamma)\n",
    "        S_new = S*np.exp(-beta*I)\n",
    "        I_new = I*np.exp(beta*S-gamma)\n",
    "        R_new = R + gamma*I\n",
    "        return (S_new,I_new,R_new)"
   ]
  },
  {
   "cell_type": "code",
   "execution_count": 223,
   "metadata": {},
   "outputs": [],
   "source": [
    "def mean_negll(beta, gamma):\n",
    "    lambda_t = np.array([1000*pop(i, beta, gamma)[1] for i in range(1,31)])\n",
    "    y_t = y_history\n",
    "    return -np.mean(-lambda_t + y_t*np.log(lambda_t))"
   ]
  },
  {
   "cell_type": "code",
   "execution_count": 224,
   "metadata": {},
   "outputs": [],
   "source": [
    "def loss(x):\n",
    "    \"\"\"\" loss == mean negative log likelihood \"\"\"\n",
    "    beta = np.exp(x[0]) # reparameterise\n",
    "    gamma = np.exp(x[1]) # reparameterise\n",
    "    return mean_negll(beta, gamma)\n",
    "\n",
    "grad_loss = jax.jit(jax.grad(loss))"
   ]
  },
  {
   "cell_type": "code",
   "execution_count": 225,
   "metadata": {},
   "outputs": [],
   "source": [
    "x_init = onp.array([0.01,0.01])\n",
    "#grad_loss(x_init)"
   ]
  },
  {
   "cell_type": "code",
   "execution_count": 226,
   "metadata": {},
   "outputs": [],
   "source": [
    "def gradient_wrapper(x):\n",
    "    \"\"\" compute the gradient of func at x and make sure that the output is a numpy array\"\"\"\n",
    "    return onp.array(grad_loss(x))\n",
    "\n",
    "loss_history = []  #to save the loss trajectory\n",
    "\n",
    "def save_traj(x):\n",
    "    \"\"\" a function that saves a few statistics for later analysis\"\"\"\n",
    "    loss_history.append(loss(x))\n",
    "\n",
    "traj = scipy.optimize.minimize(fun = loss, #function to minimize\n",
    "                                x0 = onp.array(x_init), #initial guess\n",
    "                                method='L-BFGS-B',  #we want to use L-BFGS\n",
    "                                jac=gradient_wrapper, #function that computes the gradient\n",
    "                                callback=save_traj, #a function used to save some results for later pltting\n",
    "                                tol = 10**-10,\n",
    "                                options={\"maxiter\":100})  #maximum number of iteration"
   ]
  },
  {
   "cell_type": "code",
   "execution_count": 227,
   "metadata": {
    "scrolled": true
   },
   "outputs": [
    {
     "data": {
      "image/png": "[encoded data removed]",
      "text/plain": [
       "<Figure size 432x288 with 1 Axes>"
      ]
     },
     "metadata": {
      "needs_background": "light"
     },
     "output_type": "display_data"
    }
   ],
   "source": [
    "plt.plot(loss_history, \"-s\")\n",
    "plt.title(\"mean negative log likelihood\")\n",
    "plt.grid(True)"
   ]
  },
  {
   "cell_type": "code",
   "execution_count": 228,
   "metadata": {},
   "outputs": [
    {
     "data": {
      "text/plain": [
       "(0.3115381520855594, 0.11134842236946554)"
      ]
     },
     "execution_count": 228,
     "metadata": {},
     "output_type": "execute_result"
    }
   ],
   "source": [
    "beta_MLE = onp.exp(traj['x'][0])\n",
    "gamma_MLE = onp.exp(traj['x'][1])\n",
    "beta_MLE, gamma_MLE"
   ]
  },
  {
   "cell_type": "markdown",
   "metadata": {},
   "source": [
    "## Q2. Comparison between artificial and collected data"
   ]
  },
  {
   "cell_type": "code",
   "execution_count": 232,
   "metadata": {},
   "outputs": [],
   "source": [
    "# compute lambda for each day\n",
    "test = [pop(i, beta_MLE, gamma_MLE) for i in range(1,31)]\n",
    "test_lambda = [1000*i[1] for i in test]\n",
    "\n",
    "# simulate artifical data from Poisson(lambda)\n",
    "test_I = [onp.random.poisson(i) for i in test_lambda]"
   ]
  },
  {
   "cell_type": "code",
   "execution_count": 233,
   "metadata": {},
   "outputs": [
    {
     "data": {
      "image/png": "[encoded data removed]",
      "text/plain": [
       "<Figure size 504x360 with 1 Axes>"
      ]
     },
     "metadata": {
      "needs_background": "light"
     },
     "output_type": "display_data"
    }
   ],
   "source": [
    "plt.figure(figsize=(7,5))\n",
    "y_history = onp.array([7, 16, 18, 21, 24, 25, 42, 64, 55, 69, 66, 92, 112, 133, 160, 158, 177, 221, 234, 251, 261, 272, 291, 313, 328, 318, 316, 342, 293, 273])\n",
    "plt.plot(np.arange(1,31), test_I, \"--s\", label='simulated')\n",
    "plt.plot(np.arange(1,31), y_history, \"--s\", label='collected')\n",
    "plt.ylabel(\"Observations\")\n",
    "plt.xlabel(\"Days\")\n",
    "plt.title(\"SIR model\")\n",
    "plt.legend()\n",
    "plt.grid(True)"
   ]
  },
  {
   "cell_type": "markdown",
   "metadata": {},
   "source": [
    "The artificial observations generated from the fitted model seem close to the collected observations."
   ]
  },
  {
   "cell_type": "markdown",
   "metadata": {},
   "source": [
    "## Q3. Confidence Intervals for estimated 𝛽 and 𝛾"
   ]
  },
  {
   "cell_type": "code",
   "execution_count": 234,
   "metadata": {},
   "outputs": [],
   "source": [
    "def true_negll(z):\n",
    "    beta, gamma = z[0], z[1]\n",
    "    lambda_t = np.array([1000*pop(i, beta, gamma)[1] for i in range(1,31)])\n",
    "    y_t = y_history\n",
    "    return -np.sum(-lambda_t + y_t*np.log(lambda_t))\n",
    "\n",
    "# compute the Hessian\n",
    "hess_neg_loglik = jax.hessian(true_negll)"
   ]
  },
  {
   "cell_type": "code",
   "execution_count": 235,
   "metadata": {},
   "outputs": [],
   "source": [
    "# compute the Hessian at the MLE\n",
    "param_MLE = onp.array([beta_MLE, gamma_MLE])\n",
    "hessian = hess_neg_loglik(param_MLE)\n",
    "\n",
    "# compute the inverse of Hessian at MLE to approximate covariance\n",
    "covariance_MLE = onp.linalg.inv(hessian)"
   ]
  },
  {
   "cell_type": "code",
   "execution_count": 236,
   "metadata": {},
   "outputs": [],
   "source": [
    "# compute the marginal standard dev\n",
    "std_beta = onp.sqrt(covariance_MLE[0,0])\n",
    "std_gamma = onp.sqrt(covariance_MLE[1,1])"
   ]
  },
  {
   "cell_type": "code",
   "execution_count": 237,
   "metadata": {},
   "outputs": [
    {
     "name": "stdout",
     "output_type": "stream",
     "text": [
      "MLE estimates: \t MLE(beta)=0.004660 \t MLE(gamma)=0.002975\n"
     ]
    }
   ],
   "source": [
    "print(\"MLE estimates: \\t MLE(beta)={0:.6f} \\t MLE(gamma)={1:.6f}\".format(std_beta, std_gamma))"
   ]
  },
  {
   "cell_type": "code",
   "execution_count": 238,
   "metadata": {},
   "outputs": [
    {
     "name": "stdout",
     "output_type": "stream",
     "text": [
      "90% CI for beta is about [0.3022,0.3209]\n",
      "90% CI for gamma is about [0.1054,0.1173]\n"
     ]
    }
   ],
   "source": [
    "print(\"90% CI for beta is about [{0:2.4f},{1:2.4f}]\".format(beta_MLE - 2*std_beta, beta_MLE + 2*std_beta))\n",
    "print(\"90% CI for gamma is about [{0:2.4f},{1:2.4f}]\".format(gamma_MLE - 2*std_gamma, gamma_MLE + 2*std_gamma))"
   ]
  }
 ],
 "metadata": {
  "kernelspec": {
   "display_name": "Python 3",
   "language": "python",
   "name": "python3"
  },
  "language_info": {
   "codemirror_mode": {
    "name": "ipython",
    "version": 3
   },
   "file_extension": ".py",
   "mimetype": "text/x-python",
   "name": "python",
   "nbconvert_exporter": "python",
   "pygments_lexer": "ipython3",
   "version": "3.7.6"
  }
 },
 "nbformat": 4,
 "nbformat_minor": 4
}

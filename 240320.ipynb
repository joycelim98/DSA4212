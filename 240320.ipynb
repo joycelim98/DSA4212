{
 "cells": [
  {
   "cell_type": "code",
   "execution_count": 44,
   "metadata": {},
   "outputs": [],
   "source": [
    "%matplotlib inline\n",
    "from jax.config import config\n",
    "config.update(\"jax_enable_x64\", True) \n",
    "\n",
    "import jax\n",
    "import jax.numpy as np\n",
    "\n",
    "import pylab as plt\n",
    "import imageio\n",
    "import os\n",
    "import numpy as onp\n",
    "from skimage.transform import rescale, resize, downscale_local_mean\n",
    "from sklearn import metrics\n",
    "import pandas as pd\n",
    "import time\n",
    "import scipy"
   ]
  },
  {
   "cell_type": "markdown",
   "metadata": {},
   "source": [
    "# Data Pre-Processing"
   ]
  },
  {
   "cell_type": "code",
   "execution_count": 5,
   "metadata": {},
   "outputs": [],
   "source": [
    "#load attributes csv file\n",
    "attribute = pd.read_csv(\"celeba.csv\")\n",
    "\n",
    "#\"attribute\" is a dictionary containing several attributes for each image\n",
    "#attribute.keys()"
   ]
  },
  {
   "cell_type": "code",
   "execution_count": 6,
   "metadata": {},
   "outputs": [
    {
     "name": "stdout",
     "output_type": "stream",
     "text": [
      "Number of images: 20000\n"
     ]
    }
   ],
   "source": [
    "#let us list all the files in the image directory\n",
    "path = \"img_celeba_small\"\n",
    "all_img = [f for f in os.listdir(path) \n",
    "                 if os.path.isfile(os.path.join(path, f)) \n",
    "                 and f.endswith(\".jpg\")]\n",
    "nb_img = len(all_img)\n",
    "print(\"Number of images:\", nb_img)\n",
    "\n",
    "#let us keep only the relevant rows in attributes\n",
    "attribute = attribute[:20000]"
   ]
  },
  {
   "cell_type": "markdown",
   "metadata": {},
   "source": [
    "## Creating training and validation datasets"
   ]
  },
  {
   "cell_type": "code",
   "execution_count": 7,
   "metadata": {
    "scrolled": true
   },
   "outputs": [],
   "source": [
    "# select first 15000 rows for training dataset\n",
    "train = attribute[:15000]\n",
    "train = train['Young']\n",
    "\n",
    "# select last 5000 rows for test dataset\n",
    "test = attribute[15000:20000]\n",
    "test = test['Young']"
   ]
  },
  {
   "cell_type": "code",
   "execution_count": 10,
   "metadata": {},
   "outputs": [],
   "source": [
    "is_Young = train==1\n",
    "is_Old = train==-1\n",
    "\n",
    "# subset training set by young/old\n",
    "train_y = train[is_Young] \n",
    "train_o = train[is_Old]\n",
    "\n",
    "n_old = len(train_o)"
   ]
  },
  {
   "cell_type": "markdown",
   "metadata": {},
   "source": [
    "Of the 15,000 images in the training data, 3331 are old. We will create a balanced dataset with all the old persons."
   ]
  },
  {
   "cell_type": "code",
   "execution_count": 11,
   "metadata": {},
   "outputs": [],
   "source": [
    "# sample 3331 observations from all young data in training set\n",
    "onp.random.seed(0)\n",
    "y_pindex = onp.random.choice(len(train_y), n_old, replace=False)\n",
    "o_pindex = onp.asarray(list(range(n_old)))"
   ]
  },
  {
   "cell_type": "code",
   "execution_count": 14,
   "metadata": {},
   "outputs": [],
   "source": [
    "train_n = 2665 # 80% of number of old samples\n",
    "val_n = len(train_o) - train_n # 20% of number of old samples\n",
    "\n",
    "# select prelim training & validation data\n",
    "ptrain_y = train_y.iloc[y_pindex[:train_n]]\n",
    "pval_y = train_y.iloc[y_pindex[train_n:]]\n",
    "\n",
    "ptrain_o = train_o.iloc[o_pindex[:train_n]]\n",
    "pval_o = train_o.iloc[o_pindex[train_n:]]\n",
    "\n",
    "# collate prelim training data (5330 obs, 50% each class)\n",
    "ptrain = ptrain_y.append(ptrain_o)\n",
    "ptrain = ptrain.sample(frac=1) # shuffle training set\n",
    "\n",
    "# collate prelim test data (1332 obs, 50% each class)\n",
    "pval = pval_y.append(pval_o)\n",
    "pval = pval.sample(frac=1) # shuffle validation set"
   ]
  },
  {
   "cell_type": "markdown",
   "metadata": {},
   "source": [
    "`ptrain` is a 1 x 5330 array with the indicator values $\\{-1, 1\\}$ for old and young. \n",
    "\n",
    "`pval` is a 1 x 1332 array with the indicator values $\\{-1, 1\\}$ for old and young. "
   ]
  },
  {
   "cell_type": "markdown",
   "metadata": {},
   "source": [
    "## Loading images"
   ]
  },
  {
   "cell_type": "markdown",
   "metadata": {},
   "source": [
    "The images were loaded in grayscale with an initial size of 218 by 178 pixels. The pixel intensity was then rescaled to [0,1]. To remove parts of the image irrelevant to a person's age (outside of the face), the images were cropped to only include the range [50:185, 40:135]. The final images used for analysis are 135 by 95 pixels."
   ]
  },
  {
   "cell_type": "code",
   "execution_count": 17,
   "metadata": {},
   "outputs": [],
   "source": [
    "h = 218 # original image height\n",
    "w = 178 # original image weight\n",
    "h_n = 185-50 # height after cropping\n",
    "w_n = 135-40 # width after cropping"
   ]
  },
  {
   "cell_type": "code",
   "execution_count": 18,
   "metadata": {},
   "outputs": [],
   "source": [
    "# load the images from the prelim training set\n",
    "ntrain_img = len(ptrain)\n",
    "ptrain_ind = ptrain.index.values\n",
    "ptrain_img = onp.zeros((ntrain_img,h_n,w_n))\n",
    "\n",
    "for k in range(ntrain_img):\n",
    "    im = imageio.imread(os.path.join(path, all_img[ptrain_ind[k]])).astype(float)\n",
    "    im = resize(im, (h,w))\n",
    "    im = onp.mean(im, axis=2) # grayscale\n",
    "    im = im/255. # rescale\n",
    "    im = im[50:185,40:135] # crop to face\n",
    "    ptrain_img[k,:,:] = im"
   ]
  },
  {
   "cell_type": "code",
   "execution_count": 19,
   "metadata": {},
   "outputs": [],
   "source": [
    "# load the images from the prelim validation set\n",
    "nval_img = len(pval)\n",
    "pval_ind = pval.index.values\n",
    "pval_img = onp.zeros((nval_img,h_n,w_n))\n",
    "\n",
    "for k in range(nval_img):\n",
    "    im = imageio.imread(os.path.join(path, all_img[pval_ind[k]])).astype(float)\n",
    "    im = resize(im, (h,w))\n",
    "    im = onp.mean(im, axis=2) # grayscale\n",
    "    im = im/255. # rescale\n",
    "    im = im[50:185,40:135] # crop to face\n",
    "    pval_img[k,:,:] = im"
   ]
  },
  {
   "cell_type": "code",
   "execution_count": 20,
   "metadata": {},
   "outputs": [],
   "source": [
    "# load the images from the test set\n",
    "ntest_img = 5000\n",
    "ptest_img = onp.zeros((ntest_img,h_n,w_n))\n",
    "\n",
    "for k in range(ntest_img):\n",
    "    im = imageio.imread(os.path.join(path, all_img[k+15000])).astype(float)\n",
    "    im = resize(im, (h,w))\n",
    "    im = onp.mean(im, axis=2) # grayscale\n",
    "    im = im/255. # rescale\n",
    "    im = im[50:185,40:135] # crop to face\n",
    "    ptest_img[k,:,:] = im"
   ]
  },
  {
   "cell_type": "code",
   "execution_count": null,
   "metadata": {},
   "outputs": [],
   "source": [
    "# test if the subsetting was successful\n",
    "plt.figure(figsize=(10,2))\n",
    "for k in range(20):\n",
    "    im = ptrain_img[k]\n",
    "    plt.subplot(2,10,k+1)\n",
    "    plt.imshow(im/255., cmap='gray')\n",
    "    plt.axis(\"off\")\n",
    "    \n",
    "    is_Young = ptrain.iloc[k]\n",
    "    if is_Young == 1:\n",
    "        plt.title(\"Young\")\n",
    "    else:\n",
    "        plt.title(\"Old\")"
   ]
  },
  {
   "cell_type": "code",
   "execution_count": null,
   "metadata": {},
   "outputs": [],
   "source": [
    "# test if the subsetting was successful\n",
    "plt.figure(figsize=(10,2))\n",
    "for k in range(20):\n",
    "    im = pval_img[k]\n",
    "    plt.subplot(2,10,k+1)\n",
    "    plt.imshow(im/255., cmap='gray')\n",
    "    plt.axis(\"off\")\n",
    "    \n",
    "    is_Young = pval.iloc[k]\n",
    "    if is_Young == 1:\n",
    "        plt.title(\"Young\")\n",
    "    else:\n",
    "        plt.title(\"Old\")"
   ]
  },
  {
   "cell_type": "code",
   "execution_count": null,
   "metadata": {},
   "outputs": [],
   "source": [
    "# test if the subsetting was successful\n",
    "plt.figure(figsize=(10,2))\n",
    "for k in range(20):\n",
    "    im = ptest_img[k]\n",
    "    plt.subplot(2,10,k+1)\n",
    "    plt.imshow(im/255., cmap='gray')\n",
    "    plt.axis(\"off\")\n",
    "    \n",
    "    is_Young = test.iloc[k]\n",
    "    if is_Young == 1:\n",
    "        plt.title(\"Young\")\n",
    "    else:\n",
    "        plt.title(\"Old\")"
   ]
  },
  {
   "cell_type": "markdown",
   "metadata": {},
   "source": [
    "`ptrain` is a 1 x 5330 array with the indicator values $\\{-1, 1\\}$ for old and young. `ptrain_img` is a 5330 x 135 x 95 array that contains the relevant images for the preliminary training data. \n",
    "\n",
    "`pval` is a 1 x 1332 array with the indicator values $\\{-1, 1\\}$ for old and young. `pval_img`is a 1332 x 135 x 95 array that contains the relevant images for the preliminary validation data. \n",
    "\n",
    "`test` is a 1 x 5000 array with with the indicator values $\\{-1, 1\\}$ for old and young. `ptest_img`is a 5000 x 135 x 95 array that contains the relevant images for the test data. "
   ]
  },
  {
   "cell_type": "code",
   "execution_count": 21,
   "metadata": {},
   "outputs": [],
   "source": [
    "data_train = ptrain_img.reshape(5330, h_n*w_n)\n",
    "y_train = ptrain.to_numpy(copy=True)\n",
    "\n",
    "data_val = pval_img.reshape(1332, h_n*w_n)\n",
    "y_val = pval.to_numpy(copy=True)\n",
    "\n",
    "data_test = ptest_img.reshape(5000, h_n*w_n)\n",
    "y_test = test.to_numpy(copy=True)"
   ]
  },
  {
   "cell_type": "markdown",
   "metadata": {},
   "source": [
    "# Optimisation"
   ]
  },
  {
   "cell_type": "markdown",
   "metadata": {},
   "source": [
    "Logistic regression loss function with penalty:\n",
    "$$ \\frac{1}{N} \\, \\sum_{i=1}^N \\log(1 + \\exp(-y_i \\, \\langle \\beta, x_i \\rangle)) + \\frac{\\lambda}{N} \\| \\beta \\|^2$$\n",
    "\n",
    "Logistic probability:\n",
    "$$P(y=1 | x) = \\frac{1}{1 + \\exp(- \\langle \\beta, x \\rangle)}$$"
   ]
  },
  {
   "cell_type": "markdown",
   "metadata": {},
   "source": [
    "We define the loss, prediction, accuracy functions and vectorise them accordingly."
   ]
  },
  {
   "cell_type": "code",
   "execution_count": 22,
   "metadata": {},
   "outputs": [],
   "source": [
    "def prediction_single(beta, x):\n",
    "    \"\"\" beta is a vector of dimension 10000, and x as well \"\"\"\n",
    "    proba = 1. / (1. + np.exp(-np.dot(beta, x)))\n",
    "    return proba\n",
    "\n",
    "#make a prediction on a whole dataset\n",
    "prediction_data = jax.vmap(prediction_single, in_axes=(None,0))\n",
    "\n",
    "def loss_single(beta,x,y):\n",
    "    \"\"\"\n",
    "    beta: vector of dimension 100*100\n",
    "    x: vector of dimension 100*100\n",
    "    y: a number that equals -1 or 1\n",
    "    \"\"\"\n",
    "    return np.log(1. + np.exp(-y * np.dot(beta, x)))\n",
    "\n",
    "#compute the loss on. whole dataset\n",
    "loss_dataset = jax.vmap(loss_single, in_axes=(None,0,0))\n",
    "\n",
    "def loss(beta, data, y):\n",
    "    \"\"\" compute the mean of all the individual losses \"\"\"\n",
    "    list_of_all_losses = loss_dataset(beta, data, y)\n",
    "    return np.mean(list_of_all_losses) + np.mean((beta)**2)\n",
    "\n",
    "grad_loss = jax.jit(jax.grad(loss))\n",
    "\n",
    "def accuracy(beta, data, y, threshold):\n",
    "    pred = prediction_data(beta, data)\n",
    "    prediction_binary = (pred > threshold).astype(int)  #equals 1 if pred > threshold and 0 otherwise\n",
    "    prediction_sign = 2*(prediction_binary - 0.5) #equals 1 if pred > threshold and -1 otherwise\n",
    "    return np.mean(prediction_sign == y)"
   ]
  },
  {
   "cell_type": "markdown",
   "metadata": {},
   "source": [
    "## Naive Classifier"
   ]
  },
  {
   "cell_type": "markdown",
   "metadata": {},
   "source": [
    "Our model should beat a naive classifier that classifies every person as young. Since the dataset is imbalanced, such a classifier is expected to have a test classification accuracy rate of 78.58%."
   ]
  },
  {
   "cell_type": "code",
   "execution_count": 23,
   "metadata": {},
   "outputs": [
    {
     "data": {
      "text/plain": [
       "0.7858"
      ]
     },
     "execution_count": 23,
     "metadata": {},
     "output_type": "execute_result"
    }
   ],
   "source": [
    "c = onp.ones(5000)\n",
    "sum(c==y_test)/5000"
   ]
  },
  {
   "cell_type": "markdown",
   "metadata": {},
   "source": [
    "For each optimisation method, we need to plot the ROC curve and report the AUC."
   ]
  },
  {
   "cell_type": "code",
   "execution_count": 99,
   "metadata": {},
   "outputs": [
    {
     "data": {
      "image/png": "[encoded data removed]",
      "text/plain": [
       "<Figure size 432x288 with 1 Axes>"
      ]
     },
     "metadata": {
      "needs_background": "light"
     },
     "output_type": "display_data"
    }
   ],
   "source": [
    "def plot_ROC(model, method):\n",
    "    y_pred_proba = prediction_data(model,data_test)\n",
    "    fpr, tpr, _ = metrics.roc_curve(y_test,  y_pred_proba)\n",
    "    auc = metrics.roc_auc_score(y_test, y_pred_proba)\n",
    "    plt.gca().set_aspect('equal', adjustable='box')\n",
    "    plt.plot(fpr,tpr,label=method+\", AUC=\"+\"{0:.3f}\".format(auc))\n",
    "    plt.legend(loc=4)\n",
    "    plt.show()\n",
    "    \n",
    "plot_ROC(beta_init, \"Naive\")"
   ]
  },
  {
   "cell_type": "markdown",
   "metadata": {},
   "source": [
    "Initialise $\\beta \\sim N(0, \\frac{1}{\\sqrt{D}})$ where $D=135*95$"
   ]
  },
  {
   "cell_type": "code",
   "execution_count": 24,
   "metadata": {},
   "outputs": [],
   "source": [
    "D = h_n*w_n\n",
    "onp.random.seed(0)\n",
    "beta_init = onp.random.normal(0., scale = 1./onp.sqrt(D), size=D)"
   ]
  },
  {
   "cell_type": "markdown",
   "metadata": {},
   "source": [
    "## Gradient Descent"
   ]
  },
  {
   "cell_type": "code",
   "execution_count": 126,
   "metadata": {
    "scrolled": true
   },
   "outputs": [
    {
     "name": "stdout",
     "output_type": "stream",
     "text": [
      "Iteration:0 \t Time:4 \t Loss(train):0.702 \t Loss(val):0.701\n",
      "Iteration:1 \t Time:8 \t Loss(train):0.693 \t Loss(val):0.690\n",
      "Iteration:2 \t Time:14 \t Loss(train):0.691 \t Loss(val):0.688\n",
      "Iteration:3 \t Time:19 \t Loss(train):0.690 \t Loss(val):0.687\n",
      "Iteration:4 \t Time:23 \t Loss(train):0.690 \t Loss(val):0.687\n",
      "Iteration:5 \t Time:27 \t Loss(train):0.689 \t Loss(val):0.686\n",
      "Iteration:6 \t Time:32 \t Loss(train):0.688 \t Loss(val):0.685\n",
      "Iteration:7 \t Time:37 \t Loss(train):0.687 \t Loss(val):0.685\n",
      "Iteration:8 \t Time:41 \t Loss(train):0.687 \t Loss(val):0.684\n",
      "Iteration:9 \t Time:46 \t Loss(train):0.686 \t Loss(val):0.683\n",
      "Iteration:10 \t Time:50 \t Loss(train):0.685 \t Loss(val):0.683\n",
      "Iteration:11 \t Time:55 \t Loss(train):0.685 \t Loss(val):0.682\n",
      "Iteration:12 \t Time:59 \t Loss(train):0.684 \t Loss(val):0.682\n",
      "Iteration:13 \t Time:63 \t Loss(train):0.683 \t Loss(val):0.681\n",
      "Iteration:14 \t Time:68 \t Loss(train):0.683 \t Loss(val):0.681\n",
      "Iteration:15 \t Time:72 \t Loss(train):0.682 \t Loss(val):0.680\n",
      "Iteration:16 \t Time:77 \t Loss(train):0.681 \t Loss(val):0.679\n",
      "Iteration:17 \t Time:83 \t Loss(train):0.681 \t Loss(val):0.679\n",
      "Iteration:18 \t Time:88 \t Loss(train):0.680 \t Loss(val):0.678\n",
      "Iteration:19 \t Time:94 \t Loss(train):0.680 \t Loss(val):0.678\n",
      "Iteration:20 \t Time:99 \t Loss(train):0.679 \t Loss(val):0.678\n",
      "Iteration:21 \t Time:105 \t Loss(train):0.679 \t Loss(val):0.677\n",
      "Iteration:22 \t Time:110 \t Loss(train):0.678 \t Loss(val):0.677\n",
      "Iteration:23 \t Time:115 \t Loss(train):0.678 \t Loss(val):0.676\n",
      "Iteration:24 \t Time:119 \t Loss(train):0.677 \t Loss(val):0.676\n",
      "Iteration:25 \t Time:124 \t Loss(train):0.677 \t Loss(val):0.675\n",
      "Iteration:26 \t Time:128 \t Loss(train):0.676 \t Loss(val):0.675\n",
      "Iteration:27 \t Time:133 \t Loss(train):0.676 \t Loss(val):0.674\n",
      "Iteration:28 \t Time:137 \t Loss(train):0.675 \t Loss(val):0.674\n",
      "Iteration:29 \t Time:141 \t Loss(train):0.675 \t Loss(val):0.674\n",
      "Iteration:30 \t Time:146 \t Loss(train):0.674 \t Loss(val):0.673\n",
      "Iteration:31 \t Time:150 \t Loss(train):0.674 \t Loss(val):0.673\n",
      "Iteration:32 \t Time:155 \t Loss(train):0.673 \t Loss(val):0.673\n",
      "Iteration:33 \t Time:159 \t Loss(train):0.673 \t Loss(val):0.672\n",
      "Iteration:34 \t Time:163 \t Loss(train):0.673 \t Loss(val):0.672\n",
      "Iteration:35 \t Time:168 \t Loss(train):0.672 \t Loss(val):0.672\n",
      "Iteration:36 \t Time:172 \t Loss(train):0.672 \t Loss(val):0.671\n",
      "Iteration:37 \t Time:177 \t Loss(train):0.671 \t Loss(val):0.671\n",
      "Iteration:38 \t Time:181 \t Loss(train):0.671 \t Loss(val):0.671\n",
      "Iteration:39 \t Time:186 \t Loss(train):0.671 \t Loss(val):0.670\n",
      "Iteration:40 \t Time:190 \t Loss(train):0.670 \t Loss(val):0.670\n",
      "Iteration:41 \t Time:194 \t Loss(train):0.670 \t Loss(val):0.670\n",
      "Iteration:42 \t Time:199 \t Loss(train):0.670 \t Loss(val):0.669\n",
      "Iteration:43 \t Time:203 \t Loss(train):0.669 \t Loss(val):0.669\n",
      "Iteration:44 \t Time:207 \t Loss(train):0.669 \t Loss(val):0.669\n",
      "Iteration:45 \t Time:212 \t Loss(train):0.669 \t Loss(val):0.668\n",
      "Iteration:46 \t Time:216 \t Loss(train):0.668 \t Loss(val):0.668\n",
      "Iteration:47 \t Time:221 \t Loss(train):0.668 \t Loss(val):0.668\n",
      "Iteration:48 \t Time:225 \t Loss(train):0.668 \t Loss(val):0.668\n",
      "Iteration:49 \t Time:229 \t Loss(train):0.667 \t Loss(val):0.667\n",
      "Iteration:50 \t Time:234 \t Loss(train):0.667 \t Loss(val):0.667\n",
      "Iteration:51 \t Time:238 \t Loss(train):0.667 \t Loss(val):0.667\n",
      "Iteration:52 \t Time:242 \t Loss(train):0.666 \t Loss(val):0.667\n",
      "Iteration:53 \t Time:246 \t Loss(train):0.666 \t Loss(val):0.666\n",
      "Iteration:54 \t Time:250 \t Loss(train):0.666 \t Loss(val):0.666\n",
      "Iteration:55 \t Time:255 \t Loss(train):0.665 \t Loss(val):0.666\n",
      "Iteration:56 \t Time:259 \t Loss(train):0.665 \t Loss(val):0.666\n",
      "Iteration:57 \t Time:263 \t Loss(train):0.665 \t Loss(val):0.665\n",
      "Iteration:58 \t Time:266 \t Loss(train):0.665 \t Loss(val):0.665\n",
      "Iteration:59 \t Time:271 \t Loss(train):0.664 \t Loss(val):0.665\n",
      "Iteration:60 \t Time:275 \t Loss(train):0.664 \t Loss(val):0.665\n",
      "Iteration:61 \t Time:279 \t Loss(train):0.664 \t Loss(val):0.664\n",
      "Iteration:62 \t Time:284 \t Loss(train):0.663 \t Loss(val):0.664\n",
      "Iteration:63 \t Time:288 \t Loss(train):0.663 \t Loss(val):0.664\n",
      "Iteration:64 \t Time:292 \t Loss(train):0.663 \t Loss(val):0.664\n",
      "Iteration:65 \t Time:296 \t Loss(train):0.663 \t Loss(val):0.664\n",
      "Iteration:66 \t Time:301 \t Loss(train):0.662 \t Loss(val):0.663\n",
      "Iteration:67 \t Time:305 \t Loss(train):0.662 \t Loss(val):0.663\n",
      "Iteration:68 \t Time:309 \t Loss(train):0.662 \t Loss(val):0.663\n",
      "Iteration:69 \t Time:314 \t Loss(train):0.662 \t Loss(val):0.663\n",
      "Iteration:70 \t Time:318 \t Loss(train):0.661 \t Loss(val):0.663\n",
      "Iteration:71 \t Time:322 \t Loss(train):0.661 \t Loss(val):0.662\n",
      "Iteration:72 \t Time:326 \t Loss(train):0.661 \t Loss(val):0.662\n",
      "Iteration:73 \t Time:331 \t Loss(train):0.661 \t Loss(val):0.662\n",
      "Iteration:74 \t Time:335 \t Loss(train):0.660 \t Loss(val):0.662\n",
      "Iteration:75 \t Time:339 \t Loss(train):0.660 \t Loss(val):0.662\n",
      "Iteration:76 \t Time:344 \t Loss(train):0.660 \t Loss(val):0.661\n",
      "Iteration:77 \t Time:348 \t Loss(train):0.660 \t Loss(val):0.661\n",
      "Iteration:78 \t Time:352 \t Loss(train):0.660 \t Loss(val):0.661\n",
      "Iteration:79 \t Time:357 \t Loss(train):0.659 \t Loss(val):0.661\n",
      "Iteration:80 \t Time:361 \t Loss(train):0.659 \t Loss(val):0.661\n",
      "Iteration:81 \t Time:365 \t Loss(train):0.659 \t Loss(val):0.661\n",
      "Iteration:82 \t Time:370 \t Loss(train):0.659 \t Loss(val):0.660\n",
      "Iteration:83 \t Time:375 \t Loss(train):0.658 \t Loss(val):0.660\n",
      "Iteration:84 \t Time:380 \t Loss(train):0.658 \t Loss(val):0.660\n",
      "Iteration:85 \t Time:384 \t Loss(train):0.658 \t Loss(val):0.660\n",
      "Iteration:86 \t Time:388 \t Loss(train):0.658 \t Loss(val):0.660\n",
      "Iteration:87 \t Time:392 \t Loss(train):0.658 \t Loss(val):0.660\n",
      "Iteration:88 \t Time:397 \t Loss(train):0.657 \t Loss(val):0.659\n",
      "Iteration:89 \t Time:401 \t Loss(train):0.657 \t Loss(val):0.659\n",
      "Iteration:90 \t Time:405 \t Loss(train):0.657 \t Loss(val):0.659\n",
      "Iteration:91 \t Time:409 \t Loss(train):0.657 \t Loss(val):0.659\n",
      "Iteration:92 \t Time:412 \t Loss(train):0.657 \t Loss(val):0.659\n",
      "Iteration:93 \t Time:416 \t Loss(train):0.656 \t Loss(val):0.659\n",
      "Iteration:94 \t Time:420 \t Loss(train):0.656 \t Loss(val):0.658\n",
      "Iteration:95 \t Time:424 \t Loss(train):0.656 \t Loss(val):0.658\n",
      "Iteration:96 \t Time:427 \t Loss(train):0.656 \t Loss(val):0.658\n",
      "Iteration:97 \t Time:431 \t Loss(train):0.656 \t Loss(val):0.658\n",
      "Iteration:98 \t Time:436 \t Loss(train):0.655 \t Loss(val):0.658\n",
      "Iteration:99 \t Time:442 \t Loss(train):0.655 \t Loss(val):0.658\n",
      "Iteration:100 \t Time:446 \t Loss(train):0.655 \t Loss(val):0.658\n",
      "Iteration:101 \t Time:451 \t Loss(train):0.655 \t Loss(val):0.657\n",
      "Iteration:102 \t Time:455 \t Loss(train):0.655 \t Loss(val):0.657\n",
      "Iteration:103 \t Time:460 \t Loss(train):0.654 \t Loss(val):0.657\n",
      "Iteration:104 \t Time:464 \t Loss(train):0.654 \t Loss(val):0.657\n",
      "Iteration:105 \t Time:469 \t Loss(train):0.654 \t Loss(val):0.657\n",
      "Iteration:106 \t Time:473 \t Loss(train):0.654 \t Loss(val):0.657\n",
      "Iteration:107 \t Time:478 \t Loss(train):0.654 \t Loss(val):0.657\n",
      "Iteration:108 \t Time:483 \t Loss(train):0.654 \t Loss(val):0.656\n",
      "Iteration:109 \t Time:487 \t Loss(train):0.653 \t Loss(val):0.656\n",
      "Iteration:110 \t Time:491 \t Loss(train):0.653 \t Loss(val):0.656\n",
      "Iteration:111 \t Time:496 \t Loss(train):0.653 \t Loss(val):0.656\n",
      "Iteration:112 \t Time:500 \t Loss(train):0.653 \t Loss(val):0.656\n",
      "Iteration:113 \t Time:504 \t Loss(train):0.653 \t Loss(val):0.656\n",
      "Iteration:114 \t Time:508 \t Loss(train):0.652 \t Loss(val):0.656\n",
      "Iteration:115 \t Time:513 \t Loss(train):0.652 \t Loss(val):0.655\n",
      "Iteration:116 \t Time:517 \t Loss(train):0.652 \t Loss(val):0.655\n",
      "Iteration:117 \t Time:522 \t Loss(train):0.652 \t Loss(val):0.655\n",
      "Iteration:118 \t Time:527 \t Loss(train):0.652 \t Loss(val):0.655\n",
      "Iteration:119 \t Time:531 \t Loss(train):0.652 \t Loss(val):0.655\n",
      "Iteration:120 \t Time:536 \t Loss(train):0.651 \t Loss(val):0.655\n",
      "Iteration:121 \t Time:540 \t Loss(train):0.651 \t Loss(val):0.655\n",
      "Iteration:122 \t Time:544 \t Loss(train):0.651 \t Loss(val):0.655\n",
      "Iteration:123 \t Time:548 \t Loss(train):0.651 \t Loss(val):0.654\n",
      "Iteration:124 \t Time:551 \t Loss(train):0.651 \t Loss(val):0.654\n",
      "Iteration:125 \t Time:555 \t Loss(train):0.651 \t Loss(val):0.654\n",
      "Iteration:126 \t Time:559 \t Loss(train):0.650 \t Loss(val):0.654\n",
      "Iteration:127 \t Time:563 \t Loss(train):0.650 \t Loss(val):0.654\n",
      "Iteration:128 \t Time:566 \t Loss(train):0.650 \t Loss(val):0.654\n",
      "Iteration:129 \t Time:570 \t Loss(train):0.650 \t Loss(val):0.654\n",
      "Iteration:130 \t Time:575 \t Loss(train):0.650 \t Loss(val):0.654\n",
      "Iteration:131 \t Time:580 \t Loss(train):0.650 \t Loss(val):0.653\n",
      "Iteration:132 \t Time:585 \t Loss(train):0.650 \t Loss(val):0.653\n"
     ]
    },
    {
     "name": "stdout",
     "output_type": "stream",
     "text": [
      "Iteration:133 \t Time:589 \t Loss(train):0.649 \t Loss(val):0.653\n",
      "Iteration:134 \t Time:594 \t Loss(train):0.649 \t Loss(val):0.653\n",
      "Iteration:135 \t Time:598 \t Loss(train):0.649 \t Loss(val):0.653\n",
      "Iteration:136 \t Time:603 \t Loss(train):0.649 \t Loss(val):0.653\n",
      "Iteration:137 \t Time:608 \t Loss(train):0.649 \t Loss(val):0.653\n",
      "Iteration:138 \t Time:612 \t Loss(train):0.649 \t Loss(val):0.653\n",
      "Iteration:139 \t Time:617 \t Loss(train):0.648 \t Loss(val):0.652\n",
      "Iteration:140 \t Time:621 \t Loss(train):0.648 \t Loss(val):0.652\n",
      "Iteration:141 \t Time:626 \t Loss(train):0.648 \t Loss(val):0.652\n",
      "Iteration:142 \t Time:630 \t Loss(train):0.648 \t Loss(val):0.652\n",
      "Iteration:143 \t Time:635 \t Loss(train):0.648 \t Loss(val):0.652\n",
      "Iteration:144 \t Time:638 \t Loss(train):0.648 \t Loss(val):0.652\n",
      "Iteration:145 \t Time:642 \t Loss(train):0.648 \t Loss(val):0.652\n",
      "Iteration:146 \t Time:645 \t Loss(train):0.647 \t Loss(val):0.652\n",
      "Iteration:147 \t Time:649 \t Loss(train):0.647 \t Loss(val):0.652\n",
      "Iteration:148 \t Time:653 \t Loss(train):0.647 \t Loss(val):0.651\n",
      "Iteration:149 \t Time:656 \t Loss(train):0.647 \t Loss(val):0.651\n",
      "Iteration:150 \t Time:660 \t Loss(train):0.647 \t Loss(val):0.651\n",
      "Iteration:151 \t Time:664 \t Loss(train):0.647 \t Loss(val):0.651\n",
      "Iteration:152 \t Time:668 \t Loss(train):0.647 \t Loss(val):0.651\n",
      "Iteration:153 \t Time:673 \t Loss(train):0.646 \t Loss(val):0.651\n",
      "Iteration:154 \t Time:678 \t Loss(train):0.646 \t Loss(val):0.651\n",
      "Iteration:155 \t Time:682 \t Loss(train):0.646 \t Loss(val):0.651\n",
      "Iteration:156 \t Time:686 \t Loss(train):0.646 \t Loss(val):0.651\n",
      "Iteration:157 \t Time:691 \t Loss(train):0.646 \t Loss(val):0.650\n",
      "Iteration:158 \t Time:695 \t Loss(train):0.646 \t Loss(val):0.650\n",
      "Iteration:159 \t Time:699 \t Loss(train):0.646 \t Loss(val):0.650\n",
      "Iteration:160 \t Time:704 \t Loss(train):0.645 \t Loss(val):0.650\n",
      "Iteration:161 \t Time:709 \t Loss(train):0.645 \t Loss(val):0.650\n",
      "Iteration:162 \t Time:713 \t Loss(train):0.645 \t Loss(val):0.650\n",
      "Iteration:163 \t Time:717 \t Loss(train):0.645 \t Loss(val):0.650\n",
      "Iteration:164 \t Time:722 \t Loss(train):0.645 \t Loss(val):0.650\n",
      "Iteration:165 \t Time:726 \t Loss(train):0.645 \t Loss(val):0.650\n",
      "Iteration:166 \t Time:730 \t Loss(train):0.645 \t Loss(val):0.650\n",
      "Iteration:167 \t Time:734 \t Loss(train):0.644 \t Loss(val):0.649\n",
      "Iteration:168 \t Time:738 \t Loss(train):0.644 \t Loss(val):0.649\n",
      "Iteration:169 \t Time:742 \t Loss(train):0.644 \t Loss(val):0.649\n",
      "Iteration:170 \t Time:746 \t Loss(train):0.644 \t Loss(val):0.649\n",
      "Iteration:171 \t Time:751 \t Loss(train):0.644 \t Loss(val):0.649\n",
      "Iteration:172 \t Time:755 \t Loss(train):0.644 \t Loss(val):0.649\n",
      "Iteration:173 \t Time:758 \t Loss(train):0.644 \t Loss(val):0.649\n",
      "Iteration:174 \t Time:762 \t Loss(train):0.644 \t Loss(val):0.649\n",
      "Iteration:175 \t Time:765 \t Loss(train):0.643 \t Loss(val):0.649\n",
      "Iteration:176 \t Time:769 \t Loss(train):0.643 \t Loss(val):0.649\n",
      "Iteration:177 \t Time:772 \t Loss(train):0.643 \t Loss(val):0.648\n",
      "Iteration:178 \t Time:776 \t Loss(train):0.643 \t Loss(val):0.648\n",
      "Iteration:179 \t Time:779 \t Loss(train):0.643 \t Loss(val):0.648\n",
      "Iteration:180 \t Time:783 \t Loss(train):0.643 \t Loss(val):0.648\n",
      "Iteration:181 \t Time:786 \t Loss(train):0.643 \t Loss(val):0.648\n",
      "Iteration:182 \t Time:790 \t Loss(train):0.643 \t Loss(val):0.648\n",
      "Iteration:183 \t Time:794 \t Loss(train):0.642 \t Loss(val):0.648\n",
      "Iteration:184 \t Time:798 \t Loss(train):0.642 \t Loss(val):0.648\n",
      "Iteration:185 \t Time:802 \t Loss(train):0.642 \t Loss(val):0.648\n",
      "Iteration:186 \t Time:807 \t Loss(train):0.642 \t Loss(val):0.648\n",
      "Iteration:187 \t Time:813 \t Loss(train):0.642 \t Loss(val):0.648\n",
      "Iteration:188 \t Time:817 \t Loss(train):0.642 \t Loss(val):0.647\n",
      "Iteration:189 \t Time:822 \t Loss(train):0.642 \t Loss(val):0.647\n",
      "Iteration:190 \t Time:827 \t Loss(train):0.642 \t Loss(val):0.647\n",
      "Iteration:191 \t Time:831 \t Loss(train):0.641 \t Loss(val):0.647\n",
      "Iteration:192 \t Time:835 \t Loss(train):0.641 \t Loss(val):0.647\n",
      "Iteration:193 \t Time:840 \t Loss(train):0.641 \t Loss(val):0.647\n",
      "Iteration:194 \t Time:844 \t Loss(train):0.641 \t Loss(val):0.647\n",
      "Iteration:195 \t Time:849 \t Loss(train):0.641 \t Loss(val):0.647\n",
      "Iteration:196 \t Time:854 \t Loss(train):0.641 \t Loss(val):0.647\n",
      "Iteration:197 \t Time:858 \t Loss(train):0.641 \t Loss(val):0.647\n",
      "Iteration:198 \t Time:862 \t Loss(train):0.641 \t Loss(val):0.647\n",
      "Iteration:199 \t Time:867 \t Loss(train):0.640 \t Loss(val):0.646\n",
      "Iteration:200 \t Time:871 \t Loss(train):0.640 \t Loss(val):0.646\n",
      "Iteration:201 \t Time:876 \t Loss(train):0.640 \t Loss(val):0.646\n",
      "Iteration:202 \t Time:880 \t Loss(train):0.640 \t Loss(val):0.646\n",
      "Iteration:203 \t Time:884 \t Loss(train):0.640 \t Loss(val):0.646\n",
      "Iteration:204 \t Time:888 \t Loss(train):0.640 \t Loss(val):0.646\n",
      "Iteration:205 \t Time:892 \t Loss(train):0.640 \t Loss(val):0.646\n",
      "Iteration:206 \t Time:896 \t Loss(train):0.640 \t Loss(val):0.646\n",
      "Iteration:207 \t Time:899 \t Loss(train):0.640 \t Loss(val):0.646\n",
      "Iteration:208 \t Time:903 \t Loss(train):0.639 \t Loss(val):0.646\n",
      "Iteration:209 \t Time:907 \t Loss(train):0.639 \t Loss(val):0.646\n",
      "Iteration:210 \t Time:911 \t Loss(train):0.639 \t Loss(val):0.645\n",
      "Iteration:211 \t Time:915 \t Loss(train):0.639 \t Loss(val):0.645\n",
      "Iteration:212 \t Time:920 \t Loss(train):0.639 \t Loss(val):0.645\n",
      "Iteration:213 \t Time:924 \t Loss(train):0.639 \t Loss(val):0.645\n",
      "Iteration:214 \t Time:929 \t Loss(train):0.639 \t Loss(val):0.645\n",
      "Iteration:215 \t Time:934 \t Loss(train):0.639 \t Loss(val):0.645\n",
      "Iteration:216 \t Time:938 \t Loss(train):0.638 \t Loss(val):0.645\n",
      "Iteration:217 \t Time:943 \t Loss(train):0.638 \t Loss(val):0.645\n",
      "Iteration:218 \t Time:947 \t Loss(train):0.638 \t Loss(val):0.645\n",
      "Iteration:219 \t Time:952 \t Loss(train):0.638 \t Loss(val):0.645\n",
      "Iteration:220 \t Time:956 \t Loss(train):0.638 \t Loss(val):0.645\n",
      "Iteration:221 \t Time:961 \t Loss(train):0.638 \t Loss(val):0.645\n",
      "Iteration:222 \t Time:965 \t Loss(train):0.638 \t Loss(val):0.644\n",
      "Iteration:223 \t Time:970 \t Loss(train):0.638 \t Loss(val):0.644\n",
      "Iteration:224 \t Time:974 \t Loss(train):0.638 \t Loss(val):0.644\n",
      "Iteration:225 \t Time:978 \t Loss(train):0.637 \t Loss(val):0.644\n",
      "Iteration:226 \t Time:983 \t Loss(train):0.637 \t Loss(val):0.644\n",
      "Iteration:227 \t Time:987 \t Loss(train):0.637 \t Loss(val):0.644\n",
      "Iteration:228 \t Time:990 \t Loss(train):0.637 \t Loss(val):0.644\n",
      "Iteration:229 \t Time:994 \t Loss(train):0.637 \t Loss(val):0.644\n",
      "Iteration:230 \t Time:998 \t Loss(train):0.637 \t Loss(val):0.644\n",
      "Iteration:231 \t Time:1003 \t Loss(train):0.637 \t Loss(val):0.644\n",
      "Iteration:232 \t Time:1008 \t Loss(train):0.637 \t Loss(val):0.644\n",
      "Iteration:233 \t Time:1013 \t Loss(train):0.637 \t Loss(val):0.644\n",
      "Iteration:234 \t Time:1017 \t Loss(train):0.637 \t Loss(val):0.643\n",
      "Iteration:235 \t Time:1021 \t Loss(train):0.636 \t Loss(val):0.643\n",
      "Iteration:236 \t Time:1026 \t Loss(train):0.636 \t Loss(val):0.643\n",
      "Iteration:237 \t Time:1032 \t Loss(train):0.636 \t Loss(val):0.643\n",
      "Iteration:238 \t Time:1036 \t Loss(train):0.636 \t Loss(val):0.643\n",
      "Iteration:239 \t Time:1040 \t Loss(train):0.636 \t Loss(val):0.643\n",
      "Iteration:240 \t Time:1044 \t Loss(train):0.636 \t Loss(val):0.643\n",
      "Iteration:241 \t Time:1049 \t Loss(train):0.636 \t Loss(val):0.643\n",
      "Iteration:242 \t Time:1053 \t Loss(train):0.636 \t Loss(val):0.643\n",
      "Iteration:243 \t Time:1058 \t Loss(train):0.636 \t Loss(val):0.643\n",
      "Iteration:244 \t Time:1062 \t Loss(train):0.635 \t Loss(val):0.643\n",
      "Iteration:245 \t Time:1066 \t Loss(train):0.635 \t Loss(val):0.643\n",
      "Iteration:246 \t Time:1071 \t Loss(train):0.635 \t Loss(val):0.643\n",
      "Iteration:247 \t Time:1075 \t Loss(train):0.635 \t Loss(val):0.642\n",
      "Iteration:248 \t Time:1079 \t Loss(train):0.635 \t Loss(val):0.642\n",
      "Iteration:249 \t Time:1084 \t Loss(train):0.635 \t Loss(val):0.642\n",
      "Iteration:250 \t Time:1088 \t Loss(train):0.635 \t Loss(val):0.642\n",
      "Iteration:251 \t Time:1093 \t Loss(train):0.635 \t Loss(val):0.642\n",
      "Iteration:252 \t Time:1098 \t Loss(train):0.635 \t Loss(val):0.642\n",
      "Iteration:253 \t Time:1103 \t Loss(train):0.635 \t Loss(val):0.642\n",
      "Iteration:254 \t Time:1107 \t Loss(train):0.634 \t Loss(val):0.642\n",
      "Iteration:255 \t Time:1112 \t Loss(train):0.634 \t Loss(val):0.642\n",
      "Iteration:256 \t Time:1116 \t Loss(train):0.634 \t Loss(val):0.642\n",
      "Iteration:257 \t Time:1120 \t Loss(train):0.634 \t Loss(val):0.642\n",
      "Iteration:258 \t Time:1124 \t Loss(train):0.634 \t Loss(val):0.642\n",
      "Iteration:259 \t Time:1128 \t Loss(train):0.634 \t Loss(val):0.642\n",
      "Iteration:260 \t Time:1131 \t Loss(train):0.634 \t Loss(val):0.641\n",
      "Iteration:261 \t Time:1135 \t Loss(train):0.634 \t Loss(val):0.641\n",
      "Iteration:262 \t Time:1139 \t Loss(train):0.634 \t Loss(val):0.641\n"
     ]
    },
    {
     "name": "stdout",
     "output_type": "stream",
     "text": [
      "Iteration:263 \t Time:1143 \t Loss(train):0.634 \t Loss(val):0.641\n",
      "Iteration:264 \t Time:1147 \t Loss(train):0.633 \t Loss(val):0.641\n",
      "Iteration:265 \t Time:1152 \t Loss(train):0.633 \t Loss(val):0.641\n",
      "Iteration:266 \t Time:1156 \t Loss(train):0.633 \t Loss(val):0.641\n",
      "Iteration:267 \t Time:1161 \t Loss(train):0.633 \t Loss(val):0.641\n",
      "Iteration:268 \t Time:1166 \t Loss(train):0.633 \t Loss(val):0.641\n",
      "Iteration:269 \t Time:1173 \t Loss(train):0.633 \t Loss(val):0.641\n",
      "Iteration:270 \t Time:1177 \t Loss(train):0.633 \t Loss(val):0.641\n",
      "Iteration:271 \t Time:1182 \t Loss(train):0.633 \t Loss(val):0.641\n",
      "Iteration:272 \t Time:1187 \t Loss(train):0.633 \t Loss(val):0.641\n",
      "Iteration:273 \t Time:1192 \t Loss(train):0.633 \t Loss(val):0.640\n",
      "Iteration:274 \t Time:1197 \t Loss(train):0.632 \t Loss(val):0.640\n",
      "Iteration:275 \t Time:1202 \t Loss(train):0.632 \t Loss(val):0.640\n",
      "Iteration:276 \t Time:1206 \t Loss(train):0.632 \t Loss(val):0.640\n",
      "Iteration:277 \t Time:1211 \t Loss(train):0.632 \t Loss(val):0.640\n",
      "Iteration:278 \t Time:1215 \t Loss(train):0.632 \t Loss(val):0.640\n",
      "Iteration:279 \t Time:1220 \t Loss(train):0.632 \t Loss(val):0.640\n",
      "Iteration:280 \t Time:1224 \t Loss(train):0.632 \t Loss(val):0.640\n",
      "Iteration:281 \t Time:1228 \t Loss(train):0.632 \t Loss(val):0.640\n",
      "Iteration:282 \t Time:1232 \t Loss(train):0.632 \t Loss(val):0.640\n",
      "Iteration:283 \t Time:1236 \t Loss(train):0.632 \t Loss(val):0.640\n",
      "Iteration:284 \t Time:1240 \t Loss(train):0.632 \t Loss(val):0.640\n",
      "Iteration:285 \t Time:1244 \t Loss(train):0.631 \t Loss(val):0.640\n",
      "Iteration:286 \t Time:1248 \t Loss(train):0.631 \t Loss(val):0.640\n",
      "Iteration:287 \t Time:1252 \t Loss(train):0.631 \t Loss(val):0.640\n",
      "Iteration:288 \t Time:1255 \t Loss(train):0.631 \t Loss(val):0.639\n",
      "Iteration:289 \t Time:1259 \t Loss(train):0.631 \t Loss(val):0.639\n",
      "Iteration:290 \t Time:1262 \t Loss(train):0.631 \t Loss(val):0.639\n",
      "Iteration:291 \t Time:1266 \t Loss(train):0.631 \t Loss(val):0.639\n",
      "Iteration:292 \t Time:1270 \t Loss(train):0.631 \t Loss(val):0.639\n",
      "Iteration:293 \t Time:1274 \t Loss(train):0.631 \t Loss(val):0.639\n",
      "Iteration:294 \t Time:1279 \t Loss(train):0.631 \t Loss(val):0.639\n",
      "Iteration:295 \t Time:1284 \t Loss(train):0.630 \t Loss(val):0.639\n",
      "Iteration:296 \t Time:1289 \t Loss(train):0.630 \t Loss(val):0.639\n",
      "Iteration:297 \t Time:1293 \t Loss(train):0.630 \t Loss(val):0.639\n",
      "Iteration:298 \t Time:1298 \t Loss(train):0.630 \t Loss(val):0.639\n",
      "Iteration:299 \t Time:1303 \t Loss(train):0.630 \t Loss(val):0.639\n",
      "Iteration:300 \t Time:1307 \t Loss(train):0.630 \t Loss(val):0.639\n",
      "Iteration:301 \t Time:1312 \t Loss(train):0.630 \t Loss(val):0.639\n",
      "Iteration:302 \t Time:1316 \t Loss(train):0.630 \t Loss(val):0.638\n",
      "Iteration:303 \t Time:1321 \t Loss(train):0.630 \t Loss(val):0.638\n",
      "Iteration:304 \t Time:1326 \t Loss(train):0.630 \t Loss(val):0.638\n",
      "Iteration:305 \t Time:1330 \t Loss(train):0.630 \t Loss(val):0.638\n",
      "Iteration:306 \t Time:1335 \t Loss(train):0.630 \t Loss(val):0.638\n",
      "Iteration:307 \t Time:1341 \t Loss(train):0.629 \t Loss(val):0.638\n",
      "Iteration:308 \t Time:1346 \t Loss(train):0.629 \t Loss(val):0.638\n",
      "Iteration:309 \t Time:1350 \t Loss(train):0.629 \t Loss(val):0.638\n",
      "Iteration:310 \t Time:1355 \t Loss(train):0.629 \t Loss(val):0.638\n",
      "Iteration:311 \t Time:1358 \t Loss(train):0.629 \t Loss(val):0.638\n",
      "Iteration:312 \t Time:1362 \t Loss(train):0.629 \t Loss(val):0.638\n",
      "Iteration:313 \t Time:1366 \t Loss(train):0.629 \t Loss(val):0.638\n",
      "Iteration:314 \t Time:1369 \t Loss(train):0.629 \t Loss(val):0.638\n",
      "Iteration:315 \t Time:1373 \t Loss(train):0.629 \t Loss(val):0.638\n",
      "Iteration:316 \t Time:1377 \t Loss(train):0.629 \t Loss(val):0.638\n",
      "Iteration:317 \t Time:1381 \t Loss(train):0.629 \t Loss(val):0.638\n",
      "Iteration:318 \t Time:1384 \t Loss(train):0.628 \t Loss(val):0.637\n",
      "Iteration:319 \t Time:1388 \t Loss(train):0.628 \t Loss(val):0.637\n",
      "Iteration:320 \t Time:1392 \t Loss(train):0.628 \t Loss(val):0.637\n",
      "Iteration:321 \t Time:1396 \t Loss(train):0.628 \t Loss(val):0.637\n",
      "Iteration:322 \t Time:1399 \t Loss(train):0.628 \t Loss(val):0.637\n",
      "Iteration:323 \t Time:1403 \t Loss(train):0.628 \t Loss(val):0.637\n",
      "Iteration:324 \t Time:1407 \t Loss(train):0.628 \t Loss(val):0.637\n",
      "Iteration:325 \t Time:1410 \t Loss(train):0.628 \t Loss(val):0.637\n",
      "Iteration:326 \t Time:1414 \t Loss(train):0.628 \t Loss(val):0.637\n",
      "Iteration:327 \t Time:1418 \t Loss(train):0.628 \t Loss(val):0.637\n",
      "Iteration:328 \t Time:1422 \t Loss(train):0.628 \t Loss(val):0.637\n",
      "Iteration:329 \t Time:1425 \t Loss(train):0.628 \t Loss(val):0.637\n",
      "Iteration:330 \t Time:1429 \t Loss(train):0.627 \t Loss(val):0.637\n",
      "Iteration:331 \t Time:1433 \t Loss(train):0.627 \t Loss(val):0.637\n",
      "Iteration:332 \t Time:1436 \t Loss(train):0.627 \t Loss(val):0.637\n",
      "Iteration:333 \t Time:1440 \t Loss(train):0.627 \t Loss(val):0.637\n",
      "Iteration:334 \t Time:1444 \t Loss(train):0.627 \t Loss(val):0.636\n",
      "Iteration:335 \t Time:1447 \t Loss(train):0.627 \t Loss(val):0.636\n",
      "Iteration:336 \t Time:1451 \t Loss(train):0.627 \t Loss(val):0.636\n",
      "Iteration:337 \t Time:1455 \t Loss(train):0.627 \t Loss(val):0.636\n",
      "Iteration:338 \t Time:1458 \t Loss(train):0.627 \t Loss(val):0.636\n",
      "Iteration:339 \t Time:1462 \t Loss(train):0.627 \t Loss(val):0.636\n",
      "Iteration:340 \t Time:1466 \t Loss(train):0.627 \t Loss(val):0.636\n",
      "Iteration:341 \t Time:1470 \t Loss(train):0.627 \t Loss(val):0.636\n",
      "Iteration:342 \t Time:1473 \t Loss(train):0.626 \t Loss(val):0.636\n",
      "Iteration:343 \t Time:1477 \t Loss(train):0.626 \t Loss(val):0.636\n",
      "Iteration:344 \t Time:1481 \t Loss(train):0.626 \t Loss(val):0.636\n",
      "Iteration:345 \t Time:1484 \t Loss(train):0.626 \t Loss(val):0.636\n",
      "Iteration:346 \t Time:1487 \t Loss(train):0.626 \t Loss(val):0.636\n",
      "Iteration:347 \t Time:1491 \t Loss(train):0.626 \t Loss(val):0.636\n",
      "Iteration:348 \t Time:1494 \t Loss(train):0.626 \t Loss(val):0.636\n",
      "Iteration:349 \t Time:1497 \t Loss(train):0.626 \t Loss(val):0.636\n",
      "Iteration:350 \t Time:1500 \t Loss(train):0.626 \t Loss(val):0.635\n",
      "Iteration:351 \t Time:1503 \t Loss(train):0.626 \t Loss(val):0.635\n",
      "Iteration:352 \t Time:1506 \t Loss(train):0.626 \t Loss(val):0.635\n",
      "Iteration:353 \t Time:1509 \t Loss(train):0.626 \t Loss(val):0.635\n",
      "Iteration:354 \t Time:1512 \t Loss(train):0.625 \t Loss(val):0.635\n",
      "Iteration:355 \t Time:1515 \t Loss(train):0.625 \t Loss(val):0.635\n",
      "Iteration:356 \t Time:1519 \t Loss(train):0.625 \t Loss(val):0.635\n",
      "Iteration:357 \t Time:1522 \t Loss(train):0.625 \t Loss(val):0.635\n",
      "Iteration:358 \t Time:1525 \t Loss(train):0.625 \t Loss(val):0.635\n",
      "Iteration:359 \t Time:1528 \t Loss(train):0.625 \t Loss(val):0.635\n",
      "Iteration:360 \t Time:1531 \t Loss(train):0.625 \t Loss(val):0.635\n",
      "Iteration:361 \t Time:1535 \t Loss(train):0.625 \t Loss(val):0.635\n",
      "Iteration:362 \t Time:1538 \t Loss(train):0.625 \t Loss(val):0.635\n",
      "Iteration:363 \t Time:1542 \t Loss(train):0.625 \t Loss(val):0.635\n",
      "Iteration:364 \t Time:1546 \t Loss(train):0.625 \t Loss(val):0.635\n",
      "Iteration:365 \t Time:1550 \t Loss(train):0.625 \t Loss(val):0.635\n",
      "Iteration:366 \t Time:1553 \t Loss(train):0.625 \t Loss(val):0.635\n",
      "Iteration:367 \t Time:1557 \t Loss(train):0.624 \t Loss(val):0.635\n",
      "Iteration:368 \t Time:1561 \t Loss(train):0.624 \t Loss(val):0.634\n",
      "Iteration:369 \t Time:1565 \t Loss(train):0.624 \t Loss(val):0.634\n",
      "Iteration:370 \t Time:1570 \t Loss(train):0.624 \t Loss(val):0.634\n",
      "Iteration:371 \t Time:1575 \t Loss(train):0.624 \t Loss(val):0.634\n",
      "Iteration:372 \t Time:1579 \t Loss(train):0.624 \t Loss(val):0.634\n",
      "Iteration:373 \t Time:1584 \t Loss(train):0.624 \t Loss(val):0.634\n",
      "Iteration:374 \t Time:1588 \t Loss(train):0.624 \t Loss(val):0.634\n",
      "Iteration:375 \t Time:1592 \t Loss(train):0.624 \t Loss(val):0.634\n",
      "Iteration:376 \t Time:1597 \t Loss(train):0.624 \t Loss(val):0.634\n",
      "Iteration:377 \t Time:1601 \t Loss(train):0.624 \t Loss(val):0.634\n",
      "Iteration:378 \t Time:1606 \t Loss(train):0.624 \t Loss(val):0.634\n",
      "Iteration:379 \t Time:1610 \t Loss(train):0.624 \t Loss(val):0.634\n",
      "Iteration:380 \t Time:1615 \t Loss(train):0.623 \t Loss(val):0.634\n",
      "Iteration:381 \t Time:1619 \t Loss(train):0.623 \t Loss(val):0.634\n",
      "Iteration:382 \t Time:1624 \t Loss(train):0.623 \t Loss(val):0.634\n",
      "Iteration:383 \t Time:1629 \t Loss(train):0.623 \t Loss(val):0.634\n",
      "Iteration:384 \t Time:1634 \t Loss(train):0.623 \t Loss(val):0.634\n",
      "Iteration:385 \t Time:1638 \t Loss(train):0.623 \t Loss(val):0.633\n",
      "Iteration:386 \t Time:1643 \t Loss(train):0.623 \t Loss(val):0.633\n",
      "Iteration:387 \t Time:1648 \t Loss(train):0.623 \t Loss(val):0.633\n",
      "Iteration:388 \t Time:1653 \t Loss(train):0.623 \t Loss(val):0.633\n",
      "Iteration:389 \t Time:1657 \t Loss(train):0.623 \t Loss(val):0.633\n",
      "Iteration:390 \t Time:1661 \t Loss(train):0.623 \t Loss(val):0.633\n",
      "Iteration:391 \t Time:1666 \t Loss(train):0.623 \t Loss(val):0.633\n"
     ]
    },
    {
     "name": "stdout",
     "output_type": "stream",
     "text": [
      "Iteration:392 \t Time:1670 \t Loss(train):0.623 \t Loss(val):0.633\n",
      "Iteration:393 \t Time:1675 \t Loss(train):0.623 \t Loss(val):0.633\n",
      "Iteration:394 \t Time:1680 \t Loss(train):0.622 \t Loss(val):0.633\n",
      "Iteration:395 \t Time:1684 \t Loss(train):0.622 \t Loss(val):0.633\n",
      "Iteration:396 \t Time:1689 \t Loss(train):0.622 \t Loss(val):0.633\n",
      "Iteration:397 \t Time:1694 \t Loss(train):0.622 \t Loss(val):0.633\n",
      "Iteration:398 \t Time:1699 \t Loss(train):0.622 \t Loss(val):0.633\n",
      "Iteration:399 \t Time:1704 \t Loss(train):0.622 \t Loss(val):0.633\n",
      "Iteration:400 \t Time:1709 \t Loss(train):0.622 \t Loss(val):0.633\n",
      "Iteration:401 \t Time:1714 \t Loss(train):0.622 \t Loss(val):0.633\n",
      "Iteration:402 \t Time:1719 \t Loss(train):0.622 \t Loss(val):0.633\n",
      "Iteration:403 \t Time:1725 \t Loss(train):0.622 \t Loss(val):0.633\n",
      "Iteration:404 \t Time:1731 \t Loss(train):0.622 \t Loss(val):0.632\n",
      "Iteration:405 \t Time:1735 \t Loss(train):0.622 \t Loss(val):0.632\n",
      "Iteration:406 \t Time:1740 \t Loss(train):0.622 \t Loss(val):0.632\n",
      "Iteration:407 \t Time:1745 \t Loss(train):0.621 \t Loss(val):0.632\n",
      "Iteration:408 \t Time:1749 \t Loss(train):0.621 \t Loss(val):0.632\n",
      "Iteration:409 \t Time:1754 \t Loss(train):0.621 \t Loss(val):0.632\n",
      "Iteration:410 \t Time:1758 \t Loss(train):0.621 \t Loss(val):0.632\n",
      "Iteration:411 \t Time:1763 \t Loss(train):0.621 \t Loss(val):0.632\n",
      "Iteration:412 \t Time:1767 \t Loss(train):0.621 \t Loss(val):0.632\n",
      "Iteration:413 \t Time:1771 \t Loss(train):0.621 \t Loss(val):0.632\n",
      "Iteration:414 \t Time:1776 \t Loss(train):0.621 \t Loss(val):0.632\n",
      "Iteration:415 \t Time:1780 \t Loss(train):0.621 \t Loss(val):0.632\n",
      "Iteration:416 \t Time:1785 \t Loss(train):0.621 \t Loss(val):0.632\n",
      "Iteration:417 \t Time:1789 \t Loss(train):0.621 \t Loss(val):0.632\n",
      "Iteration:418 \t Time:1793 \t Loss(train):0.621 \t Loss(val):0.632\n",
      "Iteration:419 \t Time:1798 \t Loss(train):0.621 \t Loss(val):0.632\n",
      "Iteration:420 \t Time:1803 \t Loss(train):0.621 \t Loss(val):0.632\n",
      "Iteration:421 \t Time:1808 \t Loss(train):0.621 \t Loss(val):0.632\n",
      "Iteration:422 \t Time:1812 \t Loss(train):0.620 \t Loss(val):0.632\n",
      "Iteration:423 \t Time:1816 \t Loss(train):0.620 \t Loss(val):0.632\n",
      "Iteration:424 \t Time:1821 \t Loss(train):0.620 \t Loss(val):0.631\n",
      "Iteration:425 \t Time:1826 \t Loss(train):0.620 \t Loss(val):0.631\n",
      "Iteration:426 \t Time:1830 \t Loss(train):0.620 \t Loss(val):0.631\n",
      "Iteration:427 \t Time:1833 \t Loss(train):0.620 \t Loss(val):0.631\n",
      "Iteration:428 \t Time:1837 \t Loss(train):0.620 \t Loss(val):0.631\n",
      "Iteration:429 \t Time:1842 \t Loss(train):0.620 \t Loss(val):0.631\n",
      "Iteration:430 \t Time:1846 \t Loss(train):0.620 \t Loss(val):0.631\n",
      "Iteration:431 \t Time:1850 \t Loss(train):0.620 \t Loss(val):0.631\n",
      "Iteration:432 \t Time:1853 \t Loss(train):0.620 \t Loss(val):0.631\n",
      "Iteration:433 \t Time:1857 \t Loss(train):0.620 \t Loss(val):0.631\n",
      "Iteration:434 \t Time:1862 \t Loss(train):0.620 \t Loss(val):0.631\n",
      "Iteration:435 \t Time:1867 \t Loss(train):0.620 \t Loss(val):0.631\n",
      "Iteration:436 \t Time:1872 \t Loss(train):0.619 \t Loss(val):0.631\n",
      "Iteration:437 \t Time:1878 \t Loss(train):0.619 \t Loss(val):0.631\n",
      "Iteration:438 \t Time:1882 \t Loss(train):0.619 \t Loss(val):0.631\n",
      "Iteration:439 \t Time:1887 \t Loss(train):0.619 \t Loss(val):0.631\n",
      "Iteration:440 \t Time:1892 \t Loss(train):0.619 \t Loss(val):0.631\n",
      "Iteration:441 \t Time:1897 \t Loss(train):0.619 \t Loss(val):0.631\n",
      "Iteration:442 \t Time:1902 \t Loss(train):0.619 \t Loss(val):0.631\n",
      "Iteration:443 \t Time:1907 \t Loss(train):0.619 \t Loss(val):0.631\n",
      "Iteration:444 \t Time:1911 \t Loss(train):0.619 \t Loss(val):0.630\n",
      "Iteration:445 \t Time:1915 \t Loss(train):0.619 \t Loss(val):0.630\n",
      "Iteration:446 \t Time:1919 \t Loss(train):0.619 \t Loss(val):0.630\n",
      "Iteration:447 \t Time:1923 \t Loss(train):0.619 \t Loss(val):0.630\n",
      "Iteration:448 \t Time:1928 \t Loss(train):0.619 \t Loss(val):0.630\n",
      "Iteration:449 \t Time:1933 \t Loss(train):0.619 \t Loss(val):0.630\n",
      "Iteration:450 \t Time:1937 \t Loss(train):0.619 \t Loss(val):0.630\n",
      "Iteration:451 \t Time:1942 \t Loss(train):0.618 \t Loss(val):0.630\n",
      "Iteration:452 \t Time:1947 \t Loss(train):0.618 \t Loss(val):0.630\n",
      "Iteration:453 \t Time:1951 \t Loss(train):0.618 \t Loss(val):0.630\n",
      "Iteration:454 \t Time:1956 \t Loss(train):0.618 \t Loss(val):0.630\n",
      "Iteration:455 \t Time:1960 \t Loss(train):0.618 \t Loss(val):0.630\n",
      "Iteration:456 \t Time:1965 \t Loss(train):0.618 \t Loss(val):0.630\n",
      "Iteration:457 \t Time:1969 \t Loss(train):0.618 \t Loss(val):0.630\n",
      "Iteration:458 \t Time:1973 \t Loss(train):0.618 \t Loss(val):0.630\n",
      "Iteration:459 \t Time:1977 \t Loss(train):0.618 \t Loss(val):0.630\n",
      "Iteration:460 \t Time:1982 \t Loss(train):0.618 \t Loss(val):0.630\n",
      "Iteration:461 \t Time:1986 \t Loss(train):0.618 \t Loss(val):0.630\n",
      "Iteration:462 \t Time:1991 \t Loss(train):0.618 \t Loss(val):0.630\n",
      "Iteration:463 \t Time:1996 \t Loss(train):0.618 \t Loss(val):0.630\n",
      "Iteration:464 \t Time:2001 \t Loss(train):0.618 \t Loss(val):0.630\n",
      "Iteration:465 \t Time:2005 \t Loss(train):0.618 \t Loss(val):0.629\n",
      "Iteration:466 \t Time:2009 \t Loss(train):0.618 \t Loss(val):0.629\n",
      "Iteration:467 \t Time:2014 \t Loss(train):0.617 \t Loss(val):0.629\n",
      "Iteration:468 \t Time:2018 \t Loss(train):0.617 \t Loss(val):0.629\n",
      "Iteration:469 \t Time:2023 \t Loss(train):0.617 \t Loss(val):0.629\n",
      "Iteration:470 \t Time:2027 \t Loss(train):0.617 \t Loss(val):0.629\n",
      "Iteration:471 \t Time:2031 \t Loss(train):0.617 \t Loss(val):0.629\n",
      "Iteration:472 \t Time:2036 \t Loss(train):0.617 \t Loss(val):0.629\n",
      "Iteration:473 \t Time:2040 \t Loss(train):0.617 \t Loss(val):0.629\n",
      "Iteration:474 \t Time:2045 \t Loss(train):0.617 \t Loss(val):0.629\n",
      "Iteration:475 \t Time:2050 \t Loss(train):0.617 \t Loss(val):0.629\n",
      "Iteration:476 \t Time:2054 \t Loss(train):0.617 \t Loss(val):0.629\n",
      "Iteration:477 \t Time:2059 \t Loss(train):0.617 \t Loss(val):0.629\n",
      "Iteration:478 \t Time:2063 \t Loss(train):0.617 \t Loss(val):0.629\n",
      "Iteration:479 \t Time:2068 \t Loss(train):0.617 \t Loss(val):0.629\n",
      "Iteration:480 \t Time:2072 \t Loss(train):0.617 \t Loss(val):0.629\n",
      "Iteration:481 \t Time:2077 \t Loss(train):0.617 \t Loss(val):0.629\n",
      "Iteration:482 \t Time:2081 \t Loss(train):0.617 \t Loss(val):0.629\n",
      "Iteration:483 \t Time:2085 \t Loss(train):0.616 \t Loss(val):0.629\n",
      "Iteration:484 \t Time:2090 \t Loss(train):0.616 \t Loss(val):0.629\n",
      "Iteration:485 \t Time:2095 \t Loss(train):0.616 \t Loss(val):0.629\n",
      "Iteration:486 \t Time:2099 \t Loss(train):0.616 \t Loss(val):0.629\n",
      "Iteration:487 \t Time:2104 \t Loss(train):0.616 \t Loss(val):0.628\n",
      "Iteration:488 \t Time:2108 \t Loss(train):0.616 \t Loss(val):0.628\n",
      "Iteration:489 \t Time:2113 \t Loss(train):0.616 \t Loss(val):0.628\n",
      "Iteration:490 \t Time:2118 \t Loss(train):0.616 \t Loss(val):0.628\n",
      "Iteration:491 \t Time:2123 \t Loss(train):0.616 \t Loss(val):0.628\n",
      "Iteration:492 \t Time:2127 \t Loss(train):0.616 \t Loss(val):0.628\n",
      "Iteration:493 \t Time:2132 \t Loss(train):0.616 \t Loss(val):0.628\n",
      "Iteration:494 \t Time:2137 \t Loss(train):0.616 \t Loss(val):0.628\n",
      "Iteration:495 \t Time:2141 \t Loss(train):0.616 \t Loss(val):0.628\n",
      "Iteration:496 \t Time:2145 \t Loss(train):0.616 \t Loss(val):0.628\n",
      "Iteration:497 \t Time:2150 \t Loss(train):0.616 \t Loss(val):0.628\n",
      "Iteration:498 \t Time:2155 \t Loss(train):0.616 \t Loss(val):0.628\n",
      "Iteration:499 \t Time:2160 \t Loss(train):0.615 \t Loss(val):0.628\n"
     ]
    }
   ],
   "source": [
    "n_iter = 500\n",
    "learning_rate = 0.001\n",
    "loss_train_hist = []; loss_val_hist = []\n",
    "acc_train_hist = []; acc_val_hist = []\n",
    "\n",
    "beta = onp.copy(beta_init)\n",
    "\n",
    "best_beta_gd = onp.zeros(D)\n",
    "\n",
    "start = time.time()\n",
    "for k in range(n_iter):\n",
    "    gradient = grad_loss(beta, data_train, y_train)\n",
    "    beta = beta - learning_rate * gradient\n",
    "    loss_train = loss(beta, data_train, y_train)\n",
    "    loss_val = loss(beta, data_val, y_val)\n",
    "\n",
    "    loss_train_hist.append(loss_train)\n",
    "    loss_val_hist.append(loss_val)\n",
    "    \n",
    "    if len(loss_val_hist)>0:\n",
    "        if loss_val <= loss_val_hist[-1]:\n",
    "            best_beta_gd = beta\n",
    "        \n",
    "    #acc_train = accuracy(beta, data_train, y_train)\n",
    "    #acc_val = accuracy(beta, data_val, y_val) \n",
    "    \n",
    "    #acc_train_hist.append(acc_train)\n",
    "    #acc_val_hist.append(acc_val)\n",
    "    \n",
    "    timing = time.time() - start\n",
    "    print(\"Iteration:{0:.0f} \\t Time:{1:.0f} \\t Loss(train):{2:.3f} \\t Loss(val):{3:.3f}\".format(k, \n",
    "                                                                                                 timing, \n",
    "                                                                                                loss_train, \n",
    "                                                                                                loss_val))"
   ]
  },
  {
   "cell_type": "code",
   "execution_count": 129,
   "metadata": {},
   "outputs": [
    {
     "data": {
      "text/plain": [
       "Text(0.5, 1.0, 'Naive Gradient Descent')"
      ]
     },
     "execution_count": 129,
     "metadata": {},
     "output_type": "execute_result"
    },
    {
     "data": {
      "image/png": "[encoded data removed]",
      "text/plain": [
       "<Figure size 432x288 with 1 Axes>"
      ]
     },
     "metadata": {
      "needs_background": "light"
     },
     "output_type": "display_data"
    }
   ],
   "source": [
    "plt.plot(loss_train_hist, label=\"loss(train)\")\n",
    "plt.plot(loss_val_hist, label=\"loss(val)\")\n",
    "plt.legend()\n",
    "plt.grid(True)\n",
    "plt.xlabel(\"iteration\")\n",
    "plt.title(\"Naive Gradient Descent\")"
   ]
  },
  {
   "cell_type": "code",
   "execution_count": 130,
   "metadata": {},
   "outputs": [
    {
     "data": {
      "image/png": "[encoded data removed]",
      "text/plain": [
       "<Figure size 432x288 with 1 Axes>"
      ]
     },
     "metadata": {
      "needs_background": "light"
     },
     "output_type": "display_data"
    }
   ],
   "source": [
    "plot_ROC(best_beta_gd, \"Naive GD\")"
   ]
  },
  {
   "cell_type": "markdown",
   "metadata": {},
   "source": [
    "## Stochastic Gradient Descent"
   ]
  },
  {
   "cell_type": "code",
   "execution_count": 113,
   "metadata": {
    "scrolled": true
   },
   "outputs": [
    {
     "name": "stdout",
     "output_type": "stream",
     "text": [
      "epoch:0 \t time:2 \t Loss(train):0.668 \t Loss(val):0.667\n",
      "epoch:1 \t time:7 \t Loss(train):0.654 \t Loss(val):0.656\n",
      "epoch:2 \t time:10 \t Loss(train):0.647 \t Loss(val):0.652\n",
      "epoch:3 \t time:12 \t Loss(train):0.653 \t Loss(val):0.657\n",
      "epoch:4 \t time:15 \t Loss(train):0.637 \t Loss(val):0.644\n",
      "epoch:5 \t time:18 \t Loss(train):0.633 \t Loss(val):0.641\n",
      "epoch:6 \t time:21 \t Loss(train):0.626 \t Loss(val):0.635\n",
      "epoch:7 \t time:23 \t Loss(train):0.622 \t Loss(val):0.632\n",
      "epoch:8 \t time:26 \t Loss(train):0.621 \t Loss(val):0.635\n",
      "epoch:9 \t time:29 \t Loss(train):0.614 \t Loss(val):0.627\n",
      "epoch:10 \t time:31 \t Loss(train):0.613 \t Loss(val):0.626\n",
      "epoch:11 \t time:34 \t Loss(train):0.611 \t Loss(val):0.625\n",
      "epoch:12 \t time:36 \t Loss(train):0.612 \t Loss(val):0.628\n",
      "epoch:13 \t time:39 \t Loss(train):0.609 \t Loss(val):0.624\n",
      "epoch:14 \t time:41 \t Loss(train):0.607 \t Loss(val):0.623\n",
      "epoch:15 \t time:44 \t Loss(train):0.606 \t Loss(val):0.622\n",
      "epoch:16 \t time:46 \t Loss(train):0.606 \t Loss(val):0.623\n",
      "epoch:17 \t time:49 \t Loss(train):0.604 \t Loss(val):0.620\n",
      "epoch:18 \t time:51 \t Loss(train):0.603 \t Loss(val):0.620\n",
      "epoch:19 \t time:54 \t Loss(train):0.605 \t Loss(val):0.622\n",
      "epoch:20 \t time:56 \t Loss(train):0.601 \t Loss(val):0.618\n",
      "epoch:21 \t time:59 \t Loss(train):0.600 \t Loss(val):0.618\n",
      "epoch:22 \t time:62 \t Loss(train):0.600 \t Loss(val):0.617\n",
      "epoch:23 \t time:65 \t Loss(train):0.600 \t Loss(val):0.617\n",
      "epoch:24 \t time:67 \t Loss(train):0.599 \t Loss(val):0.616\n",
      "epoch:25 \t time:70 \t Loss(train):0.598 \t Loss(val):0.616\n",
      "epoch:26 \t time:73 \t Loss(train):0.599 \t Loss(val):0.618\n",
      "epoch:27 \t time:75 \t Loss(train):0.597 \t Loss(val):0.615\n",
      "epoch:28 \t time:77 \t Loss(train):0.598 \t Loss(val):0.617\n",
      "epoch:29 \t time:80 \t Loss(train):0.596 \t Loss(val):0.615\n",
      "epoch:30 \t time:82 \t Loss(train):0.596 \t Loss(val):0.615\n",
      "epoch:31 \t time:84 \t Loss(train):0.596 \t Loss(val):0.615\n",
      "epoch:32 \t time:87 \t Loss(train):0.596 \t Loss(val):0.615\n",
      "epoch:33 \t time:89 \t Loss(train):0.596 \t Loss(val):0.614\n",
      "epoch:34 \t time:92 \t Loss(train):0.595 \t Loss(val):0.614\n",
      "epoch:35 \t time:95 \t Loss(train):0.595 \t Loss(val):0.614\n",
      "epoch:36 \t time:98 \t Loss(train):0.595 \t Loss(val):0.614\n",
      "epoch:37 \t time:101 \t Loss(train):0.595 \t Loss(val):0.614\n",
      "epoch:38 \t time:103 \t Loss(train):0.594 \t Loss(val):0.614\n",
      "epoch:39 \t time:107 \t Loss(train):0.594 \t Loss(val):0.613\n",
      "epoch:40 \t time:111 \t Loss(train):0.594 \t Loss(val):0.613\n",
      "epoch:41 \t time:114 \t Loss(train):0.594 \t Loss(val):0.613\n",
      "epoch:42 \t time:118 \t Loss(train):0.594 \t Loss(val):0.613\n",
      "epoch:43 \t time:121 \t Loss(train):0.594 \t Loss(val):0.613\n",
      "epoch:44 \t time:124 \t Loss(train):0.594 \t Loss(val):0.613\n",
      "epoch:45 \t time:127 \t Loss(train):0.594 \t Loss(val):0.613\n",
      "epoch:46 \t time:129 \t Loss(train):0.594 \t Loss(val):0.613\n",
      "epoch:47 \t time:132 \t Loss(train):0.593 \t Loss(val):0.613\n",
      "epoch:48 \t time:135 \t Loss(train):0.593 \t Loss(val):0.613\n",
      "epoch:49 \t time:137 \t Loss(train):0.593 \t Loss(val):0.612\n",
      "epoch:50 \t time:140 \t Loss(train):0.593 \t Loss(val):0.613\n",
      "epoch:51 \t time:142 \t Loss(train):0.593 \t Loss(val):0.612\n",
      "epoch:52 \t time:145 \t Loss(train):0.593 \t Loss(val):0.612\n",
      "epoch:53 \t time:148 \t Loss(train):0.593 \t Loss(val):0.612\n",
      "epoch:54 \t time:150 \t Loss(train):0.593 \t Loss(val):0.612\n",
      "epoch:55 \t time:153 \t Loss(train):0.593 \t Loss(val):0.612\n",
      "epoch:56 \t time:155 \t Loss(train):0.593 \t Loss(val):0.612\n",
      "epoch:57 \t time:158 \t Loss(train):0.593 \t Loss(val):0.612\n",
      "epoch:58 \t time:161 \t Loss(train):0.593 \t Loss(val):0.612\n",
      "epoch:59 \t time:163 \t Loss(train):0.593 \t Loss(val):0.612\n",
      "epoch:60 \t time:166 \t Loss(train):0.593 \t Loss(val):0.612\n",
      "epoch:61 \t time:169 \t Loss(train):0.592 \t Loss(val):0.612\n",
      "epoch:62 \t time:171 \t Loss(train):0.592 \t Loss(val):0.612\n",
      "epoch:63 \t time:174 \t Loss(train):0.592 \t Loss(val):0.612\n",
      "epoch:64 \t time:177 \t Loss(train):0.592 \t Loss(val):0.612\n",
      "epoch:65 \t time:180 \t Loss(train):0.592 \t Loss(val):0.612\n",
      "epoch:66 \t time:182 \t Loss(train):0.592 \t Loss(val):0.612\n",
      "epoch:67 \t time:185 \t Loss(train):0.592 \t Loss(val):0.612\n",
      "epoch:68 \t time:188 \t Loss(train):0.592 \t Loss(val):0.612\n",
      "epoch:69 \t time:190 \t Loss(train):0.592 \t Loss(val):0.612\n",
      "epoch:70 \t time:194 \t Loss(train):0.592 \t Loss(val):0.612\n",
      "epoch:71 \t time:198 \t Loss(train):0.592 \t Loss(val):0.612\n",
      "epoch:72 \t time:201 \t Loss(train):0.592 \t Loss(val):0.612\n",
      "epoch:73 \t time:204 \t Loss(train):0.592 \t Loss(val):0.612\n",
      "epoch:74 \t time:207 \t Loss(train):0.592 \t Loss(val):0.612\n",
      "epoch:75 \t time:209 \t Loss(train):0.592 \t Loss(val):0.612\n",
      "epoch:76 \t time:213 \t Loss(train):0.592 \t Loss(val):0.612\n",
      "epoch:77 \t time:217 \t Loss(train):0.592 \t Loss(val):0.612\n",
      "epoch:78 \t time:221 \t Loss(train):0.592 \t Loss(val):0.612\n",
      "epoch:79 \t time:224 \t Loss(train):0.592 \t Loss(val):0.612\n",
      "epoch:80 \t time:228 \t Loss(train):0.592 \t Loss(val):0.612\n",
      "epoch:81 \t time:230 \t Loss(train):0.592 \t Loss(val):0.612\n",
      "epoch:82 \t time:233 \t Loss(train):0.592 \t Loss(val):0.612\n",
      "epoch:83 \t time:236 \t Loss(train):0.592 \t Loss(val):0.612\n",
      "epoch:84 \t time:239 \t Loss(train):0.592 \t Loss(val):0.612\n",
      "epoch:85 \t time:241 \t Loss(train):0.592 \t Loss(val):0.612\n",
      "epoch:86 \t time:244 \t Loss(train):0.592 \t Loss(val):0.612\n",
      "epoch:87 \t time:247 \t Loss(train):0.592 \t Loss(val):0.612\n",
      "epoch:88 \t time:251 \t Loss(train):0.592 \t Loss(val):0.612\n",
      "epoch:89 \t time:253 \t Loss(train):0.592 \t Loss(val):0.612\n",
      "epoch:90 \t time:256 \t Loss(train):0.592 \t Loss(val):0.612\n",
      "epoch:91 \t time:259 \t Loss(train):0.592 \t Loss(val):0.612\n",
      "epoch:92 \t time:262 \t Loss(train):0.592 \t Loss(val):0.612\n",
      "epoch:93 \t time:264 \t Loss(train):0.592 \t Loss(val):0.612\n",
      "epoch:94 \t time:267 \t Loss(train):0.592 \t Loss(val):0.612\n",
      "epoch:95 \t time:271 \t Loss(train):0.592 \t Loss(val):0.612\n",
      "epoch:96 \t time:274 \t Loss(train):0.592 \t Loss(val):0.612\n",
      "epoch:97 \t time:278 \t Loss(train):0.592 \t Loss(val):0.612\n",
      "epoch:98 \t time:282 \t Loss(train):0.592 \t Loss(val):0.612\n",
      "epoch:99 \t time:285 \t Loss(train):0.592 \t Loss(val):0.612\n"
     ]
    }
   ],
   "source": [
    "n_epoch = 100\n",
    "batch_size=100  #size of the mini-batch\n",
    "beta = onp.copy(beta_init)\n",
    "mov_avg_param = 0\n",
    "\n",
    "learning_rate = 0.001\n",
    "loss_train_hist = []\n",
    "loss_val_hist = []\n",
    "\n",
    "#initialize the gradient\n",
    "gradient = grad_loss(beta, data_train, y_train)\n",
    "best_beta_sgd = onp.zeros(D)\n",
    "\n",
    "start = time.time()\n",
    "for epoch in range(n_epoch):\n",
    "    #let us divide the learning by 2 every 10 epoch\n",
    "    if epoch % 10 == 0 and epoch >= 1:\n",
    "        learning_rate = learning_rate/2.\n",
    "        \n",
    "    for k in range(ntrain_img // batch_size):  #number of batch per epoch\n",
    "\n",
    "        #first option\n",
    "        #============\n",
    "        #select at random \"batch_size\" random data point\n",
    "        index_ = onp.random.choice(ntrain_img, batch_size, replace=False)\n",
    "\n",
    "        #second option\n",
    "        #============\n",
    "        #consider the batches sequentially\n",
    "        #index_ = onp.arange(k*batch_size, (k+1)*batch_size) % ntrain_img\n",
    "        \n",
    "        gradient_local = grad_loss(beta, data_train[index_], y_train[index_])\n",
    "\n",
    "        #moving average of the gradient\n",
    "        gradient = gradient*mov_avg_param + (1-mov_avg_param)*gradient_local\n",
    "\n",
    "        #gradient descent update\n",
    "        beta = beta - learning_rate * gradient\n",
    "    \n",
    "    loss_train = loss(beta, data_train, y_train)\n",
    "    loss_val = loss(beta, data_val, y_val)\n",
    "    \n",
    "    if len(loss_val_hist)>0:\n",
    "        if loss_val <= loss_val_hist[-1]:\n",
    "            best_beta_sgd = beta\n",
    "        \n",
    "    loss_train_hist.append(loss_train)\n",
    "    loss_val_hist.append(loss_val)\n",
    "    \n",
    "    timing = time.time() - start\n",
    "    print(\"epoch:{0:.0f} \\t time:{1:.0f} \\t Loss(train):{2:.3f} \\t Loss(val):{3:.3f}\".format(epoch, \n",
    "                                                                                                 timing, \n",
    "                                                                                                loss_train, \n",
    "                                                                                                loss_val))"
   ]
  },
  {
   "cell_type": "code",
   "execution_count": 115,
   "metadata": {},
   "outputs": [
    {
     "data": {
      "text/plain": [
       "Text(0.5, 1.0, 'Stochastic Gradient Descent')"
      ]
     },
     "execution_count": 115,
     "metadata": {},
     "output_type": "execute_result"
    },
    {
     "data": {
      "image/png": "[encoded data removed]",
      "text/plain": [
       "<Figure size 432x288 with 1 Axes>"
      ]
     },
     "metadata": {
      "needs_background": "light"
     },
     "output_type": "display_data"
    }
   ],
   "source": [
    "plt.plot(loss_train_hist, label=\"loss(train)\")\n",
    "plt.plot(loss_val_hist, label=\"loss(val)\")\n",
    "plt.legend()\n",
    "plt.grid(True)\n",
    "plt.xlabel(\"epoch\")\n",
    "plt.title(\"Stochastic Gradient Descent\")"
   ]
  },
  {
   "cell_type": "code",
   "execution_count": 117,
   "metadata": {},
   "outputs": [
    {
     "data": {
      "image/png": "[encoded data removed]",
      "text/plain": [
       "<Figure size 432x288 with 1 Axes>"
      ]
     },
     "metadata": {
      "needs_background": "light"
     },
     "output_type": "display_data"
    }
   ],
   "source": [
    "plot_ROC(best_beta_sgd, \"Stochastic GD\")"
   ]
  },
  {
   "cell_type": "code",
   "execution_count": 122,
   "metadata": {},
   "outputs": [
    {
     "data": {
      "text/plain": [
       "2"
      ]
     },
     "execution_count": 122,
     "metadata": {},
     "output_type": "execute_result"
    }
   ],
   "source": [
    "acc_thres = []\n",
    "for i in list(range(1,11)):\n",
    "    acc_thres.append(accuracy(best_beta_sgd, data_test, y_test, i/10))\n",
    "acc_thres.index(max(acc_thres))"
   ]
  },
  {
   "cell_type": "markdown",
   "metadata": {},
   "source": [
    "## Stochastic Gradient Descent + Momentum"
   ]
  },
  {
   "cell_type": "code",
   "execution_count": 132,
   "metadata": {
    "scrolled": true
   },
   "outputs": [
    {
     "name": "stdout",
     "output_type": "stream",
     "text": [
      "epoch:0 \t time:3 \t Loss(train):0.673 \t Loss(val):0.674\n",
      "epoch:1 \t time:8 \t Loss(train):0.655 \t Loss(val):0.657\n",
      "epoch:2 \t time:10 \t Loss(train):0.652 \t Loss(val):0.655\n",
      "epoch:3 \t time:13 \t Loss(train):0.642 \t Loss(val):0.646\n",
      "epoch:4 \t time:16 \t Loss(train):0.636 \t Loss(val):0.642\n",
      "epoch:5 \t time:19 \t Loss(train):0.629 \t Loss(val):0.639\n",
      "epoch:6 \t time:21 \t Loss(train):0.625 \t Loss(val):0.636\n",
      "epoch:7 \t time:24 \t Loss(train):0.621 \t Loss(val):0.634\n",
      "epoch:8 \t time:27 \t Loss(train):0.617 \t Loss(val):0.631\n",
      "epoch:9 \t time:30 \t Loss(train):0.614 \t Loss(val):0.628\n",
      "epoch:10 \t time:33 \t Loss(train):0.614 \t Loss(val):0.629\n",
      "epoch:11 \t time:36 \t Loss(train):0.611 \t Loss(val):0.626\n",
      "epoch:12 \t time:39 \t Loss(train):0.610 \t Loss(val):0.625\n",
      "epoch:13 \t time:42 \t Loss(train):0.608 \t Loss(val):0.623\n",
      "epoch:14 \t time:45 \t Loss(train):0.607 \t Loss(val):0.623\n",
      "epoch:15 \t time:48 \t Loss(train):0.606 \t Loss(val):0.622\n",
      "epoch:16 \t time:51 \t Loss(train):0.605 \t Loss(val):0.621\n",
      "epoch:17 \t time:54 \t Loss(train):0.605 \t Loss(val):0.622\n",
      "epoch:18 \t time:57 \t Loss(train):0.605 \t Loss(val):0.621\n",
      "epoch:19 \t time:60 \t Loss(train):0.602 \t Loss(val):0.619\n",
      "epoch:20 \t time:62 \t Loss(train):0.601 \t Loss(val):0.618\n",
      "epoch:21 \t time:65 \t Loss(train):0.600 \t Loss(val):0.618\n",
      "epoch:22 \t time:68 \t Loss(train):0.600 \t Loss(val):0.618\n",
      "epoch:23 \t time:71 \t Loss(train):0.600 \t Loss(val):0.618\n",
      "epoch:24 \t time:73 \t Loss(train):0.599 \t Loss(val):0.617\n",
      "epoch:25 \t time:76 \t Loss(train):0.598 \t Loss(val):0.616\n",
      "epoch:26 \t time:79 \t Loss(train):0.598 \t Loss(val):0.616\n",
      "epoch:27 \t time:82 \t Loss(train):0.597 \t Loss(val):0.616\n",
      "epoch:28 \t time:85 \t Loss(train):0.597 \t Loss(val):0.615\n",
      "epoch:29 \t time:88 \t Loss(train):0.596 \t Loss(val):0.615\n",
      "epoch:30 \t time:91 \t Loss(train):0.596 \t Loss(val):0.615\n",
      "epoch:31 \t time:93 \t Loss(train):0.596 \t Loss(val):0.615\n",
      "epoch:32 \t time:96 \t Loss(train):0.596 \t Loss(val):0.614\n",
      "epoch:33 \t time:99 \t Loss(train):0.596 \t Loss(val):0.615\n",
      "epoch:34 \t time:101 \t Loss(train):0.595 \t Loss(val):0.614\n",
      "epoch:35 \t time:104 \t Loss(train):0.595 \t Loss(val):0.614\n",
      "epoch:36 \t time:107 \t Loss(train):0.595 \t Loss(val):0.614\n",
      "epoch:37 \t time:110 \t Loss(train):0.595 \t Loss(val):0.614\n",
      "epoch:38 \t time:112 \t Loss(train):0.594 \t Loss(val):0.614\n",
      "epoch:39 \t time:116 \t Loss(train):0.594 \t Loss(val):0.613\n",
      "epoch:40 \t time:119 \t Loss(train):0.594 \t Loss(val):0.613\n",
      "epoch:41 \t time:121 \t Loss(train):0.594 \t Loss(val):0.613\n",
      "epoch:42 \t time:124 \t Loss(train):0.594 \t Loss(val):0.613\n",
      "epoch:43 \t time:127 \t Loss(train):0.594 \t Loss(val):0.613\n",
      "epoch:44 \t time:129 \t Loss(train):0.593 \t Loss(val):0.613\n",
      "epoch:45 \t time:132 \t Loss(train):0.593 \t Loss(val):0.613\n",
      "epoch:46 \t time:135 \t Loss(train):0.593 \t Loss(val):0.613\n",
      "epoch:47 \t time:138 \t Loss(train):0.593 \t Loss(val):0.613\n",
      "epoch:48 \t time:141 \t Loss(train):0.593 \t Loss(val):0.613\n",
      "epoch:49 \t time:143 \t Loss(train):0.593 \t Loss(val):0.613\n",
      "epoch:50 \t time:146 \t Loss(train):0.593 \t Loss(val):0.613\n",
      "epoch:51 \t time:148 \t Loss(train):0.593 \t Loss(val):0.612\n",
      "epoch:52 \t time:151 \t Loss(train):0.593 \t Loss(val):0.612\n",
      "epoch:53 \t time:154 \t Loss(train):0.593 \t Loss(val):0.612\n",
      "epoch:54 \t time:156 \t Loss(train):0.593 \t Loss(val):0.612\n",
      "epoch:55 \t time:159 \t Loss(train):0.593 \t Loss(val):0.612\n",
      "epoch:56 \t time:162 \t Loss(train):0.593 \t Loss(val):0.612\n",
      "epoch:57 \t time:165 \t Loss(train):0.592 \t Loss(val):0.612\n",
      "epoch:58 \t time:167 \t Loss(train):0.592 \t Loss(val):0.612\n",
      "epoch:59 \t time:170 \t Loss(train):0.592 \t Loss(val):0.612\n",
      "epoch:60 \t time:173 \t Loss(train):0.592 \t Loss(val):0.612\n",
      "epoch:61 \t time:176 \t Loss(train):0.592 \t Loss(val):0.612\n",
      "epoch:62 \t time:179 \t Loss(train):0.592 \t Loss(val):0.612\n",
      "epoch:63 \t time:182 \t Loss(train):0.592 \t Loss(val):0.612\n",
      "epoch:64 \t time:185 \t Loss(train):0.592 \t Loss(val):0.612\n",
      "epoch:65 \t time:189 \t Loss(train):0.592 \t Loss(val):0.612\n",
      "epoch:66 \t time:192 \t Loss(train):0.592 \t Loss(val):0.612\n",
      "epoch:67 \t time:195 \t Loss(train):0.592 \t Loss(val):0.612\n",
      "epoch:68 \t time:197 \t Loss(train):0.592 \t Loss(val):0.612\n",
      "epoch:69 \t time:200 \t Loss(train):0.592 \t Loss(val):0.612\n",
      "epoch:70 \t time:203 \t Loss(train):0.592 \t Loss(val):0.612\n",
      "epoch:71 \t time:206 \t Loss(train):0.592 \t Loss(val):0.612\n",
      "epoch:72 \t time:209 \t Loss(train):0.592 \t Loss(val):0.612\n",
      "epoch:73 \t time:212 \t Loss(train):0.592 \t Loss(val):0.612\n",
      "epoch:74 \t time:215 \t Loss(train):0.592 \t Loss(val):0.612\n",
      "epoch:75 \t time:218 \t Loss(train):0.592 \t Loss(val):0.612\n",
      "epoch:76 \t time:220 \t Loss(train):0.592 \t Loss(val):0.612\n",
      "epoch:77 \t time:223 \t Loss(train):0.592 \t Loss(val):0.612\n",
      "epoch:78 \t time:226 \t Loss(train):0.592 \t Loss(val):0.612\n",
      "epoch:79 \t time:229 \t Loss(train):0.592 \t Loss(val):0.612\n",
      "epoch:80 \t time:232 \t Loss(train):0.592 \t Loss(val):0.612\n",
      "epoch:81 \t time:234 \t Loss(train):0.592 \t Loss(val):0.612\n",
      "epoch:82 \t time:237 \t Loss(train):0.592 \t Loss(val):0.612\n",
      "epoch:83 \t time:240 \t Loss(train):0.592 \t Loss(val):0.612\n",
      "epoch:84 \t time:243 \t Loss(train):0.592 \t Loss(val):0.612\n",
      "epoch:85 \t time:246 \t Loss(train):0.592 \t Loss(val):0.612\n",
      "epoch:86 \t time:249 \t Loss(train):0.592 \t Loss(val):0.612\n",
      "epoch:87 \t time:252 \t Loss(train):0.592 \t Loss(val):0.612\n",
      "epoch:88 \t time:255 \t Loss(train):0.592 \t Loss(val):0.612\n",
      "epoch:89 \t time:258 \t Loss(train):0.592 \t Loss(val):0.612\n",
      "epoch:90 \t time:261 \t Loss(train):0.592 \t Loss(val):0.612\n",
      "epoch:91 \t time:264 \t Loss(train):0.592 \t Loss(val):0.612\n",
      "epoch:92 \t time:267 \t Loss(train):0.592 \t Loss(val):0.612\n",
      "epoch:93 \t time:270 \t Loss(train):0.592 \t Loss(val):0.612\n",
      "epoch:94 \t time:273 \t Loss(train):0.592 \t Loss(val):0.612\n",
      "epoch:95 \t time:276 \t Loss(train):0.592 \t Loss(val):0.612\n",
      "epoch:96 \t time:278 \t Loss(train):0.592 \t Loss(val):0.612\n",
      "epoch:97 \t time:281 \t Loss(train):0.592 \t Loss(val):0.612\n",
      "epoch:98 \t time:283 \t Loss(train):0.592 \t Loss(val):0.612\n",
      "epoch:99 \t time:285 \t Loss(train):0.592 \t Loss(val):0.612\n"
     ]
    }
   ],
   "source": [
    "n_epoch = 100\n",
    "batch_size=100  #size of the mini-batch\n",
    "beta = onp.copy(beta_init)\n",
    "mov_avg_param = 0.8\n",
    "\n",
    "learning_rate = 0.001\n",
    "loss_train_hist = []\n",
    "loss_val_hist = []\n",
    "\n",
    "#initialize the gradient\n",
    "gradient = grad_loss(beta, data_train, y_train)\n",
    "best_beta_sgdm = onp.zeros(D)\n",
    "\n",
    "start = time.time()\n",
    "for epoch in range(n_epoch):\n",
    "    #let us divide the learning by 2 every 10 epoch\n",
    "    if epoch % 10 == 0 and epoch >= 1:\n",
    "        learning_rate = learning_rate/2.\n",
    "        \n",
    "    for k in range(ntrain_img // batch_size):  #number of batch per epoch\n",
    "\n",
    "        #first option\n",
    "        #============\n",
    "        #select at random \"batch_size\" random data point\n",
    "        index_ = onp.random.choice(ntrain_img, batch_size, replace=False)\n",
    "\n",
    "        #second option\n",
    "        #============\n",
    "        #consider the batches sequentially\n",
    "        #index_ = onp.arange(k*batch_size, (k+1)*batch_size) % ntrain_img\n",
    "        \n",
    "        gradient_local = grad_loss(beta, data_train[index_], y_train[index_])\n",
    "\n",
    "        #moving average of the gradient\n",
    "        gradient = gradient*mov_avg_param + (1-mov_avg_param)*gradient_local\n",
    "\n",
    "        #gradient descent update\n",
    "        beta = beta - learning_rate * gradient\n",
    "    \n",
    "    loss_train = loss(beta, data_train, y_train)\n",
    "    loss_val = loss(beta, data_val, y_val)\n",
    "    \n",
    "    if len(loss_val_hist)>0:\n",
    "        if loss_val <= loss_val_hist[-1]:\n",
    "            best_beta_sgdm = beta\n",
    "        \n",
    "    loss_train_hist.append(loss_train)\n",
    "    loss_val_hist.append(loss_val)\n",
    "    \n",
    "    timing = time.time() - start\n",
    "    print(\"epoch:{0:.0f} \\t time:{1:.0f} \\t Loss(train):{2:.3f} \\t Loss(val):{3:.3f}\".format(epoch, \n",
    "                                                                                                 timing, \n",
    "                                                                                                loss_train, \n",
    "                                                                                                loss_val))"
   ]
  },
  {
   "cell_type": "code",
   "execution_count": 136,
   "metadata": {},
   "outputs": [
    {
     "data": {
      "text/plain": [
       "Text(0.5, 1.0, 'Stochastic Gradient Descent')"
      ]
     },
     "execution_count": 136,
     "metadata": {},
     "output_type": "execute_result"
    },
    {
     "data": {
      "image/png": "[encoded data removed]",
      "text/plain": [
       "<Figure size 432x288 with 1 Axes>"
      ]
     },
     "metadata": {
      "needs_background": "light"
     },
     "output_type": "display_data"
    }
   ],
   "source": [
    "plt.plot(loss_train_hist, label=\"loss(train)\")\n",
    "plt.plot(loss_val_hist, label=\"loss(val)\")\n",
    "plt.legend()\n",
    "plt.grid(True)\n",
    "plt.xlabel(\"epoch\")\n",
    "plt.title(\"Stochastic Gradient Descent\")"
   ]
  },
  {
   "cell_type": "code",
   "execution_count": 137,
   "metadata": {},
   "outputs": [
    {
     "data": {
      "image/png": "[encoded data removed]",
      "text/plain": [
       "<Figure size 432x288 with 1 Axes>"
      ]
     },
     "metadata": {
      "needs_background": "light"
     },
     "output_type": "display_data"
    }
   ],
   "source": [
    "plot_ROC(best_beta_sgdm, \"Stochastic GD\")"
   ]
  },
  {
   "cell_type": "code",
   "execution_count": 138,
   "metadata": {},
   "outputs": [
    {
     "data": {
      "text/plain": [
       "[DeviceArray(0.7856, dtype=float64),\n",
       " DeviceArray(0.7928, dtype=float64),\n",
       " DeviceArray(0.8092, dtype=float64),\n",
       " DeviceArray(0.7904, dtype=float64),\n",
       " DeviceArray(0.7176, dtype=float64),\n",
       " DeviceArray(0.5584, dtype=float64),\n",
       " DeviceArray(0.3714, dtype=float64),\n",
       " DeviceArray(0.2486, dtype=float64),\n",
       " DeviceArray(0.2166, dtype=float64),\n",
       " DeviceArray(0.2142, dtype=float64)]"
      ]
     },
     "execution_count": 138,
     "metadata": {},
     "output_type": "execute_result"
    }
   ],
   "source": [
    "acc_thres = []\n",
    "for i in list(range(1,11)):\n",
    "    acc_thres.append(accuracy(best_beta_sgdm, data_test, y_test, i/10))\n",
    "acc_thres"
   ]
  },
  {
   "cell_type": "markdown",
   "metadata": {},
   "source": [
    "Stochastic Gradient Descent has an accuracy of 71.58%."
   ]
  },
  {
   "cell_type": "markdown",
   "metadata": {},
   "source": [
    "## L-BFGS"
   ]
  },
  {
   "cell_type": "code",
   "execution_count": 25,
   "metadata": {},
   "outputs": [],
   "source": [
    "def loss_wrapper(beta):\n",
    "    \"\"\" only one argument \"\"\"\n",
    "    return loss(beta, data_train, y_train)\n",
    "\n",
    "grad_loss_wrapper = jax.jit(jax.grad(loss_wrapper))    \n",
    "\n",
    "def gradient_wrapper(beta):\n",
    "    \"\"\"output is a numpy array\"\"\"\n",
    "    return onp.array(grad_loss_wrapper(beta))"
   ]
  },
  {
   "cell_type": "code",
   "execution_count": 40,
   "metadata": {
    "scrolled": true
   },
   "outputs": [
    {
     "name": "stdout",
     "output_type": "stream",
     "text": [
      "Time:12.112750 \t Loss(train):0.693 \t Loss(val):0.691\n",
      "Time:18.162471 \t Loss(train):0.691 \t Loss(val):0.688\n",
      "Time:23.656901 \t Loss(train):0.689 \t Loss(val):0.686\n",
      "Time:29.021730 \t Loss(train):0.680 \t Loss(val):0.677\n",
      "Time:34.451313 \t Loss(train):0.669 \t Loss(val):0.668\n",
      "Time:40.407051 \t Loss(train):0.655 \t Loss(val):0.658\n",
      "Time:46.304225 \t Loss(train):0.648 \t Loss(val):0.654\n",
      "Time:53.124964 \t Loss(train):0.645 \t Loss(val):0.653\n",
      "Time:59.879292 \t Loss(train):0.641 \t Loss(val):0.651\n",
      "Time:65.122577 \t Loss(train):0.634 \t Loss(val):0.648\n",
      "Time:70.901713 \t Loss(train):0.624 \t Loss(val):0.642\n",
      "Time:78.513247 \t Loss(train):0.605 \t Loss(val):0.628\n",
      "Time:85.101411 \t Loss(train):0.595 \t Loss(val):0.621\n",
      "Time:95.735050 \t Loss(train):0.593 \t Loss(val):0.619\n",
      "Time:106.602400 \t Loss(train):0.592 \t Loss(val):0.617\n",
      "Time:113.987103 \t Loss(train):0.590 \t Loss(val):0.615\n",
      "Time:123.339943 \t Loss(train):0.585 \t Loss(val):0.612\n",
      "Time:129.240770 \t Loss(train):0.578 \t Loss(val):0.608\n",
      "Time:138.988889 \t Loss(train):0.574 \t Loss(val):0.608\n",
      "Time:144.705332 \t Loss(train):0.569 \t Loss(val):0.606\n",
      "Time:151.237840 \t Loss(train):0.565 \t Loss(val):0.601\n",
      "Time:157.759602 \t Loss(train):0.558 \t Loss(val):0.599\n",
      "Time:163.884280 \t Loss(train):0.554 \t Loss(val):0.599\n",
      "Time:169.670603 \t Loss(train):0.550 \t Loss(val):0.605\n",
      "Time:175.491331 \t Loss(train):0.539 \t Loss(val):0.601\n",
      "Time:181.144305 \t Loss(train):0.537 \t Loss(val):0.603\n",
      "Time:187.175798 \t Loss(train):0.536 \t Loss(val):0.607\n",
      "Time:193.824538 \t Loss(train):0.535 \t Loss(val):0.606\n",
      "Time:204.500819 \t Loss(train):0.533 \t Loss(val):0.606\n",
      "Time:214.165341 \t Loss(train):0.533 \t Loss(val):0.606\n",
      "Time:222.195907 \t Loss(train):0.529 \t Loss(val):0.600\n",
      "Time:230.955591 \t Loss(train):0.528 \t Loss(val):0.598\n",
      "Time:237.984992 \t Loss(train):0.526 \t Loss(val):0.596\n",
      "Time:245.222425 \t Loss(train):0.524 \t Loss(val):0.594\n",
      "Time:251.375122 \t Loss(train):0.518 \t Loss(val):0.591\n",
      "Time:261.582635 \t Loss(train):0.516 \t Loss(val):0.590\n",
      "Time:268.207914 \t Loss(train):0.514 \t Loss(val):0.592\n",
      "Time:274.318500 \t Loss(train):0.512 \t Loss(val):0.595\n",
      "Time:281.150045 \t Loss(train):0.510 \t Loss(val):0.600\n",
      "Time:288.565925 \t Loss(train):0.507 \t Loss(val):0.606\n",
      "Time:294.368865 \t Loss(train):0.503 \t Loss(val):0.609\n",
      "Time:302.771014 \t Loss(train):0.503 \t Loss(val):0.610\n",
      "Time:307.606821 \t Loss(train):0.499 \t Loss(val):0.610\n",
      "Time:312.802435 \t Loss(train):0.496 \t Loss(val):0.606\n",
      "Time:318.286206 \t Loss(train):0.493 \t Loss(val):0.600\n",
      "Time:323.714217 \t Loss(train):0.490 \t Loss(val):0.594\n",
      "Time:332.374114 \t Loss(train):0.490 \t Loss(val):0.594\n",
      "Time:337.615347 \t Loss(train):0.489 \t Loss(val):0.592\n",
      "Time:342.264907 \t Loss(train):0.488 \t Loss(val):0.593\n",
      "Time:346.916324 \t Loss(train):0.487 \t Loss(val):0.595\n",
      "Time:352.589857 \t Loss(train):0.485 \t Loss(val):0.599\n",
      "Time:358.245441 \t Loss(train):0.481 \t Loss(val):0.607\n",
      "Time:367.413835 \t Loss(train):0.481 \t Loss(val):0.608\n",
      "Time:373.072592 \t Loss(train):0.478 \t Loss(val):0.614\n",
      "Time:378.528272 \t Loss(train):0.477 \t Loss(val):0.616\n",
      "Time:384.346894 \t Loss(train):0.476 \t Loss(val):0.617\n",
      "Time:390.371549 \t Loss(train):0.475 \t Loss(val):0.616\n",
      "Time:396.572603 \t Loss(train):0.474 \t Loss(val):0.616\n",
      "Time:404.068397 \t Loss(train):0.472 \t Loss(val):0.618\n",
      "Time:412.344564 \t Loss(train):0.470 \t Loss(val):0.619\n",
      "Time:418.977464 \t Loss(train):0.469 \t Loss(val):0.623\n",
      "Time:428.651669 \t Loss(train):0.465 \t Loss(val):0.626\n",
      "Time:434.974992 \t Loss(train):0.461 \t Loss(val):0.631\n",
      "Time:439.993572 \t Loss(train):0.458 \t Loss(val):0.631\n",
      "Time:444.992448 \t Loss(train):0.454 \t Loss(val):0.633\n",
      "Time:451.186897 \t Loss(train):0.452 \t Loss(val):0.631\n",
      "Time:456.829706 \t Loss(train):0.451 \t Loss(val):0.628\n",
      "Time:462.794512 \t Loss(train):0.449 \t Loss(val):0.627\n",
      "Time:471.789590 \t Loss(train):0.449 \t Loss(val):0.627\n",
      "Time:477.321722 \t Loss(train):0.448 \t Loss(val):0.630\n",
      "Time:483.008607 \t Loss(train):0.447 \t Loss(val):0.630\n",
      "Time:489.558751 \t Loss(train):0.446 \t Loss(val):0.632\n",
      "Time:499.641480 \t Loss(train):0.444 \t Loss(val):0.635\n",
      "Time:505.935125 \t Loss(train):0.442 \t Loss(val):0.638\n",
      "Time:517.048710 \t Loss(train):0.440 \t Loss(val):0.640\n",
      "Time:527.270965 \t Loss(train):0.440 \t Loss(val):0.640\n",
      "Time:533.883924 \t Loss(train):0.440 \t Loss(val):0.641\n",
      "Time:539.387954 \t Loss(train):0.437 \t Loss(val):0.644\n",
      "Time:544.815896 \t Loss(train):0.434 \t Loss(val):0.641\n",
      "Time:550.229215 \t Loss(train):0.430 \t Loss(val):0.637\n",
      "Time:558.310558 \t Loss(train):0.429 \t Loss(val):0.635\n",
      "Time:563.833546 \t Loss(train):0.428 \t Loss(val):0.636\n",
      "Time:569.817629 \t Loss(train):0.426 \t Loss(val):0.643\n",
      "Time:576.796970 \t Loss(train):0.422 \t Loss(val):0.647\n",
      "Time:583.014449 \t Loss(train):0.421 \t Loss(val):0.645\n",
      "Time:589.170846 \t Loss(train):0.420 \t Loss(val):0.648\n",
      "Time:598.582811 \t Loss(train):0.419 \t Loss(val):0.651\n",
      "Time:605.140895 \t Loss(train):0.417 \t Loss(val):0.660\n",
      "Time:611.449142 \t Loss(train):0.416 \t Loss(val):0.662\n",
      "Time:617.887944 \t Loss(train):0.415 \t Loss(val):0.664\n",
      "Time:622.968660 \t Loss(train):0.415 \t Loss(val):0.663\n",
      "Time:632.022458 \t Loss(train):0.414 \t Loss(val):0.663\n",
      "Time:637.987466 \t Loss(train):0.413 \t Loss(val):0.661\n",
      "Time:644.156241 \t Loss(train):0.411 \t Loss(val):0.663\n",
      "Time:650.277857 \t Loss(train):0.409 \t Loss(val):0.666\n",
      "Time:655.960105 \t Loss(train):0.407 \t Loss(val):0.667\n",
      "Time:665.405303 \t Loss(train):0.406 \t Loss(val):0.669\n",
      "Time:672.627487 \t Loss(train):0.404 \t Loss(val):0.669\n",
      "Time:679.735702 \t Loss(train):0.404 \t Loss(val):0.670\n",
      "Time:685.452611 \t Loss(train):0.404 \t Loss(val):0.671\n"
     ]
    }
   ],
   "source": [
    "loss_train_hist = []; loss_val_hist = []\n",
    "acc_val_hist = []\n",
    "time_hist = []  # to save the compute time\n",
    "\n",
    "best_beta_bfgs = onp.zeros(D) # to save best model\n",
    "beta = onp.copy(beta_init)\n",
    "\n",
    "def save_traj(beta):\n",
    "    global best_beta_bfgs\n",
    "    \"\"\" a function that saves a few statistics for later analysis\"\"\"\n",
    "    loss_train = loss(beta, data_train, y_train)\n",
    "    loss_val = loss(beta, data_val, y_val)\n",
    "    timing = time.time() - start\n",
    "    \n",
    "    print(\"Time:{0:3f} \\t Loss(train):{1:.3f} \\t Loss(val):{2:.3f}\".format(timing, loss_train, loss_val))\n",
    "    \n",
    "    time_hist.append(timing)\n",
    "    loss_train_hist.append(loss_train)\n",
    "    loss_val_hist.append(loss_val)\n",
    "\n",
    "    #acc_val = accuracy(beta, data_val, y_val)\n",
    "    #acc_val_list.append(accuracy_val)\n",
    "    \n",
    "    if loss_val <= loss_val_hist[-1]:\n",
    "        best_beta_bfgs = beta\n",
    "        \n",
    "#run LBFGS\n",
    "start = time.time()\n",
    "onp.random.seed(0)\n",
    "traj = scipy.optimize.minimize(fun = loss_wrapper, # function to minimize\n",
    "                                x0 = onp.array(beta_init), # initial guess\n",
    "                                method='L-BFGS-B',  # we want to use L-BFGS\n",
    "                                jac=gradient_wrapper, # function that computes the gradient\n",
    "                                callback=save_traj, # a function used to save some results for later plotting\n",
    "                                options={\"maxiter\":100})  # maximum number of iterations"
   ]
  },
  {
   "cell_type": "code",
   "execution_count": 41,
   "metadata": {},
   "outputs": [
    {
     "data": {
      "text/plain": [
       "Text(0.5, 1.0, 'L-BFGS')"
      ]
     },
     "execution_count": 41,
     "metadata": {},
     "output_type": "execute_result"
    },
    {
     "data": {
      "image/png": "[encoded data removed]",
      "text/plain": [
       "<Figure size 432x288 with 1 Axes>"
      ]
     },
     "metadata": {
      "needs_background": "light"
     },
     "output_type": "display_data"
    }
   ],
   "source": [
    "plt.plot(loss_train_hist, label=\"loss(train)\")\n",
    "plt.plot(loss_val_hist, label=\"loss(val)\")\n",
    "plt.legend()\n",
    "plt.grid(True)\n",
    "plt.xlabel(\"iteration\")\n",
    "plt.title(\"L-BFGS\")"
   ]
  },
  {
   "cell_type": "code",
   "execution_count": 58,
   "metadata": {},
   "outputs": [],
   "source": [
    "# Plot ROC curve\n",
    "def plot_ROC(model):\n",
    "    y_pred_proba = prediction_data(model,data_test)\n",
    "    fpr, tpr, _ = metrics.roc_curve(y_test,  y_pred_proba)\n",
    "    auc = metrics.roc_auc_score(y_test, y_pred_proba)\n",
    "    plt.gca().set_aspect('equal', adjustable='box')\n",
    "    plt.plot(fpr,tpr,label=\"L-BFGS, AUC=\"+\"{0:.3f}\".format(auc))\n",
    "    plt.legend(loc=4)\n",
    "    plt.show()"
   ]
  },
  {
   "cell_type": "code",
   "execution_count": 59,
   "metadata": {},
   "outputs": [
    {
     "data": {
      "image/png": "[encoded data removed]",
      "text/plain": [
       "<Figure size 432x288 with 1 Axes>"
      ]
     },
     "metadata": {
      "needs_background": "light"
     },
     "output_type": "display_data"
    }
   ],
   "source": [
    "plot_ROC(best_beta_bfgs, \"L-BFGS\")"
   ]
  },
  {
   "cell_type": "code",
   "execution_count": 125,
   "metadata": {},
   "outputs": [
    {
     "data": {
      "text/plain": [
       "[DeviceArray(0.82, dtype=float64),\n",
       " DeviceArray(0.8122, dtype=float64),\n",
       " DeviceArray(0.7938, dtype=float64),\n",
       " DeviceArray(0.7582, dtype=float64),\n",
       " DeviceArray(0.721, dtype=float64),\n",
       " DeviceArray(0.6736, dtype=float64),\n",
       " DeviceArray(0.6168, dtype=float64),\n",
       " DeviceArray(0.5406, dtype=float64),\n",
       " DeviceArray(0.4158, dtype=float64),\n",
       " DeviceArray(0.2142, dtype=float64)]"
      ]
     },
     "execution_count": 125,
     "metadata": {},
     "output_type": "execute_result"
    }
   ],
   "source": [
    "acc_thres = []\n",
    "for i in list(range(1,11)):\n",
    "    acc_thres.append(accuracy(best_beta_bfgs, data_test, y_test, i/10))\n",
    "acc_thres"
   ]
  }
 ],
 "metadata": {
  "kernelspec": {
   "display_name": "Python 3",
   "language": "python",
   "name": "python3"
  },
  "language_info": {
   "codemirror_mode": {
    "name": "ipython",
    "version": 3
   },
   "file_extension": ".py",
   "mimetype": "text/x-python",
   "name": "python",
   "nbconvert_exporter": "python",
   "pygments_lexer": "ipython3",
   "version": "3.7.6"
  }
 },
 "nbformat": 4,
 "nbformat_minor": 4
}

{
 "cells": [
  {
   "cell_type": "code",
   "execution_count": null,
   "metadata": {},
   "outputs": [],
   "source": [
    "%matplotlib inline\n",
    "from jax.config import config\n",
    "config.update(\"jax_enable_x64\", True) \n",
    "\n",
    "import jax\n",
    "import jax.numpy as np\n",
    "\n",
    "import pylab as plt\n",
    "import imageio\n",
    "import os\n",
    "import numpy as onp\n",
    "from skimage.transform import rescale, resize, downscale_local_mean\n",
    "import pandas as pd\n",
    "import time\n",
    "import scipy"
   ]
  },
  {
   "cell_type": "markdown",
   "metadata": {},
   "source": [
    "# Data Pre-Processing"
   ]
  },
  {
   "cell_type": "code",
   "execution_count": null,
   "metadata": {},
   "outputs": [],
   "source": [
    "#load attributes csv file\n",
    "attribute = pd.read_csv(\"celeba.csv\")\n",
    "\n",
    "#\"attribute\" is a dictionary containing several attributes for each image\n",
    "#attribute.keys()"
   ]
  },
  {
   "cell_type": "code",
   "execution_count": null,
   "metadata": {},
   "outputs": [],
   "source": [
    "#let us list all the files in the image directory\n",
    "path = \"img_celeba_small\"\n",
    "all_img = [f for f in os.listdir(path) \n",
    "                 if os.path.isfile(os.path.join(path, f)) \n",
    "                 and f.endswith(\".jpg\")]\n",
    "nb_img = len(all_img)\n",
    "print(\"Number of images:\", nb_img)\n",
    "\n",
    "#let us keep only the relevant rows in attributes\n",
    "attribute = attribute[:20000]"
   ]
  },
  {
   "cell_type": "markdown",
   "metadata": {},
   "source": [
    "## Creating training and validation datasets"
   ]
  },
  {
   "cell_type": "code",
   "execution_count": null,
   "metadata": {
    "scrolled": true
   },
   "outputs": [],
   "source": [
    "# select first 15000 rows for training dataset\n",
    "train = attribute[:15000]\n",
    "train = train['Young']\n",
    "\n",
    "# select last 5000 rows for test dataset\n",
    "test = attribute[15000:20000]\n",
    "test = test['Young']"
   ]
  },
  {
   "cell_type": "code",
   "execution_count": null,
   "metadata": {},
   "outputs": [],
   "source": [
    "is_Young = train==1\n",
    "is_Old = train==-1\n",
    "\n",
    "# subset training set by young/old\n",
    "train_y = train[is_Young] \n",
    "train_o = train[is_Old]\n",
    "\n",
    "# select indices for prelim training set\n",
    "onp.random.seed(0)\n",
    "y_pindex = onp.random.choice(len(train_y), 2000, replace=False)\n",
    "o_pindex = onp.random.choice(len(train_o), 2000, replace=False)"
   ]
  },
  {
   "cell_type": "code",
   "execution_count": null,
   "metadata": {},
   "outputs": [],
   "source": [
    "# select prelim training & validation data\n",
    "ptrain_y = train_y.iloc[y_pindex[:1500]] # need to test if this works\n",
    "pval_y = train_y.iloc[y_pindex[1500:]]\n",
    "\n",
    "ptrain_o = train_o.iloc[o_pindex[:1500]]\n",
    "pval_o = train_o.iloc[o_pindex[1500:]]\n",
    "\n",
    "# collate prelim training data (3k obs, 1.5k each class)\n",
    "ptrain = ptrain_y.append(ptrain_o)\n",
    "ptrain = ptrain.sort_index()\n",
    "\n",
    "# collate prelim test data (1k obs, .5k each class)\n",
    "pval = pval_y.append(pval_o)\n",
    "pval = pval.sort_index()"
   ]
  },
  {
   "cell_type": "markdown",
   "metadata": {},
   "source": [
    "## Loading images"
   ]
  },
  {
   "cell_type": "markdown",
   "metadata": {},
   "source": [
    "The images were loaded in grayscale with an initial size of 100 by 100 pixels. The pixel intensity was then rescaled to [0,1]. To remove parts of the image irrelevant to a person's age (outside of the face), the images were cropped to only include the range [25:85, 20:80]. The final images used for analysis are 60 by 60 pixels."
   ]
  },
  {
   "cell_type": "code",
   "execution_count": null,
   "metadata": {},
   "outputs": [],
   "source": [
    "res = 100\n",
    "#crop_dim = [25:85,20:80]\n",
    "\n",
    "# load the images from the prelim training set\n",
    "ntrain_img = len(ptrain)\n",
    "ptrain_ind = ptrain.index.values\n",
    "ptrain_img = onp.zeros((ntrain_img,60,60))\n",
    "\n",
    "for k in range(ntrain_img):\n",
    "    im = imageio.imread(os.path.join(path, all_img[ptrain_ind[k]])).astype(float)\n",
    "    im = resize(im, (res,res))\n",
    "    im = onp.mean(im, axis=2)\n",
    "    im = im/255.\n",
    "    im = im[25:85,20:80]\n",
    "    ptrain_img[k,:,:] = im\n",
    "    \n",
    "# load the images from the prelim validation set\n",
    "nval_img = len(pval)\n",
    "pval_ind = pval.index.values\n",
    "pval_img = onp.zeros((nval_img,60,60))\n",
    "\n",
    "for k in range(nval_img):\n",
    "    im = imageio.imread(os.path.join(path, all_img[pval_ind[k]])).astype(float)\n",
    "    im = resize(im, (res,res))\n",
    "    im = onp.mean(im, axis=2)\n",
    "    im = im/255.\n",
    "    im = im[25:85,20:80]\n",
    "    pval_img[k,:,:] = im"
   ]
  },
  {
   "cell_type": "code",
   "execution_count": null,
   "metadata": {},
   "outputs": [],
   "source": [
    "ptrain_img.size"
   ]
  },
  {
   "cell_type": "code",
   "execution_count": null,
   "metadata": {},
   "outputs": [],
   "source": [
    "# test if the subsetting was successful\n",
    "plt.figure(figsize=(10,2))\n",
    "for k in range(20):\n",
    "    im = ptrain_img[k]\n",
    "    plt.subplot(2,10,k+1)\n",
    "    plt.imshow(im/255., cmap='gray')\n",
    "    plt.axis(\"off\")\n",
    "    \n",
    "    is_Young = ptrain.iloc[k]\n",
    "    if is_Young == 1:\n",
    "        plt.title(\"Young\")\n",
    "    else:\n",
    "        plt.title(\"Old\")"
   ]
  },
  {
   "cell_type": "code",
   "execution_count": null,
   "metadata": {},
   "outputs": [],
   "source": [
    "# test if the subsetting was successful\n",
    "plt.figure(figsize=(10,2))\n",
    "for k in range(20):\n",
    "    im = pval_img[k]\n",
    "    plt.subplot(2,10,k+1)\n",
    "    plt.imshow(im/255., cmap='gray')\n",
    "    plt.axis(\"off\")\n",
    "    \n",
    "    is_Young = pval.iloc[k]\n",
    "    if is_Young == 1:\n",
    "        plt.title(\"Young\")\n",
    "    else:\n",
    "        plt.title(\"Old\")"
   ]
  },
  {
   "cell_type": "markdown",
   "metadata": {},
   "source": [
    "`ptrain` is a 1x3000 array with the indicator values {-1, 1} for old and young. `ptrain_img` is a 3000 x 60 x 60 array that contains the relevant images for the preliminary training data. \n",
    "\n",
    "`ptest` is a 1x3000 array with the indicator values {-1, 1} for old and young. `ptest_img`is a 1000 x 60 x 60 array that contains the relevant images for the preliminary validation data. "
   ]
  },
  {
   "cell_type": "code",
   "execution_count": null,
   "metadata": {},
   "outputs": [],
   "source": [
    "data_train = ptrain_img.reshape(3000, 60*60)\n",
    "y_train = ptrain.to_numpy(copy=True)\n",
    "\n",
    "data_val = pval_img.reshape(1000, 60*60)\n",
    "y_val = pval.to_numpy(copy=True)"
   ]
  },
  {
   "cell_type": "markdown",
   "metadata": {},
   "source": [
    "# Optimisation"
   ]
  },
  {
   "cell_type": "markdown",
   "metadata": {},
   "source": [
    "Logistic regression loss function with $L_2$ penalty:\n",
    "$$ \\frac{1}{N} \\, \\sum_{i=1}^N \\log(1 + \\exp(-y_i \\, \\langle \\beta, x_i \\rangle)) + \\frac{1}{N} \\| \\beta \\|^2$$\n",
    "\n",
    "Logistic probability:\n",
    "$$P(y=1 | x) = \\frac{1}{1 + \\exp(- \\langle \\beta, x \\rangle)}$$"
   ]
  },
  {
   "cell_type": "code",
   "execution_count": null,
   "metadata": {},
   "outputs": [],
   "source": [
    "def prediction_single(beta, x):\n",
    "    \"\"\" beta is a vector of dimension 10000, and x as well \"\"\"\n",
    "    proba = 1. / (1. + np.exp(-np.dot(beta, x)))\n",
    "    return proba\n",
    "\n",
    "#make a prediction on a whole dataset\n",
    "prediction_data = jax.vmap(prediction_single, in_axes=(None,0))\n",
    "\n",
    "def loss_single(beta,x,y):\n",
    "    \"\"\"\n",
    "    beta: vector of dimension 100*100\n",
    "    x: vector of dimension 100*100\n",
    "    y: a number that equals -1 or 1\n",
    "    \"\"\"\n",
    "    return np.log(1. + np.exp(-y * np.dot(beta, x)))\n",
    "\n",
    "#compute the loss on. whole dataset\n",
    "loss_dataset = jax.vmap(loss_single, in_axes=(None,0,0))\n",
    "\n",
    "def loss(beta, data, y):\n",
    "    \"\"\" compute the mean of all the individual losses \"\"\"\n",
    "    list_of_all_losses = loss_dataset(beta, data, y)\n",
    "    return np.mean(list_of_all_losses) #+ np.mean(beta**2)\n",
    "\n",
    "grad_loss = jax.jit(jax.grad(loss))\n",
    "\n",
    "def accuracy(beta, data, y):\n",
    "    pred = prediction_data(beta, data)\n",
    "    threshold = 0.5\n",
    "    prediction_binary = (pred > 0.5).astype(int)  #equals 1 if pred > threshold and 0 otherwise\n",
    "    prediction_sign = 2*(prediction_binary - 0.5) #equals 1 if pred > threshold and -1 otherwise\n",
    "    return np.mean(prediction_sign == y)"
   ]
  },
  {
   "cell_type": "code",
   "execution_count": null,
   "metadata": {},
   "outputs": [],
   "source": [
    "D = 60*60\n",
    "beta_init = onp.random.normal(0., scale = 1./onp.sqrt(D), size=D)"
   ]
  },
  {
   "cell_type": "markdown",
   "metadata": {},
   "source": [
    "## Gradient Descent"
   ]
  },
  {
   "cell_type": "code",
   "execution_count": null,
   "metadata": {},
   "outputs": [],
   "source": [
    "n_iter = 500\n",
    "learning_rate = 0.01\n",
    "loss_history = []\n",
    "acc_train_list = []\n",
    "acc_val_list = []\n",
    "\n",
    "beta = onp.copy(beta_init)\n",
    "\n",
    "for k in range(n_iter):\n",
    "    gradient = grad_loss(beta, data_train, y_train)\n",
    "    beta = beta - learning_rate * gradient\n",
    "    current_loss = loss(beta, data_train, y_train)\n",
    "    \n",
    "    accuracy_train = accuracy(beta, data_train, y_train)\n",
    "    accuracy_val = accuracy(beta, data_val, y_val) \n",
    "    \n",
    "    acc_train_list.append(accuracy_train)\n",
    "    acc_val_list.append(accuracy_val)\n",
    "    if k % 50 == 0:\n",
    "        print(\"Loss:{0:.3f} \\t Accuracy: {1:.3f}% / {2:.3f}%\".format(current_loss, \\\n",
    "                                             100*accuracy_train,\\\n",
    "                                             100*accuracy_val))\n",
    "    loss_history.append(current_loss)"
   ]
  },
  {
   "cell_type": "markdown",
   "metadata": {},
   "source": [
    "## L-BFGS"
   ]
  },
  {
   "cell_type": "code",
   "execution_count": null,
   "metadata": {},
   "outputs": [],
   "source": [
    "def loss_wrapper(beta):\n",
    "    \"\"\" only one argument \"\"\"\n",
    "    return loss(beta, data_train, y_train)\n",
    "\n",
    "grad_loss_wrapper = jax.jit(jax.grad(loss_wrapper))    \n",
    "\n",
    "def gradient_wrapper(beta):\n",
    "    \"\"\"output is a numpy array\"\"\"\n",
    "    return onp.array(grad_loss_wrapper(beta))"
   ]
  },
  {
   "cell_type": "code",
   "execution_count": 134,
   "metadata": {},
   "outputs": [
    {
     "name": "stdout",
     "output_type": "stream",
     "text": [
      "Time:0.792398 \t Loss(train):0.674 \t Loss(val):0.681\n",
      "Time:1.683171 \t Loss(train):0.658 \t Loss(val):0.667\n",
      "Time:2.548570 \t Loss(train):0.655 \t Loss(val):0.663\n",
      "Time:3.401191 \t Loss(train):0.654 \t Loss(val):0.662\n",
      "Time:4.288759 \t Loss(train):0.649 \t Loss(val):0.656\n",
      "Time:5.001322 \t Loss(train):0.641 \t Loss(val):0.647\n",
      "Time:5.771287 \t Loss(train):0.630 \t Loss(val):0.636\n",
      "Time:6.537062 \t Loss(train):0.609 \t Loss(val):0.619\n",
      "Time:7.279045 \t Loss(train):0.585 \t Loss(val):0.601\n",
      "Time:7.961617 \t Loss(train):0.573 \t Loss(val):0.590\n",
      "Time:8.713554 \t Loss(train):0.570 \t Loss(val):0.589\n",
      "Time:9.472500 \t Loss(train):0.566 \t Loss(val):0.587\n",
      "Time:10.231814 \t Loss(train):0.562 \t Loss(val):0.584\n",
      "Time:10.950522 \t Loss(train):0.559 \t Loss(val):0.581\n",
      "Time:11.907613 \t Loss(train):0.557 \t Loss(val):0.581\n",
      "Time:12.667496 \t Loss(train):0.554 \t Loss(val):0.577\n",
      "Time:13.430590 \t Loss(train):0.548 \t Loss(val):0.574\n",
      "Time:14.159767 \t Loss(train):0.538 \t Loss(val):0.573\n",
      "Time:14.923347 \t Loss(train):0.531 \t Loss(val):0.574\n",
      "Time:15.731280 \t Loss(train):0.524 \t Loss(val):0.575\n",
      "Time:16.700466 \t Loss(train):0.520 \t Loss(val):0.576\n",
      "Time:17.421326 \t Loss(train):0.513 \t Loss(val):0.575\n",
      "Time:18.145252 \t Loss(train):0.511 \t Loss(val):0.572\n",
      "Time:18.929374 \t Loss(train):0.510 \t Loss(val):0.569\n",
      "Time:19.654765 \t Loss(train):0.508 \t Loss(val):0.567\n",
      "Time:20.578156 \t Loss(train):0.507 \t Loss(val):0.570\n",
      "Time:21.360348 \t Loss(train):0.502 \t Loss(val):0.568\n",
      "Time:22.222360 \t Loss(train):0.500 \t Loss(val):0.571\n",
      "Time:22.995072 \t Loss(train):0.498 \t Loss(val):0.576\n",
      "Time:23.743793 \t Loss(train):0.497 \t Loss(val):0.579\n",
      "Time:24.455464 \t Loss(train):0.495 \t Loss(val):0.594\n",
      "Time:25.465359 \t Loss(train):0.494 \t Loss(val):0.591\n",
      "Time:26.172745 \t Loss(train):0.492 \t Loss(val):0.585\n",
      "Time:27.173143 \t Loss(train):0.489 \t Loss(val):0.586\n",
      "Time:27.924930 \t Loss(train):0.485 \t Loss(val):0.585\n",
      "Time:28.671405 \t Loss(train):0.482 \t Loss(val):0.588\n",
      "Time:29.406301 \t Loss(train):0.480 \t Loss(val):0.591\n",
      "Time:30.171339 \t Loss(train):0.478 \t Loss(val):0.599\n",
      "Time:30.896798 \t Loss(train):0.475 \t Loss(val):0.598\n",
      "Time:31.645538 \t Loss(train):0.473 \t Loss(val):0.595\n",
      "Time:32.396756 \t Loss(train):0.470 \t Loss(val):0.591\n",
      "Time:33.187132 \t Loss(train):0.467 \t Loss(val):0.587\n",
      "Time:33.933387 \t Loss(train):0.463 \t Loss(val):0.590\n",
      "Time:34.937694 \t Loss(train):0.461 \t Loss(val):0.588\n",
      "Time:35.688713 \t Loss(train):0.460 \t Loss(val):0.590\n",
      "Time:36.424307 \t Loss(train):0.459 \t Loss(val):0.593\n",
      "Time:37.206486 \t Loss(train):0.458 \t Loss(val):0.596\n",
      "Time:37.913711 \t Loss(train):0.457 \t Loss(val):0.595\n",
      "Time:38.678807 \t Loss(train):0.455 \t Loss(val):0.597\n",
      "Time:39.409127 \t Loss(train):0.453 \t Loss(val):0.600\n",
      "Time:40.374715 \t Loss(train):0.453 \t Loss(val):0.603\n",
      "Time:41.114392 \t Loss(train):0.452 \t Loss(val):0.606\n",
      "Time:41.896531 \t Loss(train):0.451 \t Loss(val):0.608\n",
      "Time:42.649750 \t Loss(train):0.451 \t Loss(val):0.610\n",
      "Time:43.417392 \t Loss(train):0.450 \t Loss(val):0.612\n",
      "Time:44.173146 \t Loss(train):0.449 \t Loss(val):0.615\n",
      "Time:44.936956 \t Loss(train):0.448 \t Loss(val):0.620\n",
      "Time:45.701882 \t Loss(train):0.446 \t Loss(val):0.630\n",
      "Time:46.636888 \t Loss(train):0.445 \t Loss(val):0.631\n",
      "Time:47.431866 \t Loss(train):0.444 \t Loss(val):0.629\n",
      "Time:48.124996 \t Loss(train):0.442 \t Loss(val):0.622\n",
      "Time:49.112614 \t Loss(train):0.442 \t Loss(val):0.625\n",
      "Time:49.864263 \t Loss(train):0.440 \t Loss(val):0.623\n",
      "Time:50.558690 \t Loss(train):0.437 \t Loss(val):0.626\n",
      "Time:51.364852 \t Loss(train):0.436 \t Loss(val):0.624\n",
      "Time:52.223894 \t Loss(train):0.435 \t Loss(val):0.640\n",
      "Time:52.993170 \t Loss(train):0.433 \t Loss(val):0.633\n",
      "Time:53.792553 \t Loss(train):0.431 \t Loss(val):0.632\n",
      "Time:54.515205 \t Loss(train):0.431 \t Loss(val):0.635\n",
      "Time:55.312375 \t Loss(train):0.429 \t Loss(val):0.637\n",
      "Time:56.347824 \t Loss(train):0.429 \t Loss(val):0.643\n",
      "Time:57.124418 \t Loss(train):0.428 \t Loss(val):0.646\n",
      "Time:57.872736 \t Loss(train):0.427 \t Loss(val):0.647\n",
      "Time:58.626634 \t Loss(train):0.427 \t Loss(val):0.649\n",
      "Time:59.387827 \t Loss(train):0.425 \t Loss(val):0.652\n",
      "Time:60.166735 \t Loss(train):0.423 \t Loss(val):0.658\n",
      "Time:60.889432 \t Loss(train):0.422 \t Loss(val):0.668\n",
      "Time:61.670681 \t Loss(train):0.420 \t Loss(val):0.668\n",
      "Time:62.429278 \t Loss(train):0.419 \t Loss(val):0.662\n",
      "Time:63.176230 \t Loss(train):0.419 \t Loss(val):0.661\n",
      "Time:63.914210 \t Loss(train):0.418 \t Loss(val):0.662\n",
      "Time:64.652253 \t Loss(train):0.417 \t Loss(val):0.664\n",
      "Time:65.452081 \t Loss(train):0.416 \t Loss(val):0.668\n",
      "Time:66.422709 \t Loss(train):0.415 \t Loss(val):0.672\n",
      "Time:67.405775 \t Loss(train):0.413 \t Loss(val):0.676\n",
      "Time:68.218335 \t Loss(train):0.412 \t Loss(val):0.677\n",
      "Time:69.050249 \t Loss(train):0.412 \t Loss(val):0.677\n",
      "Time:69.796618 \t Loss(train):0.412 \t Loss(val):0.677\n",
      "Time:70.638604 \t Loss(train):0.411 \t Loss(val):0.674\n",
      "Time:71.410399 \t Loss(train):0.410 \t Loss(val):0.675\n",
      "Time:72.269467 \t Loss(train):0.410 \t Loss(val):0.675\n",
      "Time:73.041411 \t Loss(train):0.409 \t Loss(val):0.675\n",
      "Time:73.850505 \t Loss(train):0.409 \t Loss(val):0.675\n",
      "Time:74.606653 \t Loss(train):0.408 \t Loss(val):0.676\n",
      "Time:75.426831 \t Loss(train):0.407 \t Loss(val):0.675\n",
      "Time:76.420178 \t Loss(train):0.407 \t Loss(val):0.675\n",
      "Time:77.458704 \t Loss(train):0.406 \t Loss(val):0.676\n",
      "Time:78.346561 \t Loss(train):0.405 \t Loss(val):0.682\n",
      "Time:79.122211 \t Loss(train):0.404 \t Loss(val):0.680\n",
      "Time:79.990247 \t Loss(train):0.404 \t Loss(val):0.679\n"
     ]
    }
   ],
   "source": [
    "loss_train_history = []  #to save the loss trajectory\n",
    "loss_val_history = []  #to save the loss trajectory\n",
    "acc_train_list = []\n",
    "acc_val_list = []\n",
    "time_history = []  #to save the compute time\n",
    "\n",
    "beta = onp.copy(beta_init)\n",
    "\n",
    "def save_traj(beta):\n",
    "    \"\"\" a function that saves a few statistics for later analysis\"\"\"\n",
    "    loss_train = loss(beta, data_train, y_train)\n",
    "    loss_val = loss(beta, data_val, y_val)\n",
    "    timing = time.time() - start\n",
    "    print(\"Time:{0:3f} \\t Loss(train):{1:.3f} \\t Loss(val):{2:.3f}\".format(timing, loss_train, loss_val))\n",
    "    time_history.append(timing)\n",
    "    loss_train_history.append(loss_train)\n",
    "    loss_val_history.append(loss_val)\n",
    "    \n",
    "    accuracy_train = accuracy(beta, data_train, y_train)\n",
    "    accuracy_val = accuracy(beta, data_val, y_val) \n",
    "    \n",
    "    acc_train_list.append(accuracy_train)\n",
    "    acc_val_list.append(accuracy_val)\n",
    "\n",
    "#run LBFGS\n",
    "start = time.time()\n",
    "traj = scipy.optimize.minimize(fun = loss_wrapper, #functino to minimize\n",
    "                                x0 = onp.array(beta_init), #initial guess\n",
    "                                method='L-BFGS-B',  #we want to use L-BFGS\n",
    "                                jac=gradient_wrapper, #function that computes the gradient\n",
    "                                callback=save_traj, #a function used to save some results for later pltting\n",
    "                                options={\"maxiter\":100})  #maximum number of iteration"
   ]
  },
  {
   "cell_type": "code",
   "execution_count": 135,
   "metadata": {
    "scrolled": true
   },
   "outputs": [
    {
     "data": {
      "text/plain": [
       "Text(0.5, 1.0, 'L-BFGS')"
      ]
     },
     "execution_count": 135,
     "metadata": {},
     "output_type": "execute_result"
    },
    {
     "data": {
      "image/png": "[encoded data removed]",
      "text/plain": [
       "<Figure size 432x288 with 1 Axes>"
      ]
     },
     "metadata": {
      "needs_background": "light"
     },
     "output_type": "display_data"
    }
   ],
   "source": [
    "plt.plot(loss_train_history, label=\"loss(train)\")\n",
    "plt.plot(loss_val_history, label=\"loss(val)\")\n",
    "plt.legend()\n",
    "plt.grid(True)\n",
    "plt.xlabel(\"iteration\")\n",
    "plt.title(\"L-BFGS\")"
   ]
  },
  {
   "cell_type": "code",
   "execution_count": 138,
   "metadata": {},
   "outputs": [
    {
     "data": {
      "text/plain": [
       "Text(0.5, 1.0, 'L-BFGS')"
      ]
     },
     "execution_count": 138,
     "metadata": {},
     "output_type": "execute_result"
    },
    {
     "data": {
      "image/png": "[encoded data removed]",
      "text/plain": [
       "<Figure size 432x288 with 1 Axes>"
      ]
     },
     "metadata": {
      "needs_background": "light"
     },
     "output_type": "display_data"
    }
   ],
   "source": [
    "plt.plot(acc_train_list, label=\"acc(train)\")\n",
    "plt.plot(acc_val_list, label=\"acc(val)\")\n",
    "plt.legend()\n",
    "plt.grid(True)\n",
    "plt.xlabel(\"iteration\")\n",
    "plt.title(\"L-BFGS\")"
   ]
  },
  {
   "cell_type": "markdown",
   "metadata": {},
   "source": [
    "## Stochastic Gradient Descent + Momentum"
   ]
  },
  {
   "cell_type": "code",
   "execution_count": 143,
   "metadata": {},
   "outputs": [
    {
     "name": "stdout",
     "output_type": "stream",
     "text": [
      "epoch:0 \t time:1 \t Loss(train):0.651 \t Loss(val):0.654\n",
      "epoch:1 \t time:1 \t Loss(train):0.595 \t Loss(val):0.618\n",
      "epoch:2 \t time:2 \t Loss(train):0.563 \t Loss(val):0.584\n",
      "epoch:3 \t time:3 \t Loss(train):0.551 \t Loss(val):0.578\n",
      "epoch:4 \t time:4 \t Loss(train):0.539 \t Loss(val):0.570\n",
      "epoch:5 \t time:4 \t Loss(train):0.531 \t Loss(val):0.567\n",
      "epoch:6 \t time:5 \t Loss(train):0.525 \t Loss(val):0.564\n",
      "epoch:7 \t time:6 \t Loss(train):0.520 \t Loss(val):0.563\n",
      "epoch:8 \t time:6 \t Loss(train):0.516 \t Loss(val):0.562\n",
      "epoch:9 \t time:7 \t Loss(train):0.513 \t Loss(val):0.562\n",
      "epoch:10 \t time:8 \t Loss(train):0.511 \t Loss(val):0.561\n",
      "epoch:11 \t time:8 \t Loss(train):0.508 \t Loss(val):0.560\n",
      "epoch:12 \t time:9 \t Loss(train):0.507 \t Loss(val):0.559\n",
      "epoch:13 \t time:10 \t Loss(train):0.507 \t Loss(val):0.561\n",
      "epoch:14 \t time:11 \t Loss(train):0.508 \t Loss(val):0.563\n",
      "epoch:15 \t time:11 \t Loss(train):0.507 \t Loss(val):0.563\n",
      "epoch:16 \t time:12 \t Loss(train):0.505 \t Loss(val):0.563\n",
      "epoch:17 \t time:13 \t Loss(train):0.504 \t Loss(val):0.563\n",
      "epoch:18 \t time:14 \t Loss(train):0.502 \t Loss(val):0.563\n",
      "epoch:19 \t time:15 \t Loss(train):0.501 \t Loss(val):0.563\n",
      "epoch:20 \t time:15 \t Loss(train):0.513 \t Loss(val):0.578\n",
      "epoch:21 \t time:16 \t Loss(train):0.540 \t Loss(val):0.606\n",
      "epoch:22 \t time:17 \t Loss(train):0.547 \t Loss(val):0.614\n",
      "epoch:23 \t time:18 \t Loss(train):0.543 \t Loss(val):0.611\n",
      "epoch:24 \t time:19 \t Loss(train):0.535 \t Loss(val):0.605\n",
      "epoch:25 \t time:20 \t Loss(train):0.528 \t Loss(val):0.598\n",
      "epoch:26 \t time:20 \t Loss(train):0.521 \t Loss(val):0.591\n",
      "epoch:27 \t time:21 \t Loss(train):0.515 \t Loss(val):0.585\n",
      "epoch:28 \t time:22 \t Loss(train):0.509 \t Loss(val):0.580\n",
      "epoch:29 \t time:23 \t Loss(train):0.505 \t Loss(val):0.576\n",
      "epoch:30 \t time:23 \t Loss(train):0.499 \t Loss(val):0.568\n",
      "epoch:31 \t time:24 \t Loss(train):0.495 \t Loss(val):0.564\n",
      "epoch:32 \t time:25 \t Loss(train):0.492 \t Loss(val):0.562\n",
      "epoch:33 \t time:25 \t Loss(train):0.494 \t Loss(val):0.564\n",
      "epoch:34 \t time:26 \t Loss(train):0.492 \t Loss(val):0.562\n",
      "epoch:35 \t time:27 \t Loss(train):0.493 \t Loss(val):0.563\n",
      "epoch:36 \t time:27 \t Loss(train):0.492 \t Loss(val):0.562\n",
      "epoch:37 \t time:28 \t Loss(train):0.492 \t Loss(val):0.562\n",
      "epoch:38 \t time:29 \t Loss(train):0.491 \t Loss(val):0.562\n",
      "epoch:39 \t time:29 \t Loss(train):0.491 \t Loss(val):0.562\n",
      "epoch:40 \t time:30 \t Loss(train):0.494 \t Loss(val):0.565\n",
      "epoch:41 \t time:31 \t Loss(train):0.495 \t Loss(val):0.566\n",
      "epoch:42 \t time:32 \t Loss(train):0.496 \t Loss(val):0.567\n",
      "epoch:43 \t time:32 \t Loss(train):0.496 \t Loss(val):0.568\n",
      "epoch:44 \t time:33 \t Loss(train):0.496 \t Loss(val):0.568\n",
      "epoch:45 \t time:34 \t Loss(train):0.496 \t Loss(val):0.568\n",
      "epoch:46 \t time:35 \t Loss(train):0.496 \t Loss(val):0.568\n",
      "epoch:47 \t time:36 \t Loss(train):0.496 \t Loss(val):0.568\n",
      "epoch:48 \t time:36 \t Loss(train):0.496 \t Loss(val):0.568\n",
      "epoch:49 \t time:37 \t Loss(train):0.496 \t Loss(val):0.568\n"
     ]
    }
   ],
   "source": [
    "n_epoch = 50\n",
    "batch_size=100  #size of the mini-batch\n",
    "beta = onp.copy(beta_init)\n",
    "mov_avg_param = 0.95\n",
    "\n",
    "learning_rate = 0.1\n",
    "loss_train_history = []\n",
    "loss_val_history = []\n",
    "\n",
    "acc_train_list = []  #computed at the end of each epoch\n",
    "acc_val_list = []    #computed at the end of each epoch\n",
    "\n",
    "#initialize the gradient\n",
    "gradient = grad_loss(beta, data_train, y_train)\n",
    "\n",
    "start = time.time()\n",
    "for epoch in range(n_epoch):\n",
    "    #let us divide the learning by 2 every 10 epoch\n",
    "    if epoch % 10 == 0 and epoch >= 1:\n",
    "        learning_rate = learning_rate/2.\n",
    "        \n",
    "    for k in range(ntrain_img // batch_size):  #number of batch per epoch\n",
    "\n",
    "        #first option\n",
    "        #============\n",
    "        #select at random \"batch_size\" random data point\n",
    "        #index_ = onp.random.choice(train_data_size, batch_size, replace=False)\n",
    "\n",
    "        #second option\n",
    "        #============\n",
    "        #consider the batches sequentially\n",
    "        index_ = onp.arange(k*batch_size, (k+1)*batch_size) % ntrain_img\n",
    "        gradient_local = grad_loss(beta, data_train[index_], y_train[index_])\n",
    "\n",
    "        #moving average of the gradient\n",
    "        gradient = gradient*mov_avg_param + (1-mov_avg_param)*gradient_local\n",
    "\n",
    "        #gradient descent update\n",
    "        beta = beta - learning_rate * gradient\n",
    "    \n",
    "    accuracy_train = accuracy(beta, data_train, y_train)\n",
    "    accuracy_val = accuracy(beta, data_val, y_val) \n",
    "    acc_train_list.append(accuracy_train)\n",
    "    acc_val_list.append(accuracy_val)\n",
    "    \n",
    "    loss_train = loss(beta, data_train, y_train)\n",
    "    loss_val = loss(beta, data_val, y_val)\n",
    "    loss_train_history.append(loss_train)\n",
    "    loss_val_history.append(loss_val)\n",
    "    \n",
    "    timing = time.time() - start\n",
    "    print(\"epoch:{0:.0f} \\t time:{1:.0f} \\t Loss(train):{2:.3f} \\t Loss(val):{3:.3f}\".format(epoch, \n",
    "                                                                                                  timing, \n",
    "                                                                                                  loss_train, \n",
    "                                                                                                  loss_val))"
   ]
  },
  {
   "cell_type": "code",
   "execution_count": 144,
   "metadata": {},
   "outputs": [
    {
     "data": {
      "text/plain": [
       "Text(0.5, 1.0, 'Stochastic Gradient Descent')"
      ]
     },
     "execution_count": 144,
     "metadata": {},
     "output_type": "execute_result"
    },
    {
     "data": {
      "image/png": "[encoded data removed]",
      "text/plain": [
       "<Figure size 432x288 with 1 Axes>"
      ]
     },
     "metadata": {
      "needs_background": "light"
     },
     "output_type": "display_data"
    }
   ],
   "source": [
    "plt.plot(loss_train_history, label=\"loss(train)\")\n",
    "plt.plot(loss_val_history, label=\"loss(val)\")\n",
    "plt.legend()\n",
    "plt.grid(True)\n",
    "plt.xlabel(\"epoch\")\n",
    "plt.title(\"Stochastic Gradient Descent\")"
   ]
  },
  {
   "cell_type": "code",
   "execution_count": 146,
   "metadata": {},
   "outputs": [
    {
     "data": {
      "text/plain": [
       "Text(0.5, 1.0, 'Stochastic Gradient Descent')"
      ]
     },
     "execution_count": 146,
     "metadata": {},
     "output_type": "execute_result"
    },
    {
     "data": {
      "image/png": "[encoded data removed]",
      "text/plain": [
       "<Figure size 432x288 with 1 Axes>"
      ]
     },
     "metadata": {
      "needs_background": "light"
     },
     "output_type": "display_data"
    }
   ],
   "source": [
    "plt.plot(acc_train_list, label=\"acc(train)\")\n",
    "plt.plot(acc_val_list, label=\"acc(val)\")\n",
    "plt.legend()\n",
    "plt.grid(True)\n",
    "plt.xlabel(\"epoch\")\n",
    "plt.title(\"Stochastic Gradient Descent\")"
   ]
  }
 ],
 "metadata": {
  "kernelspec": {
   "display_name": "Python 3",
   "language": "python",
   "name": "python3"
  },
  "language_info": {
   "codemirror_mode": {
    "name": "ipython",
    "version": 3
   },
   "file_extension": ".py",
   "mimetype": "text/x-python",
   "name": "python",
   "nbconvert_exporter": "python",
   "pygments_lexer": "ipython3",
   "version": "3.7.6"
  }
 },
 "nbformat": 4,
 "nbformat_minor": 4
}

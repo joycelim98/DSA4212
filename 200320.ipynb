{
 "cells": [
  {
   "cell_type": "code",
   "execution_count": null,
   "metadata": {},
   "outputs": [],
   "source": [
    "%matplotlib inline\n",
    "from jax.config import config\n",
    "config.update(\"jax_enable_x64\", True) \n",
    "\n",
    "import jax\n",
    "import jax.numpy as np\n",
    "\n",
    "import pylab as plt\n",
    "import imageio\n",
    "import os\n",
    "import numpy as onp\n",
    "from skimage.transform import rescale, resize, downscale_local_mean\n",
    "import pandas as pd\n",
    "import time\n",
    "import scipy"
   ]
  },
  {
   "cell_type": "markdown",
   "metadata": {},
   "source": [
    "# Data Pre-Processing"
   ]
  },
  {
   "cell_type": "code",
   "execution_count": null,
   "metadata": {},
   "outputs": [],
   "source": [
    "#load attributes csv file\n",
    "attribute = pd.read_csv(\"celeba.csv\")\n",
    "\n",
    "#\"attribute\" is a dictionary containing several attributes for each image\n",
    "#attribute.keys()"
   ]
  },
  {
   "cell_type": "code",
   "execution_count": null,
   "metadata": {},
   "outputs": [],
   "source": [
    "#let us list all the files in the image directory\n",
    "path = \"img_celeba_small\"\n",
    "all_img = [f for f in os.listdir(path) \n",
    "                 if os.path.isfile(os.path.join(path, f)) \n",
    "                 and f.endswith(\".jpg\")]\n",
    "nb_img = len(all_img)\n",
    "print(\"Number of images:\", nb_img)\n",
    "\n",
    "#let us keep only the relevant rows in attributes\n",
    "attribute = attribute[:20000]"
   ]
  },
  {
   "cell_type": "markdown",
   "metadata": {},
   "source": [
    "## Creating training and validation datasets"
   ]
  },
  {
   "cell_type": "code",
   "execution_count": null,
   "metadata": {
    "scrolled": true
   },
   "outputs": [],
   "source": [
    "# select first 15000 rows for training dataset\n",
    "train = attribute[:15000]\n",
    "train = train['Young']\n",
    "\n",
    "# select last 5000 rows for test dataset\n",
    "test = attribute[15000:20000]\n",
    "test = test['Young']"
   ]
  },
  {
   "cell_type": "code",
   "execution_count": null,
   "metadata": {},
   "outputs": [],
   "source": [
    "is_Young = train==1\n",
    "is_Old = train==-1\n",
    "\n",
    "# subset training set by young/old\n",
    "train_y = train[is_Young] \n",
    "train_o = train[is_Old]\n",
    "\n",
    "# select indices for prelim training set\n",
    "onp.random.seed(0)\n",
    "y_pindex = onp.random.choice(len(train_y), 2000, replace=False)\n",
    "o_pindex = onp.random.choice(len(train_o), 2000, replace=False)"
   ]
  },
  {
   "cell_type": "code",
   "execution_count": null,
   "metadata": {},
   "outputs": [],
   "source": [
    "# select prelim training & validation data\n",
    "ptrain_y = train_y.iloc[y_pindex[:1500]] # need to test if this works\n",
    "pval_y = train_y.iloc[y_pindex[1500:]]\n",
    "\n",
    "ptrain_o = train_o.iloc[o_pindex[:1500]]\n",
    "pval_o = train_o.iloc[o_pindex[1500:]]\n",
    "\n",
    "# collate prelim training data (3k obs, 1.5k each class)\n",
    "ptrain = ptrain_y.append(ptrain_o)\n",
    "ptrain = ptrain.sort_index()\n",
    "\n",
    "# collate prelim test data (1k obs, .5k each class)\n",
    "pval = pval_y.append(pval_o)\n",
    "pval = pval.sort_index()"
   ]
  },
  {
   "cell_type": "markdown",
   "metadata": {},
   "source": [
    "## Loading images"
   ]
  },
  {
   "cell_type": "markdown",
   "metadata": {},
   "source": [
    "The images were loaded in grayscale with an initial size of 100 by 100 pixels. The pixel intensity was then rescaled to [0,1]. To remove parts of the image irrelevant to a person's age (outside of the face), the images were cropped to only include the range [25:85, 20:80]. The final images used for analysis are 60 by 60 pixels."
   ]
  },
  {
   "cell_type": "code",
   "execution_count": null,
   "metadata": {},
   "outputs": [],
   "source": [
    "res = 100\n",
    "#crop_dim = [25:85,20:80]\n",
    "\n",
    "# load the images from the prelim training set\n",
    "ntrain_img = len(ptrain)\n",
    "ptrain_ind = ptrain.index.values\n",
    "ptrain_img = onp.zeros((ntrain_img,60,60))\n",
    "\n",
    "for k in range(ntrain_img):\n",
    "    im = imageio.imread(os.path.join(path, all_img[ptrain_ind[k]])).astype(float)\n",
    "    im = resize(im, (res,res))\n",
    "    im = onp.mean(im, axis=2)\n",
    "    im = im/255.\n",
    "    im = im[25:85,20:80]\n",
    "    ptrain_img[k,:,:] = im\n",
    "    \n",
    "# load the images from the prelim validation set\n",
    "nval_img = len(pval)\n",
    "pval_ind = pval.index.values\n",
    "pval_img = onp.zeros((nval_img,60,60))\n",
    "\n",
    "for k in range(nval_img):\n",
    "    im = imageio.imread(os.path.join(path, all_img[pval_ind[k]])).astype(float)\n",
    "    im = resize(im, (res,res))\n",
    "    im = onp.mean(im, axis=2)\n",
    "    im = im/255.\n",
    "    im = im[25:85,20:80]\n",
    "    pval_img[k,:,:] = im"
   ]
  },
  {
   "cell_type": "code",
   "execution_count": null,
   "metadata": {},
   "outputs": [],
   "source": [
    "ptrain_img.size"
   ]
  },
  {
   "cell_type": "code",
   "execution_count": null,
   "metadata": {},
   "outputs": [],
   "source": [
    "# test if the subsetting was successful\n",
    "plt.figure(figsize=(10,2))\n",
    "for k in range(20):\n",
    "    im = ptrain_img[k]\n",
    "    plt.subplot(2,10,k+1)\n",
    "    plt.imshow(im/255., cmap='gray')\n",
    "    plt.axis(\"off\")\n",
    "    \n",
    "    is_Young = ptrain.iloc[k]\n",
    "    if is_Young == 1:\n",
    "        plt.title(\"Young\")\n",
    "    else:\n",
    "        plt.title(\"Old\")"
   ]
  },
  {
   "cell_type": "code",
   "execution_count": null,
   "metadata": {},
   "outputs": [],
   "source": [
    "# test if the subsetting was successful\n",
    "plt.figure(figsize=(10,2))\n",
    "for k in range(20):\n",
    "    im = pval_img[k]\n",
    "    plt.subplot(2,10,k+1)\n",
    "    plt.imshow(im/255., cmap='gray')\n",
    "    plt.axis(\"off\")\n",
    "    \n",
    "    is_Young = pval.iloc[k]\n",
    "    if is_Young == 1:\n",
    "        plt.title(\"Young\")\n",
    "    else:\n",
    "        plt.title(\"Old\")"
   ]
  },
  {
   "cell_type": "markdown",
   "metadata": {},
   "source": [
    "`ptrain` is a 1x3000 array with the indicator values {-1, 1} for old and young. `ptrain_img` is a 3000 x 60 x 60 array that contains the relevant images for the preliminary training data. \n",
    "\n",
    "`ptest` is a 1x3000 array with the indicator values {-1, 1} for old and young. `ptest_img`is a 1000 x 60 x 60 array that contains the relevant images for the preliminary validation data. "
   ]
  },
  {
   "cell_type": "code",
   "execution_count": null,
   "metadata": {},
   "outputs": [],
   "source": [
    "data_train = ptrain_img.reshape(3000, 60*60)\n",
    "y_train = ptrain.to_numpy(copy=True)\n",
    "\n",
    "data_val = pval_img.reshape(1000, 60*60)\n",
    "y_val = pval.to_numpy(copy=True)"
   ]
  },
  {
   "cell_type": "markdown",
   "metadata": {},
   "source": [
    "# Optimisation"
   ]
  },
  {
   "cell_type": "markdown",
   "metadata": {},
   "source": [
    "Logistic regression loss function with penalty: (penalty term not included for now)\n",
    "$$ \\frac{1}{N} \\, \\sum_{i=1}^N \\log(1 + \\exp(-y_i \\, \\langle \\beta, x_i \\rangle)) + \\frac{1}{N} \\| \\beta \\|^2$$\n",
    "\n",
    "Logistic probability:\n",
    "$$P(y=1 | x) = \\frac{1}{1 + \\exp(- \\langle \\beta, x \\rangle)}$$"
   ]
  },
  {
   "cell_type": "code",
   "execution_count": 158,
   "metadata": {},
   "outputs": [],
   "source": [
    "def prediction_single(beta, x):\n",
    "    \"\"\" beta is a vector of dimension 10000, and x as well \"\"\"\n",
    "    proba = 1. / (1. + np.exp(-np.dot(beta, x)))\n",
    "    return proba\n",
    "\n",
    "#make a prediction on a whole dataset\n",
    "prediction_data = jax.vmap(prediction_single, in_axes=(None,0))\n",
    "\n",
    "def loss_single(beta,x,y):\n",
    "    \"\"\"\n",
    "    beta: vector of dimension 100*100\n",
    "    x: vector of dimension 100*100\n",
    "    y: a number that equals -1 or 1\n",
    "    \"\"\"\n",
    "    return np.log(1. + np.exp(-y * np.dot(beta, x)))\n",
    "\n",
    "#compute the loss on. whole dataset\n",
    "loss_dataset = jax.vmap(loss_single, in_axes=(None,0,0))\n",
    "\n",
    "def loss(beta, data, y):\n",
    "    \"\"\" compute the mean of all the individual losses \"\"\"\n",
    "    list_of_all_losses = loss_dataset(beta, data, y)\n",
    "    return np.mean(list_of_all_losses) #+ np.mean(abs(beta))\n",
    "\n",
    "grad_loss = jax.jit(jax.grad(loss))\n",
    "\n",
    "def accuracy(beta, data, y):\n",
    "    pred = prediction_data(beta, data)\n",
    "    threshold = 0.5\n",
    "    prediction_binary = (pred > 0.5).astype(int)  #equals 1 if pred > threshold and 0 otherwise\n",
    "    prediction_sign = 2*(prediction_binary - 0.5) #equals 1 if pred > threshold and -1 otherwise\n",
    "    return np.mean(prediction_sign == y)"
   ]
  },
  {
   "cell_type": "code",
   "execution_count": 159,
   "metadata": {},
   "outputs": [],
   "source": [
    "D = 60*60\n",
    "beta_init = onp.random.normal(0., scale = 1./onp.sqrt(D), size=D)"
   ]
  },
  {
   "cell_type": "markdown",
   "metadata": {},
   "source": [
    "## Gradient Descent"
   ]
  },
  {
   "cell_type": "code",
   "execution_count": null,
   "metadata": {},
   "outputs": [],
   "source": [
    "n_iter = 500\n",
    "learning_rate = 0.01\n",
    "loss_history = []\n",
    "acc_train_list = []\n",
    "acc_val_list = []\n",
    "\n",
    "beta = onp.copy(beta_init)\n",
    "\n",
    "for k in range(n_iter):\n",
    "    gradient = grad_loss(beta, data_train, y_train)\n",
    "    beta = beta - learning_rate * gradient\n",
    "    current_loss = loss(beta, data_train, y_train)\n",
    "    \n",
    "    accuracy_train = accuracy(beta, data_train, y_train)\n",
    "    accuracy_val = accuracy(beta, data_val, y_val) \n",
    "    \n",
    "    acc_train_list.append(accuracy_train)\n",
    "    acc_val_list.append(accuracy_val)\n",
    "    if k % 50 == 0:\n",
    "        print(\"Loss:{0:.3f} \\t Accuracy: {1:.3f}% / {2:.3f}%\".format(current_loss, \\\n",
    "                                             100*accuracy_train,\\\n",
    "                                             100*accuracy_val))\n",
    "    loss_history.append(current_loss)"
   ]
  },
  {
   "cell_type": "markdown",
   "metadata": {},
   "source": [
    "## L-BFGS"
   ]
  },
  {
   "cell_type": "code",
   "execution_count": 160,
   "metadata": {},
   "outputs": [],
   "source": [
    "def loss_wrapper(beta):\n",
    "    \"\"\" only one argument \"\"\"\n",
    "    return loss(beta, data_train, y_train)\n",
    "\n",
    "grad_loss_wrapper = jax.jit(jax.grad(loss_wrapper))    \n",
    "\n",
    "def gradient_wrapper(beta):\n",
    "    \"\"\"output is a numpy array\"\"\"\n",
    "    return onp.array(grad_loss_wrapper(beta))"
   ]
  },
  {
   "cell_type": "code",
   "execution_count": 161,
   "metadata": {},
   "outputs": [],
   "source": [
    "loss_train_history = []  #to save the loss trajectory\n",
    "loss_val_history = []  #to save the loss trajectory\n",
    "acc_train_list = []\n",
    "acc_val_list = []\n",
    "time_history = []  #to save the compute time\n",
    "\n",
    "beta = onp.copy(beta_init)\n",
    "\n",
    "def save_traj(beta):\n",
    "    \"\"\" a function that saves a few statistics for later analysis\"\"\"\n",
    "    loss_train = loss(beta, data_train, y_train)\n",
    "    loss_val = loss(beta, data_val, y_val)\n",
    "    timing = time.time() - start\n",
    "    #print(\"Time:{0:3f} \\t Loss(train):{1:.3f} \\t Loss(val):{2:.3f}\".format(timing, loss_train, loss_val))\n",
    "    time_history.append(timing)\n",
    "    loss_train_history.append(loss_train)\n",
    "    loss_val_history.append(loss_val)\n",
    "    \n",
    "    accuracy_train = accuracy(beta, data_train, y_train)\n",
    "    accuracy_val = accuracy(beta, data_val, y_val) \n",
    "    \n",
    "    acc_train_list.append(accuracy_train)\n",
    "    acc_val_list.append(accuracy_val)\n",
    "\n",
    "#run LBFGS\n",
    "start = time.time()\n",
    "traj = scipy.optimize.minimize(fun = loss_wrapper, #functino to minimize\n",
    "                                x0 = onp.array(beta_init), #initial guess\n",
    "                                method='L-BFGS-B',  #we want to use L-BFGS\n",
    "                                jac=gradient_wrapper, #function that computes the gradient\n",
    "                                callback=save_traj, #a function used to save some results for later pltting\n",
    "                                options={\"maxiter\":100})  #maximum number of iteration"
   ]
  },
  {
   "cell_type": "code",
   "execution_count": 162,
   "metadata": {
    "scrolled": true
   },
   "outputs": [
    {
     "data": {
      "text/plain": [
       "Text(0.5, 1.0, 'L-BFGS')"
      ]
     },
     "execution_count": 162,
     "metadata": {},
     "output_type": "execute_result"
    },
    {
     "data": {
      "image/png": "[encoded data removed]",
      "text/plain": [
       "<Figure size 432x288 with 1 Axes>"
      ]
     },
     "metadata": {
      "needs_background": "light"
     },
     "output_type": "display_data"
    }
   ],
   "source": [
    "plt.plot(loss_train_history, label=\"loss(train)\")\n",
    "plt.plot(loss_val_history, label=\"loss(val)\")\n",
    "plt.legend()\n",
    "plt.grid(True)\n",
    "plt.xlabel(\"iteration\")\n",
    "plt.title(\"L-BFGS\")"
   ]
  },
  {
   "cell_type": "code",
   "execution_count": 157,
   "metadata": {},
   "outputs": [
    {
     "data": {
      "text/plain": [
       "Text(0.5, 1.0, 'L-BFGS')"
      ]
     },
     "execution_count": 157,
     "metadata": {},
     "output_type": "execute_result"
    },
    {
     "data": {
      "image/png": "[encoded data removed]",
      "text/plain": [
       "<Figure size 432x288 with 1 Axes>"
      ]
     },
     "metadata": {
      "needs_background": "light"
     },
     "output_type": "display_data"
    }
   ],
   "source": [
    "plt.plot(acc_train_list, label=\"acc(train)\")\n",
    "plt.plot(acc_val_list, label=\"acc(val)\")\n",
    "plt.legend()\n",
    "plt.grid(True)\n",
    "plt.xlabel(\"iteration\")\n",
    "plt.title(\"L-BFGS\")"
   ]
  },
  {
   "cell_type": "markdown",
   "metadata": {},
   "source": [
    "## Stochastic Gradient Descent + Momentum"
   ]
  },
  {
   "cell_type": "code",
   "execution_count": 171,
   "metadata": {},
   "outputs": [
    {
     "name": "stdout",
     "output_type": "stream",
     "text": [
      "epoch:0 \t time:1 \t Loss(train):9.847 \t Loss(val):9.889\n",
      "epoch:1 \t time:1 \t Loss(train):8.144 \t Loss(val):8.149\n",
      "epoch:2 \t time:2 \t Loss(train):7.801 \t Loss(val):7.759\n",
      "epoch:3 \t time:3 \t Loss(train):7.778 \t Loss(val):7.711\n",
      "epoch:4 \t time:4 \t Loss(train):7.662 \t Loss(val):7.583\n",
      "epoch:5 \t time:5 \t Loss(train):7.512 \t Loss(val):7.430\n",
      "epoch:6 \t time:6 \t Loss(train):7.391 \t Loss(val):7.310\n",
      "epoch:7 \t time:7 \t Loss(train):7.287 \t Loss(val):7.211\n",
      "epoch:8 \t time:7 \t Loss(train):7.193 \t Loss(val):7.122\n",
      "epoch:9 \t time:8 \t Loss(train):7.114 \t Loss(val):7.049\n",
      "epoch:10 \t time:9 \t Loss(train):2.462 \t Loss(val):2.603\n",
      "epoch:11 \t time:10 \t Loss(train):3.398 \t Loss(val):3.524\n",
      "epoch:12 \t time:10 \t Loss(train):3.850 \t Loss(val):3.976\n",
      "epoch:13 \t time:11 \t Loss(train):3.882 \t Loss(val):4.009\n",
      "epoch:14 \t time:12 \t Loss(train):3.869 \t Loss(val):3.999\n",
      "epoch:15 \t time:13 \t Loss(train):3.856 \t Loss(val):3.990\n",
      "epoch:16 \t time:14 \t Loss(train):3.842 \t Loss(val):3.979\n",
      "epoch:17 \t time:14 \t Loss(train):3.826 \t Loss(val):3.968\n",
      "epoch:18 \t time:15 \t Loss(train):3.810 \t Loss(val):3.956\n",
      "epoch:19 \t time:16 \t Loss(train):3.793 \t Loss(val):3.943\n",
      "epoch:20 \t time:17 \t Loss(train):0.968 \t Loss(val):1.072\n",
      "epoch:21 \t time:17 \t Loss(train):0.951 \t Loss(val):1.055\n",
      "epoch:22 \t time:18 \t Loss(train):0.957 \t Loss(val):1.059\n",
      "epoch:23 \t time:19 \t Loss(train):0.967 \t Loss(val):1.068\n",
      "epoch:24 \t time:20 \t Loss(train):0.977 \t Loss(val):1.077\n",
      "epoch:25 \t time:21 \t Loss(train):0.987 \t Loss(val):1.085\n",
      "epoch:26 \t time:22 \t Loss(train):0.997 \t Loss(val):1.095\n",
      "epoch:27 \t time:23 \t Loss(train):1.009 \t Loss(val):1.106\n",
      "epoch:28 \t time:23 \t Loss(train):1.023 \t Loss(val):1.121\n",
      "epoch:29 \t time:24 \t Loss(train):1.040 \t Loss(val):1.138\n",
      "epoch:30 \t time:25 \t Loss(train):0.664 \t Loss(val):0.755\n",
      "epoch:31 \t time:26 \t Loss(train):0.656 \t Loss(val):0.748\n",
      "epoch:32 \t time:26 \t Loss(train):0.649 \t Loss(val):0.740\n",
      "epoch:33 \t time:27 \t Loss(train):0.642 \t Loss(val):0.734\n",
      "epoch:34 \t time:28 \t Loss(train):0.635 \t Loss(val):0.727\n",
      "epoch:35 \t time:29 \t Loss(train):0.629 \t Loss(val):0.721\n",
      "epoch:36 \t time:29 \t Loss(train):0.623 \t Loss(val):0.715\n",
      "epoch:37 \t time:30 \t Loss(train):0.617 \t Loss(val):0.710\n",
      "epoch:38 \t time:31 \t Loss(train):0.612 \t Loss(val):0.704\n",
      "epoch:39 \t time:32 \t Loss(train):0.607 \t Loss(val):0.700\n",
      "epoch:40 \t time:32 \t Loss(train):0.588 \t Loss(val):0.680\n",
      "epoch:41 \t time:33 \t Loss(train):0.586 \t Loss(val):0.677\n",
      "epoch:42 \t time:34 \t Loss(train):0.583 \t Loss(val):0.675\n",
      "epoch:43 \t time:35 \t Loss(train):0.581 \t Loss(val):0.673\n",
      "epoch:44 \t time:36 \t Loss(train):0.578 \t Loss(val):0.670\n",
      "epoch:45 \t time:36 \t Loss(train):0.576 \t Loss(val):0.668\n",
      "epoch:46 \t time:37 \t Loss(train):0.574 \t Loss(val):0.666\n",
      "epoch:47 \t time:38 \t Loss(train):0.572 \t Loss(val):0.664\n",
      "epoch:48 \t time:38 \t Loss(train):0.569 \t Loss(val):0.662\n",
      "epoch:49 \t time:39 \t Loss(train):0.567 \t Loss(val):0.660\n",
      "epoch:50 \t time:40 \t Loss(train):0.562 \t Loss(val):0.654\n",
      "epoch:51 \t time:40 \t Loss(train):0.561 \t Loss(val):0.653\n",
      "epoch:52 \t time:41 \t Loss(train):0.560 \t Loss(val):0.652\n",
      "epoch:53 \t time:42 \t Loss(train):0.559 \t Loss(val):0.651\n",
      "epoch:54 \t time:43 \t Loss(train):0.558 \t Loss(val):0.650\n",
      "epoch:55 \t time:43 \t Loss(train):0.557 \t Loss(val):0.649\n",
      "epoch:56 \t time:44 \t Loss(train):0.556 \t Loss(val):0.649\n",
      "epoch:57 \t time:45 \t Loss(train):0.555 \t Loss(val):0.648\n",
      "epoch:58 \t time:46 \t Loss(train):0.554 \t Loss(val):0.647\n",
      "epoch:59 \t time:46 \t Loss(train):0.553 \t Loss(val):0.646\n",
      "epoch:60 \t time:47 \t Loss(train):0.552 \t Loss(val):0.644\n",
      "epoch:61 \t time:48 \t Loss(train):0.551 \t Loss(val):0.644\n",
      "epoch:62 \t time:48 \t Loss(train):0.551 \t Loss(val):0.643\n",
      "epoch:63 \t time:49 \t Loss(train):0.550 \t Loss(val):0.643\n",
      "epoch:64 \t time:50 \t Loss(train):0.550 \t Loss(val):0.642\n",
      "epoch:65 \t time:50 \t Loss(train):0.549 \t Loss(val):0.642\n",
      "epoch:66 \t time:51 \t Loss(train):0.549 \t Loss(val):0.642\n",
      "epoch:67 \t time:52 \t Loss(train):0.549 \t Loss(val):0.641\n",
      "epoch:68 \t time:52 \t Loss(train):0.548 \t Loss(val):0.641\n",
      "epoch:69 \t time:53 \t Loss(train):0.548 \t Loss(val):0.640\n",
      "epoch:70 \t time:54 \t Loss(train):0.547 \t Loss(val):0.640\n",
      "epoch:71 \t time:54 \t Loss(train):0.547 \t Loss(val):0.640\n",
      "epoch:72 \t time:55 \t Loss(train):0.547 \t Loss(val):0.640\n",
      "epoch:73 \t time:56 \t Loss(train):0.547 \t Loss(val):0.639\n",
      "epoch:74 \t time:56 \t Loss(train):0.546 \t Loss(val):0.639\n",
      "epoch:75 \t time:57 \t Loss(train):0.546 \t Loss(val):0.639\n",
      "epoch:76 \t time:58 \t Loss(train):0.546 \t Loss(val):0.639\n",
      "epoch:77 \t time:59 \t Loss(train):0.546 \t Loss(val):0.639\n",
      "epoch:78 \t time:59 \t Loss(train):0.546 \t Loss(val):0.638\n",
      "epoch:79 \t time:60 \t Loss(train):0.545 \t Loss(val):0.638\n",
      "epoch:80 \t time:60 \t Loss(train):0.545 \t Loss(val):0.638\n",
      "epoch:81 \t time:61 \t Loss(train):0.545 \t Loss(val):0.638\n",
      "epoch:82 \t time:62 \t Loss(train):0.545 \t Loss(val):0.638\n",
      "epoch:83 \t time:62 \t Loss(train):0.545 \t Loss(val):0.638\n",
      "epoch:84 \t time:63 \t Loss(train):0.545 \t Loss(val):0.638\n",
      "epoch:85 \t time:64 \t Loss(train):0.545 \t Loss(val):0.638\n",
      "epoch:86 \t time:65 \t Loss(train):0.545 \t Loss(val):0.638\n",
      "epoch:87 \t time:65 \t Loss(train):0.545 \t Loss(val):0.637\n",
      "epoch:88 \t time:66 \t Loss(train):0.545 \t Loss(val):0.637\n",
      "epoch:89 \t time:66 \t Loss(train):0.544 \t Loss(val):0.637\n",
      "epoch:90 \t time:67 \t Loss(train):0.544 \t Loss(val):0.637\n",
      "epoch:91 \t time:68 \t Loss(train):0.544 \t Loss(val):0.637\n",
      "epoch:92 \t time:69 \t Loss(train):0.544 \t Loss(val):0.637\n",
      "epoch:93 \t time:69 \t Loss(train):0.544 \t Loss(val):0.637\n",
      "epoch:94 \t time:70 \t Loss(train):0.544 \t Loss(val):0.637\n",
      "epoch:95 \t time:71 \t Loss(train):0.544 \t Loss(val):0.637\n",
      "epoch:96 \t time:71 \t Loss(train):0.544 \t Loss(val):0.637\n",
      "epoch:97 \t time:72 \t Loss(train):0.544 \t Loss(val):0.637\n",
      "epoch:98 \t time:73 \t Loss(train):0.544 \t Loss(val):0.637\n",
      "epoch:99 \t time:73 \t Loss(train):0.544 \t Loss(val):0.637\n"
     ]
    }
   ],
   "source": [
    "n_epoch = 100\n",
    "batch_size=100  #size of the mini-batch\n",
    "beta = onp.copy(beta_init)\n",
    "mov_avg_param = 0\n",
    "\n",
    "learning_rate = 0.1\n",
    "loss_train_history = []\n",
    "loss_val_history = []\n",
    "\n",
    "acc_train_list = []  #computed at the end of each epoch\n",
    "acc_val_list = []    #computed at the end of each epoch\n",
    "\n",
    "#initialize the gradient\n",
    "gradient = grad_loss(beta, data_train, y_train)\n",
    "\n",
    "start = time.time()\n",
    "for epoch in range(n_epoch):\n",
    "    #let us divide the learning by 2 every 10 epoch\n",
    "    if epoch % 10 == 0 and epoch >= 1:\n",
    "        learning_rate = learning_rate/2.\n",
    "        \n",
    "    for k in range(ntrain_img // batch_size):  #number of batch per epoch\n",
    "\n",
    "        #first option\n",
    "        #============\n",
    "        #select at random \"batch_size\" random data point\n",
    "        #index_ = onp.random.choice(train_data_size, batch_size, replace=False)\n",
    "\n",
    "        #second option\n",
    "        #============\n",
    "        #consider the batches sequentially\n",
    "        index_ = onp.arange(k*batch_size, (k+1)*batch_size) % ntrain_img\n",
    "        gradient_local = grad_loss(beta, data_train[index_], y_train[index_])\n",
    "\n",
    "        #moving average of the gradient\n",
    "        gradient = gradient*mov_avg_param + (1-mov_avg_param)*gradient_local\n",
    "\n",
    "        #gradient descent update\n",
    "        beta = beta - learning_rate * gradient\n",
    "    \n",
    "    accuracy_train = accuracy(beta, data_train, y_train)\n",
    "    accuracy_val = accuracy(beta, data_val, y_val) \n",
    "    acc_train_list.append(accuracy_train)\n",
    "    acc_val_list.append(accuracy_val)\n",
    "    \n",
    "    loss_train = loss(beta, data_train, y_train)\n",
    "    loss_val = loss(beta, data_val, y_val)\n",
    "    loss_train_history.append(loss_train)\n",
    "    loss_val_history.append(loss_val)\n",
    "    \n",
    "    timing = time.time() - start\n",
    "    print(\"epoch:{0:.0f} \\t time:{1:.0f} \\t Loss(train):{2:.3f} \\t Loss(val):{3:.3f}\".format(epoch, \n",
    "                                                                                                  timing, \n",
    "                                                                                                  loss_train, \n",
    "                                                                                                  loss_val))"
   ]
  },
  {
   "cell_type": "code",
   "execution_count": 172,
   "metadata": {},
   "outputs": [
    {
     "data": {
      "text/plain": [
       "Text(0.5, 1.0, 'Stochastic Gradient Descent')"
      ]
     },
     "execution_count": 172,
     "metadata": {},
     "output_type": "execute_result"
    },
    {
     "data": {
      "image/png": "[encoded data removed]",
      "text/plain": [
       "<Figure size 432x288 with 1 Axes>"
      ]
     },
     "metadata": {
      "needs_background": "light"
     },
     "output_type": "display_data"
    }
   ],
   "source": [
    "plt.plot(loss_train_history, label=\"loss(train)\")\n",
    "plt.plot(loss_val_history, label=\"loss(val)\")\n",
    "plt.legend()\n",
    "plt.grid(True)\n",
    "plt.xlabel(\"epoch\")\n",
    "plt.title(\"Stochastic Gradient Descent\")"
   ]
  },
  {
   "cell_type": "code",
   "execution_count": 174,
   "metadata": {},
   "outputs": [
    {
     "data": {
      "text/plain": [
       "Text(0.5, 1.0, 'Stochastic Gradient Descent')"
      ]
     },
     "execution_count": 174,
     "metadata": {},
     "output_type": "execute_result"
    },
    {
     "data": {
      "image/png": "[encoded data removed]",
      "text/plain": [
       "<Figure size 432x288 with 1 Axes>"
      ]
     },
     "metadata": {
      "needs_background": "light"
     },
     "output_type": "display_data"
    }
   ],
   "source": [
    "plt.plot(acc_train_list, label=\"acc(train)\")\n",
    "plt.plot(acc_val_list, label=\"acc(val)\")\n",
    "plt.legend()\n",
    "plt.grid(True)\n",
    "plt.xlabel(\"epoch\")\n",
    "plt.title(\"Stochastic Gradient Descent\")"
   ]
  }
 ],
 "metadata": {
  "kernelspec": {
   "display_name": "Python 3",
   "language": "python",
   "name": "python3"
  },
  "language_info": {
   "codemirror_mode": {
    "name": "ipython",
    "version": 3
   },
   "file_extension": ".py",
   "mimetype": "text/x-python",
   "name": "python",
   "nbconvert_exporter": "python",
   "pygments_lexer": "ipython3",
   "version": "3.7.6"
  }
 },
 "nbformat": 4,
 "nbformat_minor": 4
}
